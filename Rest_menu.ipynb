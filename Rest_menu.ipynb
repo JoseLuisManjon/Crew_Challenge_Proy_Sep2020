{
 "metadata": {
  "language_info": {
   "codemirror_mode": {
    "name": "ipython",
    "version": 3
   },
   "file_extension": ".py",
   "mimetype": "text/x-python",
   "name": "python",
   "nbconvert_exporter": "python",
   "pygments_lexer": "ipython3",
   "version": "3.8.3-final"
  },
  "orig_nbformat": 2,
  "kernelspec": {
   "name": "Python 3.8.3 64-bit",
   "display_name": "Python 3.8.3 64-bit",
   "metadata": {
    "interpreter": {
     "hash": "1baa965d5efe3ac65b79dfc60c0d706280b1da80fedb7760faf2759126c4f253"
    }
   }
  }
 },
 "nbformat": 4,
 "nbformat_minor": 2,
 "cells": [
  {
   "cell_type": "code",
   "execution_count": null,
   "metadata": {},
   "outputs": [],
   "source": [
    "\"\"\"\n",
    "Este archivo es para manipular los datos que se ha bajado Alba de los menus de los restaurantes y posteriormente pasarselos a Marta\n",
    "\"\"\""
   ]
  },
  {
   "cell_type": "code",
   "execution_count": 1,
   "metadata": {},
   "outputs": [],
   "source": [
    "import json\n",
    "import requests\n",
    "import pandas as pd\n",
    "from pandas.io.json import json_normalize\n",
    "from sklearn.preprocessing import LabelEncoder"
   ]
  },
  {
   "cell_type": "code",
   "execution_count": 2,
   "metadata": {},
   "outputs": [],
   "source": [
    "menu_1 = pd.read_csv('api_chueca2.csv', index_col=0)"
   ]
  },
  {
   "cell_type": "code",
   "execution_count": 13,
   "metadata": {},
   "outputs": [],
   "source": [
    "def convert_currency(val):\n",
    "    \"\"\"\n",
    "    Convert the string number value to a float\n",
    "     - Remove €\n",
    "     - Remove commas\n",
    "     - Convert to float type\n",
    "    \"\"\"\n",
    "    new_val = val.replace('\"', '').replace(',','.').replace(' €', '')\n",
    "    return float(new_val)"
   ]
  },
  {
   "cell_type": "code",
   "execution_count": 14,
   "metadata": {},
   "outputs": [
    {
     "output_type": "error",
     "ename": "AttributeError",
     "evalue": "'float' object has no attribute 'replace'",
     "traceback": [
      "\u001b[1;31m---------------------------------------------------------------------------\u001b[0m",
      "\u001b[1;31mAttributeError\u001b[0m                            Traceback (most recent call last)",
      "\u001b[1;32m<ipython-input-14-cc1d2d20ec3a>\u001b[0m in \u001b[0;36m<module>\u001b[1;34m\u001b[0m\n\u001b[1;32m----> 1\u001b[1;33m \u001b[0mmenu_1\u001b[0m\u001b[1;33m[\u001b[0m\u001b[1;34m'precios'\u001b[0m\u001b[1;33m]\u001b[0m\u001b[1;33m.\u001b[0m\u001b[0mapply\u001b[0m\u001b[1;33m(\u001b[0m\u001b[0mconvert_currency\u001b[0m\u001b[1;33m)\u001b[0m\u001b[1;33m\u001b[0m\u001b[1;33m\u001b[0m\u001b[0m\n\u001b[0m",
      "\u001b[1;32m~\\AppData\\Roaming\\Python\\Python38\\site-packages\\pandas\\core\\series.py\u001b[0m in \u001b[0;36mapply\u001b[1;34m(self, func, convert_dtype, args, **kwds)\u001b[0m\n\u001b[0;32m   4198\u001b[0m             \u001b[1;32melse\u001b[0m\u001b[1;33m:\u001b[0m\u001b[1;33m\u001b[0m\u001b[1;33m\u001b[0m\u001b[0m\n\u001b[0;32m   4199\u001b[0m                 \u001b[0mvalues\u001b[0m \u001b[1;33m=\u001b[0m \u001b[0mself\u001b[0m\u001b[1;33m.\u001b[0m\u001b[0mastype\u001b[0m\u001b[1;33m(\u001b[0m\u001b[0mobject\u001b[0m\u001b[1;33m)\u001b[0m\u001b[1;33m.\u001b[0m\u001b[0m_values\u001b[0m\u001b[1;33m\u001b[0m\u001b[1;33m\u001b[0m\u001b[0m\n\u001b[1;32m-> 4200\u001b[1;33m                 \u001b[0mmapped\u001b[0m \u001b[1;33m=\u001b[0m \u001b[0mlib\u001b[0m\u001b[1;33m.\u001b[0m\u001b[0mmap_infer\u001b[0m\u001b[1;33m(\u001b[0m\u001b[0mvalues\u001b[0m\u001b[1;33m,\u001b[0m \u001b[0mf\u001b[0m\u001b[1;33m,\u001b[0m \u001b[0mconvert\u001b[0m\u001b[1;33m=\u001b[0m\u001b[0mconvert_dtype\u001b[0m\u001b[1;33m)\u001b[0m\u001b[1;33m\u001b[0m\u001b[1;33m\u001b[0m\u001b[0m\n\u001b[0m\u001b[0;32m   4201\u001b[0m \u001b[1;33m\u001b[0m\u001b[0m\n\u001b[0;32m   4202\u001b[0m         \u001b[1;32mif\u001b[0m \u001b[0mlen\u001b[0m\u001b[1;33m(\u001b[0m\u001b[0mmapped\u001b[0m\u001b[1;33m)\u001b[0m \u001b[1;32mand\u001b[0m \u001b[0misinstance\u001b[0m\u001b[1;33m(\u001b[0m\u001b[0mmapped\u001b[0m\u001b[1;33m[\u001b[0m\u001b[1;36m0\u001b[0m\u001b[1;33m]\u001b[0m\u001b[1;33m,\u001b[0m \u001b[0mSeries\u001b[0m\u001b[1;33m)\u001b[0m\u001b[1;33m:\u001b[0m\u001b[1;33m\u001b[0m\u001b[1;33m\u001b[0m\u001b[0m\n",
      "\u001b[1;32mpandas\\_libs\\lib.pyx\u001b[0m in \u001b[0;36mpandas._libs.lib.map_infer\u001b[1;34m()\u001b[0m\n",
      "\u001b[1;32m<ipython-input-13-c9ade6e8bb10>\u001b[0m in \u001b[0;36mconvert_currency\u001b[1;34m(val)\u001b[0m\n\u001b[0;32m      6\u001b[0m      \u001b[1;33m-\u001b[0m \u001b[0mConvert\u001b[0m \u001b[0mto\u001b[0m \u001b[0mfloat\u001b[0m \u001b[0mtype\u001b[0m\u001b[1;33m\u001b[0m\u001b[1;33m\u001b[0m\u001b[0m\n\u001b[0;32m      7\u001b[0m     \"\"\"\n\u001b[1;32m----> 8\u001b[1;33m     \u001b[0mnew_val\u001b[0m \u001b[1;33m=\u001b[0m \u001b[0mval\u001b[0m\u001b[1;33m.\u001b[0m\u001b[0mreplace\u001b[0m\u001b[1;33m(\u001b[0m\u001b[1;34m'\"'\u001b[0m\u001b[1;33m,\u001b[0m \u001b[1;34m''\u001b[0m\u001b[1;33m)\u001b[0m\u001b[1;33m.\u001b[0m\u001b[0mreplace\u001b[0m\u001b[1;33m(\u001b[0m\u001b[1;34m','\u001b[0m\u001b[1;33m,\u001b[0m\u001b[1;34m'.'\u001b[0m\u001b[1;33m)\u001b[0m\u001b[1;33m.\u001b[0m\u001b[0mreplace\u001b[0m\u001b[1;33m(\u001b[0m\u001b[1;34m' €'\u001b[0m\u001b[1;33m,\u001b[0m \u001b[1;34m''\u001b[0m\u001b[1;33m)\u001b[0m\u001b[1;33m\u001b[0m\u001b[1;33m\u001b[0m\u001b[0m\n\u001b[0m\u001b[0;32m      9\u001b[0m     \u001b[1;32mreturn\u001b[0m \u001b[0mfloat\u001b[0m\u001b[1;33m(\u001b[0m\u001b[0mnew_val\u001b[0m\u001b[1;33m)\u001b[0m\u001b[1;33m\u001b[0m\u001b[1;33m\u001b[0m\u001b[0m\n",
      "\u001b[1;31mAttributeError\u001b[0m: 'float' object has no attribute 'replace'"
     ]
    }
   ],
   "source": [
    "menu_1['precios'].apply(convert_currency)"
   ]
  },
  {
   "cell_type": "code",
   "execution_count": 4,
   "metadata": {},
   "outputs": [
    {
     "output_type": "execute_result",
     "data": {
      "text/plain": [
       "None            274\n",
       "Postres         130\n",
       "Entrantes       125\n",
       "Pescado          72\n",
       "Carne            37\n",
       "Arroces          34\n",
       "Ensalada         32\n",
       "Hamburguesa      28\n",
       "Marisco          22\n",
       "Sopa             18\n",
       "Pizza            17\n",
       "Pollo            13\n",
       "De la huerta      3\n",
       "Name: Categorias, dtype: int64"
      ]
     },
     "metadata": {},
     "execution_count": 4
    }
   ],
   "source": [
    "menu_1.Categorias.value_counts()"
   ]
  },
  {
   "cell_type": "code",
   "execution_count": 6,
   "metadata": {},
   "outputs": [
    {
     "output_type": "execute_result",
     "data": {
      "text/plain": [
       "      restaurante          seccion  \\\n",
       "0  7 Delicatessen         Entrante   \n",
       "1  7 Delicatessen         Entrante   \n",
       "2  7 Delicatessen         Entrante   \n",
       "3  7 Delicatessen            Plato   \n",
       "4  7 Delicatessen            Plato   \n",
       "5  7 Delicatessen            Plato   \n",
       "6  7 Delicatessen           Postre   \n",
       "7  7 Delicatessen           Postre   \n",
       "8  7 Delicatessen           Postre   \n",
       "9  7 Delicatessen  seccion_bebidas   \n",
       "\n",
       "                                              platos precios  \\\n",
       "0  Ensalada de queso de cabra con naranja agria a...   8,5 €   \n",
       "1        Tortilla de patata con cebolla caramelizada     8 €   \n",
       "2            Ensalada de foie y cebolla caramelizada   8,5 €   \n",
       "3                                     Pollo yakitori     8 €   \n",
       "4                  Pizza de gambón y chile confitado   8,5 €   \n",
       "5                                 Rissoto de boletus     9 €   \n",
       "6  Bizcocho de chocolate y vino tinto con helado ...     5 €   \n",
       "7                                        Leche frita     3 €   \n",
       "8                               Muerte por chocolate     3 €   \n",
       "9                                               Café   1,5 €   \n",
       "\n",
       "                                        platos_lower    seccion_lower  \\\n",
       "0  ensalada de queso de cabra con naranja agria a...         entrante   \n",
       "1        tortilla de patata con cebolla caramelizada         entrante   \n",
       "2            ensalada de foie y cebolla caramelizada         entrante   \n",
       "3                                     pollo yakitori            plato   \n",
       "4                  pizza de gambón y chile confitado            plato   \n",
       "5                                 rissoto de boletus            plato   \n",
       "6  bizcocho de chocolate y vino tinto con helado ...           postre   \n",
       "7                                        leche frita           postre   \n",
       "8                               muerte por chocolate           postre   \n",
       "9                                               café  seccion_bebidas   \n",
       "\n",
       "  Categorias  \n",
       "0   Ensalada  \n",
       "1  Entrantes  \n",
       "2   Ensalada  \n",
       "3      Pollo  \n",
       "4      Pizza  \n",
       "5       None  \n",
       "6    Postres  \n",
       "7    Postres  \n",
       "8    Postres  \n",
       "9       None  "
      ],
      "text/html": "<div>\n<style scoped>\n    .dataframe tbody tr th:only-of-type {\n        vertical-align: middle;\n    }\n\n    .dataframe tbody tr th {\n        vertical-align: top;\n    }\n\n    .dataframe thead th {\n        text-align: right;\n    }\n</style>\n<table border=\"1\" class=\"dataframe\">\n  <thead>\n    <tr style=\"text-align: right;\">\n      <th></th>\n      <th>restaurante</th>\n      <th>seccion</th>\n      <th>platos</th>\n      <th>precios</th>\n      <th>platos_lower</th>\n      <th>seccion_lower</th>\n      <th>Categorias</th>\n    </tr>\n  </thead>\n  <tbody>\n    <tr>\n      <th>0</th>\n      <td>7 Delicatessen</td>\n      <td>Entrante</td>\n      <td>Ensalada de queso de cabra con naranja agria a...</td>\n      <td>8,5 €</td>\n      <td>ensalada de queso de cabra con naranja agria a...</td>\n      <td>entrante</td>\n      <td>Ensalada</td>\n    </tr>\n    <tr>\n      <th>1</th>\n      <td>7 Delicatessen</td>\n      <td>Entrante</td>\n      <td>Tortilla de patata con cebolla caramelizada</td>\n      <td>8 €</td>\n      <td>tortilla de patata con cebolla caramelizada</td>\n      <td>entrante</td>\n      <td>Entrantes</td>\n    </tr>\n    <tr>\n      <th>2</th>\n      <td>7 Delicatessen</td>\n      <td>Entrante</td>\n      <td>Ensalada de foie y cebolla caramelizada</td>\n      <td>8,5 €</td>\n      <td>ensalada de foie y cebolla caramelizada</td>\n      <td>entrante</td>\n      <td>Ensalada</td>\n    </tr>\n    <tr>\n      <th>3</th>\n      <td>7 Delicatessen</td>\n      <td>Plato</td>\n      <td>Pollo yakitori</td>\n      <td>8 €</td>\n      <td>pollo yakitori</td>\n      <td>plato</td>\n      <td>Pollo</td>\n    </tr>\n    <tr>\n      <th>4</th>\n      <td>7 Delicatessen</td>\n      <td>Plato</td>\n      <td>Pizza de gambón y chile confitado</td>\n      <td>8,5 €</td>\n      <td>pizza de gambón y chile confitado</td>\n      <td>plato</td>\n      <td>Pizza</td>\n    </tr>\n    <tr>\n      <th>5</th>\n      <td>7 Delicatessen</td>\n      <td>Plato</td>\n      <td>Rissoto de boletus</td>\n      <td>9 €</td>\n      <td>rissoto de boletus</td>\n      <td>plato</td>\n      <td>None</td>\n    </tr>\n    <tr>\n      <th>6</th>\n      <td>7 Delicatessen</td>\n      <td>Postre</td>\n      <td>Bizcocho de chocolate y vino tinto con helado ...</td>\n      <td>5 €</td>\n      <td>bizcocho de chocolate y vino tinto con helado ...</td>\n      <td>postre</td>\n      <td>Postres</td>\n    </tr>\n    <tr>\n      <th>7</th>\n      <td>7 Delicatessen</td>\n      <td>Postre</td>\n      <td>Leche frita</td>\n      <td>3 €</td>\n      <td>leche frita</td>\n      <td>postre</td>\n      <td>Postres</td>\n    </tr>\n    <tr>\n      <th>8</th>\n      <td>7 Delicatessen</td>\n      <td>Postre</td>\n      <td>Muerte por chocolate</td>\n      <td>3 €</td>\n      <td>muerte por chocolate</td>\n      <td>postre</td>\n      <td>Postres</td>\n    </tr>\n    <tr>\n      <th>9</th>\n      <td>7 Delicatessen</td>\n      <td>seccion_bebidas</td>\n      <td>Café</td>\n      <td>1,5 €</td>\n      <td>café</td>\n      <td>seccion_bebidas</td>\n      <td>None</td>\n    </tr>\n  </tbody>\n</table>\n</div>"
     },
     "metadata": {},
     "execution_count": 6
    }
   ],
   "source": [
    "# Cambio el indice por uno nuevo y que sea de valores únicos y consecutivos.\n",
    "menu_1.reset_index(drop=True, inplace=True)\n",
    "menu_1.head(10)"
   ]
  },
  {
   "cell_type": "code",
   "execution_count": 7,
   "metadata": {},
   "outputs": [
    {
     "output_type": "execute_result",
     "data": {
      "text/plain": [
       "Sopas                          2\n",
       "Bowls                          2\n",
       "Risottos                       2\n",
       "Ensalada                       2\n",
       "Servicio                       1\n",
       "Mesas                          1\n",
       "Especiallidad maldeamores      1\n",
       "*Reserva de 1 hora y media*    1\n",
       "Golosos de la trastienda       1\n",
       "Aperitivo                      1\n",
       "Name: seccion, dtype: int64"
      ]
     },
     "metadata": {},
     "execution_count": 7
    }
   ],
   "source": [
    "menu_1.seccion.value_counts().tail(10)"
   ]
  },
  {
   "cell_type": "code",
   "execution_count": 8,
   "metadata": {},
   "outputs": [],
   "source": [
    "# Doy categoria a estos  platos que no habian sido categorizados \n",
    "\n",
    "menu_1['Categorias'][menu_1.index == 5] = \"Arroces\"\n",
    "menu_1['Categorias'][menu_1.index == 51] = \"De la huerta\"\n",
    "menu_1['Categorias'][menu_1.index == 91] = \"De la huerta\"\n",
    "menu_1['Categorias'][menu_1.index == 66] = \"Pescado\"\n",
    "menu_1['Categorias'][menu_1.index ==149] = 'Pizza'\n",
    "menu_1['Categorias'][menu_1.index ==152] = 'Pizza'\n",
    "menu_1['Categorias'][menu_1.index ==201] = \"Carne\"\n",
    "menu_1['Categorias'][menu_1.index ==308] = \"Pescado\"\n",
    "menu_1['Categorias'][menu_1.index ==318] = \"Pescado\"\n",
    "menu_1['Categorias'][menu_1.index ==319] = \"Pescado\"\n",
    "menu_1['Categorias'][menu_1.index ==320] = \"Pescado\"\n",
    "menu_1['Categorias'][menu_1.index ==322] = \"Pescado\"\n",
    "menu_1['Categorias'][menu_1.index ==323] = \"Pescado\"\n",
    "menu_1['Categorias'][menu_1.index ==324] = \"Pescado\"\n",
    "menu_1['Categorias'][menu_1.index ==429] = \"Carne\"\n",
    "menu_1['Categorias'][menu_1.index ==396] = \"Marisco\"\n",
    "menu_1['Categorias'][menu_1.index ==393] = \"Pescado\"\n",
    "menu_1['Categorias'][menu_1.index ==403] = \"Pescado\"\n",
    "menu_1['Categorias'][menu_1.index ==404] = \"Pescado\"\n",
    "menu_1['Categorias'][menu_1.index == 744] = \"De la huerta\"\n",
    "menu_1['Categorias'][menu_1.index == 745] = \"De la huerta\"\n",
    "menu_1['Categorias'][menu_1.index ==624] = \"Sopa\"\n",
    "menu_1['Categorias'][menu_1.index ==625] = \"Sopa\"\n",
    "menu_1['Categorias'][menu_1.index ==626] = \"Sopa\"\n",
    "menu_1['Categorias'][menu_1.index ==627] = \"Sopa\"\n",
    "menu_1['Categorias'][menu_1.index ==667] = \"Marisco\"\n",
    "menu_1['Categorias'][menu_1.index ==670] = \"Marisco\"\n",
    "menu_1['Categorias'][menu_1.index ==665] = \"Pescado\"\n",
    "menu_1['Categorias'][menu_1.index ==666] = \"Pescado\"\n",
    "menu_1['Categorias'][menu_1.index == 668] = \"De la huerta\"\n",
    "menu_1['Categorias'][menu_1.index ==708] = \"Carne\"\n",
    "menu_1['Categorias'][menu_1.index ==711] = \"Carne\"\n",
    "menu_1['Categorias'][menu_1.index ==714] = \"Carne\""
   ]
  },
  {
   "cell_type": "code",
   "execution_count": 11,
   "metadata": {},
   "outputs": [],
   "source": [
    "mask1 = (menu_1['seccion'] == 'seccion_bebidas')\n",
    "mask2 = (menu_1['seccion']== 'Aperitivo')\n",
    "mask3 = (menu_1['seccion']== '*Reserva de 1 hora y media*')\n",
    "mask4 = (menu_1['seccion']== 'Servicio')\n",
    "#mask5 = (menu_chueca['seccion']== 'Golosos de la trastienda')\n",
    "mask6 = (menu_1['seccion']== 'Mesas')\n",
    "#mask7 = (menu_chueca['seccion']== 'POSTRES CASEROS')\n",
    "#mask8 = (menu_chueca['seccion']== 'Tacos para los que no comen carne')\n",
    "mask9 = (menu_1['restaurante']== 'TE CATO') # Sin precios\n",
    "mask10 = (menu_1['restaurante']== 'Vides') # Sin precios\n",
    "mask11 = (menu_1['Categorias']== 'None')\n"
   ]
  },
  {
   "cell_type": "code",
   "execution_count": 12,
   "metadata": {},
   "outputs": [],
   "source": [
    "menu = menu_1[~((mask1) | (mask2) | (mask3) | (mask4) | (mask4) |(mask6) |(mask9) | (mask10) | (mask11)) ] "
   ]
  },
  {
   "cell_type": "code",
   "execution_count": 15,
   "metadata": {},
   "outputs": [],
   "source": [
    "# Cambio el indice para que sean valores consecutivos tras eliminar algunos de los registros.\n",
    "menu.reset_index(drop=True, inplace=True)"
   ]
  },
  {
   "cell_type": "code",
   "execution_count": 19,
   "metadata": {},
   "outputs": [
    {
     "output_type": "execute_result",
     "data": {
      "text/plain": [
       "        restaurante   seccion  \\\n",
       "0    7 Delicatessen  Entrante   \n",
       "1    7 Delicatessen  Entrante   \n",
       "2    7 Delicatessen  Entrante   \n",
       "3    7 Delicatessen     Plato   \n",
       "4    7 Delicatessen     Plato   \n",
       "..              ...       ...   \n",
       "539         tuk tuk     Plato   \n",
       "540         tuk tuk     Plato   \n",
       "541         tuk tuk    Postre   \n",
       "542         tuk tuk    Postre   \n",
       "543         tuk tuk    Postre   \n",
       "\n",
       "                                                platos precios  \\\n",
       "0    Ensalada de queso de cabra con naranja agria a...   8,5 €   \n",
       "1          Tortilla de patata con cebolla caramelizada     8 €   \n",
       "2              Ensalada de foie y cebolla caramelizada   8,5 €   \n",
       "3                                       Pollo yakitori     8 €   \n",
       "4                    Pizza de gambón y chile confitado   8,5 €   \n",
       "..                                                 ...     ...   \n",
       "539  Ternera al curry con verduras, anacardos, arro...    18 €   \n",
       "540  Teriyaki de salmón servido con arroz de jazmín...    18 €   \n",
       "541  Plátano asado, envuelto en azúcar de caña, fru...   6,5 €   \n",
       "542    Fruta de temporada servida con sorbete de menta   6,5 €   \n",
       "543  Carpaccio de piña aderezado con menta y sorbet...   6,5 €   \n",
       "\n",
       "                                          platos_lower seccion_lower  \\\n",
       "0    ensalada de queso de cabra con naranja agria a...      entrante   \n",
       "1          tortilla de patata con cebolla caramelizada      entrante   \n",
       "2              ensalada de foie y cebolla caramelizada      entrante   \n",
       "3                                       pollo yakitori         plato   \n",
       "4                    pizza de gambón y chile confitado         plato   \n",
       "..                                                 ...           ...   \n",
       "539  ternera al curry con verduras, anacardos, arro...         plato   \n",
       "540  teriyaki de salmón servido con arroz de jazmín...         plato   \n",
       "541  plátano asado, envuelto en azúcar de caña, fru...        postre   \n",
       "542    fruta de temporada servida con sorbete de menta        postre   \n",
       "543  carpaccio de piña aderezado con menta y sorbet...        postre   \n",
       "\n",
       "    Categorias  \n",
       "0     Ensalada  \n",
       "1    Entrantes  \n",
       "2     Ensalada  \n",
       "3        Pollo  \n",
       "4        Pizza  \n",
       "..         ...  \n",
       "539      Carne  \n",
       "540    Pescado  \n",
       "541    Postres  \n",
       "542    Postres  \n",
       "543    Postres  \n",
       "\n",
       "[544 rows x 7 columns]"
      ],
      "text/html": "<div>\n<style scoped>\n    .dataframe tbody tr th:only-of-type {\n        vertical-align: middle;\n    }\n\n    .dataframe tbody tr th {\n        vertical-align: top;\n    }\n\n    .dataframe thead th {\n        text-align: right;\n    }\n</style>\n<table border=\"1\" class=\"dataframe\">\n  <thead>\n    <tr style=\"text-align: right;\">\n      <th></th>\n      <th>restaurante</th>\n      <th>seccion</th>\n      <th>platos</th>\n      <th>precios</th>\n      <th>platos_lower</th>\n      <th>seccion_lower</th>\n      <th>Categorias</th>\n    </tr>\n  </thead>\n  <tbody>\n    <tr>\n      <th>0</th>\n      <td>7 Delicatessen</td>\n      <td>Entrante</td>\n      <td>Ensalada de queso de cabra con naranja agria a...</td>\n      <td>8,5 €</td>\n      <td>ensalada de queso de cabra con naranja agria a...</td>\n      <td>entrante</td>\n      <td>Ensalada</td>\n    </tr>\n    <tr>\n      <th>1</th>\n      <td>7 Delicatessen</td>\n      <td>Entrante</td>\n      <td>Tortilla de patata con cebolla caramelizada</td>\n      <td>8 €</td>\n      <td>tortilla de patata con cebolla caramelizada</td>\n      <td>entrante</td>\n      <td>Entrantes</td>\n    </tr>\n    <tr>\n      <th>2</th>\n      <td>7 Delicatessen</td>\n      <td>Entrante</td>\n      <td>Ensalada de foie y cebolla caramelizada</td>\n      <td>8,5 €</td>\n      <td>ensalada de foie y cebolla caramelizada</td>\n      <td>entrante</td>\n      <td>Ensalada</td>\n    </tr>\n    <tr>\n      <th>3</th>\n      <td>7 Delicatessen</td>\n      <td>Plato</td>\n      <td>Pollo yakitori</td>\n      <td>8 €</td>\n      <td>pollo yakitori</td>\n      <td>plato</td>\n      <td>Pollo</td>\n    </tr>\n    <tr>\n      <th>4</th>\n      <td>7 Delicatessen</td>\n      <td>Plato</td>\n      <td>Pizza de gambón y chile confitado</td>\n      <td>8,5 €</td>\n      <td>pizza de gambón y chile confitado</td>\n      <td>plato</td>\n      <td>Pizza</td>\n    </tr>\n    <tr>\n      <th>...</th>\n      <td>...</td>\n      <td>...</td>\n      <td>...</td>\n      <td>...</td>\n      <td>...</td>\n      <td>...</td>\n      <td>...</td>\n    </tr>\n    <tr>\n      <th>539</th>\n      <td>tuk tuk</td>\n      <td>Plato</td>\n      <td>Ternera al curry con verduras, anacardos, arro...</td>\n      <td>18 €</td>\n      <td>ternera al curry con verduras, anacardos, arro...</td>\n      <td>plato</td>\n      <td>Carne</td>\n    </tr>\n    <tr>\n      <th>540</th>\n      <td>tuk tuk</td>\n      <td>Plato</td>\n      <td>Teriyaki de salmón servido con arroz de jazmín...</td>\n      <td>18 €</td>\n      <td>teriyaki de salmón servido con arroz de jazmín...</td>\n      <td>plato</td>\n      <td>Pescado</td>\n    </tr>\n    <tr>\n      <th>541</th>\n      <td>tuk tuk</td>\n      <td>Postre</td>\n      <td>Plátano asado, envuelto en azúcar de caña, fru...</td>\n      <td>6,5 €</td>\n      <td>plátano asado, envuelto en azúcar de caña, fru...</td>\n      <td>postre</td>\n      <td>Postres</td>\n    </tr>\n    <tr>\n      <th>542</th>\n      <td>tuk tuk</td>\n      <td>Postre</td>\n      <td>Fruta de temporada servida con sorbete de menta</td>\n      <td>6,5 €</td>\n      <td>fruta de temporada servida con sorbete de menta</td>\n      <td>postre</td>\n      <td>Postres</td>\n    </tr>\n    <tr>\n      <th>543</th>\n      <td>tuk tuk</td>\n      <td>Postre</td>\n      <td>Carpaccio de piña aderezado con menta y sorbet...</td>\n      <td>6,5 €</td>\n      <td>carpaccio de piña aderezado con menta y sorbet...</td>\n      <td>postre</td>\n      <td>Postres</td>\n    </tr>\n  </tbody>\n</table>\n<p>544 rows × 7 columns</p>\n</div>"
     },
     "metadata": {},
     "execution_count": 19
    }
   ],
   "source": [
    "menu"
   ]
  },
  {
   "cell_type": "code",
   "execution_count": 20,
   "metadata": {},
   "outputs": [],
   "source": [
    "menu['Id_restaurante'] = menu['restaurante']"
   ]
  },
  {
   "cell_type": "code",
   "execution_count": 21,
   "metadata": {},
   "outputs": [
    {
     "output_type": "execute_result",
     "data": {
      "text/plain": [
       "        restaurante   seccion  \\\n",
       "0    7 Delicatessen  Entrante   \n",
       "1    7 Delicatessen  Entrante   \n",
       "2    7 Delicatessen  Entrante   \n",
       "3    7 Delicatessen     Plato   \n",
       "4    7 Delicatessen     Plato   \n",
       "..              ...       ...   \n",
       "539         tuk tuk     Plato   \n",
       "540         tuk tuk     Plato   \n",
       "541         tuk tuk    Postre   \n",
       "542         tuk tuk    Postre   \n",
       "543         tuk tuk    Postre   \n",
       "\n",
       "                                                platos precios  \\\n",
       "0    Ensalada de queso de cabra con naranja agria a...   8,5 €   \n",
       "1          Tortilla de patata con cebolla caramelizada     8 €   \n",
       "2              Ensalada de foie y cebolla caramelizada   8,5 €   \n",
       "3                                       Pollo yakitori     8 €   \n",
       "4                    Pizza de gambón y chile confitado   8,5 €   \n",
       "..                                                 ...     ...   \n",
       "539  Ternera al curry con verduras, anacardos, arro...    18 €   \n",
       "540  Teriyaki de salmón servido con arroz de jazmín...    18 €   \n",
       "541  Plátano asado, envuelto en azúcar de caña, fru...   6,5 €   \n",
       "542    Fruta de temporada servida con sorbete de menta   6,5 €   \n",
       "543  Carpaccio de piña aderezado con menta y sorbet...   6,5 €   \n",
       "\n",
       "                                          platos_lower seccion_lower  \\\n",
       "0    ensalada de queso de cabra con naranja agria a...      entrante   \n",
       "1          tortilla de patata con cebolla caramelizada      entrante   \n",
       "2              ensalada de foie y cebolla caramelizada      entrante   \n",
       "3                                       pollo yakitori         plato   \n",
       "4                    pizza de gambón y chile confitado         plato   \n",
       "..                                                 ...           ...   \n",
       "539  ternera al curry con verduras, anacardos, arro...         plato   \n",
       "540  teriyaki de salmón servido con arroz de jazmín...         plato   \n",
       "541  plátano asado, envuelto en azúcar de caña, fru...        postre   \n",
       "542    fruta de temporada servida con sorbete de menta        postre   \n",
       "543  carpaccio de piña aderezado con menta y sorbet...        postre   \n",
       "\n",
       "    Categorias  Id_restaurante  \n",
       "0     Ensalada  7 Delicatessen  \n",
       "1    Entrantes  7 Delicatessen  \n",
       "2     Ensalada  7 Delicatessen  \n",
       "3        Pollo  7 Delicatessen  \n",
       "4        Pizza  7 Delicatessen  \n",
       "..         ...             ...  \n",
       "539      Carne         tuk tuk  \n",
       "540    Pescado         tuk tuk  \n",
       "541    Postres         tuk tuk  \n",
       "542    Postres         tuk tuk  \n",
       "543    Postres         tuk tuk  \n",
       "\n",
       "[544 rows x 8 columns]"
      ],
      "text/html": "<div>\n<style scoped>\n    .dataframe tbody tr th:only-of-type {\n        vertical-align: middle;\n    }\n\n    .dataframe tbody tr th {\n        vertical-align: top;\n    }\n\n    .dataframe thead th {\n        text-align: right;\n    }\n</style>\n<table border=\"1\" class=\"dataframe\">\n  <thead>\n    <tr style=\"text-align: right;\">\n      <th></th>\n      <th>restaurante</th>\n      <th>seccion</th>\n      <th>platos</th>\n      <th>precios</th>\n      <th>platos_lower</th>\n      <th>seccion_lower</th>\n      <th>Categorias</th>\n      <th>Id_restaurante</th>\n    </tr>\n  </thead>\n  <tbody>\n    <tr>\n      <th>0</th>\n      <td>7 Delicatessen</td>\n      <td>Entrante</td>\n      <td>Ensalada de queso de cabra con naranja agria a...</td>\n      <td>8,5 €</td>\n      <td>ensalada de queso de cabra con naranja agria a...</td>\n      <td>entrante</td>\n      <td>Ensalada</td>\n      <td>7 Delicatessen</td>\n    </tr>\n    <tr>\n      <th>1</th>\n      <td>7 Delicatessen</td>\n      <td>Entrante</td>\n      <td>Tortilla de patata con cebolla caramelizada</td>\n      <td>8 €</td>\n      <td>tortilla de patata con cebolla caramelizada</td>\n      <td>entrante</td>\n      <td>Entrantes</td>\n      <td>7 Delicatessen</td>\n    </tr>\n    <tr>\n      <th>2</th>\n      <td>7 Delicatessen</td>\n      <td>Entrante</td>\n      <td>Ensalada de foie y cebolla caramelizada</td>\n      <td>8,5 €</td>\n      <td>ensalada de foie y cebolla caramelizada</td>\n      <td>entrante</td>\n      <td>Ensalada</td>\n      <td>7 Delicatessen</td>\n    </tr>\n    <tr>\n      <th>3</th>\n      <td>7 Delicatessen</td>\n      <td>Plato</td>\n      <td>Pollo yakitori</td>\n      <td>8 €</td>\n      <td>pollo yakitori</td>\n      <td>plato</td>\n      <td>Pollo</td>\n      <td>7 Delicatessen</td>\n    </tr>\n    <tr>\n      <th>4</th>\n      <td>7 Delicatessen</td>\n      <td>Plato</td>\n      <td>Pizza de gambón y chile confitado</td>\n      <td>8,5 €</td>\n      <td>pizza de gambón y chile confitado</td>\n      <td>plato</td>\n      <td>Pizza</td>\n      <td>7 Delicatessen</td>\n    </tr>\n    <tr>\n      <th>...</th>\n      <td>...</td>\n      <td>...</td>\n      <td>...</td>\n      <td>...</td>\n      <td>...</td>\n      <td>...</td>\n      <td>...</td>\n      <td>...</td>\n    </tr>\n    <tr>\n      <th>539</th>\n      <td>tuk tuk</td>\n      <td>Plato</td>\n      <td>Ternera al curry con verduras, anacardos, arro...</td>\n      <td>18 €</td>\n      <td>ternera al curry con verduras, anacardos, arro...</td>\n      <td>plato</td>\n      <td>Carne</td>\n      <td>tuk tuk</td>\n    </tr>\n    <tr>\n      <th>540</th>\n      <td>tuk tuk</td>\n      <td>Plato</td>\n      <td>Teriyaki de salmón servido con arroz de jazmín...</td>\n      <td>18 €</td>\n      <td>teriyaki de salmón servido con arroz de jazmín...</td>\n      <td>plato</td>\n      <td>Pescado</td>\n      <td>tuk tuk</td>\n    </tr>\n    <tr>\n      <th>541</th>\n      <td>tuk tuk</td>\n      <td>Postre</td>\n      <td>Plátano asado, envuelto en azúcar de caña, fru...</td>\n      <td>6,5 €</td>\n      <td>plátano asado, envuelto en azúcar de caña, fru...</td>\n      <td>postre</td>\n      <td>Postres</td>\n      <td>tuk tuk</td>\n    </tr>\n    <tr>\n      <th>542</th>\n      <td>tuk tuk</td>\n      <td>Postre</td>\n      <td>Fruta de temporada servida con sorbete de menta</td>\n      <td>6,5 €</td>\n      <td>fruta de temporada servida con sorbete de menta</td>\n      <td>postre</td>\n      <td>Postres</td>\n      <td>tuk tuk</td>\n    </tr>\n    <tr>\n      <th>543</th>\n      <td>tuk tuk</td>\n      <td>Postre</td>\n      <td>Carpaccio de piña aderezado con menta y sorbet...</td>\n      <td>6,5 €</td>\n      <td>carpaccio de piña aderezado con menta y sorbet...</td>\n      <td>postre</td>\n      <td>Postres</td>\n      <td>tuk tuk</td>\n    </tr>\n  </tbody>\n</table>\n<p>544 rows × 8 columns</p>\n</div>"
     },
     "metadata": {},
     "execution_count": 21
    }
   ],
   "source": [
    "menu"
   ]
  },
  {
   "cell_type": "markdown",
   "metadata": {},
   "source": [
    "Voy a codificar los restaurantes utilizando LabelEncoder y aplicandolo a la columna Id_restaurante"
   ]
  },
  {
   "cell_type": "code",
   "execution_count": 23,
   "metadata": {},
   "outputs": [
    {
     "output_type": "execute_result",
     "data": {
      "text/plain": [
       "        restaurante   seccion  \\\n",
       "0    7 Delicatessen  Entrante   \n",
       "1    7 Delicatessen  Entrante   \n",
       "2    7 Delicatessen  Entrante   \n",
       "3    7 Delicatessen     Plato   \n",
       "4    7 Delicatessen     Plato   \n",
       "..              ...       ...   \n",
       "539         tuk tuk     Plato   \n",
       "540         tuk tuk     Plato   \n",
       "541         tuk tuk    Postre   \n",
       "542         tuk tuk    Postre   \n",
       "543         tuk tuk    Postre   \n",
       "\n",
       "                                                platos precios  \\\n",
       "0    Ensalada de queso de cabra con naranja agria a...   8,5 €   \n",
       "1          Tortilla de patata con cebolla caramelizada     8 €   \n",
       "2              Ensalada de foie y cebolla caramelizada   8,5 €   \n",
       "3                                       Pollo yakitori     8 €   \n",
       "4                    Pizza de gambón y chile confitado   8,5 €   \n",
       "..                                                 ...     ...   \n",
       "539  Ternera al curry con verduras, anacardos, arro...    18 €   \n",
       "540  Teriyaki de salmón servido con arroz de jazmín...    18 €   \n",
       "541  Plátano asado, envuelto en azúcar de caña, fru...   6,5 €   \n",
       "542    Fruta de temporada servida con sorbete de menta   6,5 €   \n",
       "543  Carpaccio de piña aderezado con menta y sorbet...   6,5 €   \n",
       "\n",
       "                                          platos_lower seccion_lower  \\\n",
       "0    ensalada de queso de cabra con naranja agria a...      entrante   \n",
       "1          tortilla de patata con cebolla caramelizada      entrante   \n",
       "2              ensalada de foie y cebolla caramelizada      entrante   \n",
       "3                                       pollo yakitori         plato   \n",
       "4                    pizza de gambón y chile confitado         plato   \n",
       "..                                                 ...           ...   \n",
       "539  ternera al curry con verduras, anacardos, arro...         plato   \n",
       "540  teriyaki de salmón servido con arroz de jazmín...         plato   \n",
       "541  plátano asado, envuelto en azúcar de caña, fru...        postre   \n",
       "542    fruta de temporada servida con sorbete de menta        postre   \n",
       "543  carpaccio de piña aderezado con menta y sorbet...        postre   \n",
       "\n",
       "    Categorias  Id_restaurante  \n",
       "0     Ensalada               0  \n",
       "1    Entrantes               0  \n",
       "2     Ensalada               0  \n",
       "3        Pollo               0  \n",
       "4        Pizza               0  \n",
       "..         ...             ...  \n",
       "539      Carne              25  \n",
       "540    Pescado              25  \n",
       "541    Postres              25  \n",
       "542    Postres              25  \n",
       "543    Postres              25  \n",
       "\n",
       "[544 rows x 8 columns]"
      ],
      "text/html": "<div>\n<style scoped>\n    .dataframe tbody tr th:only-of-type {\n        vertical-align: middle;\n    }\n\n    .dataframe tbody tr th {\n        vertical-align: top;\n    }\n\n    .dataframe thead th {\n        text-align: right;\n    }\n</style>\n<table border=\"1\" class=\"dataframe\">\n  <thead>\n    <tr style=\"text-align: right;\">\n      <th></th>\n      <th>restaurante</th>\n      <th>seccion</th>\n      <th>platos</th>\n      <th>precios</th>\n      <th>platos_lower</th>\n      <th>seccion_lower</th>\n      <th>Categorias</th>\n      <th>Id_restaurante</th>\n    </tr>\n  </thead>\n  <tbody>\n    <tr>\n      <th>0</th>\n      <td>7 Delicatessen</td>\n      <td>Entrante</td>\n      <td>Ensalada de queso de cabra con naranja agria a...</td>\n      <td>8,5 €</td>\n      <td>ensalada de queso de cabra con naranja agria a...</td>\n      <td>entrante</td>\n      <td>Ensalada</td>\n      <td>0</td>\n    </tr>\n    <tr>\n      <th>1</th>\n      <td>7 Delicatessen</td>\n      <td>Entrante</td>\n      <td>Tortilla de patata con cebolla caramelizada</td>\n      <td>8 €</td>\n      <td>tortilla de patata con cebolla caramelizada</td>\n      <td>entrante</td>\n      <td>Entrantes</td>\n      <td>0</td>\n    </tr>\n    <tr>\n      <th>2</th>\n      <td>7 Delicatessen</td>\n      <td>Entrante</td>\n      <td>Ensalada de foie y cebolla caramelizada</td>\n      <td>8,5 €</td>\n      <td>ensalada de foie y cebolla caramelizada</td>\n      <td>entrante</td>\n      <td>Ensalada</td>\n      <td>0</td>\n    </tr>\n    <tr>\n      <th>3</th>\n      <td>7 Delicatessen</td>\n      <td>Plato</td>\n      <td>Pollo yakitori</td>\n      <td>8 €</td>\n      <td>pollo yakitori</td>\n      <td>plato</td>\n      <td>Pollo</td>\n      <td>0</td>\n    </tr>\n    <tr>\n      <th>4</th>\n      <td>7 Delicatessen</td>\n      <td>Plato</td>\n      <td>Pizza de gambón y chile confitado</td>\n      <td>8,5 €</td>\n      <td>pizza de gambón y chile confitado</td>\n      <td>plato</td>\n      <td>Pizza</td>\n      <td>0</td>\n    </tr>\n    <tr>\n      <th>...</th>\n      <td>...</td>\n      <td>...</td>\n      <td>...</td>\n      <td>...</td>\n      <td>...</td>\n      <td>...</td>\n      <td>...</td>\n      <td>...</td>\n    </tr>\n    <tr>\n      <th>539</th>\n      <td>tuk tuk</td>\n      <td>Plato</td>\n      <td>Ternera al curry con verduras, anacardos, arro...</td>\n      <td>18 €</td>\n      <td>ternera al curry con verduras, anacardos, arro...</td>\n      <td>plato</td>\n      <td>Carne</td>\n      <td>25</td>\n    </tr>\n    <tr>\n      <th>540</th>\n      <td>tuk tuk</td>\n      <td>Plato</td>\n      <td>Teriyaki de salmón servido con arroz de jazmín...</td>\n      <td>18 €</td>\n      <td>teriyaki de salmón servido con arroz de jazmín...</td>\n      <td>plato</td>\n      <td>Pescado</td>\n      <td>25</td>\n    </tr>\n    <tr>\n      <th>541</th>\n      <td>tuk tuk</td>\n      <td>Postre</td>\n      <td>Plátano asado, envuelto en azúcar de caña, fru...</td>\n      <td>6,5 €</td>\n      <td>plátano asado, envuelto en azúcar de caña, fru...</td>\n      <td>postre</td>\n      <td>Postres</td>\n      <td>25</td>\n    </tr>\n    <tr>\n      <th>542</th>\n      <td>tuk tuk</td>\n      <td>Postre</td>\n      <td>Fruta de temporada servida con sorbete de menta</td>\n      <td>6,5 €</td>\n      <td>fruta de temporada servida con sorbete de menta</td>\n      <td>postre</td>\n      <td>Postres</td>\n      <td>25</td>\n    </tr>\n    <tr>\n      <th>543</th>\n      <td>tuk tuk</td>\n      <td>Postre</td>\n      <td>Carpaccio de piña aderezado con menta y sorbet...</td>\n      <td>6,5 €</td>\n      <td>carpaccio de piña aderezado con menta y sorbet...</td>\n      <td>postre</td>\n      <td>Postres</td>\n      <td>25</td>\n    </tr>\n  </tbody>\n</table>\n<p>544 rows × 8 columns</p>\n</div>"
     },
     "metadata": {},
     "execution_count": 23
    }
   ],
   "source": [
    "le = LabelEncoder()\n",
    "menu[\"Id_restaurante\"] = le.fit_transform(menu[\"Id_restaurante\"])\n",
    "menu"
   ]
  },
  {
   "cell_type": "code",
   "execution_count": null,
   "metadata": {},
   "outputs": [],
   "source": [
    "menu_6 = df[['Categorias','platos','precios','puntuacion','Id_restaurante']]"
   ]
  },
  {
   "cell_type": "code",
   "execution_count": 18,
   "metadata": {},
   "outputs": [
    {
     "output_type": "execute_result",
     "data": {
      "text/plain": [
       "array(['7 Delicatessen', 'Aloha Poké', 'Bagatella', 'Bazaar', 'Boho Bar',\n",
       "       'Bosco de Lobos', 'Dionisos', 'Food Truck', 'Gioia Restaurante',\n",
       "       'Hamburguesa Nostra', 'Hot Now', 'Izakaya Han', 'Kuoco 360',\n",
       "       'La Carmencita', 'La Trastienda', 'le cocó', 'Mal de Amores',\n",
       "       'Morgana', 'Restaurante Arce', 'RESTAURANTE KRITIKOS', 'Roostiq',\n",
       "       'San Wich', 'Sr. Ito', 'Taberna El Buo', 'Tepic', 'tuk tuk'],\n",
       "      dtype=object)"
      ]
     },
     "metadata": {},
     "execution_count": 18
    }
   ],
   "source": [
    "menu.restaurante.unique()"
   ]
  },
  {
   "cell_type": "code",
   "execution_count": 90,
   "metadata": {},
   "outputs": [
    {
     "output_type": "execute_result",
     "data": {
      "text/plain": [
       "     Restaurant                           Style  \\\n",
       "0     Kuoco 360                     Restaurants   \n",
       "1  Bunny's Deli  Vegetarian / Vegan Restaurants   \n",
       "2     Pizzaiolo             Italian Restaurants   \n",
       "3         Vides                      Gastropubs   \n",
       "4    Food Truck            American Restaurants   \n",
       "\n",
       "                                             Address   latitude  lomgitude  \n",
       "0  [Calle San Bartolmé, 14, 28004 Madrid Madrid, ...  40.421842  -3.698456  \n",
       "1  [Calle San Gregorio 17, 28004 Madrid Madrid, E...  40.423935  -3.697158  \n",
       "2    [C. Hortaleza, 84, 28004 Madrid Madrid, España]  40.423795  -3.698597  \n",
       "3     [C. Libertad, 12, 28004 Madrid Madrid, España]  40.421017  -3.697354  \n",
       "4          [C. San Lucas, 11, Madrid Madrid, España]  40.423816  -3.696086  "
      ],
      "text/html": "<div>\n<style scoped>\n    .dataframe tbody tr th:only-of-type {\n        vertical-align: middle;\n    }\n\n    .dataframe tbody tr th {\n        vertical-align: top;\n    }\n\n    .dataframe thead th {\n        text-align: right;\n    }\n</style>\n<table border=\"1\" class=\"dataframe\">\n  <thead>\n    <tr style=\"text-align: right;\">\n      <th></th>\n      <th>Restaurant</th>\n      <th>Style</th>\n      <th>Address</th>\n      <th>latitude</th>\n      <th>lomgitude</th>\n    </tr>\n  </thead>\n  <tbody>\n    <tr>\n      <th>0</th>\n      <td>Kuoco 360</td>\n      <td>Restaurants</td>\n      <td>[Calle San Bartolmé, 14, 28004 Madrid Madrid, ...</td>\n      <td>40.421842</td>\n      <td>-3.698456</td>\n    </tr>\n    <tr>\n      <th>1</th>\n      <td>Bunny's Deli</td>\n      <td>Vegetarian / Vegan Restaurants</td>\n      <td>[Calle San Gregorio 17, 28004 Madrid Madrid, E...</td>\n      <td>40.423935</td>\n      <td>-3.697158</td>\n    </tr>\n    <tr>\n      <th>2</th>\n      <td>Pizzaiolo</td>\n      <td>Italian Restaurants</td>\n      <td>[C. Hortaleza, 84, 28004 Madrid Madrid, España]</td>\n      <td>40.423795</td>\n      <td>-3.698597</td>\n    </tr>\n    <tr>\n      <th>3</th>\n      <td>Vides</td>\n      <td>Gastropubs</td>\n      <td>[C. Libertad, 12, 28004 Madrid Madrid, España]</td>\n      <td>40.421017</td>\n      <td>-3.697354</td>\n    </tr>\n    <tr>\n      <th>4</th>\n      <td>Food Truck</td>\n      <td>American Restaurants</td>\n      <td>[C. San Lucas, 11, Madrid Madrid, España]</td>\n      <td>40.423816</td>\n      <td>-3.696086</td>\n    </tr>\n  </tbody>\n</table>\n</div>"
     },
     "metadata": {},
     "execution_count": 90
    }
   ],
   "source": [
    "df_restaurantes = pd.read_json(\"rest_Chueca.json\")\n",
    "df_restaurantes.head()"
   ]
  },
  {
   "cell_type": "code",
   "execution_count": 95,
   "metadata": {},
   "outputs": [],
   "source": [
    "restaurantes_definitivos = ['7 Delicatessen', 'Aloha Poké', 'Bagatella', 'Bazaar', 'Boho Bar',\n",
    "       'Bosco de Lobos', 'Dionisos', 'Food Truck', 'Gioia Restaurante',\n",
    "       'Hamburguesa Nostra', 'Hot Now', 'Izakaya Han', 'Kuoco 360',\n",
    "       'La Carmencita', 'La Trastienda', 'le cocó', 'Mal de Amores',\n",
    "       'Morgana', 'Restaurante Arce', 'RESTAURANTE KRITIKOS', 'Roostiq',\n",
    "       'San Wich', 'Sr. Ito', 'Taberna El Buo', 'Tepic', 'tuk tuk']\n"
   ]
  },
  {
   "cell_type": "code",
   "execution_count": null,
   "metadata": {},
   "outputs": [],
   "source": [
    "df_restaurantes.loc[]"
   ]
  },
  {
   "cell_type": "code",
   "execution_count": 88,
   "metadata": {},
   "outputs": [],
   "source": [
    "df_restaurantes.reset_index(level=0, inplace=True)"
   ]
  },
  {
   "cell_type": "code",
   "execution_count": null,
   "metadata": {},
   "outputs": [],
   "source": [
    "df_restaurantes.rename(columns={'index': 'Id_Restaurante'}, inplace=True)"
   ]
  },
  {
   "cell_type": "code",
   "execution_count": 1,
   "metadata": {},
   "outputs": [
    {
     "output_type": "error",
     "ename": "NameError",
     "evalue": "name 'df_restaurantes' is not defined",
     "traceback": [
      "\u001b[1;31m---------------------------------------------------------------------------\u001b[0m",
      "\u001b[1;31mNameError\u001b[0m                                 Traceback (most recent call last)",
      "\u001b[1;32m<ipython-input-1-7e0a25a6bfff>\u001b[0m in \u001b[0;36m<module>\u001b[1;34m\u001b[0m\n\u001b[1;32m----> 1\u001b[1;33m \u001b[0mdf_restaurantes\u001b[0m\u001b[1;33m.\u001b[0m\u001b[0mhead\u001b[0m\u001b[1;33m(\u001b[0m\u001b[1;33m)\u001b[0m\u001b[1;33m\u001b[0m\u001b[1;33m\u001b[0m\u001b[0m\n\u001b[0m",
      "\u001b[1;31mNameError\u001b[0m: name 'df_restaurantes' is not defined"
     ]
    }
   ],
   "source": [
    "df_restaurantes.head()"
   ]
  },
  {
   "cell_type": "code",
   "execution_count": null,
   "metadata": {},
   "outputs": [],
   "source": [
    "paises_grupoD=[\"PRT\", \"VEN\", \"TUR\", \"GBR\", \"ESP\"]\n",
    "paises_nombres={\"PRT\":\"Portugal\", \"VEN\":\"Venezuela\", \"TUR\":\"Turquía\", \"GBR\":\"Gran Bretaña\", \"ESP\":\"España\"}\n",
    "covid_grupoD=world_df[world_df.iso_code.isin(paises_grupoD)]\n",
    "covid_grupoD"
   ]
  }
 ]
}