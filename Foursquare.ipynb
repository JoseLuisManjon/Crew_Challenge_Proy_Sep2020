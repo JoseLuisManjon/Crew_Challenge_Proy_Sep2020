{
 "metadata": {
  "language_info": {
   "codemirror_mode": {
    "name": "ipython",
    "version": 3
   },
   "file_extension": ".py",
   "mimetype": "text/x-python",
   "name": "python",
   "nbconvert_exporter": "python",
   "pygments_lexer": "ipython3",
   "version": "3.8.3-final"
  },
  "orig_nbformat": 2,
  "kernelspec": {
   "name": "Python 3.8.3 64-bit",
   "display_name": "Python 3.8.3 64-bit",
   "metadata": {
    "interpreter": {
     "hash": "1baa965d5efe3ac65b79dfc60c0d706280b1da80fedb7760faf2759126c4f253"
    }
   }
  }
 },
 "nbformat": 4,
 "nbformat_minor": 2,
 "cells": [
  {
   "cell_type": "markdown",
   "metadata": {},
   "source": [
    "## API de foursquare"
   ]
  },
  {
   "cell_type": "code",
   "execution_count": 1,
   "metadata": {},
   "outputs": [],
   "source": [
    "import json\n",
    "import requests\n",
    "import pandas as pd\n",
    "from pandas.io.json import json_normalize"
   ]
  },
  {
   "cell_type": "code",
   "execution_count": 2,
   "metadata": {},
   "outputs": [],
   "source": [
    "# Aqui escribo el path de donde este mi archivo con los token, si esta en la misma carpeta.\n",
    "json_fullpath = \"settings.json\""
   ]
  },
  {
   "cell_type": "code",
   "execution_count": 3,
   "metadata": {},
   "outputs": [],
   "source": [
    "with open(json_fullpath, \"r+\") as outfile:\n",
    "    json_readed = json.load(outfile)\n",
    "    # Ahora en json_readed tengo el archivo setting.json para posteriormente poder acceder a los valores de los token llamando a las claves"
   ]
  },
  {
   "cell_type": "code",
   "execution_count": 4,
   "metadata": {},
   "outputs": [],
   "source": [
    "url = 'https://api.foursquare.com/v2/venues/explore'\n",
    "\n",
    "# más códigos de categorías\n",
    "# https://developer.foursquare.com/docs/build-with-foursquare/categories/\n",
    "food = \"4d4b7105d754a06374d81259\"\n",
    "\n",
    "# para sacar las coordenadas podrías usar una API pero también...\n",
    "# https://www.123coordenadas.com/coordinates/\n",
    "\n",
    "lat = 40.42271305\n",
    "lon = -3.697609087"
   ]
  },
  {
   "cell_type": "code",
   "execution_count": null,
   "metadata": {},
   "outputs": [],
   "source": [
    "#La forma en la que lo hizo Clara en clase\n",
    "#Esto es para darle los parametros que me pide la API\n",
    "params = {\"client_id\": json_readed[\"CLIENT\"],\n",
    "  \"client_secret\": json_readed[\"API_KEY\"],\n",
    "  \"v\":\"20180323\",\n",
    "  \"ll\":f'{lat},{lon}', # esto es format y python construye un string con los nombres de las variables\n",
    "  \"section\": \"food\",\n",
    "  \"radius\": \"2000\",\n",
    "  # options --> food, drinks, coffee, shops, arts, outdoors, sights, trending\n",
    "  \"limit\":200\n",
    "}"
   ]
  },
  {
   "cell_type": "code",
   "execution_count": 5,
   "metadata": {},
   "outputs": [],
   "source": [
    "# Como viene en la web de foursqueare\n",
    "url = 'https://api.foursquare.com/v2/venues/explore'\n",
    "\n",
    "params = dict(\n",
    "client_id=json_readed[\"CLIENT\"],\n",
    "client_secret=json_readed[\"API_KEY\"],\n",
    "v='20180323',\n",
    "ll='40.42271305,-3.697609087',\n",
    "section='food',\n",
    "radius=200,\n",
    "limit=200\n",
    ")\n"
   ]
  },
  {
   "cell_type": "code",
   "execution_count": 6,
   "metadata": {},
   "outputs": [],
   "source": [
    "resp = requests.get(url=url, params=params)\n",
    "data = json.loads(resp.text)"
   ]
  },
  {
   "cell_type": "code",
   "execution_count": 7,
   "metadata": {},
   "outputs": [],
   "source": [
    "with open('data.json', 'w+') as outfile:\n",
    "    json.dump(data, outfile, indent=4)"
   ]
  },
  {
   "cell_type": "code",
   "execution_count": 11,
   "metadata": {},
   "outputs": [
    {
     "output_type": "execute_result",
     "data": {
      "text/plain": "dict_keys([&#39;meta&#39;, &#39;response&#39;])"
     },
     "metadata": {},
     "execution_count": 11
    }
   ],
   "source": [
    "data.keys()"
   ]
  },
  {
   "cell_type": "markdown",
   "metadata": {},
   "source": [
    "Ahora voy uno a uno viendo lo que contienen hasta que encuentre la información que me interesa"
   ]
  },
  {
   "cell_type": "code",
   "execution_count": 10,
   "metadata": {},
   "outputs": [
    {
     "output_type": "execute_result",
     "data": {
      "text/plain": "{&#39;code&#39;: 200, &#39;requestId&#39;: &#39;5f7e0b543b7e813572116803&#39;}"
     },
     "metadata": {},
     "execution_count": 10
    }
   ],
   "source": [
    "data[\"meta\"]\n",
    "# La info que contiene meta no me interesa, me centro en response"
   ]
  },
  {
   "cell_type": "code",
   "execution_count": 12,
   "metadata": {},
   "outputs": [
    {
     "output_type": "execute_result",
     "data": {
      "text/plain": "dict_keys([&#39;suggestedFilters&#39;, &#39;headerLocation&#39;, &#39;headerFullLocation&#39;, &#39;headerLocationGranularity&#39;, &#39;query&#39;, &#39;totalResults&#39;, &#39;suggestedBounds&#39;, &#39;groups&#39;])"
     },
     "metadata": {},
     "execution_count": 12
    }
   ],
   "source": [
    "data[\"response\"].keys()"
   ]
  },
  {
   "cell_type": "code",
   "execution_count": 13,
   "metadata": {},
   "outputs": [
    {
     "output_type": "execute_result",
     "data": {
      "text/plain": "{&#39;header&#39;: &#39;Tap to show:&#39;, &#39;filters&#39;: [{&#39;name&#39;: &#39;Open now&#39;, &#39;key&#39;: &#39;openNow&#39;}]}"
     },
     "metadata": {},
     "execution_count": 13
    }
   ],
   "source": [
    "data[\"response\"]['suggestedFilters']\n",
    "# No es la info buscada"
   ]
  },
  {
   "cell_type": "code",
   "execution_count": 14,
   "metadata": {},
   "outputs": [
    {
     "output_type": "execute_result",
     "data": {
      "text/plain": "&#39;Chueca&#39;"
     },
     "metadata": {},
     "execution_count": 14
    }
   ],
   "source": [
    "data[\"response\"]['headerLocation']\n",
    "# Me da el área de busqueda"
   ]
  },
  {
   "cell_type": "code",
   "execution_count": 15,
   "metadata": {},
   "outputs": [
    {
     "output_type": "execute_result",
     "data": {
      "text/plain": "51"
     },
     "metadata": {},
     "execution_count": 15
    }
   ],
   "source": [
    "data[\"response\"]['totalResults']\n",
    "#El número de resultados obtenidos"
   ]
  },
  {
   "cell_type": "code",
   "execution_count": 16,
   "metadata": {},
   "outputs": [
    {
     "output_type": "execute_result",
     "data": {
      "text/plain": "5a8d4f964a520c5ea27e3-36&#39;},\n   {&#39;reasons&#39;: {&#39;count&#39;: 0,\n     &#39;items&#39;: [{&#39;summary&#39;: &#39;This spot is popular&#39;,\n       &#39;type&#39;: &#39;general&#39;,\n       &#39;reasonName&#39;: &#39;globalInteractionReason&#39;}]},\n    &#39;venue&#39;: {&#39;id&#39;: &#39;5532b7a9498e944a9f268b2e&#39;,\n     &#39;name&#39;: &#39;Gioia Restaurante&#39;,\n     &#39;contact&#39;: {},\n     &#39;location&#39;: {&#39;address&#39;: &#39;San Bartolomé 23&#39;,\n      &#39;lat&#39;: 40.422075,\n      &#39;lng&#39;: -3.69859,\n      &#39;labeledLatLngs&#39;: [{&#39;label&#39;: &#39;display&#39;,\n        &#39;lat&#39;: 40.422075,\n        &#39;lng&#39;: -3.69859}],\n      &#39;distance&#39;: 109,\n      &#39;cc&#39;: &#39;ES&#39;,\n      &#39;city&#39;: &#39;Madrid&#39;,\n      &#39;state&#39;: &#39;Madrid&#39;,\n      &#39;country&#39;: &#39;España&#39;,\n      &#39;formattedAddress&#39;: [&#39;San Bartolomé 23&#39;, &#39;Madrid Madrid&#39;, &#39;España&#39;]},\n     &#39;categories&#39;: [{&#39;id&#39;: &#39;4bf58dd8d48988d110941735&#39;,\n       &#39;name&#39;: &#39;Italian Restaurant&#39;,\n       &#39;pluralName&#39;: &#39;Italian Restaurants&#39;,\n       &#39;shortName&#39;: &#39;Italian&#39;,\n       &#39;icon&#39;: {&#39;prefix&#39;: &#39;https://ss3.4sqi.net/img/categories_v2/food/italian_&#39;,\n        &#39;suffix&#39;: &#39;.png&#39;},\n       &#39;primary&#39;: True}],\n     &#39;verified&#39;: False,\n     &#39;stats&#39;: {&#39;tipCount&#39;: 0,\n      &#39;usersCount&#39;: 0,\n      &#39;checkinsCount&#39;: 0,\n      &#39;visitsCount&#39;: 0},\n     &#39;beenHere&#39;: {&#39;count&#39;: 0,\n      &#39;lastCheckinExpiredAt&#39;: 0,\n      &#39;marked&#39;: False,\n      &#39;unconfirmedCount&#39;: 0},\n     &#39;photos&#39;: {&#39;count&#39;: 0, &#39;groups&#39;: []},\n     &#39;hereNow&#39;: {&#39;count&#39;: 0, &#39;summary&#39;: &#39;Nobody here&#39;, &#39;groups&#39;: []}},\n    &#39;referralId&#39;: &#39;e-3-5532b7a9498e944a9f268b2e-37&#39;},\n   {&#39;reasons&#39;: {&#39;count&#39;: 0,\n     &#39;items&#39;: [{&#39;summary&#39;: &#39;This spot is popular&#39;,\n       &#39;type&#39;: &#39;general&#39;,\n       &#39;reasonName&#39;: &#39;globalInteractionReason&#39;}]},\n    &#39;venue&#39;: {&#39;id&#39;: &#39;4fc22c42e4b09ab6886996c2&#39;,\n     &#39;name&#39;: &#39;Arepa Olé &quot;Chueca&quot;&#39;,\n     &#39;contact&#39;: {},\n     &#39;location&#39;: {&#39;address&#39;: &#39;C. Pelayo, 2&#39;,\n      &#39;lat&#39;: 40.42178698102328,\n      &#39;lng&#39;: -3.6992083295172167,\n      &#39;labeledLatLngs&#39;: [{&#39;label&#39;: &#39;display&#39;,\n        &#39;lat&#39;: 40.42178698102328,\n        &#39;lng&#39;: -3.6992083295172167}],\n      &#39;distance&#39;: 170,\n      &#39;postalCode&#39;: &#39;28004&#39;,\n      &#39;cc&#39;: &#39;ES&#39;,\n      &#39;city&#39;: &#39;Madrid&#39;,\n      &#39;state&#39;: &#39;Madrid&#39;,\n      &#39;country&#39;: &#39;España&#39;,\n      &#39;formattedAddress&#39;: [&#39;C. Pelayo, 2&#39;, &#39;28004 Madrid Madrid&#39;, &#39;España&#39;]},\n     &#39;categories&#39;: [{&#39;id&#39;: &#39;4bf58dd8d48988d152941735&#39;,\n       &#39;name&#39;: &#39;Arepa Restaurant&#39;,\n       &#39;pluralName&#39;: &#39;Arepa Restaurants&#39;,\n       &#39;shortName&#39;: &#39;Arepas&#39;,\n       &#39;icon&#39;: {&#39;prefix&#39;: &#39;https://ss3.4sqi.net/img/categories_v2/food/arepas_&#39;,\n        &#39;suffix&#39;: &#39;.png&#39;},\n       &#39;primary&#39;: True}],\n     &#39;verified&#39;: True,\n     &#39;stats&#39;: {&#39;tipCount&#39;: 0,\n      &#39;usersCount&#39;: 0,\n      &#39;checkinsCount&#39;: 0,\n      &#39;visitsCount&#39;: 0},\n     &#39;beenHere&#39;: {&#39;count&#39;: 0,\n      &#39;lastCheckinExpiredAt&#39;: 0,\n      &#39;marked&#39;: False,\n      &#39;unconfirmedCount&#39;: 0},\n     &#39;photos&#39;: {&#39;count&#39;: 0, &#39;groups&#39;: []},\n     &#39;venuePage&#39;: {&#39;id&#39;: &#39;47887543&#39;},\n     &#39;hereNow&#39;: {&#39;count&#39;: 0, &#39;summary&#39;: &#39;Nobody here&#39;, &#39;groups&#39;: []}},\n    &#39;referralId&#39;: &#39;e-3-4fc22c42e4b09ab6886996c2-38&#39;},\n   {&#39;reasons&#39;: {&#39;count&#39;: 0,\n     &#39;items&#39;: [{&#39;summary&#39;: &#39;This spot is popular&#39;,\n       &#39;type&#39;: &#39;general&#39;,\n       &#39;reasonName&#39;: &#39;globalInteractionReason&#39;}]},\n    &#39;venue&#39;: {&#39;id&#39;: &#39;4adcda3af964a520523d21e3&#39;,\n     &#39;name&#39;: &#39;Bazaar&#39;,\n     &#39;contact&#39;: {},\n     &#39;location&#39;: {&#39;address&#39;: &#39;C. Libertad, 21&#39;,\n      &#39;lat&#39;: 40.421289934462294,\n      &#39;lng&#39;: -3.697392702478642,\n      &#39;labeledLatLngs&#39;: [{&#39;label&#39;: &#39;display&#39;,\n        &#39;lat&#39;: 40.421289934462294,\n        &#39;lng&#39;: -3.697392702478642}],\n      &#39;distance&#39;: 159,\n      &#39;postalCode&#39;: &#39;28004&#39;,\n      &#39;cc&#39;: &#39;ES&#39;,\n      &#39;city&#39;: &#39;Madrid&#39;,\n      &#39;state&#39;: &#39;Madrid&#39;,\n      &#39;country&#39;: &#39;España&#39;,\n      &#39;formattedAddress&#39;: [&#39;C. Libertad, 21&#39;,\n       &#39;28004 Madrid Madrid&#39;,\n       &#39;España&#39;]},\n     &#39;categories&#39;: [{&#39;id&#39;: &#39;4bf58dd8d48988d1c0941735&#39;,\n       &#39;name&#39;: &#39;Mediterranean Restaurant&#39;,\n       &#39;pluralName&#39;: &#39;Mediterranean Restaurants&#39;,\n       &#39;shortName&#39;: &#39;Mediterranean&#39;,\n       &#39;icon&#39;: {&#39;prefix&#39;: &#39;https://ss3.4sqi.net/img/categories_v2/food/mediterranean_&#39;,\n        &#39;suffix&#39;: &#39;.png&#39;},\n       &#39;primary&#39;: True}],\n     &#39;verified&#39;: False,\n     &#39;stats&#39;: {&#39;tipCount&#39;: 0,\n      &#39;usersCount&#39;: 0,\n      &#39;checkinsCount&#39;: 0,\n      &#39;visitsCount&#39;: 0},\n     &#39;beenHere&#39;: {&#39;count&#39;: 0,\n      &#39;lastCheckinExpiredAt&#39;: 0,\n      &#39;marked&#39;: False,\n      &#39;unconfirmedCount&#39;: 0},\n     &#39;photos&#39;: {&#39;count&#39;: 0, &#39;groups&#39;: []},\n     &#39;hereNow&#39;: {&#39;count&#39;: 0, &#39;summary&#39;: &#39;Nobody here&#39;, &#39;groups&#39;: []}},\n    &#39;referralId&#39;: &#39;e-3-4adcda3af964a520523d21e3-39&#39;},\n   {&#39;reasons&#39;: {&#39;count&#39;: 0,\n     &#39;items&#39;: [{&#39;summary&#39;: &#39;This spot is popular&#39;,\n       &#39;type&#39;: &#39;general&#39;,\n       &#39;reasonName&#39;: &#39;globalInteractionReason&#39;}]},\n    &#39;venue&#39;: {&#39;id&#39;: &#39;4e11bb65aeb74afe60bf6969&#39;,\n     &#39;name&#39;: &#39;B&amp;B Restaurante&#39;,\n     &#39;contact&#39;: {},\n     &#39;location&#39;: {&#39;address&#39;: &#39;C/ Libertad 23&#39;,\n      &#39;lat&#39;: 40.42138395009756,\n      &#39;lng&#39;: -3.697403436783447,\n      &#39;labeledLatLngs&#39;: [{&#39;label&#39;: &#39;display&#39;,\n        &#39;lat&#39;: 40.42138395009756,\n        &#39;lng&#39;: -3.697403436783447}],\n      &#39;distance&#39;: 148,\n      &#39;postalCode&#39;: &#39;28004&#39;,\n      &#39;cc&#39;: &#39;ES&#39;,\n      &#39;city&#39;: &#39;Madrid&#39;,\n      &#39;state&#39;: &#39;Madrid&#39;,\n      &#39;country&#39;: &#39;España&#39;,\n      &#39;formattedAddress&#39;: [&#39;C/ Libertad 23&#39;, &#39;28004 Madrid Madrid&#39;, &#39;España&#39;]},\n     &#39;categories&#39;: [{&#39;id&#39;: &#39;4bf58dd8d48988d16c941735&#39;,\n       &#39;name&#39;: &#39;Burger Joint&#39;,\n       &#39;pluralName&#39;: &#39;Burger Joints&#39;,\n       &#39;shortName&#39;: &#39;Burgers&#39;,\n       &#39;icon&#39;: {&#39;prefix&#39;: &#39;https://ss3.4sqi.net/img/categories_v2/food/burger_&#39;,\n        &#39;suffix&#39;: &#39;.png&#39;},\n       &#39;primary&#39;: True}],\n     &#39;verified&#39;: False,\n     &#39;stats&#39;: {&#39;tipCount&#39;: 0,\n      &#39;usersCount&#39;: 0,\n      &#39;checkinsCount&#39;: 0,\n      &#39;visitsCount&#39;: 0},\n     &#39;beenHere&#39;: {&#39;count&#39;: 0,\n      &#39;lastCheckinExpiredAt&#39;: 0,\n      &#39;marked&#39;: False,\n      &#39;unconfirmedCount&#39;: 0},\n     &#39;photos&#39;: {&#39;count&#39;: 0, &#39;groups&#39;: []},\n     &#39;hereNow&#39;: {&#39;count&#39;: 0, &#39;summary&#39;: &#39;Nobody here&#39;, &#39;groups&#39;: []}},\n    &#39;referralId&#39;: &#39;e-3-4e11bb65aeb74afe60bf6969-40&#39;},\n   {&#39;reasons&#39;: {&#39;count&#39;: 0,\n     &#39;items&#39;: [{&#39;summary&#39;: &#39;This spot is popular&#39;,\n       &#39;type&#39;: &#39;general&#39;,\n       &#39;reasonName&#39;: &#39;globalInteractionReason&#39;}]},\n    &#39;venue&#39;: {&#39;id&#39;: &#39;519b80c2498ec92af5e14080&#39;,\n     &#39;name&#39;: &#39;Cocinadeldesierto&#39;,\n     &#39;contact&#39;: {},\n     &#39;location&#39;: {&#39;lat&#39;: 40.421026142572885,\n      &#39;lng&#39;: -3.697432464744532,\n      &#39;labeledLatLngs&#39;: [{&#39;label&#39;: &#39;display&#39;,\n        &#39;lat&#39;: 40.421026142572885,\n        &#39;lng&#39;: -3.697432464744532}],\n      &#39;distance&#39;: 188,\n      &#39;cc&#39;: &#39;ES&#39;,\n      &#39;country&#39;: &#39;España&#39;,\n      &#39;formattedAddress&#39;: [&#39;España&#39;]},\n     &#39;categories&#39;: [{&#39;id&#39;: &#39;4bf58dd8d48988d1c4941735&#39;,\n       &#39;name&#39;: &#39;Restaurant&#39;,\n       &#39;pluralName&#39;: &#39;Restaurants&#39;,\n       &#39;shortName&#39;: &#39;Restaurant&#39;,\n       &#39;icon&#39;: {&#39;prefix&#39;: &#39;https://ss3.4sqi.net/img/categories_v2/food/default_&#39;,\n        &#39;suffix&#39;: &#39;.png&#39;},\n       &#39;primary&#39;: True}],\n     &#39;verified&#39;: False,\n     &#39;stats&#39;: {&#39;tipCount&#39;: 0,\n      &#39;usersCount&#39;: 0,\n      &#39;checkinsCount&#39;: 0,\n      &#39;visitsCount&#39;: 0},\n     &#39;beenHere&#39;: {&#39;count&#39;: 0,\n      &#39;lastCheckinExpiredAt&#39;: 0,\n      &#39;marked&#39;: False,\n      &#39;unconfirmedCount&#39;: 0},\n     &#39;photos&#39;: {&#39;count&#39;: 0, &#39;groups&#39;: []},\n     &#39;hereNow&#39;: {&#39;count&#39;: 0, &#39;summary&#39;: &#39;Nobody here&#39;, &#39;groups&#39;: []}},\n    &#39;referralId&#39;: &#39;e-3-519b80c2498ec92af5e14080-41&#39;},\n   {&#39;reasons&#39;: {&#39;count&#39;: 0,\n     &#39;items&#39;: [{&#39;summary&#39;: &#39;This spot is popular&#39;,\n       &#39;type&#39;: &#39;general&#39;,\n       &#39;reasonName&#39;: &#39;globalInteractionReason&#39;}]},\n    &#39;venue&#39;: {&#39;id&#39;: &#39;54ff6eb3498e5b0e025a632f&#39;,\n     &#39;name&#39;: &#39;Restaurante Vietnam24&#39;,\n     &#39;contact&#39;: {},\n     &#39;location&#39;: {&#39;address&#39;: &#39;Calle de San Marcos 24&#39;,\n      &#39;lat&#39;: 40.42134100000001,\n      &#39;lng&#39;: -3.698427999999999,\n      &#39;labeledLatLngs&#39;: [{&#39;label&#39;: &#39;display&#39;,\n        &#39;lat&#39;: 40.42134100000001,\n        &#39;lng&#39;: -3.698427999999999}],\n      &#39;distance&#39;: 167,\n      &#39;postalCode&#39;: &#39;28004&#39;,\n      &#39;cc&#39;: &#39;ES&#39;,\n      &#39;city&#39;: &#39;Madrid&#39;,\n      &#39;state&#39;: &#39;Madrid&#39;,\n      &#39;country&#39;: &#39;España&#39;,\n      &#39;formattedAddress&#39;: [&#39;Calle de San Marcos 24&#39;,\n       &#39;28004 Madrid Madrid&#39;,\n       &#39;España&#39;]},\n     &#39;categories&#39;: [{&#39;id&#39;: &#39;4bf58dd8d48988d14a941735&#39;,\n       &#39;name&#39;: &#39;Vietnamese Restaurant&#39;,\n       &#39;pluralName&#39;: &#39;Vietnamese Restaurants&#39;,\n       &#39;shortName&#39;: &#39;Vietnamese&#39;,\n       &#39;icon&#39;: {&#39;prefix&#39;: &#39;https://ss3.4sqi.net/img/categories_v2/food/vietnamese_&#39;,\n        &#39;suffix&#39;: &#39;.png&#39;},\n       &#39;primary&#39;: True}],\n     &#39;verified&#39;: True,\n     &#39;stats&#39;: {&#39;tipCount&#39;: 0,\n      &#39;usersCount&#39;: 0,\n      &#39;checkinsCount&#39;: 0,\n      &#39;visitsCount&#39;: 0},\n     &#39;beenHere&#39;: {&#39;count&#39;: 0,\n      &#39;lastCheckinExpiredAt&#39;: 0,\n      &#39;marked&#39;: False,\n      &#39;unconfirmedCount&#39;: 0},\n     &#39;photos&#39;: {&#39;count&#39;: 0, &#39;groups&#39;: []},\n     &#39;venuePage&#39;: {&#39;id&#39;: &#39;553047231&#39;},\n     &#39;hereNow&#39;: {&#39;count&#39;: 0, &#39;summary&#39;: &#39;Nobody here&#39;, &#39;groups&#39;: []}},\n    &#39;referralId&#39;: &#39;e-3-54ff6eb3498e5b0e025a632f-42&#39;},\n   {&#39;reasons&#39;: {&#39;count&#39;: 0,\n     &#39;items&#39;: [{&#39;summary&#39;: &#39;This spot is popular&#39;,\n       &#39;type&#39;: &#39;general&#39;,\n       &#39;reasonName&#39;: &#39;globalInteractionReason&#39;}]},\n    &#39;venue&#39;: {&#39;id&#39;: &#39;5517152f498eba3fc8b760f4&#39;,\n     &#39;name&#39;: &#39;tuk tuk&#39;,\n     &#39;contact&#39;: {},\n     &#39;location&#39;: {&#39;address&#39;: &#39;C. Barquillo, 24&#39;,\n      &#39;lat&#39;: 40.42255008627129,\n      &#39;lng&#39;: -3.6956102723972575,\n      &#39;labeledLatLngs&#39;: [{&#39;label&#39;: &#39;display&#39;,\n        &#39;lat&#39;: 40.42255008627129,\n        &#39;lng&#39;: -3.6956102723972575}],\n      &#39;distance&#39;: 170,\n      &#39;postalCode&#39;: &#39;28004&#39;,\n      &#39;cc&#39;: &#39;ES&#39;,\n      &#39;city&#39;: &#39;Madrid&#39;,\n      &#39;state&#39;: &#39;Madrid&#39;,\n      &#39;country&#39;: &#39;España&#39;,\n      &#39;formattedAddress&#39;: [&#39;C. Barquillo, 24&#39;,\n       &#39;28004 Madrid Madrid&#39;,\n       &#39;España&#39;]},\n     &#39;categories&#39;: [{&#39;id&#39;: &#39;4bf58dd8d48988d142941735&#39;,\n       &#39;name&#39;: &#39;Asian Restaurant&#39;,\n       &#39;pluralName&#39;: &#39;Asian Restaurants&#39;,\n       &#39;shortName&#39;: &#39;Asian&#39;,\n       &#39;icon&#39;: {&#39;prefix&#39;: &#39;https://ss3.4sqi.net/img/categories_v2/food/asian_&#39;,\n        &#39;suffix&#39;: &#39;.png&#39;},\n       &#39;primary&#39;: True}],\n     &#39;verified&#39;: False,\n     &#39;stats&#39;: {&#39;tipCount&#39;: 0,\n      &#39;usersCount&#39;: 0,\n      &#39;checkinsCount&#39;: 0,\n      &#39;visitsCount&#39;: 0},\n     &#39;beenHere&#39;: {&#39;count&#39;: 0,\n      &#39;lastCheckinExpiredAt&#39;: 0,\n      &#39;marked&#39;: False,\n      &#39;unconfirmedCount&#39;: 0},\n     &#39;photos&#39;: {&#39;count&#39;: 0, &#39;groups&#39;: []},\n     &#39;hereNow&#39;: {&#39;count&#39;: 0, &#39;summary&#39;: &#39;Nobody here&#39;, &#39;groups&#39;: []}},\n    &#39;referralId&#39;: &#39;e-3-5517152f498eba3fc8b760f4-43&#39;},\n   {&#39;reasons&#39;: {&#39;count&#39;: 0,\n     &#39;items&#39;: [{&#39;summary&#39;: &#39;This spot is popular&#39;,\n       &#39;type&#39;: &#39;general&#39;,\n       &#39;reasonName&#39;: &#39;globalInteractionReason&#39;}]},\n    &#39;venue&#39;: {&#39;id&#39;: &#39;4da623936a23f2e80501b9dc&#39;,\n     &#39;name&#39;: &#39;Taberna El Buo&#39;,\n     &#39;contact&#39;: {},\n     &#39;location&#39;: {&#39;address&#39;: &#39;C. Gravina, 4&#39;,\n      &#39;crossStreet&#39;: &#39;C. Pelayo&#39;,\n      &#39;lat&#39;: 40.423217770388675,\n      &#39;lng&#39;: -3.6981833739403243,\n      &#39;labeledLatLngs&#39;: [{&#39;label&#39;: &#39;display&#39;,\n        &#39;lat&#39;: 40.423217770388675,\n        &#39;lng&#39;: -3.6981833739403243}],\n      &#39;distance&#39;: 74,\n      &#39;postalCode&#39;: &#39;28004&#39;,\n      &#39;cc&#39;: &#39;ES&#39;,\n      &#39;city&#39;: &#39;Madrid&#39;,\n      &#39;state&#39;: &#39;Madrid&#39;,\n      &#39;country&#39;: &#39;España&#39;,\n      &#39;formattedAddress&#39;: [&#39;C. Gravina, 4 (C. Pelayo)&#39;,\n       &#39;28004 Madrid Madrid&#39;,\n       &#39;España&#39;]},\n     &#39;categories&#39;: [{&#39;id&#39;: &#39;4bf58dd8d48988d1db931735&#39;,\n       &#39;name&#39;: &#39;Tapas Restaurant&#39;,\n       &#39;pluralName&#39;: &#39;Tapas Restaurants&#39;,\n       &#39;shortName&#39;: &#39;Tapas&#39;,\n       &#39;icon&#39;: {&#39;prefix&#39;: &#39;https://ss3.4sqi.net/img/categories_v2/food/tapas_&#39;,\n        &#39;suffix&#39;: &#39;.png&#39;},\n       &#39;primary&#39;: True}],\n     &#39;verified&#39;: False,\n     &#39;stats&#39;: {&#39;tipCount&#39;: 0,\n      &#39;usersCount&#39;: 0,\n      &#39;checkinsCount&#39;: 0,\n      &#39;visitsCount&#39;: 0},\n     &#39;beenHere&#39;: {&#39;count&#39;: 0,\n      &#39;lastCheckinExpiredAt&#39;: 0,\n      &#39;marked&#39;: False,\n      &#39;unconfirmedCount&#39;: 0},\n     &#39;photos&#39;: {&#39;count&#39;: 0, &#39;groups&#39;: []},\n     &#39;hereNow&#39;: {&#39;count&#39;: 0, &#39;summary&#39;: &#39;Nobody here&#39;, &#39;groups&#39;: []}},\n    &#39;referralId&#39;: &#39;e-3-4da623936a23f2e80501b9dc-44&#39;},\n   {&#39;reasons&#39;: {&#39;count&#39;: 0,\n     &#39;items&#39;: [{&#39;summary&#39;: &#39;This spot is popular&#39;,\n       &#39;type&#39;: &#39;general&#39;,\n       &#39;reasonName&#39;: &#39;globalInteractionReason&#39;}]},\n    &#39;venue&#39;: {&#39;id&#39;: &#39;4b75e1eff964a520e02b2ee3&#39;,\n     &#39;name&#39;: &#39;Restaurante Arce&#39;,\n     &#39;contact&#39;: {},\n     &#39;location&#39;: {&#39;address&#39;: &#39;C. Augusto Figueroa, 32&#39;,\n      &#39;lat&#39;: 40.42207258933475,\n      &#39;lng&#39;: -3.6967412061319482,\n      &#39;labeledLatLngs&#39;: [{&#39;label&#39;: &#39;display&#39;,\n        &#39;lat&#39;: 40.42207258933475,\n        &#39;lng&#39;: -3.6967412061319482}],\n      &#39;distance&#39;: 102,\n      &#39;postalCode&#39;: &#39;28004&#39;,\n      &#39;cc&#39;: &#39;ES&#39;,\n      &#39;city&#39;: &#39;Madrid&#39;,\n      &#39;state&#39;: &#39;Madrid&#39;,\n      &#39;country&#39;: &#39;España&#39;,\n      &#39;formattedAddress&#39;: [&#39;C. Augusto Figueroa, 32&#39;,\n       &#39;28004 Madrid Madrid&#39;,\n       &#39;España&#39;]},\n     &#39;categories&#39;: [{&#39;id&#39;: &#39;4bf58dd8d48988d150941735&#39;,\n       &#39;name&#39;: &#39;Spanish Restaurant&#39;,\n       &#39;pluralName&#39;: &#39;Spanish Restaurants&#39;,\n       &#39;shortName&#39;: &#39;Spanish&#39;,\n       &#39;icon&#39;: {&#39;prefix&#39;: &#39;https://ss3.4sqi.net/img/categories_v2/food/spanish_&#39;,\n        &#39;suffix&#39;: &#39;.png&#39;},\n       &#39;primary&#39;: True}],\n     &#39;verified&#39;: False,\n     &#39;stats&#39;: {&#39;tipCount&#39;: 0,\n      &#39;usersCount&#39;: 0,\n      &#39;checkinsCount&#39;: 0,\n      &#39;visitsCount&#39;: 0},\n     &#39;beenHere&#39;: {&#39;count&#39;: 0,\n      &#39;lastCheckinExpiredAt&#39;: 0,\n      &#39;marked&#39;: False,\n      &#39;unconfirmedCount&#39;: 0},\n     &#39;photos&#39;: {&#39;count&#39;: 0, &#39;groups&#39;: []},\n     &#39;hereNow&#39;: {&#39;count&#39;: 0, &#39;summary&#39;: &#39;Nobody here&#39;, &#39;groups&#39;: []}},\n    &#39;referralId&#39;: &#39;e-3-4b75e1eff964a520e02b2ee3-45&#39;},\n   {&#39;reasons&#39;: {&#39;count&#39;: 0,\n     &#39;items&#39;: [{&#39;summary&#39;: &#39;This spot is popular&#39;,\n       &#39;type&#39;: &#39;general&#39;,\n       &#39;reasonName&#39;: &#39;globalInteractionReason&#39;}]},\n    &#39;venue&#39;: {&#39;id&#39;: &#39;4b82aafcf964a5206add30e3&#39;,\n     &#39;name&#39;: &#39;Diurno Restaurant &amp; Bar&#39;,\n     &#39;contact&#39;: {},\n     &#39;location&#39;: {&#39;address&#39;: &#39;C. San Marcos, 37&#39;,\n      &#39;crossStreet&#39;: &#39;C. Libertad&#39;,\n      &#39;lat&#39;: 40.421299901405845,\n      &#39;lng&#39;: -3.6973373782873447,\n      &#39;labeledLatLngs&#39;: [{&#39;label&#39;: &#39;display&#39;,\n        &#39;lat&#39;: 40.421299901405845,\n        &#39;lng&#39;: -3.6973373782873447}],\n      &#39;distance&#39;: 158,\n      &#39;postalCode&#39;: &#39;28004&#39;,\n      &#39;cc&#39;: &#39;ES&#39;,\n      &#39;city&#39;: &#39;Madrid&#39;,\n      &#39;state&#39;: &#39;Madrid&#39;,\n      &#39;country&#39;: &#39;España&#39;,\n      &#39;formattedAddress&#39;: [&#39;C. San Marcos, 37 (C. Libertad)&#39;,\n       &#39;28004 Madrid Madrid&#39;,\n       &#39;España&#39;]},\n     &#39;categories&#39;: [{&#39;id&#39;: &#39;4bf58dd8d48988d1c0941735&#39;,\n       &#39;name&#39;: &#39;Mediterranean Restaurant&#39;,\n       &#39;pluralName&#39;: &#39;Mediterranean Restaurants&#39;,\n       &#39;shortName&#39;: &#39;Mediterranean&#39;,\n       &#39;icon&#39;: {&#39;prefix&#39;: &#39;https://ss3.4sqi.net/img/categories_v2/food/mediterranean_&#39;,\n        &#39;suffix&#39;: &#39;.png&#39;},\n       &#39;primary&#39;: True}],\n     &#39;verified&#39;: True,\n     &#39;stats&#39;: {&#39;tipCount&#39;: 0,\n      &#39;usersCount&#39;: 0,\n      &#39;checkinsCount&#39;: 0,\n      &#39;visitsCount&#39;: 0},\n     &#39;beenHere&#39;: {&#39;count&#39;: 0,\n      &#39;lastCheckinExpiredAt&#39;: 0,\n      &#39;marked&#39;: False,\n      &#39;unconfirmedCount&#39;: 0},\n     &#39;photos&#39;: {&#39;count&#39;: 0, &#39;groups&#39;: []},\n     &#39;venuePage&#39;: {&#39;id&#39;: &#39;76245254&#39;},\n     &#39;hereNow&#39;: {&#39;count&#39;: 0, &#39;summary&#39;: &#39;Nobody here&#39;, &#39;groups&#39;: []}},\n    &#39;referralId&#39;: &#39;e-3-4b82aafcf964a5206add30e3-46&#39;},\n   {&#39;reasons&#39;: {&#39;count&#39;: 0,\n     &#39;items&#39;: [{&#39;summary&#39;: &#39;This spot is popular&#39;,\n       &#39;type&#39;: &#39;general&#39;,\n       &#39;reasonName&#39;: &#39;globalInteractionReason&#39;}]},\n    &#39;venue&#39;: {&#39;id&#39;: &#39;538c87ed498e5e2ed88ad97b&#39;,\n     &#39;name&#39;: &#39;TE CATO&#39;,\n     &#39;contact&#39;: {},\n     &#39;location&#39;: {&#39;address&#39;: &#39;Gravina 12&#39;,\n      &#39;lat&#39;: 40.422849,\n      &#39;lng&#39;: -3.697099,\n      &#39;labeledLatLngs&#39;: [{&#39;label&#39;: &#39;display&#39;,\n        &#39;lat&#39;: 40.422849,\n        &#39;lng&#39;: -3.697099}],\n      &#39;distance&#39;: 45,\n      &#39;postalCode&#39;: &#39;28004&#39;,\n      &#39;cc&#39;: &#39;ES&#39;,\n      &#39;city&#39;: &#39;Madrid&#39;,\n      &#39;state&#39;: &#39;Madrid&#39;,\n      &#39;country&#39;: &#39;España&#39;,\n      &#39;formattedAddress&#39;: [&#39;Gravina 12&#39;, &#39;28004 Madrid Madrid&#39;, &#39;España&#39;]},\n     &#39;categories&#39;: [{&#39;id&#39;: &#39;4bf58dd8d48988d16d941735&#39;,\n       &#39;name&#39;: &#39;Café&#39;,\n       &#39;pluralName&#39;: &#39;Cafés&#39;,\n       &#39;shortName&#39;: &#39;Café&#39;,\n       &#39;icon&#39;: {&#39;prefix&#39;: &#39;https://ss3.4sqi.net/img/categories_v2/food/cafe_&#39;,\n        &#39;suffix&#39;: &#39;.png&#39;},\n       &#39;primary&#39;: True}],\n     &#39;verified&#39;: False,\n     &#39;stats&#39;: {&#39;tipCount&#39;: 0,\n      &#39;usersCount&#39;: 0,\n      &#39;checkinsCount&#39;: 0,\n      &#39;visitsCount&#39;: 0},\n     &#39;beenHere&#39;: {&#39;count&#39;: 0,\n      &#39;lastCheckinExpiredAt&#39;: 0,\n      &#39;marked&#39;: False,\n      &#39;unconfirmedCount&#39;: 0},\n     &#39;photos&#39;: {&#39;count&#39;: 0, &#39;groups&#39;: []},\n     &#39;hereNow&#39;: {&#39;count&#39;: 0, &#39;summary&#39;: &#39;Nobody here&#39;, &#39;groups&#39;: []}},\n    &#39;referralId&#39;: &#39;e-3-538c87ed498e5e2ed88ad97b-47&#39;},\n   {&#39;reasons&#39;: {&#39;count&#39;: 0,\n     &#39;items&#39;: [{&#39;summary&#39;: &#39;This spot is popular&#39;,\n       &#39;type&#39;: &#39;general&#39;,\n       &#39;reasonName&#39;: &#39;globalInteractionReason&#39;}]},\n    &#39;venue&#39;: {&#39;id&#39;: &#39;4e61fdbda80951b3184c3896&#39;,\n     &#39;name&#39;: &#39;Bagatella&#39;,\n     &#39;contact&#39;: {},\n     &#39;location&#39;: {&#39;address&#39;: &#39;C. Pelayo, 60&#39;,\n      &#39;lat&#39;: 40.42418217330663,\n      &#39;lng&#39;: -3.6974761592418637,\n      &#39;labeledLatLngs&#39;: [{&#39;label&#39;: &#39;display&#39;,\n        &#39;lat&#39;: 40.42418217330663,\n        &#39;lng&#39;: -3.6974761592418637}],\n      &#39;distance&#39;: 163,\n      &#39;postalCode&#39;: &#39;28004&#39;,\n      &#39;cc&#39;: &#39;ES&#39;,\n      &#39;city&#39;: &#39;Madrid&#39;,\n      &#39;state&#39;: &#39;Madrid&#39;,\n      &#39;country&#39;: &#39;España&#39;,\n      &#39;formattedAddress&#39;: [&#39;C. Pelayo, 60&#39;, &#39;28004 Madrid Madrid&#39;, &#39;España&#39;]},\n     &#39;categories&#39;: [{&#39;id&#39;: &#39;4bf58dd8d48988d150941735&#39;,\n       &#39;name&#39;: &#39;Spanish Restaurant&#39;,\n       &#39;pluralName&#39;: &#39;Spanish Restaurants&#39;,\n       &#39;shortName&#39;: &#39;Spanish&#39;,\n       &#39;icon&#39;: {&#39;prefix&#39;: &#39;https://ss3.4sqi.net/img/categories_v2/food/spanish_&#39;,\n        &#39;suffix&#39;: &#39;.png&#39;},\n       &#39;primary&#39;: True}],\n     &#39;verified&#39;: False,\n     &#39;stats&#39;: {&#39;tipCount&#39;: 0,\n      &#39;usersCount&#39;: 0,\n      &#39;checkinsCount&#39;: 0,\n      &#39;visitsCount&#39;: 0},\n     &#39;beenHere&#39;: {&#39;count&#39;: 0,\n      &#39;lastCheckinExpiredAt&#39;: 0,\n      &#39;marked&#39;: False,\n      &#39;unconfirmedCount&#39;: 0},\n     &#39;photos&#39;: {&#39;count&#39;: 0, &#39;groups&#39;: []},\n     &#39;hereNow&#39;: {&#39;count&#39;: 0, &#39;summary&#39;: &#39;Nobody here&#39;, &#39;groups&#39;: []}},\n    &#39;referralId&#39;: &#39;e-3-4e61fdbda80951b3184c3896-48&#39;},\n   {&#39;reasons&#39;: {&#39;count&#39;: 0,\n     &#39;items&#39;: [{&#39;summary&#39;: &#39;This spot is popular&#39;,\n       &#39;type&#39;: &#39;general&#39;,\n       &#39;reasonName&#39;: &#39;globalInteractionReason&#39;}]},\n    &#39;venue&#39;: {&#39;id&#39;: &#39;4dd796e18877f1150fecd530&#39;,\n     &#39;name&#39;: &#39;Hamburguesa Nostra&#39;,\n     &#39;contact&#39;: {},\n     &#39;location&#39;: {&#39;address&#39;: &#39;Mercado de San Antón&#39;,\n      &#39;lat&#39;: 40.422026687490394,\n      &#39;lng&#39;: -3.697647396217567,\n      &#39;labeledLatLngs&#39;: [{&#39;label&#39;: &#39;display&#39;,\n        &#39;lat&#39;: 40.422026687490394,\n        &#39;lng&#39;: -3.697647396217567}],\n      &#39;distance&#39;: 76,\n      &#39;postalCode&#39;: &#39;28004&#39;,\n      &#39;cc&#39;: &#39;ES&#39;,\n      &#39;city&#39;: &#39;Madrid&#39;,\n      &#39;state&#39;: &#39;Madrid&#39;,\n      &#39;country&#39;: &#39;España&#39;,\n      &#39;formattedAddress&#39;: [&#39;Mercado de San Antón&#39;,\n       &#39;28004 Madrid Madrid&#39;,\n       &#39;España&#39;]},\n     &#39;categories&#39;: [{&#39;id&#39;: &#39;4bf58dd8d48988d16c941735&#39;,\n       &#39;name&#39;: &#39;Burger Joint&#39;,\n       &#39;pluralName&#39;: &#39;Burger Joints&#39;,\n       &#39;shortName&#39;: &#39;Burgers&#39;,\n       &#39;icon&#39;: {&#39;prefix&#39;: &#39;https://ss3.4sqi.net/img/categories_v2/food/burger_&#39;,\n        &#39;suffix&#39;: &#39;.png&#39;},\n       &#39;primary&#39;: True}],\n     &#39;verified&#39;: True,\n     &#39;stats&#39;: {&#39;tipCount&#39;: 0,\n      &#39;usersCount&#39;: 0,\n      &#39;checkinsCount&#39;: 0,\n      &#39;visitsCount&#39;: 0},\n     &#39;beenHere&#39;: {&#39;count&#39;: 0,\n      &#39;lastCheckinExpiredAt&#39;: 0,\n      &#39;marked&#39;: False,\n      &#39;unconfirmedCount&#39;: 0},\n     &#39;photos&#39;: {&#39;count&#39;: 0, &#39;groups&#39;: []},\n     &#39;hereNow&#39;: {&#39;count&#39;: 0, &#39;summary&#39;: &#39;Nobody here&#39;, &#39;groups&#39;: []}},\n    &#39;referralId&#39;: &#39;e-3-4dd796e18877f1150fecd530-49&#39;},\n   {&#39;reasons&#39;: {&#39;count&#39;: 0,\n     &#39;items&#39;: [{&#39;summary&#39;: &#39;This spot is popular&#39;,\n       &#39;type&#39;: &#39;general&#39;,\n       &#39;reasonName&#39;: &#39;globalInteractionReason&#39;}]},\n    &#39;venue&#39;: {&#39;id&#39;: &#39;51d484c3498e003d2f954108&#39;,\n     &#39;name&#39;: &#39;La Trastienda&#39;,\n     &#39;contact&#39;: {},\n     &#39;location&#39;: {&#39;address&#39;: &#39;C. Augusto Figueroa, 24&#39;,\n      &#39;lat&#39;: 40.421973,\n      &#39;lng&#39;: -3.697602,\n      &#39;labeledLatLngs&#39;: [{&#39;label&#39;: &#39;display&#39;,\n        &#39;lat&#39;: 40.421973,\n        &#39;lng&#39;: -3.697602}],\n      &#39;distance&#39;: 82,\n      &#39;cc&#39;: &#39;ES&#39;,\n      &#39;city&#39;: &#39;Madrid&#39;,\n      &#39;state&#39;: &#39;Madrid&#39;,\n      &#39;country&#39;: &#39;España&#39;,\n      &#39;formattedAddress&#39;: [&#39;C. Augusto Figueroa, 24&#39;,\n       &#39;Madrid Madrid&#39;,\n       &#39;España&#39;]},\n     &#39;categories&#39;: [{&#39;id&#39;: &#39;4bf58dd8d48988d1db931735&#39;,\n       &#39;name&#39;: &#39;Tapas Restaurant&#39;,\n       &#39;pluralName&#39;: &#39;Tapas Restaurants&#39;,\n       &#39;shortName&#39;: &#39;Tapas&#39;,\n       &#39;icon&#39;: {&#39;prefix&#39;: &#39;https://ss3.4sqi.net/img/categories_v2/food/tapas_&#39;,\n        &#39;suffix&#39;: &#39;.png&#39;},\n       &#39;primary&#39;: True}],\n     &#39;verified&#39;: False,\n     &#39;stats&#39;: {&#39;tipCount&#39;: 0,\n      &#39;usersCount&#39;: 0,\n      &#39;checkinsCount&#39;: 0,\n      &#39;visitsCount&#39;: 0},\n     &#39;beenHere&#39;: {&#39;count&#39;: 0,\n      &#39;lastCheckinExpiredAt&#39;: 0,\n      &#39;marked&#39;: False,\n      &#39;unconfirmedCount&#39;: 0},\n     &#39;photos&#39;: {&#39;count&#39;: 0, &#39;groups&#39;: []},\n     &#39;hereNow&#39;: {&#39;count&#39;: 0, &#39;summary&#39;: &#39;Nobody here&#39;, &#39;groups&#39;: []}},\n    &#39;referralId&#39;: &#39;e-3-51d484c3498e003d2f954108-50&#39;}]}]"
     },
     "metadata": {},
     "execution_count": 16
    }
   ],
   "source": [
    "data[\"response\"]['groups']"
   ]
  },
  {
   "cell_type": "code",
   "execution_count": 17,
   "metadata": {},
   "outputs": [
    {
     "output_type": "execute_result",
     "data": {
      "text/plain": "   &#39;pluralName&#39;: &#39;Mexican Restaurants&#39;,\n      &#39;shortName&#39;: &#39;Mexican&#39;,\n      &#39;icon&#39;: {&#39;prefix&#39;: &#39;https://ss3.4sqi.net/img/categories_v2/food/mexican_&#39;,\n       &#39;suffix&#39;: &#39;.png&#39;},\n      &#39;primary&#39;: True}],\n    &#39;verified&#39;: False,\n    &#39;stats&#39;: {&#39;tipCount&#39;: 0,\n     &#39;usersCount&#39;: 0,\n     &#39;checkinsCount&#39;: 0,\n     &#39;visitsCount&#39;: 0},\n    &#39;beenHere&#39;: {&#39;count&#39;: 0,\n     &#39;lastCheckinExpiredAt&#39;: 0,\n     &#39;marked&#39;: False,\n     &#39;unconfirmedCount&#39;: 0},\n    &#39;photos&#39;: {&#39;count&#39;: 0, &#39;groups&#39;: []},\n    &#39;hereNow&#39;: {&#39;count&#39;: 0, &#39;summary&#39;: &#39;Nobody here&#39;, &#39;groups&#39;: []}},\n   &#39;referralId&#39;: &#39;e-3-4b55a8d4f964a520c5ea27e3-36&#39;},\n  {&#39;reasons&#39;: {&#39;count&#39;: 0,\n    &#39;items&#39;: [{&#39;summary&#39;: &#39;This spot is popular&#39;,\n      &#39;type&#39;: &#39;general&#39;,\n      &#39;reasonName&#39;: &#39;globalInteractionReason&#39;}]},\n   &#39;venue&#39;: {&#39;id&#39;: &#39;5532b7a9498e944a9f268b2e&#39;,\n    &#39;name&#39;: &#39;Gioia Restaurante&#39;,\n    &#39;contact&#39;: {},\n    &#39;location&#39;: {&#39;address&#39;: &#39;San Bartolomé 23&#39;,\n     &#39;lat&#39;: 40.422075,\n     &#39;lng&#39;: -3.69859,\n     &#39;labeledLatLngs&#39;: [{&#39;label&#39;: &#39;display&#39;,\n       &#39;lat&#39;: 40.422075,\n       &#39;lng&#39;: -3.69859}],\n     &#39;distance&#39;: 109,\n     &#39;cc&#39;: &#39;ES&#39;,\n     &#39;city&#39;: &#39;Madrid&#39;,\n     &#39;state&#39;: &#39;Madrid&#39;,\n     &#39;country&#39;: &#39;España&#39;,\n     &#39;formattedAddress&#39;: [&#39;San Bartolomé 23&#39;, &#39;Madrid Madrid&#39;, &#39;España&#39;]},\n    &#39;categories&#39;: [{&#39;id&#39;: &#39;4bf58dd8d48988d110941735&#39;,\n      &#39;name&#39;: &#39;Italian Restaurant&#39;,\n      &#39;pluralName&#39;: &#39;Italian Restaurants&#39;,\n      &#39;shortName&#39;: &#39;Italian&#39;,\n      &#39;icon&#39;: {&#39;prefix&#39;: &#39;https://ss3.4sqi.net/img/categories_v2/food/italian_&#39;,\n       &#39;suffix&#39;: &#39;.png&#39;},\n      &#39;primary&#39;: True}],\n    &#39;verified&#39;: False,\n    &#39;stats&#39;: {&#39;tipCount&#39;: 0,\n     &#39;usersCount&#39;: 0,\n     &#39;checkinsCount&#39;: 0,\n     &#39;visitsCount&#39;: 0},\n    &#39;beenHere&#39;: {&#39;count&#39;: 0,\n     &#39;lastCheckinExpiredAt&#39;: 0,\n     &#39;marked&#39;: False,\n     &#39;unconfirmedCount&#39;: 0},\n    &#39;photos&#39;: {&#39;count&#39;: 0, &#39;groups&#39;: []},\n    &#39;hereNow&#39;: {&#39;count&#39;: 0, &#39;summary&#39;: &#39;Nobody here&#39;, &#39;groups&#39;: []}},\n   &#39;referralId&#39;: &#39;e-3-5532b7a9498e944a9f268b2e-37&#39;},\n  {&#39;reasons&#39;: {&#39;count&#39;: 0,\n    &#39;items&#39;: [{&#39;summary&#39;: &#39;This spot is popular&#39;,\n      &#39;type&#39;: &#39;general&#39;,\n      &#39;reasonName&#39;: &#39;globalInteractionReason&#39;}]},\n   &#39;venue&#39;: {&#39;id&#39;: &#39;4fc22c42e4b09ab6886996c2&#39;,\n    &#39;name&#39;: &#39;Arepa Olé &quot;Chueca&quot;&#39;,\n    &#39;contact&#39;: {},\n    &#39;location&#39;: {&#39;address&#39;: &#39;C. Pelayo, 2&#39;,\n     &#39;lat&#39;: 40.42178698102328,\n     &#39;lng&#39;: -3.6992083295172167,\n     &#39;labeledLatLngs&#39;: [{&#39;label&#39;: &#39;display&#39;,\n       &#39;lat&#39;: 40.42178698102328,\n       &#39;lng&#39;: -3.6992083295172167}],\n     &#39;distance&#39;: 170,\n     &#39;postalCode&#39;: &#39;28004&#39;,\n     &#39;cc&#39;: &#39;ES&#39;,\n     &#39;city&#39;: &#39;Madrid&#39;,\n     &#39;state&#39;: &#39;Madrid&#39;,\n     &#39;country&#39;: &#39;España&#39;,\n     &#39;formattedAddress&#39;: [&#39;C. Pelayo, 2&#39;, &#39;28004 Madrid Madrid&#39;, &#39;España&#39;]},\n    &#39;categories&#39;: [{&#39;id&#39;: &#39;4bf58dd8d48988d152941735&#39;,\n      &#39;name&#39;: &#39;Arepa Restaurant&#39;,\n      &#39;pluralName&#39;: &#39;Arepa Restaurants&#39;,\n      &#39;shortName&#39;: &#39;Arepas&#39;,\n      &#39;icon&#39;: {&#39;prefix&#39;: &#39;https://ss3.4sqi.net/img/categories_v2/food/arepas_&#39;,\n       &#39;suffix&#39;: &#39;.png&#39;},\n      &#39;primary&#39;: True}],\n    &#39;verified&#39;: True,\n    &#39;stats&#39;: {&#39;tipCount&#39;: 0,\n     &#39;usersCount&#39;: 0,\n     &#39;checkinsCount&#39;: 0,\n     &#39;visitsCount&#39;: 0},\n    &#39;beenHere&#39;: {&#39;count&#39;: 0,\n     &#39;lastCheckinExpiredAt&#39;: 0,\n     &#39;marked&#39;: False,\n     &#39;unconfirmedCount&#39;: 0},\n    &#39;photos&#39;: {&#39;count&#39;: 0, &#39;groups&#39;: []},\n    &#39;venuePage&#39;: {&#39;id&#39;: &#39;47887543&#39;},\n    &#39;hereNow&#39;: {&#39;count&#39;: 0, &#39;summary&#39;: &#39;Nobody here&#39;, &#39;groups&#39;: []}},\n   &#39;referralId&#39;: &#39;e-3-4fc22c42e4b09ab6886996c2-38&#39;},\n  {&#39;reasons&#39;: {&#39;count&#39;: 0,\n    &#39;items&#39;: [{&#39;summary&#39;: &#39;This spot is popular&#39;,\n      &#39;type&#39;: &#39;general&#39;,\n      &#39;reasonName&#39;: &#39;globalInteractionReason&#39;}]},\n   &#39;venue&#39;: {&#39;id&#39;: &#39;4adcda3af964a520523d21e3&#39;,\n    &#39;name&#39;: &#39;Bazaar&#39;,\n    &#39;contact&#39;: {},\n    &#39;location&#39;: {&#39;address&#39;: &#39;C. Libertad, 21&#39;,\n     &#39;lat&#39;: 40.421289934462294,\n     &#39;lng&#39;: -3.697392702478642,\n     &#39;labeledLatLngs&#39;: [{&#39;label&#39;: &#39;display&#39;,\n       &#39;lat&#39;: 40.421289934462294,\n       &#39;lng&#39;: -3.697392702478642}],\n     &#39;distance&#39;: 159,\n     &#39;postalCode&#39;: &#39;28004&#39;,\n     &#39;cc&#39;: &#39;ES&#39;,\n     &#39;city&#39;: &#39;Madrid&#39;,\n     &#39;state&#39;: &#39;Madrid&#39;,\n     &#39;country&#39;: &#39;España&#39;,\n     &#39;formattedAddress&#39;: [&#39;C. Libertad, 21&#39;, &#39;28004 Madrid Madrid&#39;, &#39;España&#39;]},\n    &#39;categories&#39;: [{&#39;id&#39;: &#39;4bf58dd8d48988d1c0941735&#39;,\n      &#39;name&#39;: &#39;Mediterranean Restaurant&#39;,\n      &#39;pluralName&#39;: &#39;Mediterranean Restaurants&#39;,\n      &#39;shortName&#39;: &#39;Mediterranean&#39;,\n      &#39;icon&#39;: {&#39;prefix&#39;: &#39;https://ss3.4sqi.net/img/categories_v2/food/mediterranean_&#39;,\n       &#39;suffix&#39;: &#39;.png&#39;},\n      &#39;primary&#39;: True}],\n    &#39;verified&#39;: False,\n    &#39;stats&#39;: {&#39;tipCount&#39;: 0,\n     &#39;usersCount&#39;: 0,\n     &#39;checkinsCount&#39;: 0,\n     &#39;visitsCount&#39;: 0},\n    &#39;beenHere&#39;: {&#39;count&#39;: 0,\n     &#39;lastCheckinExpiredAt&#39;: 0,\n     &#39;marked&#39;: False,\n     &#39;unconfirmedCount&#39;: 0},\n    &#39;photos&#39;: {&#39;count&#39;: 0, &#39;groups&#39;: []},\n    &#39;hereNow&#39;: {&#39;count&#39;: 0, &#39;summary&#39;: &#39;Nobody here&#39;, &#39;groups&#39;: []}},\n   &#39;referralId&#39;: &#39;e-3-4adcda3af964a520523d21e3-39&#39;},\n  {&#39;reasons&#39;: {&#39;count&#39;: 0,\n    &#39;items&#39;: [{&#39;summary&#39;: &#39;This spot is popular&#39;,\n      &#39;type&#39;: &#39;general&#39;,\n      &#39;reasonName&#39;: &#39;globalInteractionReason&#39;}]},\n   &#39;venue&#39;: {&#39;id&#39;: &#39;4e11bb65aeb74afe60bf6969&#39;,\n    &#39;name&#39;: &#39;B&amp;B Restaurante&#39;,\n    &#39;contact&#39;: {},\n    &#39;location&#39;: {&#39;address&#39;: &#39;C/ Libertad 23&#39;,\n     &#39;lat&#39;: 40.42138395009756,\n     &#39;lng&#39;: -3.697403436783447,\n     &#39;labeledLatLngs&#39;: [{&#39;label&#39;: &#39;display&#39;,\n       &#39;lat&#39;: 40.42138395009756,\n       &#39;lng&#39;: -3.697403436783447}],\n     &#39;distance&#39;: 148,\n     &#39;postalCode&#39;: &#39;28004&#39;,\n     &#39;cc&#39;: &#39;ES&#39;,\n     &#39;city&#39;: &#39;Madrid&#39;,\n     &#39;state&#39;: &#39;Madrid&#39;,\n     &#39;country&#39;: &#39;España&#39;,\n     &#39;formattedAddress&#39;: [&#39;C/ Libertad 23&#39;, &#39;28004 Madrid Madrid&#39;, &#39;España&#39;]},\n    &#39;categories&#39;: [{&#39;id&#39;: &#39;4bf58dd8d48988d16c941735&#39;,\n      &#39;name&#39;: &#39;Burger Joint&#39;,\n      &#39;pluralName&#39;: &#39;Burger Joints&#39;,\n      &#39;shortName&#39;: &#39;Burgers&#39;,\n      &#39;icon&#39;: {&#39;prefix&#39;: &#39;https://ss3.4sqi.net/img/categories_v2/food/burger_&#39;,\n       &#39;suffix&#39;: &#39;.png&#39;},\n      &#39;primary&#39;: True}],\n    &#39;verified&#39;: False,\n    &#39;stats&#39;: {&#39;tipCount&#39;: 0,\n     &#39;usersCount&#39;: 0,\n     &#39;checkinsCount&#39;: 0,\n     &#39;visitsCount&#39;: 0},\n    &#39;beenHere&#39;: {&#39;count&#39;: 0,\n     &#39;lastCheckinExpiredAt&#39;: 0,\n     &#39;marked&#39;: False,\n     &#39;unconfirmedCount&#39;: 0},\n    &#39;photos&#39;: {&#39;count&#39;: 0, &#39;groups&#39;: []},\n    &#39;hereNow&#39;: {&#39;count&#39;: 0, &#39;summary&#39;: &#39;Nobody here&#39;, &#39;groups&#39;: []}},\n   &#39;referralId&#39;: &#39;e-3-4e11bb65aeb74afe60bf6969-40&#39;},\n  {&#39;reasons&#39;: {&#39;count&#39;: 0,\n    &#39;items&#39;: [{&#39;summary&#39;: &#39;This spot is popular&#39;,\n      &#39;type&#39;: &#39;general&#39;,\n      &#39;reasonName&#39;: &#39;globalInteractionReason&#39;}]},\n   &#39;venue&#39;: {&#39;id&#39;: &#39;519b80c2498ec92af5e14080&#39;,\n    &#39;name&#39;: &#39;Cocinadeldesierto&#39;,\n    &#39;contact&#39;: {},\n    &#39;location&#39;: {&#39;lat&#39;: 40.421026142572885,\n     &#39;lng&#39;: -3.697432464744532,\n     &#39;labeledLatLngs&#39;: [{&#39;label&#39;: &#39;display&#39;,\n       &#39;lat&#39;: 40.421026142572885,\n       &#39;lng&#39;: -3.697432464744532}],\n     &#39;distance&#39;: 188,\n     &#39;cc&#39;: &#39;ES&#39;,\n     &#39;country&#39;: &#39;España&#39;,\n     &#39;formattedAddress&#39;: [&#39;España&#39;]},\n    &#39;categories&#39;: [{&#39;id&#39;: &#39;4bf58dd8d48988d1c4941735&#39;,\n      &#39;name&#39;: &#39;Restaurant&#39;,\n      &#39;pluralName&#39;: &#39;Restaurants&#39;,\n      &#39;shortName&#39;: &#39;Restaurant&#39;,\n      &#39;icon&#39;: {&#39;prefix&#39;: &#39;https://ss3.4sqi.net/img/categories_v2/food/default_&#39;,\n       &#39;suffix&#39;: &#39;.png&#39;},\n      &#39;primary&#39;: True}],\n    &#39;verified&#39;: False,\n    &#39;stats&#39;: {&#39;tipCount&#39;: 0,\n     &#39;usersCount&#39;: 0,\n     &#39;checkinsCount&#39;: 0,\n     &#39;visitsCount&#39;: 0},\n    &#39;beenHere&#39;: {&#39;count&#39;: 0,\n     &#39;lastCheckinExpiredAt&#39;: 0,\n     &#39;marked&#39;: False,\n     &#39;unconfirmedCount&#39;: 0},\n    &#39;photos&#39;: {&#39;count&#39;: 0, &#39;groups&#39;: []},\n    &#39;hereNow&#39;: {&#39;count&#39;: 0, &#39;summary&#39;: &#39;Nobody here&#39;, &#39;groups&#39;: []}},\n   &#39;referralId&#39;: &#39;e-3-519b80c2498ec92af5e14080-41&#39;},\n  {&#39;reasons&#39;: {&#39;count&#39;: 0,\n    &#39;items&#39;: [{&#39;summary&#39;: &#39;This spot is popular&#39;,\n      &#39;type&#39;: &#39;general&#39;,\n      &#39;reasonName&#39;: &#39;globalInteractionReason&#39;}]},\n   &#39;venue&#39;: {&#39;id&#39;: &#39;54ff6eb3498e5b0e025a632f&#39;,\n    &#39;name&#39;: &#39;Restaurante Vietnam24&#39;,\n    &#39;contact&#39;: {},\n    &#39;location&#39;: {&#39;address&#39;: &#39;Calle de San Marcos 24&#39;,\n     &#39;lat&#39;: 40.42134100000001,\n     &#39;lng&#39;: -3.698427999999999,\n     &#39;labeledLatLngs&#39;: [{&#39;label&#39;: &#39;display&#39;,\n       &#39;lat&#39;: 40.42134100000001,\n       &#39;lng&#39;: -3.698427999999999}],\n     &#39;distance&#39;: 167,\n     &#39;postalCode&#39;: &#39;28004&#39;,\n     &#39;cc&#39;: &#39;ES&#39;,\n     &#39;city&#39;: &#39;Madrid&#39;,\n     &#39;state&#39;: &#39;Madrid&#39;,\n     &#39;country&#39;: &#39;España&#39;,\n     &#39;formattedAddress&#39;: [&#39;Calle de San Marcos 24&#39;,\n      &#39;28004 Madrid Madrid&#39;,\n      &#39;España&#39;]},\n    &#39;categories&#39;: [{&#39;id&#39;: &#39;4bf58dd8d48988d14a941735&#39;,\n      &#39;name&#39;: &#39;Vietnamese Restaurant&#39;,\n      &#39;pluralName&#39;: &#39;Vietnamese Restaurants&#39;,\n      &#39;shortName&#39;: &#39;Vietnamese&#39;,\n      &#39;icon&#39;: {&#39;prefix&#39;: &#39;https://ss3.4sqi.net/img/categories_v2/food/vietnamese_&#39;,\n       &#39;suffix&#39;: &#39;.png&#39;},\n      &#39;primary&#39;: True}],\n    &#39;verified&#39;: True,\n    &#39;stats&#39;: {&#39;tipCount&#39;: 0,\n     &#39;usersCount&#39;: 0,\n     &#39;checkinsCount&#39;: 0,\n     &#39;visitsCount&#39;: 0},\n    &#39;beenHere&#39;: {&#39;count&#39;: 0,\n     &#39;lastCheckinExpiredAt&#39;: 0,\n     &#39;marked&#39;: False,\n     &#39;unconfirmedCount&#39;: 0},\n    &#39;photos&#39;: {&#39;count&#39;: 0, &#39;groups&#39;: []},\n    &#39;venuePage&#39;: {&#39;id&#39;: &#39;553047231&#39;},\n    &#39;hereNow&#39;: {&#39;count&#39;: 0, &#39;summary&#39;: &#39;Nobody here&#39;, &#39;groups&#39;: []}},\n   &#39;referralId&#39;: &#39;e-3-54ff6eb3498e5b0e025a632f-42&#39;},\n  {&#39;reasons&#39;: {&#39;count&#39;: 0,\n    &#39;items&#39;: [{&#39;summary&#39;: &#39;This spot is popular&#39;,\n      &#39;type&#39;: &#39;general&#39;,\n      &#39;reasonName&#39;: &#39;globalInteractionReason&#39;}]},\n   &#39;venue&#39;: {&#39;id&#39;: &#39;5517152f498eba3fc8b760f4&#39;,\n    &#39;name&#39;: &#39;tuk tuk&#39;,\n    &#39;contact&#39;: {},\n    &#39;location&#39;: {&#39;address&#39;: &#39;C. Barquillo, 24&#39;,\n     &#39;lat&#39;: 40.42255008627129,\n     &#39;lng&#39;: -3.6956102723972575,\n     &#39;labeledLatLngs&#39;: [{&#39;label&#39;: &#39;display&#39;,\n       &#39;lat&#39;: 40.42255008627129,\n       &#39;lng&#39;: -3.6956102723972575}],\n     &#39;distance&#39;: 170,\n     &#39;postalCode&#39;: &#39;28004&#39;,\n     &#39;cc&#39;: &#39;ES&#39;,\n     &#39;city&#39;: &#39;Madrid&#39;,\n     &#39;state&#39;: &#39;Madrid&#39;,\n     &#39;country&#39;: &#39;España&#39;,\n     &#39;formattedAddress&#39;: [&#39;C. Barquillo, 24&#39;,\n      &#39;28004 Madrid Madrid&#39;,\n      &#39;España&#39;]},\n    &#39;categories&#39;: [{&#39;id&#39;: &#39;4bf58dd8d48988d142941735&#39;,\n      &#39;name&#39;: &#39;Asian Restaurant&#39;,\n      &#39;pluralName&#39;: &#39;Asian Restaurants&#39;,\n      &#39;shortName&#39;: &#39;Asian&#39;,\n      &#39;icon&#39;: {&#39;prefix&#39;: &#39;https://ss3.4sqi.net/img/categories_v2/food/asian_&#39;,\n       &#39;suffix&#39;: &#39;.png&#39;},\n      &#39;primary&#39;: True}],\n    &#39;verified&#39;: False,\n    &#39;stats&#39;: {&#39;tipCount&#39;: 0,\n     &#39;usersCount&#39;: 0,\n     &#39;checkinsCount&#39;: 0,\n     &#39;visitsCount&#39;: 0},\n    &#39;beenHere&#39;: {&#39;count&#39;: 0,\n     &#39;lastCheckinExpiredAt&#39;: 0,\n     &#39;marked&#39;: False,\n     &#39;unconfirmedCount&#39;: 0},\n    &#39;photos&#39;: {&#39;count&#39;: 0, &#39;groups&#39;: []},\n    &#39;hereNow&#39;: {&#39;count&#39;: 0, &#39;summary&#39;: &#39;Nobody here&#39;, &#39;groups&#39;: []}},\n   &#39;referralId&#39;: &#39;e-3-5517152f498eba3fc8b760f4-43&#39;},\n  {&#39;reasons&#39;: {&#39;count&#39;: 0,\n    &#39;items&#39;: [{&#39;summary&#39;: &#39;This spot is popular&#39;,\n      &#39;type&#39;: &#39;general&#39;,\n      &#39;reasonName&#39;: &#39;globalInteractionReason&#39;}]},\n   &#39;venue&#39;: {&#39;id&#39;: &#39;4da623936a23f2e80501b9dc&#39;,\n    &#39;name&#39;: &#39;Taberna El Buo&#39;,\n    &#39;contact&#39;: {},\n    &#39;location&#39;: {&#39;address&#39;: &#39;C. Gravina, 4&#39;,\n     &#39;crossStreet&#39;: &#39;C. Pelayo&#39;,\n     &#39;lat&#39;: 40.423217770388675,\n     &#39;lng&#39;: -3.6981833739403243,\n     &#39;labeledLatLngs&#39;: [{&#39;label&#39;: &#39;display&#39;,\n       &#39;lat&#39;: 40.423217770388675,\n       &#39;lng&#39;: -3.6981833739403243}],\n     &#39;distance&#39;: 74,\n     &#39;postalCode&#39;: &#39;28004&#39;,\n     &#39;cc&#39;: &#39;ES&#39;,\n     &#39;city&#39;: &#39;Madrid&#39;,\n     &#39;state&#39;: &#39;Madrid&#39;,\n     &#39;country&#39;: &#39;España&#39;,\n     &#39;formattedAddress&#39;: [&#39;C. Gravina, 4 (C. Pelayo)&#39;,\n      &#39;28004 Madrid Madrid&#39;,\n      &#39;España&#39;]},\n    &#39;categories&#39;: [{&#39;id&#39;: &#39;4bf58dd8d48988d1db931735&#39;,\n      &#39;name&#39;: &#39;Tapas Restaurant&#39;,\n      &#39;pluralName&#39;: &#39;Tapas Restaurants&#39;,\n      &#39;shortName&#39;: &#39;Tapas&#39;,\n      &#39;icon&#39;: {&#39;prefix&#39;: &#39;https://ss3.4sqi.net/img/categories_v2/food/tapas_&#39;,\n       &#39;suffix&#39;: &#39;.png&#39;},\n      &#39;primary&#39;: True}],\n    &#39;verified&#39;: False,\n    &#39;stats&#39;: {&#39;tipCount&#39;: 0,\n     &#39;usersCount&#39;: 0,\n     &#39;checkinsCount&#39;: 0,\n     &#39;visitsCount&#39;: 0},\n    &#39;beenHere&#39;: {&#39;count&#39;: 0,\n     &#39;lastCheckinExpiredAt&#39;: 0,\n     &#39;marked&#39;: False,\n     &#39;unconfirmedCount&#39;: 0},\n    &#39;photos&#39;: {&#39;count&#39;: 0, &#39;groups&#39;: []},\n    &#39;hereNow&#39;: {&#39;count&#39;: 0, &#39;summary&#39;: &#39;Nobody here&#39;, &#39;groups&#39;: []}},\n   &#39;referralId&#39;: &#39;e-3-4da623936a23f2e80501b9dc-44&#39;},\n  {&#39;reasons&#39;: {&#39;count&#39;: 0,\n    &#39;items&#39;: [{&#39;summary&#39;: &#39;This spot is popular&#39;,\n      &#39;type&#39;: &#39;general&#39;,\n      &#39;reasonName&#39;: &#39;globalInteractionReason&#39;}]},\n   &#39;venue&#39;: {&#39;id&#39;: &#39;4b75e1eff964a520e02b2ee3&#39;,\n    &#39;name&#39;: &#39;Restaurante Arce&#39;,\n    &#39;contact&#39;: {},\n    &#39;location&#39;: {&#39;address&#39;: &#39;C. Augusto Figueroa, 32&#39;,\n     &#39;lat&#39;: 40.42207258933475,\n     &#39;lng&#39;: -3.6967412061319482,\n     &#39;labeledLatLngs&#39;: [{&#39;label&#39;: &#39;display&#39;,\n       &#39;lat&#39;: 40.42207258933475,\n       &#39;lng&#39;: -3.6967412061319482}],\n     &#39;distance&#39;: 102,\n     &#39;postalCode&#39;: &#39;28004&#39;,\n     &#39;cc&#39;: &#39;ES&#39;,\n     &#39;city&#39;: &#39;Madrid&#39;,\n     &#39;state&#39;: &#39;Madrid&#39;,\n     &#39;country&#39;: &#39;España&#39;,\n     &#39;formattedAddress&#39;: [&#39;C. Augusto Figueroa, 32&#39;,\n      &#39;28004 Madrid Madrid&#39;,\n      &#39;España&#39;]},\n    &#39;categories&#39;: [{&#39;id&#39;: &#39;4bf58dd8d48988d150941735&#39;,\n      &#39;name&#39;: &#39;Spanish Restaurant&#39;,\n      &#39;pluralName&#39;: &#39;Spanish Restaurants&#39;,\n      &#39;shortName&#39;: &#39;Spanish&#39;,\n      &#39;icon&#39;: {&#39;prefix&#39;: &#39;https://ss3.4sqi.net/img/categories_v2/food/spanish_&#39;,\n       &#39;suffix&#39;: &#39;.png&#39;},\n      &#39;primary&#39;: True}],\n    &#39;verified&#39;: False,\n    &#39;stats&#39;: {&#39;tipCount&#39;: 0,\n     &#39;usersCount&#39;: 0,\n     &#39;checkinsCount&#39;: 0,\n     &#39;visitsCount&#39;: 0},\n    &#39;beenHere&#39;: {&#39;count&#39;: 0,\n     &#39;lastCheckinExpiredAt&#39;: 0,\n     &#39;marked&#39;: False,\n     &#39;unconfirmedCount&#39;: 0},\n    &#39;photos&#39;: {&#39;count&#39;: 0, &#39;groups&#39;: []},\n    &#39;hereNow&#39;: {&#39;count&#39;: 0, &#39;summary&#39;: &#39;Nobody here&#39;, &#39;groups&#39;: []}},\n   &#39;referralId&#39;: &#39;e-3-4b75e1eff964a520e02b2ee3-45&#39;},\n  {&#39;reasons&#39;: {&#39;count&#39;: 0,\n    &#39;items&#39;: [{&#39;summary&#39;: &#39;This spot is popular&#39;,\n      &#39;type&#39;: &#39;general&#39;,\n      &#39;reasonName&#39;: &#39;globalInteractionReason&#39;}]},\n   &#39;venue&#39;: {&#39;id&#39;: &#39;4b82aafcf964a5206add30e3&#39;,\n    &#39;name&#39;: &#39;Diurno Restaurant &amp; Bar&#39;,\n    &#39;contact&#39;: {},\n    &#39;location&#39;: {&#39;address&#39;: &#39;C. San Marcos, 37&#39;,\n     &#39;crossStreet&#39;: &#39;C. Libertad&#39;,\n     &#39;lat&#39;: 40.421299901405845,\n     &#39;lng&#39;: -3.6973373782873447,\n     &#39;labeledLatLngs&#39;: [{&#39;label&#39;: &#39;display&#39;,\n       &#39;lat&#39;: 40.421299901405845,\n       &#39;lng&#39;: -3.6973373782873447}],\n     &#39;distance&#39;: 158,\n     &#39;postalCode&#39;: &#39;28004&#39;,\n     &#39;cc&#39;: &#39;ES&#39;,\n     &#39;city&#39;: &#39;Madrid&#39;,\n     &#39;state&#39;: &#39;Madrid&#39;,\n     &#39;country&#39;: &#39;España&#39;,\n     &#39;formattedAddress&#39;: [&#39;C. San Marcos, 37 (C. Libertad)&#39;,\n      &#39;28004 Madrid Madrid&#39;,\n      &#39;España&#39;]},\n    &#39;categories&#39;: [{&#39;id&#39;: &#39;4bf58dd8d48988d1c0941735&#39;,\n      &#39;name&#39;: &#39;Mediterranean Restaurant&#39;,\n      &#39;pluralName&#39;: &#39;Mediterranean Restaurants&#39;,\n      &#39;shortName&#39;: &#39;Mediterranean&#39;,\n      &#39;icon&#39;: {&#39;prefix&#39;: &#39;https://ss3.4sqi.net/img/categories_v2/food/mediterranean_&#39;,\n       &#39;suffix&#39;: &#39;.png&#39;},\n      &#39;primary&#39;: True}],\n    &#39;verified&#39;: True,\n    &#39;stats&#39;: {&#39;tipCount&#39;: 0,\n     &#39;usersCount&#39;: 0,\n     &#39;checkinsCount&#39;: 0,\n     &#39;visitsCount&#39;: 0},\n    &#39;beenHere&#39;: {&#39;count&#39;: 0,\n     &#39;lastCheckinExpiredAt&#39;: 0,\n     &#39;marked&#39;: False,\n     &#39;unconfirmedCount&#39;: 0},\n    &#39;photos&#39;: {&#39;count&#39;: 0, &#39;groups&#39;: []},\n    &#39;venuePage&#39;: {&#39;id&#39;: &#39;76245254&#39;},\n    &#39;hereNow&#39;: {&#39;count&#39;: 0, &#39;summary&#39;: &#39;Nobody here&#39;, &#39;groups&#39;: []}},\n   &#39;referralId&#39;: &#39;e-3-4b82aafcf964a5206add30e3-46&#39;},\n  {&#39;reasons&#39;: {&#39;count&#39;: 0,\n    &#39;items&#39;: [{&#39;summary&#39;: &#39;This spot is popular&#39;,\n      &#39;type&#39;: &#39;general&#39;,\n      &#39;reasonName&#39;: &#39;globalInteractionReason&#39;}]},\n   &#39;venue&#39;: {&#39;id&#39;: &#39;538c87ed498e5e2ed88ad97b&#39;,\n    &#39;name&#39;: &#39;TE CATO&#39;,\n    &#39;contact&#39;: {},\n    &#39;location&#39;: {&#39;address&#39;: &#39;Gravina 12&#39;,\n     &#39;lat&#39;: 40.422849,\n     &#39;lng&#39;: -3.697099,\n     &#39;labeledLatLngs&#39;: [{&#39;label&#39;: &#39;display&#39;,\n       &#39;lat&#39;: 40.422849,\n       &#39;lng&#39;: -3.697099}],\n     &#39;distance&#39;: 45,\n     &#39;postalCode&#39;: &#39;28004&#39;,\n     &#39;cc&#39;: &#39;ES&#39;,\n     &#39;city&#39;: &#39;Madrid&#39;,\n     &#39;state&#39;: &#39;Madrid&#39;,\n     &#39;country&#39;: &#39;España&#39;,\n     &#39;formattedAddress&#39;: [&#39;Gravina 12&#39;, &#39;28004 Madrid Madrid&#39;, &#39;España&#39;]},\n    &#39;categories&#39;: [{&#39;id&#39;: &#39;4bf58dd8d48988d16d941735&#39;,\n      &#39;name&#39;: &#39;Café&#39;,\n      &#39;pluralName&#39;: &#39;Cafés&#39;,\n      &#39;shortName&#39;: &#39;Café&#39;,\n      &#39;icon&#39;: {&#39;prefix&#39;: &#39;https://ss3.4sqi.net/img/categories_v2/food/cafe_&#39;,\n       &#39;suffix&#39;: &#39;.png&#39;},\n      &#39;primary&#39;: True}],\n    &#39;verified&#39;: False,\n    &#39;stats&#39;: {&#39;tipCount&#39;: 0,\n     &#39;usersCount&#39;: 0,\n     &#39;checkinsCount&#39;: 0,\n     &#39;visitsCount&#39;: 0},\n    &#39;beenHere&#39;: {&#39;count&#39;: 0,\n     &#39;lastCheckinExpiredAt&#39;: 0,\n     &#39;marked&#39;: False,\n     &#39;unconfirmedCount&#39;: 0},\n    &#39;photos&#39;: {&#39;count&#39;: 0, &#39;groups&#39;: []},\n    &#39;hereNow&#39;: {&#39;count&#39;: 0, &#39;summary&#39;: &#39;Nobody here&#39;, &#39;groups&#39;: []}},\n   &#39;referralId&#39;: &#39;e-3-538c87ed498e5e2ed88ad97b-47&#39;},\n  {&#39;reasons&#39;: {&#39;count&#39;: 0,\n    &#39;items&#39;: [{&#39;summary&#39;: &#39;This spot is popular&#39;,\n      &#39;type&#39;: &#39;general&#39;,\n      &#39;reasonName&#39;: &#39;globalInteractionReason&#39;}]},\n   &#39;venue&#39;: {&#39;id&#39;: &#39;4e61fdbda80951b3184c3896&#39;,\n    &#39;name&#39;: &#39;Bagatella&#39;,\n    &#39;contact&#39;: {},\n    &#39;location&#39;: {&#39;address&#39;: &#39;C. Pelayo, 60&#39;,\n     &#39;lat&#39;: 40.42418217330663,\n     &#39;lng&#39;: -3.6974761592418637,\n     &#39;labeledLatLngs&#39;: [{&#39;label&#39;: &#39;display&#39;,\n       &#39;lat&#39;: 40.42418217330663,\n       &#39;lng&#39;: -3.6974761592418637}],\n     &#39;distance&#39;: 163,\n     &#39;postalCode&#39;: &#39;28004&#39;,\n     &#39;cc&#39;: &#39;ES&#39;,\n     &#39;city&#39;: &#39;Madrid&#39;,\n     &#39;state&#39;: &#39;Madrid&#39;,\n     &#39;country&#39;: &#39;España&#39;,\n     &#39;formattedAddress&#39;: [&#39;C. Pelayo, 60&#39;, &#39;28004 Madrid Madrid&#39;, &#39;España&#39;]},\n    &#39;categories&#39;: [{&#39;id&#39;: &#39;4bf58dd8d48988d150941735&#39;,\n      &#39;name&#39;: &#39;Spanish Restaurant&#39;,\n      &#39;pluralName&#39;: &#39;Spanish Restaurants&#39;,\n      &#39;shortName&#39;: &#39;Spanish&#39;,\n      &#39;icon&#39;: {&#39;prefix&#39;: &#39;https://ss3.4sqi.net/img/categories_v2/food/spanish_&#39;,\n       &#39;suffix&#39;: &#39;.png&#39;},\n      &#39;primary&#39;: True}],\n    &#39;verified&#39;: False,\n    &#39;stats&#39;: {&#39;tipCount&#39;: 0,\n     &#39;usersCount&#39;: 0,\n     &#39;checkinsCount&#39;: 0,\n     &#39;visitsCount&#39;: 0},\n    &#39;beenHere&#39;: {&#39;count&#39;: 0,\n     &#39;lastCheckinExpiredAt&#39;: 0,\n     &#39;marked&#39;: False,\n     &#39;unconfirmedCount&#39;: 0},\n    &#39;photos&#39;: {&#39;count&#39;: 0, &#39;groups&#39;: []},\n    &#39;hereNow&#39;: {&#39;count&#39;: 0, &#39;summary&#39;: &#39;Nobody here&#39;, &#39;groups&#39;: []}},\n   &#39;referralId&#39;: &#39;e-3-4e61fdbda80951b3184c3896-48&#39;},\n  {&#39;reasons&#39;: {&#39;count&#39;: 0,\n    &#39;items&#39;: [{&#39;summary&#39;: &#39;This spot is popular&#39;,\n      &#39;type&#39;: &#39;general&#39;,\n      &#39;reasonName&#39;: &#39;globalInteractionReason&#39;}]},\n   &#39;venue&#39;: {&#39;id&#39;: &#39;4dd796e18877f1150fecd530&#39;,\n    &#39;name&#39;: &#39;Hamburguesa Nostra&#39;,\n    &#39;contact&#39;: {},\n    &#39;location&#39;: {&#39;address&#39;: &#39;Mercado de San Antón&#39;,\n     &#39;lat&#39;: 40.422026687490394,\n     &#39;lng&#39;: -3.697647396217567,\n     &#39;labeledLatLngs&#39;: [{&#39;label&#39;: &#39;display&#39;,\n       &#39;lat&#39;: 40.422026687490394,\n       &#39;lng&#39;: -3.697647396217567}],\n     &#39;distance&#39;: 76,\n     &#39;postalCode&#39;: &#39;28004&#39;,\n     &#39;cc&#39;: &#39;ES&#39;,\n     &#39;city&#39;: &#39;Madrid&#39;,\n     &#39;state&#39;: &#39;Madrid&#39;,\n     &#39;country&#39;: &#39;España&#39;,\n     &#39;formattedAddress&#39;: [&#39;Mercado de San Antón&#39;,\n      &#39;28004 Madrid Madrid&#39;,\n      &#39;España&#39;]},\n    &#39;categories&#39;: [{&#39;id&#39;: &#39;4bf58dd8d48988d16c941735&#39;,\n      &#39;name&#39;: &#39;Burger Joint&#39;,\n      &#39;pluralName&#39;: &#39;Burger Joints&#39;,\n      &#39;shortName&#39;: &#39;Burgers&#39;,\n      &#39;icon&#39;: {&#39;prefix&#39;: &#39;https://ss3.4sqi.net/img/categories_v2/food/burger_&#39;,\n       &#39;suffix&#39;: &#39;.png&#39;},\n      &#39;primary&#39;: True}],\n    &#39;verified&#39;: True,\n    &#39;stats&#39;: {&#39;tipCount&#39;: 0,\n     &#39;usersCount&#39;: 0,\n     &#39;checkinsCount&#39;: 0,\n     &#39;visitsCount&#39;: 0},\n    &#39;beenHere&#39;: {&#39;count&#39;: 0,\n     &#39;lastCheckinExpiredAt&#39;: 0,\n     &#39;marked&#39;: False,\n     &#39;unconfirmedCount&#39;: 0},\n    &#39;photos&#39;: {&#39;count&#39;: 0, &#39;groups&#39;: []},\n    &#39;hereNow&#39;: {&#39;count&#39;: 0, &#39;summary&#39;: &#39;Nobody here&#39;, &#39;groups&#39;: []}},\n   &#39;referralId&#39;: &#39;e-3-4dd796e18877f1150fecd530-49&#39;},\n  {&#39;reasons&#39;: {&#39;count&#39;: 0,\n    &#39;items&#39;: [{&#39;summary&#39;: &#39;This spot is popular&#39;,\n      &#39;type&#39;: &#39;general&#39;,\n      &#39;reasonName&#39;: &#39;globalInteractionReason&#39;}]},\n   &#39;venue&#39;: {&#39;id&#39;: &#39;51d484c3498e003d2f954108&#39;,\n    &#39;name&#39;: &#39;La Trastienda&#39;,\n    &#39;contact&#39;: {},\n    &#39;location&#39;: {&#39;address&#39;: &#39;C. Augusto Figueroa, 24&#39;,\n     &#39;lat&#39;: 40.421973,\n     &#39;lng&#39;: -3.697602,\n     &#39;labeledLatLngs&#39;: [{&#39;label&#39;: &#39;display&#39;,\n       &#39;lat&#39;: 40.421973,\n       &#39;lng&#39;: -3.697602}],\n     &#39;distance&#39;: 82,\n     &#39;cc&#39;: &#39;ES&#39;,\n     &#39;city&#39;: &#39;Madrid&#39;,\n     &#39;state&#39;: &#39;Madrid&#39;,\n     &#39;country&#39;: &#39;España&#39;,\n     &#39;formattedAddress&#39;: [&#39;C. Augusto Figueroa, 24&#39;,\n      &#39;Madrid Madrid&#39;,\n      &#39;España&#39;]},\n    &#39;categories&#39;: [{&#39;id&#39;: &#39;4bf58dd8d48988d1db931735&#39;,\n      &#39;name&#39;: &#39;Tapas Restaurant&#39;,\n      &#39;pluralName&#39;: &#39;Tapas Restaurants&#39;,\n      &#39;shortName&#39;: &#39;Tapas&#39;,\n      &#39;icon&#39;: {&#39;prefix&#39;: &#39;https://ss3.4sqi.net/img/categories_v2/food/tapas_&#39;,\n       &#39;suffix&#39;: &#39;.png&#39;},\n      &#39;primary&#39;: True}],\n    &#39;verified&#39;: False,\n    &#39;stats&#39;: {&#39;tipCount&#39;: 0,\n     &#39;usersCount&#39;: 0,\n     &#39;checkinsCount&#39;: 0,\n     &#39;visitsCount&#39;: 0},\n    &#39;beenHere&#39;: {&#39;count&#39;: 0,\n     &#39;lastCheckinExpiredAt&#39;: 0,\n     &#39;marked&#39;: False,\n     &#39;unconfirmedCount&#39;: 0},\n    &#39;photos&#39;: {&#39;count&#39;: 0, &#39;groups&#39;: []},\n    &#39;hereNow&#39;: {&#39;count&#39;: 0, &#39;summary&#39;: &#39;Nobody here&#39;, &#39;groups&#39;: []}},\n   &#39;referralId&#39;: &#39;e-3-51d484c3498e003d2f954108-50&#39;}]}"
     },
     "metadata": {},
     "execution_count": 17
    }
   ],
   "source": [
    "data[\"response\"]['groups'][0]"
   ]
  },
  {
   "cell_type": "code",
   "execution_count": 18,
   "metadata": {},
   "outputs": [
    {
     "output_type": "execute_result",
     "data": {
      "text/plain": "dict_keys([&#39;type&#39;, &#39;name&#39;, &#39;items&#39;])"
     },
     "metadata": {},
     "execution_count": 18
    }
   ],
   "source": [
    "data[\"response\"]['groups'][0].keys()"
   ]
  },
  {
   "cell_type": "code",
   "execution_count": 19,
   "metadata": {},
   "outputs": [
    {
     "output_type": "execute_result",
     "data": {
      "text/plain": "actionReason&#39;}]},\n  &#39;venue&#39;: {&#39;id&#39;: &#39;4b55a8d4f964a520c5ea27e3&#39;,\n   &#39;name&#39;: &#39;Tepic&#39;,\n   &#39;contact&#39;: {},\n   &#39;location&#39;: {&#39;address&#39;: &#39;C. Pelayo, 4&#39;,\n    &#39;lat&#39;: 40.421905539105566,\n    &#39;lng&#39;: -3.699123067670385,\n    &#39;labeledLatLngs&#39;: [{&#39;label&#39;: &#39;display&#39;,\n      &#39;lat&#39;: 40.421905539105566,\n      &#39;lng&#39;: -3.699123067670385}],\n    &#39;distance&#39;: 156,\n    &#39;cc&#39;: &#39;ES&#39;,\n    &#39;city&#39;: &#39;Madrid&#39;,\n    &#39;state&#39;: &#39;Madrid&#39;,\n    &#39;country&#39;: &#39;España&#39;,\n    &#39;formattedAddress&#39;: [&#39;C. Pelayo, 4&#39;, &#39;Madrid Madrid&#39;, &#39;España&#39;]},\n   &#39;categories&#39;: [{&#39;id&#39;: &#39;4bf58dd8d48988d1c1941735&#39;,\n     &#39;name&#39;: &#39;Mexican Restaurant&#39;,\n     &#39;pluralName&#39;: &#39;Mexican Restaurants&#39;,\n     &#39;shortName&#39;: &#39;Mexican&#39;,\n     &#39;icon&#39;: {&#39;prefix&#39;: &#39;https://ss3.4sqi.net/img/categories_v2/food/mexican_&#39;,\n      &#39;suffix&#39;: &#39;.png&#39;},\n     &#39;primary&#39;: True}],\n   &#39;verified&#39;: False,\n   &#39;stats&#39;: {&#39;tipCount&#39;: 0,\n    &#39;usersCount&#39;: 0,\n    &#39;checkinsCount&#39;: 0,\n    &#39;visitsCount&#39;: 0},\n   &#39;beenHere&#39;: {&#39;count&#39;: 0,\n    &#39;lastCheckinExpiredAt&#39;: 0,\n    &#39;marked&#39;: False,\n    &#39;unconfirmedCount&#39;: 0},\n   &#39;photos&#39;: {&#39;count&#39;: 0, &#39;groups&#39;: []},\n   &#39;hereNow&#39;: {&#39;count&#39;: 0, &#39;summary&#39;: &#39;Nobody here&#39;, &#39;groups&#39;: []}},\n  &#39;referralId&#39;: &#39;e-3-4b55a8d4f964a520c5ea27e3-36&#39;},\n {&#39;reasons&#39;: {&#39;count&#39;: 0,\n   &#39;items&#39;: [{&#39;summary&#39;: &#39;This spot is popular&#39;,\n     &#39;type&#39;: &#39;general&#39;,\n     &#39;reasonName&#39;: &#39;globalInteractionReason&#39;}]},\n  &#39;venue&#39;: {&#39;id&#39;: &#39;5532b7a9498e944a9f268b2e&#39;,\n   &#39;name&#39;: &#39;Gioia Restaurante&#39;,\n   &#39;contact&#39;: {},\n   &#39;location&#39;: {&#39;address&#39;: &#39;San Bartolomé 23&#39;,\n    &#39;lat&#39;: 40.422075,\n    &#39;lng&#39;: -3.69859,\n    &#39;labeledLatLngs&#39;: [{&#39;label&#39;: &#39;display&#39;,\n      &#39;lat&#39;: 40.422075,\n      &#39;lng&#39;: -3.69859}],\n    &#39;distance&#39;: 109,\n    &#39;cc&#39;: &#39;ES&#39;,\n    &#39;city&#39;: &#39;Madrid&#39;,\n    &#39;state&#39;: &#39;Madrid&#39;,\n    &#39;country&#39;: &#39;España&#39;,\n    &#39;formattedAddress&#39;: [&#39;San Bartolomé 23&#39;, &#39;Madrid Madrid&#39;, &#39;España&#39;]},\n   &#39;categories&#39;: [{&#39;id&#39;: &#39;4bf58dd8d48988d110941735&#39;,\n     &#39;name&#39;: &#39;Italian Restaurant&#39;,\n     &#39;pluralName&#39;: &#39;Italian Restaurants&#39;,\n     &#39;shortName&#39;: &#39;Italian&#39;,\n     &#39;icon&#39;: {&#39;prefix&#39;: &#39;https://ss3.4sqi.net/img/categories_v2/food/italian_&#39;,\n      &#39;suffix&#39;: &#39;.png&#39;},\n     &#39;primary&#39;: True}],\n   &#39;verified&#39;: False,\n   &#39;stats&#39;: {&#39;tipCount&#39;: 0,\n    &#39;usersCount&#39;: 0,\n    &#39;checkinsCount&#39;: 0,\n    &#39;visitsCount&#39;: 0},\n   &#39;beenHere&#39;: {&#39;count&#39;: 0,\n    &#39;lastCheckinExpiredAt&#39;: 0,\n    &#39;marked&#39;: False,\n    &#39;unconfirmedCount&#39;: 0},\n   &#39;photos&#39;: {&#39;count&#39;: 0, &#39;groups&#39;: []},\n   &#39;hereNow&#39;: {&#39;count&#39;: 0, &#39;summary&#39;: &#39;Nobody here&#39;, &#39;groups&#39;: []}},\n  &#39;referralId&#39;: &#39;e-3-5532b7a9498e944a9f268b2e-37&#39;},\n {&#39;reasons&#39;: {&#39;count&#39;: 0,\n   &#39;items&#39;: [{&#39;summary&#39;: &#39;This spot is popular&#39;,\n     &#39;type&#39;: &#39;general&#39;,\n     &#39;reasonName&#39;: &#39;globalInteractionReason&#39;}]},\n  &#39;venue&#39;: {&#39;id&#39;: &#39;4fc22c42e4b09ab6886996c2&#39;,\n   &#39;name&#39;: &#39;Arepa Olé &quot;Chueca&quot;&#39;,\n   &#39;contact&#39;: {},\n   &#39;location&#39;: {&#39;address&#39;: &#39;C. Pelayo, 2&#39;,\n    &#39;lat&#39;: 40.42178698102328,\n    &#39;lng&#39;: -3.6992083295172167,\n    &#39;labeledLatLngs&#39;: [{&#39;label&#39;: &#39;display&#39;,\n      &#39;lat&#39;: 40.42178698102328,\n      &#39;lng&#39;: -3.6992083295172167}],\n    &#39;distance&#39;: 170,\n    &#39;postalCode&#39;: &#39;28004&#39;,\n    &#39;cc&#39;: &#39;ES&#39;,\n    &#39;city&#39;: &#39;Madrid&#39;,\n    &#39;state&#39;: &#39;Madrid&#39;,\n    &#39;country&#39;: &#39;España&#39;,\n    &#39;formattedAddress&#39;: [&#39;C. Pelayo, 2&#39;, &#39;28004 Madrid Madrid&#39;, &#39;España&#39;]},\n   &#39;categories&#39;: [{&#39;id&#39;: &#39;4bf58dd8d48988d152941735&#39;,\n     &#39;name&#39;: &#39;Arepa Restaurant&#39;,\n     &#39;pluralName&#39;: &#39;Arepa Restaurants&#39;,\n     &#39;shortName&#39;: &#39;Arepas&#39;,\n     &#39;icon&#39;: {&#39;prefix&#39;: &#39;https://ss3.4sqi.net/img/categories_v2/food/arepas_&#39;,\n      &#39;suffix&#39;: &#39;.png&#39;},\n     &#39;primary&#39;: True}],\n   &#39;verified&#39;: True,\n   &#39;stats&#39;: {&#39;tipCount&#39;: 0,\n    &#39;usersCount&#39;: 0,\n    &#39;checkinsCount&#39;: 0,\n    &#39;visitsCount&#39;: 0},\n   &#39;beenHere&#39;: {&#39;count&#39;: 0,\n    &#39;lastCheckinExpiredAt&#39;: 0,\n    &#39;marked&#39;: False,\n    &#39;unconfirmedCount&#39;: 0},\n   &#39;photos&#39;: {&#39;count&#39;: 0, &#39;groups&#39;: []},\n   &#39;venuePage&#39;: {&#39;id&#39;: &#39;47887543&#39;},\n   &#39;hereNow&#39;: {&#39;count&#39;: 0, &#39;summary&#39;: &#39;Nobody here&#39;, &#39;groups&#39;: []}},\n  &#39;referralId&#39;: &#39;e-3-4fc22c42e4b09ab6886996c2-38&#39;},\n {&#39;reasons&#39;: {&#39;count&#39;: 0,\n   &#39;items&#39;: [{&#39;summary&#39;: &#39;This spot is popular&#39;,\n     &#39;type&#39;: &#39;general&#39;,\n     &#39;reasonName&#39;: &#39;globalInteractionReason&#39;}]},\n  &#39;venue&#39;: {&#39;id&#39;: &#39;4adcda3af964a520523d21e3&#39;,\n   &#39;name&#39;: &#39;Bazaar&#39;,\n   &#39;contact&#39;: {},\n   &#39;location&#39;: {&#39;address&#39;: &#39;C. Libertad, 21&#39;,\n    &#39;lat&#39;: 40.421289934462294,\n    &#39;lng&#39;: -3.697392702478642,\n    &#39;labeledLatLngs&#39;: [{&#39;label&#39;: &#39;display&#39;,\n      &#39;lat&#39;: 40.421289934462294,\n      &#39;lng&#39;: -3.697392702478642}],\n    &#39;distance&#39;: 159,\n    &#39;postalCode&#39;: &#39;28004&#39;,\n    &#39;cc&#39;: &#39;ES&#39;,\n    &#39;city&#39;: &#39;Madrid&#39;,\n    &#39;state&#39;: &#39;Madrid&#39;,\n    &#39;country&#39;: &#39;España&#39;,\n    &#39;formattedAddress&#39;: [&#39;C. Libertad, 21&#39;, &#39;28004 Madrid Madrid&#39;, &#39;España&#39;]},\n   &#39;categories&#39;: [{&#39;id&#39;: &#39;4bf58dd8d48988d1c0941735&#39;,\n     &#39;name&#39;: &#39;Mediterranean Restaurant&#39;,\n     &#39;pluralName&#39;: &#39;Mediterranean Restaurants&#39;,\n     &#39;shortName&#39;: &#39;Mediterranean&#39;,\n     &#39;icon&#39;: {&#39;prefix&#39;: &#39;https://ss3.4sqi.net/img/categories_v2/food/mediterranean_&#39;,\n      &#39;suffix&#39;: &#39;.png&#39;},\n     &#39;primary&#39;: True}],\n   &#39;verified&#39;: False,\n   &#39;stats&#39;: {&#39;tipCount&#39;: 0,\n    &#39;usersCount&#39;: 0,\n    &#39;checkinsCount&#39;: 0,\n    &#39;visitsCount&#39;: 0},\n   &#39;beenHere&#39;: {&#39;count&#39;: 0,\n    &#39;lastCheckinExpiredAt&#39;: 0,\n    &#39;marked&#39;: False,\n    &#39;unconfirmedCount&#39;: 0},\n   &#39;photos&#39;: {&#39;count&#39;: 0, &#39;groups&#39;: []},\n   &#39;hereNow&#39;: {&#39;count&#39;: 0, &#39;summary&#39;: &#39;Nobody here&#39;, &#39;groups&#39;: []}},\n  &#39;referralId&#39;: &#39;e-3-4adcda3af964a520523d21e3-39&#39;},\n {&#39;reasons&#39;: {&#39;count&#39;: 0,\n   &#39;items&#39;: [{&#39;summary&#39;: &#39;This spot is popular&#39;,\n     &#39;type&#39;: &#39;general&#39;,\n     &#39;reasonName&#39;: &#39;globalInteractionReason&#39;}]},\n  &#39;venue&#39;: {&#39;id&#39;: &#39;4e11bb65aeb74afe60bf6969&#39;,\n   &#39;name&#39;: &#39;B&amp;B Restaurante&#39;,\n   &#39;contact&#39;: {},\n   &#39;location&#39;: {&#39;address&#39;: &#39;C/ Libertad 23&#39;,\n    &#39;lat&#39;: 40.42138395009756,\n    &#39;lng&#39;: -3.697403436783447,\n    &#39;labeledLatLngs&#39;: [{&#39;label&#39;: &#39;display&#39;,\n      &#39;lat&#39;: 40.42138395009756,\n      &#39;lng&#39;: -3.697403436783447}],\n    &#39;distance&#39;: 148,\n    &#39;postalCode&#39;: &#39;28004&#39;,\n    &#39;cc&#39;: &#39;ES&#39;,\n    &#39;city&#39;: &#39;Madrid&#39;,\n    &#39;state&#39;: &#39;Madrid&#39;,\n    &#39;country&#39;: &#39;España&#39;,\n    &#39;formattedAddress&#39;: [&#39;C/ Libertad 23&#39;, &#39;28004 Madrid Madrid&#39;, &#39;España&#39;]},\n   &#39;categories&#39;: [{&#39;id&#39;: &#39;4bf58dd8d48988d16c941735&#39;,\n     &#39;name&#39;: &#39;Burger Joint&#39;,\n     &#39;pluralName&#39;: &#39;Burger Joints&#39;,\n     &#39;shortName&#39;: &#39;Burgers&#39;,\n     &#39;icon&#39;: {&#39;prefix&#39;: &#39;https://ss3.4sqi.net/img/categories_v2/food/burger_&#39;,\n      &#39;suffix&#39;: &#39;.png&#39;},\n     &#39;primary&#39;: True}],\n   &#39;verified&#39;: False,\n   &#39;stats&#39;: {&#39;tipCount&#39;: 0,\n    &#39;usersCount&#39;: 0,\n    &#39;checkinsCount&#39;: 0,\n    &#39;visitsCount&#39;: 0},\n   &#39;beenHere&#39;: {&#39;count&#39;: 0,\n    &#39;lastCheckinExpiredAt&#39;: 0,\n    &#39;marked&#39;: False,\n    &#39;unconfirmedCount&#39;: 0},\n   &#39;photos&#39;: {&#39;count&#39;: 0, &#39;groups&#39;: []},\n   &#39;hereNow&#39;: {&#39;count&#39;: 0, &#39;summary&#39;: &#39;Nobody here&#39;, &#39;groups&#39;: []}},\n  &#39;referralId&#39;: &#39;e-3-4e11bb65aeb74afe60bf6969-40&#39;},\n {&#39;reasons&#39;: {&#39;count&#39;: 0,\n   &#39;items&#39;: [{&#39;summary&#39;: &#39;This spot is popular&#39;,\n     &#39;type&#39;: &#39;general&#39;,\n     &#39;reasonName&#39;: &#39;globalInteractionReason&#39;}]},\n  &#39;venue&#39;: {&#39;id&#39;: &#39;519b80c2498ec92af5e14080&#39;,\n   &#39;name&#39;: &#39;Cocinadeldesierto&#39;,\n   &#39;contact&#39;: {},\n   &#39;location&#39;: {&#39;lat&#39;: 40.421026142572885,\n    &#39;lng&#39;: -3.697432464744532,\n    &#39;labeledLatLngs&#39;: [{&#39;label&#39;: &#39;display&#39;,\n      &#39;lat&#39;: 40.421026142572885,\n      &#39;lng&#39;: -3.697432464744532}],\n    &#39;distance&#39;: 188,\n    &#39;cc&#39;: &#39;ES&#39;,\n    &#39;country&#39;: &#39;España&#39;,\n    &#39;formattedAddress&#39;: [&#39;España&#39;]},\n   &#39;categories&#39;: [{&#39;id&#39;: &#39;4bf58dd8d48988d1c4941735&#39;,\n     &#39;name&#39;: &#39;Restaurant&#39;,\n     &#39;pluralName&#39;: &#39;Restaurants&#39;,\n     &#39;shortName&#39;: &#39;Restaurant&#39;,\n     &#39;icon&#39;: {&#39;prefix&#39;: &#39;https://ss3.4sqi.net/img/categories_v2/food/default_&#39;,\n      &#39;suffix&#39;: &#39;.png&#39;},\n     &#39;primary&#39;: True}],\n   &#39;verified&#39;: False,\n   &#39;stats&#39;: {&#39;tipCount&#39;: 0,\n    &#39;usersCount&#39;: 0,\n    &#39;checkinsCount&#39;: 0,\n    &#39;visitsCount&#39;: 0},\n   &#39;beenHere&#39;: {&#39;count&#39;: 0,\n    &#39;lastCheckinExpiredAt&#39;: 0,\n    &#39;marked&#39;: False,\n    &#39;unconfirmedCount&#39;: 0},\n   &#39;photos&#39;: {&#39;count&#39;: 0, &#39;groups&#39;: []},\n   &#39;hereNow&#39;: {&#39;count&#39;: 0, &#39;summary&#39;: &#39;Nobody here&#39;, &#39;groups&#39;: []}},\n  &#39;referralId&#39;: &#39;e-3-519b80c2498ec92af5e14080-41&#39;},\n {&#39;reasons&#39;: {&#39;count&#39;: 0,\n   &#39;items&#39;: [{&#39;summary&#39;: &#39;This spot is popular&#39;,\n     &#39;type&#39;: &#39;general&#39;,\n     &#39;reasonName&#39;: &#39;globalInteractionReason&#39;}]},\n  &#39;venue&#39;: {&#39;id&#39;: &#39;54ff6eb3498e5b0e025a632f&#39;,\n   &#39;name&#39;: &#39;Restaurante Vietnam24&#39;,\n   &#39;contact&#39;: {},\n   &#39;location&#39;: {&#39;address&#39;: &#39;Calle de San Marcos 24&#39;,\n    &#39;lat&#39;: 40.42134100000001,\n    &#39;lng&#39;: -3.698427999999999,\n    &#39;labeledLatLngs&#39;: [{&#39;label&#39;: &#39;display&#39;,\n      &#39;lat&#39;: 40.42134100000001,\n      &#39;lng&#39;: -3.698427999999999}],\n    &#39;distance&#39;: 167,\n    &#39;postalCode&#39;: &#39;28004&#39;,\n    &#39;cc&#39;: &#39;ES&#39;,\n    &#39;city&#39;: &#39;Madrid&#39;,\n    &#39;state&#39;: &#39;Madrid&#39;,\n    &#39;country&#39;: &#39;España&#39;,\n    &#39;formattedAddress&#39;: [&#39;Calle de San Marcos 24&#39;,\n     &#39;28004 Madrid Madrid&#39;,\n     &#39;España&#39;]},\n   &#39;categories&#39;: [{&#39;id&#39;: &#39;4bf58dd8d48988d14a941735&#39;,\n     &#39;name&#39;: &#39;Vietnamese Restaurant&#39;,\n     &#39;pluralName&#39;: &#39;Vietnamese Restaurants&#39;,\n     &#39;shortName&#39;: &#39;Vietnamese&#39;,\n     &#39;icon&#39;: {&#39;prefix&#39;: &#39;https://ss3.4sqi.net/img/categories_v2/food/vietnamese_&#39;,\n      &#39;suffix&#39;: &#39;.png&#39;},\n     &#39;primary&#39;: True}],\n   &#39;verified&#39;: True,\n   &#39;stats&#39;: {&#39;tipCount&#39;: 0,\n    &#39;usersCount&#39;: 0,\n    &#39;checkinsCount&#39;: 0,\n    &#39;visitsCount&#39;: 0},\n   &#39;beenHere&#39;: {&#39;count&#39;: 0,\n    &#39;lastCheckinExpiredAt&#39;: 0,\n    &#39;marked&#39;: False,\n    &#39;unconfirmedCount&#39;: 0},\n   &#39;photos&#39;: {&#39;count&#39;: 0, &#39;groups&#39;: []},\n   &#39;venuePage&#39;: {&#39;id&#39;: &#39;553047231&#39;},\n   &#39;hereNow&#39;: {&#39;count&#39;: 0, &#39;summary&#39;: &#39;Nobody here&#39;, &#39;groups&#39;: []}},\n  &#39;referralId&#39;: &#39;e-3-54ff6eb3498e5b0e025a632f-42&#39;},\n {&#39;reasons&#39;: {&#39;count&#39;: 0,\n   &#39;items&#39;: [{&#39;summary&#39;: &#39;This spot is popular&#39;,\n     &#39;type&#39;: &#39;general&#39;,\n     &#39;reasonName&#39;: &#39;globalInteractionReason&#39;}]},\n  &#39;venue&#39;: {&#39;id&#39;: &#39;5517152f498eba3fc8b760f4&#39;,\n   &#39;name&#39;: &#39;tuk tuk&#39;,\n   &#39;contact&#39;: {},\n   &#39;location&#39;: {&#39;address&#39;: &#39;C. Barquillo, 24&#39;,\n    &#39;lat&#39;: 40.42255008627129,\n    &#39;lng&#39;: -3.6956102723972575,\n    &#39;labeledLatLngs&#39;: [{&#39;label&#39;: &#39;display&#39;,\n      &#39;lat&#39;: 40.42255008627129,\n      &#39;lng&#39;: -3.6956102723972575}],\n    &#39;distance&#39;: 170,\n    &#39;postalCode&#39;: &#39;28004&#39;,\n    &#39;cc&#39;: &#39;ES&#39;,\n    &#39;city&#39;: &#39;Madrid&#39;,\n    &#39;state&#39;: &#39;Madrid&#39;,\n    &#39;country&#39;: &#39;España&#39;,\n    &#39;formattedAddress&#39;: [&#39;C. Barquillo, 24&#39;, &#39;28004 Madrid Madrid&#39;, &#39;España&#39;]},\n   &#39;categories&#39;: [{&#39;id&#39;: &#39;4bf58dd8d48988d142941735&#39;,\n     &#39;name&#39;: &#39;Asian Restaurant&#39;,\n     &#39;pluralName&#39;: &#39;Asian Restaurants&#39;,\n     &#39;shortName&#39;: &#39;Asian&#39;,\n     &#39;icon&#39;: {&#39;prefix&#39;: &#39;https://ss3.4sqi.net/img/categories_v2/food/asian_&#39;,\n      &#39;suffix&#39;: &#39;.png&#39;},\n     &#39;primary&#39;: True}],\n   &#39;verified&#39;: False,\n   &#39;stats&#39;: {&#39;tipCount&#39;: 0,\n    &#39;usersCount&#39;: 0,\n    &#39;checkinsCount&#39;: 0,\n    &#39;visitsCount&#39;: 0},\n   &#39;beenHere&#39;: {&#39;count&#39;: 0,\n    &#39;lastCheckinExpiredAt&#39;: 0,\n    &#39;marked&#39;: False,\n    &#39;unconfirmedCount&#39;: 0},\n   &#39;photos&#39;: {&#39;count&#39;: 0, &#39;groups&#39;: []},\n   &#39;hereNow&#39;: {&#39;count&#39;: 0, &#39;summary&#39;: &#39;Nobody here&#39;, &#39;groups&#39;: []}},\n  &#39;referralId&#39;: &#39;e-3-5517152f498eba3fc8b760f4-43&#39;},\n {&#39;reasons&#39;: {&#39;count&#39;: 0,\n   &#39;items&#39;: [{&#39;summary&#39;: &#39;This spot is popular&#39;,\n     &#39;type&#39;: &#39;general&#39;,\n     &#39;reasonName&#39;: &#39;globalInteractionReason&#39;}]},\n  &#39;venue&#39;: {&#39;id&#39;: &#39;4da623936a23f2e80501b9dc&#39;,\n   &#39;name&#39;: &#39;Taberna El Buo&#39;,\n   &#39;contact&#39;: {},\n   &#39;location&#39;: {&#39;address&#39;: &#39;C. Gravina, 4&#39;,\n    &#39;crossStreet&#39;: &#39;C. Pelayo&#39;,\n    &#39;lat&#39;: 40.423217770388675,\n    &#39;lng&#39;: -3.6981833739403243,\n    &#39;labeledLatLngs&#39;: [{&#39;label&#39;: &#39;display&#39;,\n      &#39;lat&#39;: 40.423217770388675,\n      &#39;lng&#39;: -3.6981833739403243}],\n    &#39;distance&#39;: 74,\n    &#39;postalCode&#39;: &#39;28004&#39;,\n    &#39;cc&#39;: &#39;ES&#39;,\n    &#39;city&#39;: &#39;Madrid&#39;,\n    &#39;state&#39;: &#39;Madrid&#39;,\n    &#39;country&#39;: &#39;España&#39;,\n    &#39;formattedAddress&#39;: [&#39;C. Gravina, 4 (C. Pelayo)&#39;,\n     &#39;28004 Madrid Madrid&#39;,\n     &#39;España&#39;]},\n   &#39;categories&#39;: [{&#39;id&#39;: &#39;4bf58dd8d48988d1db931735&#39;,\n     &#39;name&#39;: &#39;Tapas Restaurant&#39;,\n     &#39;pluralName&#39;: &#39;Tapas Restaurants&#39;,\n     &#39;shortName&#39;: &#39;Tapas&#39;,\n     &#39;icon&#39;: {&#39;prefix&#39;: &#39;https://ss3.4sqi.net/img/categories_v2/food/tapas_&#39;,\n      &#39;suffix&#39;: &#39;.png&#39;},\n     &#39;primary&#39;: True}],\n   &#39;verified&#39;: False,\n   &#39;stats&#39;: {&#39;tipCount&#39;: 0,\n    &#39;usersCount&#39;: 0,\n    &#39;checkinsCount&#39;: 0,\n    &#39;visitsCount&#39;: 0},\n   &#39;beenHere&#39;: {&#39;count&#39;: 0,\n    &#39;lastCheckinExpiredAt&#39;: 0,\n    &#39;marked&#39;: False,\n    &#39;unconfirmedCount&#39;: 0},\n   &#39;photos&#39;: {&#39;count&#39;: 0, &#39;groups&#39;: []},\n   &#39;hereNow&#39;: {&#39;count&#39;: 0, &#39;summary&#39;: &#39;Nobody here&#39;, &#39;groups&#39;: []}},\n  &#39;referralId&#39;: &#39;e-3-4da623936a23f2e80501b9dc-44&#39;},\n {&#39;reasons&#39;: {&#39;count&#39;: 0,\n   &#39;items&#39;: [{&#39;summary&#39;: &#39;This spot is popular&#39;,\n     &#39;type&#39;: &#39;general&#39;,\n     &#39;reasonName&#39;: &#39;globalInteractionReason&#39;}]},\n  &#39;venue&#39;: {&#39;id&#39;: &#39;4b75e1eff964a520e02b2ee3&#39;,\n   &#39;name&#39;: &#39;Restaurante Arce&#39;,\n   &#39;contact&#39;: {},\n   &#39;location&#39;: {&#39;address&#39;: &#39;C. Augusto Figueroa, 32&#39;,\n    &#39;lat&#39;: 40.42207258933475,\n    &#39;lng&#39;: -3.6967412061319482,\n    &#39;labeledLatLngs&#39;: [{&#39;label&#39;: &#39;display&#39;,\n      &#39;lat&#39;: 40.42207258933475,\n      &#39;lng&#39;: -3.6967412061319482}],\n    &#39;distance&#39;: 102,\n    &#39;postalCode&#39;: &#39;28004&#39;,\n    &#39;cc&#39;: &#39;ES&#39;,\n    &#39;city&#39;: &#39;Madrid&#39;,\n    &#39;state&#39;: &#39;Madrid&#39;,\n    &#39;country&#39;: &#39;España&#39;,\n    &#39;formattedAddress&#39;: [&#39;C. Augusto Figueroa, 32&#39;,\n     &#39;28004 Madrid Madrid&#39;,\n     &#39;España&#39;]},\n   &#39;categories&#39;: [{&#39;id&#39;: &#39;4bf58dd8d48988d150941735&#39;,\n     &#39;name&#39;: &#39;Spanish Restaurant&#39;,\n     &#39;pluralName&#39;: &#39;Spanish Restaurants&#39;,\n     &#39;shortName&#39;: &#39;Spanish&#39;,\n     &#39;icon&#39;: {&#39;prefix&#39;: &#39;https://ss3.4sqi.net/img/categories_v2/food/spanish_&#39;,\n      &#39;suffix&#39;: &#39;.png&#39;},\n     &#39;primary&#39;: True}],\n   &#39;verified&#39;: False,\n   &#39;stats&#39;: {&#39;tipCount&#39;: 0,\n    &#39;usersCount&#39;: 0,\n    &#39;checkinsCount&#39;: 0,\n    &#39;visitsCount&#39;: 0},\n   &#39;beenHere&#39;: {&#39;count&#39;: 0,\n    &#39;lastCheckinExpiredAt&#39;: 0,\n    &#39;marked&#39;: False,\n    &#39;unconfirmedCount&#39;: 0},\n   &#39;photos&#39;: {&#39;count&#39;: 0, &#39;groups&#39;: []},\n   &#39;hereNow&#39;: {&#39;count&#39;: 0, &#39;summary&#39;: &#39;Nobody here&#39;, &#39;groups&#39;: []}},\n  &#39;referralId&#39;: &#39;e-3-4b75e1eff964a520e02b2ee3-45&#39;},\n {&#39;reasons&#39;: {&#39;count&#39;: 0,\n   &#39;items&#39;: [{&#39;summary&#39;: &#39;This spot is popular&#39;,\n     &#39;type&#39;: &#39;general&#39;,\n     &#39;reasonName&#39;: &#39;globalInteractionReason&#39;}]},\n  &#39;venue&#39;: {&#39;id&#39;: &#39;4b82aafcf964a5206add30e3&#39;,\n   &#39;name&#39;: &#39;Diurno Restaurant &amp; Bar&#39;,\n   &#39;contact&#39;: {},\n   &#39;location&#39;: {&#39;address&#39;: &#39;C. San Marcos, 37&#39;,\n    &#39;crossStreet&#39;: &#39;C. Libertad&#39;,\n    &#39;lat&#39;: 40.421299901405845,\n    &#39;lng&#39;: -3.6973373782873447,\n    &#39;labeledLatLngs&#39;: [{&#39;label&#39;: &#39;display&#39;,\n      &#39;lat&#39;: 40.421299901405845,\n      &#39;lng&#39;: -3.6973373782873447}],\n    &#39;distance&#39;: 158,\n    &#39;postalCode&#39;: &#39;28004&#39;,\n    &#39;cc&#39;: &#39;ES&#39;,\n    &#39;city&#39;: &#39;Madrid&#39;,\n    &#39;state&#39;: &#39;Madrid&#39;,\n    &#39;country&#39;: &#39;España&#39;,\n    &#39;formattedAddress&#39;: [&#39;C. San Marcos, 37 (C. Libertad)&#39;,\n     &#39;28004 Madrid Madrid&#39;,\n     &#39;España&#39;]},\n   &#39;categories&#39;: [{&#39;id&#39;: &#39;4bf58dd8d48988d1c0941735&#39;,\n     &#39;name&#39;: &#39;Mediterranean Restaurant&#39;,\n     &#39;pluralName&#39;: &#39;Mediterranean Restaurants&#39;,\n     &#39;shortName&#39;: &#39;Mediterranean&#39;,\n     &#39;icon&#39;: {&#39;prefix&#39;: &#39;https://ss3.4sqi.net/img/categories_v2/food/mediterranean_&#39;,\n      &#39;suffix&#39;: &#39;.png&#39;},\n     &#39;primary&#39;: True}],\n   &#39;verified&#39;: True,\n   &#39;stats&#39;: {&#39;tipCount&#39;: 0,\n    &#39;usersCount&#39;: 0,\n    &#39;checkinsCount&#39;: 0,\n    &#39;visitsCount&#39;: 0},\n   &#39;beenHere&#39;: {&#39;count&#39;: 0,\n    &#39;lastCheckinExpiredAt&#39;: 0,\n    &#39;marked&#39;: False,\n    &#39;unconfirmedCount&#39;: 0},\n   &#39;photos&#39;: {&#39;count&#39;: 0, &#39;groups&#39;: []},\n   &#39;venuePage&#39;: {&#39;id&#39;: &#39;76245254&#39;},\n   &#39;hereNow&#39;: {&#39;count&#39;: 0, &#39;summary&#39;: &#39;Nobody here&#39;, &#39;groups&#39;: []}},\n  &#39;referralId&#39;: &#39;e-3-4b82aafcf964a5206add30e3-46&#39;},\n {&#39;reasons&#39;: {&#39;count&#39;: 0,\n   &#39;items&#39;: [{&#39;summary&#39;: &#39;This spot is popular&#39;,\n     &#39;type&#39;: &#39;general&#39;,\n     &#39;reasonName&#39;: &#39;globalInteractionReason&#39;}]},\n  &#39;venue&#39;: {&#39;id&#39;: &#39;538c87ed498e5e2ed88ad97b&#39;,\n   &#39;name&#39;: &#39;TE CATO&#39;,\n   &#39;contact&#39;: {},\n   &#39;location&#39;: {&#39;address&#39;: &#39;Gravina 12&#39;,\n    &#39;lat&#39;: 40.422849,\n    &#39;lng&#39;: -3.697099,\n    &#39;labeledLatLngs&#39;: [{&#39;label&#39;: &#39;display&#39;,\n      &#39;lat&#39;: 40.422849,\n      &#39;lng&#39;: -3.697099}],\n    &#39;distance&#39;: 45,\n    &#39;postalCode&#39;: &#39;28004&#39;,\n    &#39;cc&#39;: &#39;ES&#39;,\n    &#39;city&#39;: &#39;Madrid&#39;,\n    &#39;state&#39;: &#39;Madrid&#39;,\n    &#39;country&#39;: &#39;España&#39;,\n    &#39;formattedAddress&#39;: [&#39;Gravina 12&#39;, &#39;28004 Madrid Madrid&#39;, &#39;España&#39;]},\n   &#39;categories&#39;: [{&#39;id&#39;: &#39;4bf58dd8d48988d16d941735&#39;,\n     &#39;name&#39;: &#39;Café&#39;,\n     &#39;pluralName&#39;: &#39;Cafés&#39;,\n     &#39;shortName&#39;: &#39;Café&#39;,\n     &#39;icon&#39;: {&#39;prefix&#39;: &#39;https://ss3.4sqi.net/img/categories_v2/food/cafe_&#39;,\n      &#39;suffix&#39;: &#39;.png&#39;},\n     &#39;primary&#39;: True}],\n   &#39;verified&#39;: False,\n   &#39;stats&#39;: {&#39;tipCount&#39;: 0,\n    &#39;usersCount&#39;: 0,\n    &#39;checkinsCount&#39;: 0,\n    &#39;visitsCount&#39;: 0},\n   &#39;beenHere&#39;: {&#39;count&#39;: 0,\n    &#39;lastCheckinExpiredAt&#39;: 0,\n    &#39;marked&#39;: False,\n    &#39;unconfirmedCount&#39;: 0},\n   &#39;photos&#39;: {&#39;count&#39;: 0, &#39;groups&#39;: []},\n   &#39;hereNow&#39;: {&#39;count&#39;: 0, &#39;summary&#39;: &#39;Nobody here&#39;, &#39;groups&#39;: []}},\n  &#39;referralId&#39;: &#39;e-3-538c87ed498e5e2ed88ad97b-47&#39;},\n {&#39;reasons&#39;: {&#39;count&#39;: 0,\n   &#39;items&#39;: [{&#39;summary&#39;: &#39;This spot is popular&#39;,\n     &#39;type&#39;: &#39;general&#39;,\n     &#39;reasonName&#39;: &#39;globalInteractionReason&#39;}]},\n  &#39;venue&#39;: {&#39;id&#39;: &#39;4e61fdbda80951b3184c3896&#39;,\n   &#39;name&#39;: &#39;Bagatella&#39;,\n   &#39;contact&#39;: {},\n   &#39;location&#39;: {&#39;address&#39;: &#39;C. Pelayo, 60&#39;,\n    &#39;lat&#39;: 40.42418217330663,\n    &#39;lng&#39;: -3.6974761592418637,\n    &#39;labeledLatLngs&#39;: [{&#39;label&#39;: &#39;display&#39;,\n      &#39;lat&#39;: 40.42418217330663,\n      &#39;lng&#39;: -3.6974761592418637}],\n    &#39;distance&#39;: 163,\n    &#39;postalCode&#39;: &#39;28004&#39;,\n    &#39;cc&#39;: &#39;ES&#39;,\n    &#39;city&#39;: &#39;Madrid&#39;,\n    &#39;state&#39;: &#39;Madrid&#39;,\n    &#39;country&#39;: &#39;España&#39;,\n    &#39;formattedAddress&#39;: [&#39;C. Pelayo, 60&#39;, &#39;28004 Madrid Madrid&#39;, &#39;España&#39;]},\n   &#39;categories&#39;: [{&#39;id&#39;: &#39;4bf58dd8d48988d150941735&#39;,\n     &#39;name&#39;: &#39;Spanish Restaurant&#39;,\n     &#39;pluralName&#39;: &#39;Spanish Restaurants&#39;,\n     &#39;shortName&#39;: &#39;Spanish&#39;,\n     &#39;icon&#39;: {&#39;prefix&#39;: &#39;https://ss3.4sqi.net/img/categories_v2/food/spanish_&#39;,\n      &#39;suffix&#39;: &#39;.png&#39;},\n     &#39;primary&#39;: True}],\n   &#39;verified&#39;: False,\n   &#39;stats&#39;: {&#39;tipCount&#39;: 0,\n    &#39;usersCount&#39;: 0,\n    &#39;checkinsCount&#39;: 0,\n    &#39;visitsCount&#39;: 0},\n   &#39;beenHere&#39;: {&#39;count&#39;: 0,\n    &#39;lastCheckinExpiredAt&#39;: 0,\n    &#39;marked&#39;: False,\n    &#39;unconfirmedCount&#39;: 0},\n   &#39;photos&#39;: {&#39;count&#39;: 0, &#39;groups&#39;: []},\n   &#39;hereNow&#39;: {&#39;count&#39;: 0, &#39;summary&#39;: &#39;Nobody here&#39;, &#39;groups&#39;: []}},\n  &#39;referralId&#39;: &#39;e-3-4e61fdbda80951b3184c3896-48&#39;},\n {&#39;reasons&#39;: {&#39;count&#39;: 0,\n   &#39;items&#39;: [{&#39;summary&#39;: &#39;This spot is popular&#39;,\n     &#39;type&#39;: &#39;general&#39;,\n     &#39;reasonName&#39;: &#39;globalInteractionReason&#39;}]},\n  &#39;venue&#39;: {&#39;id&#39;: &#39;4dd796e18877f1150fecd530&#39;,\n   &#39;name&#39;: &#39;Hamburguesa Nostra&#39;,\n   &#39;contact&#39;: {},\n   &#39;location&#39;: {&#39;address&#39;: &#39;Mercado de San Antón&#39;,\n    &#39;lat&#39;: 40.422026687490394,\n    &#39;lng&#39;: -3.697647396217567,\n    &#39;labeledLatLngs&#39;: [{&#39;label&#39;: &#39;display&#39;,\n      &#39;lat&#39;: 40.422026687490394,\n      &#39;lng&#39;: -3.697647396217567}],\n    &#39;distance&#39;: 76,\n    &#39;postalCode&#39;: &#39;28004&#39;,\n    &#39;cc&#39;: &#39;ES&#39;,\n    &#39;city&#39;: &#39;Madrid&#39;,\n    &#39;state&#39;: &#39;Madrid&#39;,\n    &#39;country&#39;: &#39;España&#39;,\n    &#39;formattedAddress&#39;: [&#39;Mercado de San Antón&#39;,\n     &#39;28004 Madrid Madrid&#39;,\n     &#39;España&#39;]},\n   &#39;categories&#39;: [{&#39;id&#39;: &#39;4bf58dd8d48988d16c941735&#39;,\n     &#39;name&#39;: &#39;Burger Joint&#39;,\n     &#39;pluralName&#39;: &#39;Burger Joints&#39;,\n     &#39;shortName&#39;: &#39;Burgers&#39;,\n     &#39;icon&#39;: {&#39;prefix&#39;: &#39;https://ss3.4sqi.net/img/categories_v2/food/burger_&#39;,\n      &#39;suffix&#39;: &#39;.png&#39;},\n     &#39;primary&#39;: True}],\n   &#39;verified&#39;: True,\n   &#39;stats&#39;: {&#39;tipCount&#39;: 0,\n    &#39;usersCount&#39;: 0,\n    &#39;checkinsCount&#39;: 0,\n    &#39;visitsCount&#39;: 0},\n   &#39;beenHere&#39;: {&#39;count&#39;: 0,\n    &#39;lastCheckinExpiredAt&#39;: 0,\n    &#39;marked&#39;: False,\n    &#39;unconfirmedCount&#39;: 0},\n   &#39;photos&#39;: {&#39;count&#39;: 0, &#39;groups&#39;: []},\n   &#39;hereNow&#39;: {&#39;count&#39;: 0, &#39;summary&#39;: &#39;Nobody here&#39;, &#39;groups&#39;: []}},\n  &#39;referralId&#39;: &#39;e-3-4dd796e18877f1150fecd530-49&#39;},\n {&#39;reasons&#39;: {&#39;count&#39;: 0,\n   &#39;items&#39;: [{&#39;summary&#39;: &#39;This spot is popular&#39;,\n     &#39;type&#39;: &#39;general&#39;,\n     &#39;reasonName&#39;: &#39;globalInteractionReason&#39;}]},\n  &#39;venue&#39;: {&#39;id&#39;: &#39;51d484c3498e003d2f954108&#39;,\n   &#39;name&#39;: &#39;La Trastienda&#39;,\n   &#39;contact&#39;: {},\n   &#39;location&#39;: {&#39;address&#39;: &#39;C. Augusto Figueroa, 24&#39;,\n    &#39;lat&#39;: 40.421973,\n    &#39;lng&#39;: -3.697602,\n    &#39;labeledLatLngs&#39;: [{&#39;label&#39;: &#39;display&#39;,\n      &#39;lat&#39;: 40.421973,\n      &#39;lng&#39;: -3.697602}],\n    &#39;distance&#39;: 82,\n    &#39;cc&#39;: &#39;ES&#39;,\n    &#39;city&#39;: &#39;Madrid&#39;,\n    &#39;state&#39;: &#39;Madrid&#39;,\n    &#39;country&#39;: &#39;España&#39;,\n    &#39;formattedAddress&#39;: [&#39;C. Augusto Figueroa, 24&#39;,\n     &#39;Madrid Madrid&#39;,\n     &#39;España&#39;]},\n   &#39;categories&#39;: [{&#39;id&#39;: &#39;4bf58dd8d48988d1db931735&#39;,\n     &#39;name&#39;: &#39;Tapas Restaurant&#39;,\n     &#39;pluralName&#39;: &#39;Tapas Restaurants&#39;,\n     &#39;shortName&#39;: &#39;Tapas&#39;,\n     &#39;icon&#39;: {&#39;prefix&#39;: &#39;https://ss3.4sqi.net/img/categories_v2/food/tapas_&#39;,\n      &#39;suffix&#39;: &#39;.png&#39;},\n     &#39;primary&#39;: True}],\n   &#39;verified&#39;: False,\n   &#39;stats&#39;: {&#39;tipCount&#39;: 0,\n    &#39;usersCount&#39;: 0,\n    &#39;checkinsCount&#39;: 0,\n    &#39;visitsCount&#39;: 0},\n   &#39;beenHere&#39;: {&#39;count&#39;: 0,\n    &#39;lastCheckinExpiredAt&#39;: 0,\n    &#39;marked&#39;: False,\n    &#39;unconfirmedCount&#39;: 0},\n   &#39;photos&#39;: {&#39;count&#39;: 0, &#39;groups&#39;: []},\n   &#39;hereNow&#39;: {&#39;count&#39;: 0, &#39;summary&#39;: &#39;Nobody here&#39;, &#39;groups&#39;: []}},\n  &#39;referralId&#39;: &#39;e-3-51d484c3498e003d2f954108-50&#39;}]"
     },
     "metadata": {},
     "execution_count": 19
    }
   ],
   "source": [
    "data[\"response\"]['groups'][0]['items']"
   ]
  },
  {
   "cell_type": "code",
   "execution_count": 20,
   "metadata": {},
   "outputs": [
    {
     "output_type": "execute_result",
     "data": {
      "text/plain": "dict_keys([&#39;reasons&#39;, &#39;venue&#39;, &#39;referralId&#39;])"
     },
     "metadata": {},
     "execution_count": 20
    }
   ],
   "source": [
    "data[\"response\"]['groups'][0]['items'][0].keys()"
   ]
  },
  {
   "cell_type": "code",
   "execution_count": 21,
   "metadata": {},
   "outputs": [
    {
     "output_type": "execute_result",
     "data": {
      "text/plain": "dict_keys([&#39;id&#39;, &#39;name&#39;, &#39;contact&#39;, &#39;location&#39;, &#39;categories&#39;, &#39;verified&#39;, &#39;stats&#39;, &#39;beenHere&#39;, &#39;photos&#39;, &#39;venuePage&#39;, &#39;hereNow&#39;])"
     },
     "metadata": {},
     "execution_count": 21
    }
   ],
   "source": [
    "data[\"response\"]['groups'][0]['items'][0]['venue'].keys()"
   ]
  },
  {
   "cell_type": "code",
   "execution_count": 22,
   "metadata": {},
   "outputs": [
    {
     "output_type": "execute_result",
     "data": {
      "text/plain": "&#39;Kuoco 360&#39;"
     },
     "metadata": {},
     "execution_count": 22
    }
   ],
   "source": [
    "data[\"response\"]['groups'][0]['items'][0]['venue']['name']\n",
    "# Este es el camino para obtener el nombre del restaurante"
   ]
  },
  {
   "cell_type": "code",
   "execution_count": 23,
   "metadata": {},
   "outputs": [
    {
     "output_type": "execute_result",
     "data": {
      "text/plain": "{&#39;address&#39;: &#39;Calle San Bartolmé, 14&#39;,\n &#39;lat&#39;: 40.421841757,\n &#39;lng&#39;: -3.698455902,\n &#39;labeledLatLngs&#39;: [{&#39;label&#39;: &#39;display&#39;,\n   &#39;lat&#39;: 40.421841757,\n   &#39;lng&#39;: -3.698455902}],\n &#39;distance&#39;: 120,\n &#39;postalCode&#39;: &#39;28004&#39;,\n &#39;cc&#39;: &#39;ES&#39;,\n &#39;city&#39;: &#39;Madrid&#39;,\n &#39;state&#39;: &#39;Madrid&#39;,\n &#39;country&#39;: &#39;España&#39;,\n &#39;formattedAddress&#39;: [&#39;Calle San Bartolmé, 14&#39;,\n  &#39;28004 Madrid Madrid&#39;,\n  &#39;España&#39;]}"
     },
     "metadata": {},
     "execution_count": 23
    }
   ],
   "source": [
    "data[\"response\"]['groups'][0]['items'][0]['venue']['location']\n",
    "#De aqui podría obtener la direccion y las coordenadas "
   ]
  },
  {
   "cell_type": "code",
   "execution_count": 24,
   "metadata": {},
   "outputs": [
    {
     "output_type": "execute_result",
     "data": {
      "text/plain": "dict_keys([&#39;address&#39;, &#39;lat&#39;, &#39;lng&#39;, &#39;labeledLatLngs&#39;, &#39;distance&#39;, &#39;postalCode&#39;, &#39;cc&#39;, &#39;city&#39;, &#39;state&#39;, &#39;country&#39;, &#39;formattedAddress&#39;])"
     },
     "metadata": {},
     "execution_count": 24
    }
   ],
   "source": [
    "data[\"response\"]['groups'][0]['items'][0]['venue']['location'].keys()"
   ]
  },
  {
   "cell_type": "code",
   "execution_count": 25,
   "metadata": {},
   "outputs": [
    {
     "output_type": "execute_result",
     "data": {
      "text/plain": "&#39;Calle San Bartolmé, 14&#39;"
     },
     "metadata": {},
     "execution_count": 25
    }
   ],
   "source": [
    "data[\"response\"]['groups'][0]['items'][0]['venue']['location']['address']\n",
    "# El camino para obtener la dirección de cada restaurante"
   ]
  },
  {
   "cell_type": "code",
   "execution_count": 26,
   "metadata": {},
   "outputs": [
    {
     "output_type": "execute_result",
     "data": {
      "text/plain": "40.421841757"
     },
     "metadata": {},
     "execution_count": 26
    }
   ],
   "source": [
    "data[\"response\"]['groups'][0]['items'][0]['venue']['location']['lat']\n",
    "# Esta es la latitud"
   ]
  },
  {
   "cell_type": "code",
   "execution_count": 27,
   "metadata": {},
   "outputs": [
    {
     "output_type": "execute_result",
     "data": {
      "text/plain": "-3.698455902"
     },
     "metadata": {},
     "execution_count": 27
    }
   ],
   "source": [
    "data[\"response\"]['groups'][0]['items'][0]['venue']['location']['lng']"
   ]
  },
  {
   "cell_type": "code",
   "execution_count": 28,
   "metadata": {},
   "outputs": [
    {
     "output_type": "execute_result",
     "data": {
      "text/plain": "[&#39;Calle San Bartolmé, 14&#39;, &#39;28004 Madrid Madrid&#39;, &#39;España&#39;]"
     },
     "metadata": {},
     "execution_count": 28
    }
   ],
   "source": [
    "data[\"response\"]['groups'][0]['items'][0]['venue']['location']['formattedAddress']"
   ]
  },
  {
   "cell_type": "code",
   "execution_count": 29,
   "metadata": {
    "tags": []
   },
   "outputs": [
    {
     "output_type": "stream",
     "name": "stdout",
     "text": "Kuoco 360\nBunny&#39;s Deli\ncelicioso\nPizzaiolo\nVides\nPanod\nFood Truck\nCafés Arrivederci\nLa Panaderia de Chueca\nSr. Ito\nMorgana\nIzakaya Han\nEl Cisne Azul\nLa alacena de Victor Montes (mercado de San Anton)\nBosco de Lobos\nMal de Amores\nHot Now\nTienda de Vinos (El Comunista)\nLa Carmencita\nBaco y Beto\nRestaurante Vegaviana\nRESTAURANTE KRITIKOS\nAloha Poké\nVivares\nBoho Bar\nFit Food\nLa Candelita\nRoostiq\n7 Delicatessen\nle cocó\nSan Wich\nLa Buha\nDionisos\nXanacuk\nAl Vacío\nMassa Pizza\nTepic\nGioia Restaurante\nArepa Olé &quot;Chueca&quot;\nBazaar\nB&amp;B Restaurante\nCocinadeldesierto\nRestaurante Vietnam24\ntuk tuk\nTaberna El Buo\nRestaurante Arce\nDiurno Restaurant &amp; Bar\nTE CATO\nBagatella\nHamburguesa Nostra\nLa Trastienda\n"
    }
   ],
   "source": [
    "for rest in data[\"response\"]['groups'][0][\"items\"]:\n",
    "    print(rest[\"venue\"][\"name\"])"
   ]
  },
  {
   "cell_type": "code",
   "execution_count": 34,
   "metadata": {},
   "outputs": [
    {
     "output_type": "execute_result",
     "data": {
      "text/plain": "[&#39;Kuoco 360&#39;,\n &quot;Bunny&#39;s Deli&quot;,\n &#39;celicioso&#39;,\n &#39;Pizzaiolo&#39;,\n &#39;Vides&#39;,\n &#39;Panod&#39;,\n &#39;Food Truck&#39;,\n &#39;Cafés Arrivederci&#39;,\n &#39;La Panaderia de Chueca&#39;,\n &#39;Sr. Ito&#39;,\n &#39;Morgana&#39;,\n &#39;Izakaya Han&#39;,\n &#39;El Cisne Azul&#39;,\n &#39;La alacena de Victor Montes (mercado de San Anton)&#39;,\n &#39;Bosco de Lobos&#39;,\n &#39;Mal de Amores&#39;,\n &#39;Hot Now&#39;,\n &#39;Tienda de Vinos (El Comunista)&#39;,\n &#39;La Carmencita&#39;,\n &#39;Baco y Beto&#39;,\n &#39;Restaurante Vegaviana&#39;,\n &#39;RESTAURANTE KRITIKOS&#39;,\n &#39;Aloha Poké&#39;,\n &#39;Vivares&#39;,\n &#39;Boho Bar&#39;,\n &#39;Fit Food&#39;,\n &#39;La Candelita&#39;,\n &#39;Roostiq&#39;,\n &#39;7 Delicatessen&#39;,\n &#39;le cocó&#39;,\n &#39;San Wich&#39;,\n &#39;La Buha&#39;,\n &#39;Dionisos&#39;,\n &#39;Xanacuk&#39;,\n &#39;Al Vacío&#39;,\n &#39;Massa Pizza&#39;,\n &#39;Tepic&#39;,\n &#39;Gioia Restaurante&#39;,\n &#39;Arepa Olé &quot;Chueca&quot;&#39;,\n &#39;Bazaar&#39;,\n &#39;B&amp;B Restaurante&#39;,\n &#39;Cocinadeldesierto&#39;,\n &#39;Restaurante Vietnam24&#39;,\n &#39;tuk tuk&#39;,\n &#39;Taberna El Buo&#39;,\n &#39;Restaurante Arce&#39;,\n &#39;Diurno Restaurant &amp; Bar&#39;,\n &#39;TE CATO&#39;,\n &#39;Bagatella&#39;,\n &#39;Hamburguesa Nostra&#39;,\n &#39;La Trastienda&#39;]"
     },
     "metadata": {},
     "execution_count": 34
    }
   ],
   "source": [
    "nombre = [elem1[\"venue\"][\"name\"] for elem1 in data[\"response\"]['groups'][0][\"items\"]]\n",
    "nombre"
   ]
  },
  {
   "cell_type": "code",
   "execution_count": 53,
   "metadata": {},
   "outputs": [
    {
     "output_type": "execute_result",
     "data": {
      "text/plain": "[40.421841757,\n 40.423935,\n 40.4221118727551,\n 40.42379534723905,\n 40.42101652377878,\n 40.42196050145854,\n 40.42381557557015,\n 40.42239983850301,\n 40.423086857922954,\n 40.42419418250838,\n 40.422215,\n 40.421818886748916,\n 40.4226125570602,\n 40.4219552461371,\n 40.424150785649374,\n 40.42225718566712,\n 40.421317,\n 40.42214174422174,\n 40.42126199404328,\n 40.422752009461526,\n 40.42327219098249,\n 40.4236788,\n 40.42113511381703,\n 40.422396252036314,\n 40.42119008484262,\n 40.42215861775813,\n 40.422774434672846,\n 40.422035,\n 40.42196450098142,\n 40.42160429601288,\n 40.42345933650479,\n 40.423134,\n 40.4228785381634,\n 40.42288737215488,\n 40.42110545805447,\n 40.422638,\n 40.421905539105566,\n 40.422075,\n 40.42178698102328,\n 40.421289934462294,\n 40.42138395009756,\n 40.421026142572885,\n 40.42134100000001,\n 40.42255008627129,\n 40.423217770388675,\n 40.42207258933475,\n 40.421299901405845,\n 40.422849,\n 40.42418217330663,\n 40.422026687490394,\n 40.421973]"
     },
     "metadata": {},
     "execution_count": 53
    }
   ],
   "source": [
    "latitud = [elem2['venue']['location']['lat'] for elem2 in data[\"response\"]['groups'][0][\"items\"]]\n",
    "latitud"
   ]
  },
  {
   "cell_type": "code",
   "execution_count": 54,
   "metadata": {},
   "outputs": [
    {
     "output_type": "execute_result",
     "data": {
      "text/plain": "[-3.698455902,\n -3.6971583,\n -3.695725917401657,\n -3.698597330722856,\n -3.6973542003338395,\n -3.6954788629561257,\n -3.6960864532494018,\n -3.6984653209661364,\n -3.697484191788935,\n -3.697464102646731,\n -3.697813,\n -3.698475072010201,\n -3.696732565805115,\n -3.6975662393915534,\n -3.6990139940797278,\n -3.6966339163444717,\n -3.69803,\n -3.6974815605101155,\n -3.6972917841088693,\n -3.698509156210323,\n -3.69815135043315,\n -3.6973335000000134,\n -3.6973795495793205,\n -3.6994208517652574,\n -3.696839788805677,\n -3.696966733547483,\n -3.695580591064091,\n -3.696219,\n -3.697572648525238,\n -3.697959956085206,\n -3.6987347226235188,\n -3.69815,\n -3.699817259142709,\n -3.6997711672466655,\n -3.6967437786407955,\n -3.699032,\n -3.699123067670385,\n -3.69859,\n -3.6992083295172167,\n -3.697392702478642,\n -3.697403436783447,\n -3.697432464744532,\n -3.698427999999999,\n -3.6956102723972575,\n -3.6981833739403243,\n -3.6967412061319482,\n -3.6973373782873447,\n -3.697099,\n -3.6974761592418637,\n -3.697647396217567,\n -3.697602]"
     },
     "metadata": {},
     "execution_count": 54
    }
   ],
   "source": [
    "longitud = [elem3['venue']['location']['lng'] for elem3 in data[\"response\"]['groups'][0][\"items\"]]\n",
    "longitud"
   ]
  },
  {
   "cell_type": "code",
   "execution_count": 55,
   "metadata": {
    "tags": []
   },
   "outputs": [
    {
     "output_type": "execute_result",
     "data": {
      "text/plain": "[[&#39;Calle San Bartolmé, 14&#39;, &#39;28004 Madrid Madrid&#39;, &#39;España&#39;],\n [&#39;Calle San Gregorio 17&#39;, &#39;28004 Madrid Madrid&#39;, &#39;España&#39;],\n [&#39;Calle del Barquillo 19&#39;, &#39;28004 Madrid Madrid&#39;, &#39;España&#39;],\n [&#39;C. Hortaleza, 84&#39;, &#39;28004 Madrid Madrid&#39;, &#39;España&#39;],\n [&#39;C. Libertad, 12&#39;, &#39;28004 Madrid Madrid&#39;, &#39;España&#39;],\n [&#39;Calle Prim 1&#39;, &#39;28004 Madrid Madrid&#39;, &#39;España&#39;],\n [&#39;C. San Lucas, 11&#39;, &#39;Madrid Madrid&#39;, &#39;España&#39;],\n [&#39;Calle Augusto Figueroa&#39;, &#39;Madrid Madrid&#39;, &#39;España&#39;],\n [&#39;C. San Gregorio, 1 (Pl. de Chueca)&#39;, &#39;28004 Madrid Madrid&#39;, &#39;España&#39;],\n [&#39;Calle Pelayo 60&#39;, &#39;Madrid Madrid&#39;, &#39;España&#39;],\n [&#39;Augusto figueroa 33&#39;, &#39;28004 Madrid Madrid&#39;, &#39;España&#39;],\n [&#39;San Bartolome 10 (Augusto Figueroa)&#39;, &#39;28004 Madrid Madrid&#39;, &#39;España&#39;],\n [&#39;C. Gravina, 19&#39;, &#39;28004 Madrid Madrid&#39;, &#39;España&#39;],\n [&#39;Augusto Figueroa 24&#39;, &#39;Madrid Madrid&#39;, &#39;España&#39;],\n [&#39;C. Hortaleza, 63 (C. Farmacia)&#39;, &#39;28004 Madrid Madrid&#39;, &#39;España&#39;],\n [&#39;Valgame Dios, 4&#39;, &#39;España&#39;],\n [&#39;barbieri 14&#39;, &#39;28004 Madrid Madrid&#39;, &#39;España&#39;],\n [&#39;C. Augusto Figueroa, 35&#39;, &#39;28004 Madrid Madrid&#39;, &#39;España&#39;],\n [&#39;C. de la Libertad, 16&#39;, &#39;28004 Madrid Madrid&#39;, &#39;España&#39;],\n [&#39;Calle de Pelayo, 24&#39;, &#39;28004 Madrid Madrid&#39;, &#39;España&#39;],\n [&#39;C. Pelayo, 35&#39;, &#39;28004 Madrid Madrid&#39;, &#39;España&#39;],\n [&#39;Calle San Gregorio 11&#39;, &#39;28004 Madrid Madrid&#39;, &#39;España&#39;],\n [&#39;Calle de la Libertad 17&#39;, &#39;28004 Madrid Madrid&#39;, &#39;España&#39;],\n [&#39;C. Hortaleza, 52 (C. de Pelayo)&#39;, &#39;28004 Madrid Madrid&#39;, &#39;España&#39;],\n [&#39;C. Colmenares, 13 (C. San Marcos)&#39;, &#39;28004 Madrid Madrid&#39;, &#39;España&#39;],\n [&#39;C. Augusto Figueroa, 28 (C. Libertad)&#39;, &#39;28004 Madrid Madrid&#39;, &#39;España&#39;],\n [&#39;C. Barquillo, 30&#39;, &#39;28004 Madrid Madrid&#39;, &#39;España&#39;],\n [&#39;47 Calle de Augusto Figueroa&#39;, &#39;28004 Madrid Madrid&#39;, &#39;España&#39;],\n [&#39;Mercado de San Antón (C. Augusto Figueroa, 24)&#39;,\n  &#39;28004 Madrid Madrid&#39;,\n  &#39;España&#39;],\n [&#39;C. Barbieri, 15&#39;, &#39;28004 Madrid Madrid&#39;, &#39;España&#39;],\n [&#39;C. Hortaleza, 78&#39;, &#39;28004 Madrid Madrid&#39;, &#39;España&#39;],\n [&#39;Calle Pelayo&#39;, &#39;28004 Madrid Madrid&#39;, &#39;España&#39;],\n [&#39;Augusto Figueroa 8&#39;, &#39;Madrid Madrid&#39;, &#39;España&#39;],\n [&#39;C. Augusto Figueroa&#39;, &#39;28004 Madrid Madrid&#39;, &#39;España&#39;],\n [&#39;C. Colmenares, 13&#39;, &#39;28014 Madrid Madrid&#39;, &#39;España&#39;],\n [&#39;Augusto Figueroa, 21&#39;, &#39;Madrid Centro Madrid&#39;, &#39;España&#39;],\n [&#39;C. Pelayo, 4&#39;, &#39;Madrid Madrid&#39;, &#39;España&#39;],\n [&#39;San Bartolomé 23&#39;, &#39;Madrid Madrid&#39;, &#39;España&#39;],\n [&#39;C. Pelayo, 2&#39;, &#39;28004 Madrid Madrid&#39;, &#39;España&#39;],\n [&#39;C. Libertad, 21&#39;, &#39;28004 Madrid Madrid&#39;, &#39;España&#39;],\n [&#39;C/ Libertad 23&#39;, &#39;28004 Madrid Madrid&#39;, &#39;España&#39;],\n [&#39;España&#39;],\n [&#39;Calle de San Marcos 24&#39;, &#39;28004 Madrid Madrid&#39;, &#39;España&#39;],\n [&#39;C. Barquillo, 24&#39;, &#39;28004 Madrid Madrid&#39;, &#39;España&#39;],\n [&#39;C. Gravina, 4 (C. Pelayo)&#39;, &#39;28004 Madrid Madrid&#39;, &#39;España&#39;],\n [&#39;C. Augusto Figueroa, 32&#39;, &#39;28004 Madrid Madrid&#39;, &#39;España&#39;],\n [&#39;C. San Marcos, 37 (C. Libertad)&#39;, &#39;28004 Madrid Madrid&#39;, &#39;España&#39;],\n [&#39;Gravina 12&#39;, &#39;28004 Madrid Madrid&#39;, &#39;España&#39;],\n [&#39;C. Pelayo, 60&#39;, &#39;28004 Madrid Madrid&#39;, &#39;España&#39;],\n [&#39;Mercado de San Antón&#39;, &#39;28004 Madrid Madrid&#39;, &#39;España&#39;],\n [&#39;C. Augusto Figueroa, 24&#39;, &#39;Madrid Madrid&#39;, &#39;España&#39;]]"
     },
     "metadata": {},
     "execution_count": 55
    }
   ],
   "source": [
    "direccion = [elem4['venue']['location']['formattedAddress'] for elem4 in data[\"response\"]['groups'][0][\"items\"]]\n",
    "direccion"
   ]
  },
  {
   "cell_type": "code",
   "execution_count": 56,
   "metadata": {},
   "outputs": [
    {
     "output_type": "execute_result",
     "data": {
      "text/plain": "&#39;Calle San Bartolmé, 14&#39;"
     },
     "metadata": {},
     "execution_count": 56
    }
   ],
   "source": [
    "data[\"response\"]['groups'][0]['items'][0]['venue']['location']['address']"
   ]
  },
  {
   "cell_type": "code",
   "execution_count": 57,
   "metadata": {},
   "outputs": [
    {
     "output_type": "execute_result",
     "data": {
      "text/plain": "{&#39;id&#39;: &#39;4bf58dd8d48988d1c4941735&#39;,\n &#39;name&#39;: &#39;Restaurant&#39;,\n &#39;pluralName&#39;: &#39;Restaurants&#39;,\n &#39;shortName&#39;: &#39;Restaurant&#39;,\n &#39;icon&#39;: {&#39;prefix&#39;: &#39;https://ss3.4sqi.net/img/categories_v2/food/default_&#39;,\n  &#39;suffix&#39;: &#39;.png&#39;},\n &#39;primary&#39;: True}"
     },
     "metadata": {},
     "execution_count": 57
    }
   ],
   "source": [
    "data[\"response\"]['groups'][0][\"items\"][0]['venue']['categories'][0]"
   ]
  },
  {
   "cell_type": "code",
   "execution_count": 83,
   "metadata": {
    "tags": []
   },
   "outputs": [
    {
     "output_type": "error",
     "ename": "KeyError",
     "evalue": "&#39;address&#39;",
     "traceback": [
      "\u001b[1;31m---------------------------------------------------------------------------\u001b[0m",
      "\u001b[1;31mKeyError\u001b[0m                                  Traceback (most recent call last)",
      "\u001b[1;32m&lt;ipython-input-83-11f3fc0048dd&gt;\u001b[0m in \u001b[0;36m&lt;module&gt;\u001b[1;34m\u001b[0m\n\u001b[0;32m      1\u001b[0m \u001b[1;31m# data[&quot;response&quot;][&#39;groups&#39;][0][&#39;items&#39;][0][&#39;venue&#39;][&#39;location&#39;][&#39;address&#39;]\u001b[0m\u001b[1;33m\u001b[0m\u001b[1;33m\u001b[0m\u001b[1;33m\u001b[0m\u001b[0m\n\u001b[1;32m----&gt; 2\u001b[1;33m \u001b[0mcalle\u001b[0m \u001b[1;33m=\u001b[0m \u001b[1;33m[\u001b[0m\u001b[1;33m(\u001b[0m\u001b[0melem\u001b[0m\u001b[1;33m[\u001b[0m\u001b[1;34m&#39;venue&#39;\u001b[0m\u001b[1;33m]\u001b[0m\u001b[1;33m[\u001b[0m\u001b[1;34m&#39;location&#39;\u001b[0m\u001b[1;33m]\u001b[0m\u001b[1;33m[\u001b[0m\u001b[1;34m&#39;address&#39;\u001b[0m\u001b[1;33m]\u001b[0m \u001b[1;33m)\u001b[0m \u001b[1;32mif\u001b[0m \u001b[0melem\u001b[0m\u001b[1;33m[\u001b[0m\u001b[1;34m&#39;venue&#39;\u001b[0m\u001b[1;33m]\u001b[0m\u001b[1;33m[\u001b[0m\u001b[1;34m&#39;location&#39;\u001b[0m\u001b[1;33m]\u001b[0m\u001b[1;33m[\u001b[0m\u001b[1;34m&#39;address&#39;\u001b[0m\u001b[1;33m]\u001b[0m \u001b[1;32melse\u001b[0m \u001b[0mprint\u001b[0m\u001b[1;33m(\u001b[0m\u001b[1;34m&#39;No existe&#39;\u001b[0m\u001b[1;33m)\u001b[0m \u001b[1;32mfor\u001b[0m \u001b[0melem\u001b[0m \u001b[1;32min\u001b[0m \u001b[0mdata\u001b[0m\u001b[1;33m[\u001b[0m\u001b[1;34m&quot;response&quot;\u001b[0m\u001b[1;33m]\u001b[0m\u001b[1;33m[\u001b[0m\u001b[1;34m&#39;groups&#39;\u001b[0m\u001b[1;33m]\u001b[0m\u001b[1;33m[\u001b[0m\u001b[1;36m0\u001b[0m\u001b[1;33m]\u001b[0m\u001b[1;33m[\u001b[0m\u001b[1;34m&quot;items&quot;\u001b[0m\u001b[1;33m]\u001b[0m\u001b[1;33m]\u001b[0m\u001b[1;33m\u001b[0m\u001b[1;33m\u001b[0m\u001b[0m\n\u001b[0m\u001b[0;32m      3\u001b[0m \u001b[0mcalle\u001b[0m\u001b[1;33m\u001b[0m\u001b[1;33m\u001b[0m\u001b[0m\n",
      "\u001b[1;32m&lt;ipython-input-83-11f3fc0048dd&gt;\u001b[0m in \u001b[0;36m&lt;listcomp&gt;\u001b[1;34m(.0)\u001b[0m\n\u001b[0;32m      1\u001b[0m \u001b[1;31m# data[&quot;response&quot;][&#39;groups&#39;][0][&#39;items&#39;][0][&#39;venue&#39;][&#39;location&#39;][&#39;address&#39;]\u001b[0m\u001b[1;33m\u001b[0m\u001b[1;33m\u001b[0m\u001b[1;33m\u001b[0m\u001b[0m\n\u001b[1;32m----&gt; 2\u001b[1;33m \u001b[0mcalle\u001b[0m \u001b[1;33m=\u001b[0m \u001b[1;33m[\u001b[0m\u001b[1;33m(\u001b[0m\u001b[0melem\u001b[0m\u001b[1;33m[\u001b[0m\u001b[1;34m&#39;venue&#39;\u001b[0m\u001b[1;33m]\u001b[0m\u001b[1;33m[\u001b[0m\u001b[1;34m&#39;location&#39;\u001b[0m\u001b[1;33m]\u001b[0m\u001b[1;33m[\u001b[0m\u001b[1;34m&#39;address&#39;\u001b[0m\u001b[1;33m]\u001b[0m \u001b[1;33m)\u001b[0m \u001b[1;32mif\u001b[0m \u001b[0melem\u001b[0m\u001b[1;33m[\u001b[0m\u001b[1;34m&#39;venue&#39;\u001b[0m\u001b[1;33m]\u001b[0m\u001b[1;33m[\u001b[0m\u001b[1;34m&#39;location&#39;\u001b[0m\u001b[1;33m]\u001b[0m\u001b[1;33m[\u001b[0m\u001b[1;34m&#39;address&#39;\u001b[0m\u001b[1;33m]\u001b[0m \u001b[1;32melse\u001b[0m \u001b[0mprint\u001b[0m\u001b[1;33m(\u001b[0m\u001b[1;34m&#39;No existe&#39;\u001b[0m\u001b[1;33m)\u001b[0m \u001b[1;32mfor\u001b[0m \u001b[0melem\u001b[0m \u001b[1;32min\u001b[0m \u001b[0mdata\u001b[0m\u001b[1;33m[\u001b[0m\u001b[1;34m&quot;response&quot;\u001b[0m\u001b[1;33m]\u001b[0m\u001b[1;33m[\u001b[0m\u001b[1;34m&#39;groups&#39;\u001b[0m\u001b[1;33m]\u001b[0m\u001b[1;33m[\u001b[0m\u001b[1;36m0\u001b[0m\u001b[1;33m]\u001b[0m\u001b[1;33m[\u001b[0m\u001b[1;34m&quot;items&quot;\u001b[0m\u001b[1;33m]\u001b[0m\u001b[1;33m]\u001b[0m\u001b[1;33m\u001b[0m\u001b[1;33m\u001b[0m\u001b[0m\n\u001b[0m\u001b[0;32m      3\u001b[0m \u001b[0mcalle\u001b[0m\u001b[1;33m\u001b[0m\u001b[1;33m\u001b[0m\u001b[0m\n",
      "\u001b[1;31mKeyError\u001b[0m: &#39;address&#39;"
     ]
    }
   ],
   "source": [
    "\n",
    "# data[\"response\"]['groups'][0]['items'][0]['venue']['location']['address']\n",
    "calle = [(elem['venue']['location']['address'] ) if elem['venue']['location']['address'] else print('No existe') for elem in data[\"response\"]['groups'][0][\"items\"]]\n",
    "calle"
   ]
  },
  {
   "cell_type": "code",
   "execution_count": 58,
   "metadata": {},
   "outputs": [],
   "source": [
    "tipo = [elem['venue']['categories'][0]['pluralName'] for elem in data[\"response\"]['groups'][0][\"items\"]]"
   ]
  },
  {
   "cell_type": "code",
   "execution_count": 59,
   "metadata": {},
   "outputs": [
    {
     "output_type": "execute_result",
     "data": {
      "text/plain": "[&#39;Restaurants&#39;,\n &#39;Vegetarian / Vegan Restaurants&#39;,\n &#39;Bakeries&#39;,\n &#39;Italian Restaurants&#39;,\n &#39;Gastropubs&#39;,\n &#39;Bakeries&#39;,\n &#39;American Restaurants&#39;,\n &#39;Cafés&#39;,\n &#39;Bakeries&#39;,\n &#39;Sushi Restaurants&#39;,\n &#39;Restaurants&#39;,\n &#39;Japanese Restaurants&#39;,\n &#39;Spanish Restaurants&#39;,\n &#39;Delis / Bodegas&#39;,\n &#39;Italian Restaurants&#39;,\n &#39;Restaurants&#39;,\n &#39;Pizza Places&#39;,\n &#39;Spanish Restaurants&#39;,\n &#39;Spanish Restaurants&#39;,\n &#39;Spanish Restaurants&#39;,\n &#39;Vegetarian / Vegan Restaurants&#39;,\n &#39;Greek Restaurants&#39;,\n &#39;Hawaiian Restaurants&#39;,\n &#39;Spanish Restaurants&#39;,\n &#39;Restaurants&#39;,\n &#39;Delis / Bodegas&#39;,\n &#39;Latin American Restaurants&#39;,\n &#39;Restaurants&#39;,\n &#39;Spanish Restaurants&#39;,\n &#39;Bistros&#39;,\n &#39;Sandwich Places&#39;,\n &#39;Tapas Restaurants&#39;,\n &#39;Greek Restaurants&#39;,\n &#39;Restaurants&#39;,\n &#39;Restaurants&#39;,\n &#39;Restaurants&#39;,\n &#39;Mexican Restaurants&#39;,\n &#39;Italian Restaurants&#39;,\n &#39;Arepa Restaurants&#39;,\n &#39;Mediterranean Restaurants&#39;,\n &#39;Burger Joints&#39;,\n &#39;Restaurants&#39;,\n &#39;Vietnamese Restaurants&#39;,\n &#39;Asian Restaurants&#39;,\n &#39;Tapas Restaurants&#39;,\n &#39;Spanish Restaurants&#39;,\n &#39;Mediterranean Restaurants&#39;,\n &#39;Cafés&#39;,\n &#39;Spanish Restaurants&#39;,\n &#39;Burger Joints&#39;,\n &#39;Tapas Restaurants&#39;]"
     },
     "metadata": {},
     "execution_count": 59
    }
   ],
   "source": [
    "tipo"
   ]
  },
  {
   "cell_type": "code",
   "execution_count": 60,
   "metadata": {},
   "outputs": [],
   "source": [
    "BBDD = {'Restaurant': nombre, 'Style':tipo, 'Address':direccion, 'latitude':latitud, 'lomgitude':longitud}"
   ]
  },
  {
   "cell_type": "code",
   "execution_count": 61,
   "metadata": {},
   "outputs": [
    {
     "output_type": "execute_result",
     "data": {
      "text/plain": "     Restaurant                           Style  \\\n0     Kuoco 360                     Restaurants   \n1  Bunny&#39;s Deli  Vegetarian / Vegan Restaurants   \n2     celicioso                        Bakeries   \n3     Pizzaiolo             Italian Restaurants   \n4         Vides                      Gastropubs   \n\n                                             Address   latitude  lomgitude  \n0  [Calle San Bartolmé, 14, 28004 Madrid Madrid, ...  40.421842  -3.698456  \n1  [Calle San Gregorio 17, 28004 Madrid Madrid, E...  40.423935  -3.697158  \n2  [Calle del Barquillo 19, 28004 Madrid Madrid, ...  40.422112  -3.695726  \n3    [C. Hortaleza, 84, 28004 Madrid Madrid, España]  40.423795  -3.698597  \n4     [C. Libertad, 12, 28004 Madrid Madrid, España]  40.421017  -3.697354  ",
      "text/html": "<div>\n<style scoped>\n    .dataframe tbody tr th:only-of-type {\n        vertical-align: middle;\n    }\n\n    .dataframe tbody tr th {\n        vertical-align: top;\n    }\n\n    .dataframe thead th {\n        text-align: right;\n    }\n</style>\n<table border=\"1\" class=\"dataframe\">\n  <thead>\n    <tr style=\"text-align: right;\">\n      <th></th>\n      <th>Restaurant</th>\n      <th>Style</th>\n      <th>Address</th>\n      <th>latitude</th>\n      <th>lomgitude</th>\n    </tr>\n  </thead>\n  <tbody>\n    <tr>\n      <th>0</th>\n      <td>Kuoco 360</td>\n      <td>Restaurants</td>\n      <td>[Calle San Bartolmé, 14, 28004 Madrid Madrid, ...</td>\n      <td>40.421842</td>\n      <td>-3.698456</td>\n    </tr>\n    <tr>\n      <th>1</th>\n      <td>Bunny's Deli</td>\n      <td>Vegetarian / Vegan Restaurants</td>\n      <td>[Calle San Gregorio 17, 28004 Madrid Madrid, E...</td>\n      <td>40.423935</td>\n      <td>-3.697158</td>\n    </tr>\n    <tr>\n      <th>2</th>\n      <td>celicioso</td>\n      <td>Bakeries</td>\n      <td>[Calle del Barquillo 19, 28004 Madrid Madrid, ...</td>\n      <td>40.422112</td>\n      <td>-3.695726</td>\n    </tr>\n    <tr>\n      <th>3</th>\n      <td>Pizzaiolo</td>\n      <td>Italian Restaurants</td>\n      <td>[C. Hortaleza, 84, 28004 Madrid Madrid, España]</td>\n      <td>40.423795</td>\n      <td>-3.698597</td>\n    </tr>\n    <tr>\n      <th>4</th>\n      <td>Vides</td>\n      <td>Gastropubs</td>\n      <td>[C. Libertad, 12, 28004 Madrid Madrid, España]</td>\n      <td>40.421017</td>\n      <td>-3.697354</td>\n    </tr>\n  </tbody>\n</table>\n</div>"
     },
     "metadata": {},
     "execution_count": 61
    }
   ],
   "source": [
    "df = pd.DataFrame(BBDD)\n",
    "df.head()"
   ]
  },
  {
   "cell_type": "code",
   "execution_count": 62,
   "metadata": {},
   "outputs": [],
   "source": [
    "df = df[~((df['Style'] == 'Cafés') | (df['Style']== 'Delis / Bodegas') | (df['Style']== 'Bakeries')| (df['Restaurant']== 'Cocinadeldesierto'))]\n"
   ]
  },
  {
   "cell_type": "code",
   "execution_count": 63,
   "metadata": {
    "tags": []
   },
   "outputs": [
    {
     "output_type": "stream",
     "name": "stdout",
     "text": "&lt;class &#39;pandas.core.frame.DataFrame&#39;&gt;\nInt64Index: 43 entries, 0 to 50\nData columns (total 5 columns):\n #   Column      Non-Null Count  Dtype  \n---  ------      --------------  -----  \n 0   Restaurant  43 non-null     object \n 1   Style       43 non-null     object \n 2   Address     43 non-null     object \n 3   latitude    43 non-null     float64\n 4   lomgitude   43 non-null     float64\ndtypes: float64(2), object(3)\nmemory usage: 2.0+ KB\n"
    }
   ],
   "source": [
    "df.info()"
   ]
  },
  {
   "cell_type": "code",
   "execution_count": 64,
   "metadata": {},
   "outputs": [
    {
     "output_type": "execute_result",
     "data": {
      "text/plain": "     Restaurant                           Style  \\\n0     Kuoco 360                     Restaurants   \n1  Bunny&#39;s Deli  Vegetarian / Vegan Restaurants   \n3     Pizzaiolo             Italian Restaurants   \n4         Vides                      Gastropubs   \n6    Food Truck            American Restaurants   \n\n                                             Address   latitude  lomgitude  \n0  [Calle San Bartolmé, 14, 28004 Madrid Madrid, ...  40.421842  -3.698456  \n1  [Calle San Gregorio 17, 28004 Madrid Madrid, E...  40.423935  -3.697158  \n3    [C. Hortaleza, 84, 28004 Madrid Madrid, España]  40.423795  -3.698597  \n4     [C. Libertad, 12, 28004 Madrid Madrid, España]  40.421017  -3.697354  \n6          [C. San Lucas, 11, Madrid Madrid, España]  40.423816  -3.696086  ",
      "text/html": "<div>\n<style scoped>\n    .dataframe tbody tr th:only-of-type {\n        vertical-align: middle;\n    }\n\n    .dataframe tbody tr th {\n        vertical-align: top;\n    }\n\n    .dataframe thead th {\n        text-align: right;\n    }\n</style>\n<table border=\"1\" class=\"dataframe\">\n  <thead>\n    <tr style=\"text-align: right;\">\n      <th></th>\n      <th>Restaurant</th>\n      <th>Style</th>\n      <th>Address</th>\n      <th>latitude</th>\n      <th>lomgitude</th>\n    </tr>\n  </thead>\n  <tbody>\n    <tr>\n      <th>0</th>\n      <td>Kuoco 360</td>\n      <td>Restaurants</td>\n      <td>[Calle San Bartolmé, 14, 28004 Madrid Madrid, ...</td>\n      <td>40.421842</td>\n      <td>-3.698456</td>\n    </tr>\n    <tr>\n      <th>1</th>\n      <td>Bunny's Deli</td>\n      <td>Vegetarian / Vegan Restaurants</td>\n      <td>[Calle San Gregorio 17, 28004 Madrid Madrid, E...</td>\n      <td>40.423935</td>\n      <td>-3.697158</td>\n    </tr>\n    <tr>\n      <th>3</th>\n      <td>Pizzaiolo</td>\n      <td>Italian Restaurants</td>\n      <td>[C. Hortaleza, 84, 28004 Madrid Madrid, España]</td>\n      <td>40.423795</td>\n      <td>-3.698597</td>\n    </tr>\n    <tr>\n      <th>4</th>\n      <td>Vides</td>\n      <td>Gastropubs</td>\n      <td>[C. Libertad, 12, 28004 Madrid Madrid, España]</td>\n      <td>40.421017</td>\n      <td>-3.697354</td>\n    </tr>\n    <tr>\n      <th>6</th>\n      <td>Food Truck</td>\n      <td>American Restaurants</td>\n      <td>[C. San Lucas, 11, Madrid Madrid, España]</td>\n      <td>40.423816</td>\n      <td>-3.696086</td>\n    </tr>\n  </tbody>\n</table>\n</div>"
     },
     "metadata": {},
     "execution_count": 64
    }
   ],
   "source": [
    "df.head()"
   ]
  },
  {
   "cell_type": "code",
   "execution_count": 65,
   "metadata": {},
   "outputs": [
    {
     "output_type": "execute_result",
     "data": {
      "text/plain": "                 Restaurant                      Style  \\\n38         Restaurante Arce        Spanish Restaurants   \n39  Diurno Restaurant &amp; Bar  Mediterranean Restaurants   \n40                Bagatella        Spanish Restaurants   \n41       Hamburguesa Nostra              Burger Joints   \n42            La Trastienda          Tapas Restaurants   \n\n                                              Address   latitude  lomgitude  \n38  [C. Augusto Figueroa, 32, 28004 Madrid Madrid,...  40.422073  -3.696741  \n39  [C. San Marcos, 37 (C. Libertad), 28004 Madrid...  40.421300  -3.697337  \n40       [C. Pelayo, 60, 28004 Madrid Madrid, España]  40.424182  -3.697476  \n41  [Mercado de San Antón, 28004 Madrid Madrid, Es...  40.422027  -3.697647  \n42   [C. Augusto Figueroa, 24, Madrid Madrid, España]  40.421973  -3.697602  ",
      "text/html": "<div>\n<style scoped>\n    .dataframe tbody tr th:only-of-type {\n        vertical-align: middle;\n    }\n\n    .dataframe tbody tr th {\n        vertical-align: top;\n    }\n\n    .dataframe thead th {\n        text-align: right;\n    }\n</style>\n<table border=\"1\" class=\"dataframe\">\n  <thead>\n    <tr style=\"text-align: right;\">\n      <th></th>\n      <th>Restaurant</th>\n      <th>Style</th>\n      <th>Address</th>\n      <th>latitude</th>\n      <th>lomgitude</th>\n    </tr>\n  </thead>\n  <tbody>\n    <tr>\n      <th>38</th>\n      <td>Restaurante Arce</td>\n      <td>Spanish Restaurants</td>\n      <td>[C. Augusto Figueroa, 32, 28004 Madrid Madrid,...</td>\n      <td>40.422073</td>\n      <td>-3.696741</td>\n    </tr>\n    <tr>\n      <th>39</th>\n      <td>Diurno Restaurant &amp; Bar</td>\n      <td>Mediterranean Restaurants</td>\n      <td>[C. San Marcos, 37 (C. Libertad), 28004 Madrid...</td>\n      <td>40.421300</td>\n      <td>-3.697337</td>\n    </tr>\n    <tr>\n      <th>40</th>\n      <td>Bagatella</td>\n      <td>Spanish Restaurants</td>\n      <td>[C. Pelayo, 60, 28004 Madrid Madrid, España]</td>\n      <td>40.424182</td>\n      <td>-3.697476</td>\n    </tr>\n    <tr>\n      <th>41</th>\n      <td>Hamburguesa Nostra</td>\n      <td>Burger Joints</td>\n      <td>[Mercado de San Antón, 28004 Madrid Madrid, Es...</td>\n      <td>40.422027</td>\n      <td>-3.697647</td>\n    </tr>\n    <tr>\n      <th>42</th>\n      <td>La Trastienda</td>\n      <td>Tapas Restaurants</td>\n      <td>[C. Augusto Figueroa, 24, Madrid Madrid, España]</td>\n      <td>40.421973</td>\n      <td>-3.697602</td>\n    </tr>\n  </tbody>\n</table>\n</div>"
     },
     "metadata": {},
     "execution_count": 65
    }
   ],
   "source": [
    "df = df.rename_axis('index').reset_index()\n",
    "df = df.drop('index', 1)\n",
    "df.tail()"
   ]
  },
  {
   "cell_type": "code",
   "execution_count": 66,
   "metadata": {},
   "outputs": [],
   "source": [
    "restaurants_Chueca = df.to_json( orient='index')\n",
    "parsed = json.loads(restaurants_Chueca)\n",
    "with open('restaurants_Chueca.json', 'w+') as outfile:\n",
    "    json.dump(parsed, outfile, indent=4)"
   ]
  },
  {
   "cell_type": "code",
   "execution_count": 58,
   "metadata": {},
   "outputs": [],
   "source": [
    "rest_Chueca =df.to_json(orient='columns')\n",
    "parsed = json.loads(rest_Chueca)\n",
    "with open('rest_Chueca.json', 'w+') as outfile:\n",
    "    json.dump(parsed, outfile, indent=4)"
   ]
  },
  {
   "cell_type": "code",
   "execution_count": 67,
   "metadata": {},
   "outputs": [],
   "source": [
    "rest_Chueca2 =df.to_json(orient='split')\n",
    "parsed = json.loads(rest_Chueca2)\n",
    "with open('rest_Chueca2.json', 'w+') as outfile:\n",
    "    json.dump(parsed, outfile, indent=4)"
   ]
  },
  {
   "cell_type": "code",
   "execution_count": 68,
   "metadata": {},
   "outputs": [],
   "source": [
    "rest_Chueca3 =df.to_json(orient='records')\n",
    "parsed = json.loads(rest_Chueca3)\n",
    "with open('rest_Chueca3.json', 'w+') as outfile:\n",
    "    json.dump(parsed, outfile, indent=4)"
   ]
  },
  {
   "cell_type": "code",
   "execution_count": 69,
   "metadata": {},
   "outputs": [],
   "source": [
    "rest_Chueca4 =df.to_json(orient='values')\n",
    "parsed = json.loads(rest_Chueca4)\n",
    "with open('rest_Chueca4.json', 'w+') as outfile:\n",
    "    json.dump(parsed, outfile, indent=4)"
   ]
  },
  {
   "cell_type": "code",
   "execution_count": 70,
   "metadata": {},
   "outputs": [],
   "source": [
    "rest_Chueca6 =df.to_json(orient='table')\n",
    "parsed = json.loads(rest_Chueca6)\n",
    "with open('rest_Chueca6.json', 'w+') as outfile:\n",
    "    json.dump(parsed, outfile, indent=4)"
   ]
  },
  {
   "cell_type": "code",
   "execution_count": 71,
   "metadata": {},
   "outputs": [
    {
     "output_type": "execute_result",
     "data": {
      "text/plain": "     Restaurant                           Style  \\\n0     Kuoco 360                     Restaurants   \n1  Bunny&#39;s Deli  Vegetarian / Vegan Restaurants   \n2     Pizzaiolo             Italian Restaurants   \n3         Vides                      Gastropubs   \n4    Food Truck            American Restaurants   \n\n                                             Address   latitude  lomgitude  \n0  [Calle San Bartolmé, 14, 28004 Madrid Madrid, ...  40.421842  -3.698456  \n1  [Calle San Gregorio 17, 28004 Madrid Madrid, E...  40.423935  -3.697158  \n2    [C. Hortaleza, 84, 28004 Madrid Madrid, España]  40.423795  -3.698597  \n3     [C. Libertad, 12, 28004 Madrid Madrid, España]  40.421017  -3.697354  \n4          [C. San Lucas, 11, Madrid Madrid, España]  40.423816  -3.696086  ",
      "text/html": "<div>\n<style scoped>\n    .dataframe tbody tr th:only-of-type {\n        vertical-align: middle;\n    }\n\n    .dataframe tbody tr th {\n        vertical-align: top;\n    }\n\n    .dataframe thead th {\n        text-align: right;\n    }\n</style>\n<table border=\"1\" class=\"dataframe\">\n  <thead>\n    <tr style=\"text-align: right;\">\n      <th></th>\n      <th>Restaurant</th>\n      <th>Style</th>\n      <th>Address</th>\n      <th>latitude</th>\n      <th>lomgitude</th>\n    </tr>\n  </thead>\n  <tbody>\n    <tr>\n      <th>0</th>\n      <td>Kuoco 360</td>\n      <td>Restaurants</td>\n      <td>[Calle San Bartolmé, 14, 28004 Madrid Madrid, ...</td>\n      <td>40.421842</td>\n      <td>-3.698456</td>\n    </tr>\n    <tr>\n      <th>1</th>\n      <td>Bunny's Deli</td>\n      <td>Vegetarian / Vegan Restaurants</td>\n      <td>[Calle San Gregorio 17, 28004 Madrid Madrid, E...</td>\n      <td>40.423935</td>\n      <td>-3.697158</td>\n    </tr>\n    <tr>\n      <th>2</th>\n      <td>Pizzaiolo</td>\n      <td>Italian Restaurants</td>\n      <td>[C. Hortaleza, 84, 28004 Madrid Madrid, España]</td>\n      <td>40.423795</td>\n      <td>-3.698597</td>\n    </tr>\n    <tr>\n      <th>3</th>\n      <td>Vides</td>\n      <td>Gastropubs</td>\n      <td>[C. Libertad, 12, 28004 Madrid Madrid, España]</td>\n      <td>40.421017</td>\n      <td>-3.697354</td>\n    </tr>\n    <tr>\n      <th>4</th>\n      <td>Food Truck</td>\n      <td>American Restaurants</td>\n      <td>[C. San Lucas, 11, Madrid Madrid, España]</td>\n      <td>40.423816</td>\n      <td>-3.696086</td>\n    </tr>\n  </tbody>\n</table>\n</div>"
     },
     "metadata": {},
     "execution_count": 71
    }
   ],
   "source": [
    "# Estoy probando como se ve el json que he creado anteriormente\n",
    "prueba1 = pd.read_json(\"rest_Chueca.json\")\n",
    "prueba1.head()"
   ]
  },
  {
   "cell_type": "code",
   "execution_count": 65,
   "metadata": {},
   "outputs": [
    {
     "output_type": "execute_result",
     "data": {
      "text/plain": "                                                           0   \\\nRestaurant                                          Kuoco 360   \nStyle                                             Restaurants   \nAddress     [Calle San Bartolmé, 14, 28004 Madrid Madrid, ...   \nlatitude                                              40.4218   \nlomgitude                                            -3.69846   \n\n                                                           1   \\\nRestaurant                                       Bunny&#39;s Deli   \nStyle                          Vegetarian / Vegan Restaurants   \nAddress     [Calle San Gregorio 17, 28004 Madrid Madrid, E...   \nlatitude                                              40.4239   \nlomgitude                                            -3.69716   \n\n                                                         2   \\\nRestaurant                                        Pizzaiolo   \nStyle                                   Italian Restaurants   \nAddress     [C. Hortaleza, 84, 28004 Madrid Madrid, España]   \nlatitude                                            40.4238   \nlomgitude                                           -3.6986   \n\n                                                        3   \\\nRestaurant                                           Vides   \nStyle                                           Gastropubs   \nAddress     [C. Libertad, 12, 28004 Madrid Madrid, España]   \nlatitude                                            40.421   \nlomgitude                                         -3.69735   \n\n                                                   4   \\\nRestaurant                                 Food Truck   \nStyle                            American Restaurants   \nAddress     [C. San Lucas, 11, Madrid Madrid, España]   \nlatitude                                      40.4238   \nlomgitude                                    -3.69609   \n\n                                                    5   \\\nRestaurant                                     Hot Now   \nStyle                                     Pizza Places   \nAddress     [barbieri 14, 28004 Madrid Madrid, España]   \nlatitude                                       40.4213   \nlomgitude                                     -3.69803   \n\n                                                           6   \\\nRestaurant                                        Izakaya Han   \nStyle                                    Japanese Restaurants   \nAddress     [San Bartolome 10 (Augusto Figueroa), 28004 Ma...   \nlatitude                                              40.4218   \nlomgitude                                            -3.69848   \n\n                                                       7   \\\nRestaurant                                  El Cisne Azul   \nStyle                                 Spanish Restaurants   \nAddress     [C. Gravina, 19, 28004 Madrid Madrid, España]   \nlatitude                                          40.4226   \nlomgitude                                        -3.69673   \n\n                                                  8   \\\nRestaurant                                   Sr. Ito   \nStyle                              Sushi Restaurants   \nAddress     [Calle Pelayo 60, Madrid Madrid, España]   \nlatitude                                     40.4242   \nlomgitude                                   -3.69746   \n\n                                                           9   ...  \\\nRestaurant                                            Morgana  ...   \nStyle                                             Restaurants  ...   \nAddress     [Augusto figueroa 33, 28004 Madrid Madrid, Esp...  ...   \nlatitude                                              40.4222  ...   \nlomgitude                                            -3.69781  ...   \n\n                                                        33  \\\nRestaurant                                          Bazaar   \nStyle                            Mediterranean Restaurants   \nAddress     [C. Libertad, 21, 28004 Madrid Madrid, España]   \nlatitude                                           40.4213   \nlomgitude                                         -3.69739   \n\n                                                         34  \\\nRestaurant                                          tuk tuk   \nStyle                                     Asian Restaurants   \nAddress     [C. Barquillo, 24, 28004 Madrid Madrid, España]   \nlatitude                                            40.4226   \nlomgitude                                          -3.69561   \n\n                                                       35  \\\nRestaurant                                B&amp;B Restaurante   \nStyle                                       Burger Joints   \nAddress     [C/ Libertad 23, 28004 Madrid Madrid, España]   \nlatitude                                          40.4214   \nlomgitude                                         -3.6974   \n\n                                                           36  \\\nRestaurant                              Restaurante Vietnam24   \nStyle                                  Vietnamese Restaurants   \nAddress     [Calle de San Marcos 24, 28004 Madrid Madrid, ...   \nlatitude                                              40.4213   \nlomgitude                                            -3.69843   \n\n                                                           37  \\\nRestaurant                                     Taberna El Buo   \nStyle                                       Tapas Restaurants   \nAddress     [C. Gravina, 4 (C. Pelayo), 28004 Madrid Madri...   \nlatitude                                              40.4232   \nlomgitude                                            -3.69818   \n\n                                                           38  \\\nRestaurant                                   Restaurante Arce   \nStyle                                     Spanish Restaurants   \nAddress     [C. Augusto Figueroa, 32, 28004 Madrid Madrid,...   \nlatitude                                              40.4221   \nlomgitude                                            -3.69674   \n\n                                                           39  \\\nRestaurant                            Diurno Restaurant &amp; Bar   \nStyle                               Mediterranean Restaurants   \nAddress     [C. San Marcos, 37 (C. Libertad), 28004 Madrid...   \nlatitude                                              40.4213   \nlomgitude                                            -3.69734   \n\n                                                      40  \\\nRestaurant                                     Bagatella   \nStyle                                Spanish Restaurants   \nAddress     [C. Pelayo, 60, 28004 Madrid Madrid, España]   \nlatitude                                         40.4242   \nlomgitude                                       -3.69748   \n\n                                                           41  \\\nRestaurant                                 Hamburguesa Nostra   \nStyle                                           Burger Joints   \nAddress     [Mercado de San Antón, 28004 Madrid Madrid, Es...   \nlatitude                                               40.422   \nlomgitude                                            -3.69765   \n\n                                                          42  \nRestaurant                                     La Trastienda  \nStyle                                      Tapas Restaurants  \nAddress     [C. Augusto Figueroa, 24, Madrid Madrid, España]  \nlatitude                                              40.422  \nlomgitude                                            -3.6976  \n\n[5 rows x 43 columns]",
      "text/html": "<div>\n<style scoped>\n    .dataframe tbody tr th:only-of-type {\n        vertical-align: middle;\n    }\n\n    .dataframe tbody tr th {\n        vertical-align: top;\n    }\n\n    .dataframe thead th {\n        text-align: right;\n    }\n</style>\n<table border=\"1\" class=\"dataframe\">\n  <thead>\n    <tr style=\"text-align: right;\">\n      <th></th>\n      <th>0</th>\n      <th>1</th>\n      <th>2</th>\n      <th>3</th>\n      <th>4</th>\n      <th>5</th>\n      <th>6</th>\n      <th>7</th>\n      <th>8</th>\n      <th>9</th>\n      <th>...</th>\n      <th>33</th>\n      <th>34</th>\n      <th>35</th>\n      <th>36</th>\n      <th>37</th>\n      <th>38</th>\n      <th>39</th>\n      <th>40</th>\n      <th>41</th>\n      <th>42</th>\n    </tr>\n  </thead>\n  <tbody>\n    <tr>\n      <th>Restaurant</th>\n      <td>Kuoco 360</td>\n      <td>Bunny's Deli</td>\n      <td>Pizzaiolo</td>\n      <td>Vides</td>\n      <td>Food Truck</td>\n      <td>Hot Now</td>\n      <td>Izakaya Han</td>\n      <td>El Cisne Azul</td>\n      <td>Sr. Ito</td>\n      <td>Morgana</td>\n      <td>...</td>\n      <td>Bazaar</td>\n      <td>tuk tuk</td>\n      <td>B&amp;B Restaurante</td>\n      <td>Restaurante Vietnam24</td>\n      <td>Taberna El Buo</td>\n      <td>Restaurante Arce</td>\n      <td>Diurno Restaurant &amp; Bar</td>\n      <td>Bagatella</td>\n      <td>Hamburguesa Nostra</td>\n      <td>La Trastienda</td>\n    </tr>\n    <tr>\n      <th>Style</th>\n      <td>Restaurants</td>\n      <td>Vegetarian / Vegan Restaurants</td>\n      <td>Italian Restaurants</td>\n      <td>Gastropubs</td>\n      <td>American Restaurants</td>\n      <td>Pizza Places</td>\n      <td>Japanese Restaurants</td>\n      <td>Spanish Restaurants</td>\n      <td>Sushi Restaurants</td>\n      <td>Restaurants</td>\n      <td>...</td>\n      <td>Mediterranean Restaurants</td>\n      <td>Asian Restaurants</td>\n      <td>Burger Joints</td>\n      <td>Vietnamese Restaurants</td>\n      <td>Tapas Restaurants</td>\n      <td>Spanish Restaurants</td>\n      <td>Mediterranean Restaurants</td>\n      <td>Spanish Restaurants</td>\n      <td>Burger Joints</td>\n      <td>Tapas Restaurants</td>\n    </tr>\n    <tr>\n      <th>Address</th>\n      <td>[Calle San Bartolmé, 14, 28004 Madrid Madrid, ...</td>\n      <td>[Calle San Gregorio 17, 28004 Madrid Madrid, E...</td>\n      <td>[C. Hortaleza, 84, 28004 Madrid Madrid, España]</td>\n      <td>[C. Libertad, 12, 28004 Madrid Madrid, España]</td>\n      <td>[C. San Lucas, 11, Madrid Madrid, España]</td>\n      <td>[barbieri 14, 28004 Madrid Madrid, España]</td>\n      <td>[San Bartolome 10 (Augusto Figueroa), 28004 Ma...</td>\n      <td>[C. Gravina, 19, 28004 Madrid Madrid, España]</td>\n      <td>[Calle Pelayo 60, Madrid Madrid, España]</td>\n      <td>[Augusto figueroa 33, 28004 Madrid Madrid, Esp...</td>\n      <td>...</td>\n      <td>[C. Libertad, 21, 28004 Madrid Madrid, España]</td>\n      <td>[C. Barquillo, 24, 28004 Madrid Madrid, España]</td>\n      <td>[C/ Libertad 23, 28004 Madrid Madrid, España]</td>\n      <td>[Calle de San Marcos 24, 28004 Madrid Madrid, ...</td>\n      <td>[C. Gravina, 4 (C. Pelayo), 28004 Madrid Madri...</td>\n      <td>[C. Augusto Figueroa, 32, 28004 Madrid Madrid,...</td>\n      <td>[C. San Marcos, 37 (C. Libertad), 28004 Madrid...</td>\n      <td>[C. Pelayo, 60, 28004 Madrid Madrid, España]</td>\n      <td>[Mercado de San Antón, 28004 Madrid Madrid, Es...</td>\n      <td>[C. Augusto Figueroa, 24, Madrid Madrid, España]</td>\n    </tr>\n    <tr>\n      <th>latitude</th>\n      <td>40.4218</td>\n      <td>40.4239</td>\n      <td>40.4238</td>\n      <td>40.421</td>\n      <td>40.4238</td>\n      <td>40.4213</td>\n      <td>40.4218</td>\n      <td>40.4226</td>\n      <td>40.4242</td>\n      <td>40.4222</td>\n      <td>...</td>\n      <td>40.4213</td>\n      <td>40.4226</td>\n      <td>40.4214</td>\n      <td>40.4213</td>\n      <td>40.4232</td>\n      <td>40.4221</td>\n      <td>40.4213</td>\n      <td>40.4242</td>\n      <td>40.422</td>\n      <td>40.422</td>\n    </tr>\n    <tr>\n      <th>lomgitude</th>\n      <td>-3.69846</td>\n      <td>-3.69716</td>\n      <td>-3.6986</td>\n      <td>-3.69735</td>\n      <td>-3.69609</td>\n      <td>-3.69803</td>\n      <td>-3.69848</td>\n      <td>-3.69673</td>\n      <td>-3.69746</td>\n      <td>-3.69781</td>\n      <td>...</td>\n      <td>-3.69739</td>\n      <td>-3.69561</td>\n      <td>-3.6974</td>\n      <td>-3.69843</td>\n      <td>-3.69818</td>\n      <td>-3.69674</td>\n      <td>-3.69734</td>\n      <td>-3.69748</td>\n      <td>-3.69765</td>\n      <td>-3.6976</td>\n    </tr>\n  </tbody>\n</table>\n<p>5 rows × 43 columns</p>\n</div>"
     },
     "metadata": {},
     "execution_count": 65
    }
   ],
   "source": [
    "prueba2 = pd.read_json('restaurants_Chueca.json')\n",
    "prueba2"
   ]
  },
  {
   "cell_type": "code",
   "execution_count": null,
   "metadata": {},
   "outputs": [],
   "source": []
  }
 ]
}