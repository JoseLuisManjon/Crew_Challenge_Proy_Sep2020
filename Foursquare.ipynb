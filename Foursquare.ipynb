{
 "metadata": {
  "language_info": {
   "codemirror_mode": {
    "name": "ipython",
    "version": 3
   },
   "file_extension": ".py",
   "mimetype": "text/x-python",
   "name": "python",
   "nbconvert_exporter": "python",
   "pygments_lexer": "ipython3",
   "version": "3.8.3-final"
  },
  "orig_nbformat": 2,
  "kernelspec": {
   "name": "Python 3.8.3 64-bit",
   "display_name": "Python 3.8.3 64-bit",
   "metadata": {
    "interpreter": {
     "hash": "1baa965d5efe3ac65b79dfc60c0d706280b1da80fedb7760faf2759126c4f253"
    }
   }
  }
 },
 "nbformat": 4,
 "nbformat_minor": 2,
 "cells": [
  {
   "cell_type": "markdown",
   "metadata": {},
   "source": [
    "## API de foursquare"
   ]
  },
  {
   "cell_type": "code",
   "execution_count": 1,
   "metadata": {},
   "outputs": [],
   "source": [
    "import json\n",
    "import requests\n",
    "import pandas as pd\n",
    "from pandas.io.json import json_normalize"
   ]
  },
  {
   "cell_type": "code",
   "execution_count": 2,
   "metadata": {},
   "outputs": [],
   "source": [
    "# Aqui escribo el path de donde este mi archivo con los token, si esta en la misma carpeta.\n",
    "json_fullpath = \"settings.json\""
   ]
  },
  {
   "cell_type": "code",
   "execution_count": 3,
   "metadata": {},
   "outputs": [],
   "source": [
    "with open(json_fullpath, \"r+\") as outfile:\n",
    "    json_readed = json.load(outfile)\n",
    "    # Ahora en json_readed tengo el archivo setting.json para posteriormente poder acceder a los valores de los token llamando a las claves"
   ]
  },
  {
   "cell_type": "code",
   "execution_count": 9,
   "metadata": {},
   "outputs": [],
   "source": [
    "url = 'https://api.foursquare.com/v2/venues/explore'\n",
    "\n",
    "# más códigos de categorías\n",
    "# https://developer.foursquare.com/docs/build-with-foursquare/categories/\n",
    "food = \"4d4b7105d754a06374d81259\"\n",
    "\n",
    "# para sacar las coordenadas podrías usar una API pero también...\n",
    "# https://www.123coordenadas.com/coordinates/\n",
    "\n",
    "lat = 40.42271305\n",
    "lon = -3.697609087"
   ]
  },
  {
   "cell_type": "code",
   "execution_count": null,
   "metadata": {},
   "outputs": [],
   "source": [
    "#La forma en la que lo hizo Clara en clase\n",
    "#Esto es para darle los parametros que me pide la API\n",
    "params = {\"client_id\": json_readed[\"CLIENT\"],\n",
    "  \"client_secret\": json_readed[\"API_KEY\"],\n",
    "  \"v\":\"20180323\",\n",
    "  \"ll\":f'{lat},{lon}', # esto es format y python construye un string con los nombres de las variables\n",
    "  \"section\": \"food\",\n",
    "  \"radius\": \"2000\",\n",
    "  # options --> food, drinks, coffee, shops, arts, outdoors, sights, trending\n",
    "  \"limit\":200\n",
    "}"
   ]
  },
  {
   "cell_type": "code",
   "execution_count": 92,
   "metadata": {},
   "outputs": [],
   "source": [
    "# Como viene en la web de foursqueare\n",
    "url = 'https://api.foursquare.com/v2/venues/explore'\n",
    "\n",
    "params = dict(\n",
    "client_id=json_readed[\"CLIENT\"],\n",
    "client_secret=json_readed[\"API_KEY\"],\n",
    "v='20180323',\n",
    "ll='40.42271305,-3.697609087',\n",
    "section='food',\n",
    "radius=200,\n",
    "limit=200\n",
    ")\n"
   ]
  },
  {
   "cell_type": "code",
   "execution_count": 93,
   "metadata": {},
   "outputs": [],
   "source": [
    "resp = requests.get(url=url, params=params)\n",
    "data = json.loads(resp.text)"
   ]
  },
  {
   "cell_type": "code",
   "execution_count": 94,
   "metadata": {},
   "outputs": [
    {
     "output_type": "execute_result",
     "data": {
      "text/plain": "dict_keys([&#39;meta&#39;, &#39;response&#39;])"
     },
     "metadata": {},
     "execution_count": 94
    }
   ],
   "source": [
    "data.keys()"
   ]
  },
  {
   "cell_type": "markdown",
   "metadata": {},
   "source": [
    "Ahora voy uno a uno viendo lo que contienen hasta que encuentre la información que me interesa"
   ]
  },
  {
   "cell_type": "code",
   "execution_count": 43,
   "metadata": {},
   "outputs": [
    {
     "output_type": "execute_result",
     "data": {
      "text/plain": "{&#39;code&#39;: 200, &#39;requestId&#39;: &#39;5f77bd1cecbf7e4afa046298&#39;}"
     },
     "metadata": {},
     "execution_count": 43
    }
   ],
   "source": [
    "data[\"meta\"]\n",
    "# La info que contiene meta no me interesa, me centro en response"
   ]
  },
  {
   "cell_type": "code",
   "execution_count": 27,
   "metadata": {},
   "outputs": [
    {
     "output_type": "execute_result",
     "data": {
      "text/plain": "dict_keys([&#39;suggestedFilters&#39;, &#39;headerLocation&#39;, &#39;headerFullLocation&#39;, &#39;headerLocationGranularity&#39;, &#39;query&#39;, &#39;totalResults&#39;, &#39;suggestedBounds&#39;, &#39;groups&#39;])"
     },
     "metadata": {},
     "execution_count": 27
    }
   ],
   "source": [
    "data[\"response\"].keys()"
   ]
  },
  {
   "cell_type": "code",
   "execution_count": 28,
   "metadata": {},
   "outputs": [
    {
     "output_type": "execute_result",
     "data": {
      "text/plain": "{&#39;header&#39;: &#39;Tap to show:&#39;, &#39;filters&#39;: [{&#39;name&#39;: &#39;Open now&#39;, &#39;key&#39;: &#39;openNow&#39;}]}"
     },
     "metadata": {},
     "execution_count": 28
    }
   ],
   "source": [
    "data[\"response\"]['suggestedFilters']\n",
    "# No es la info buscada"
   ]
  },
  {
   "cell_type": "code",
   "execution_count": 29,
   "metadata": {},
   "outputs": [
    {
     "output_type": "execute_result",
     "data": {
      "text/plain": "&#39;Chueca&#39;"
     },
     "metadata": {},
     "execution_count": 29
    }
   ],
   "source": [
    "data[\"response\"]['headerLocation']\n",
    "# Me da el área de busqueda"
   ]
  },
  {
   "cell_type": "code",
   "execution_count": 57,
   "metadata": {},
   "outputs": [
    {
     "output_type": "execute_result",
     "data": {
      "text/plain": "51"
     },
     "metadata": {},
     "execution_count": 57
    }
   ],
   "source": [
    "data[\"response\"]['totalResults']\n",
    "#El número de resultados obtenidos"
   ]
  },
  {
   "cell_type": "code",
   "execution_count": 95,
   "metadata": {},
   "outputs": [
    {
     "output_type": "execute_result",
     "data": {
      "text/plain": "count&#39;: 0, &#39;summary&#39;: &#39;Nobody here&#39;, &#39;groups&#39;: []}},\n    &#39;referralId&#39;: &#39;e-3-4fc22c42e4b09ab6886996c2-36&#39;},\n   {&#39;reasons&#39;: {&#39;count&#39;: 0,\n     &#39;items&#39;: [{&#39;summary&#39;: &#39;This spot is popular&#39;,\n       &#39;type&#39;: &#39;general&#39;,\n       &#39;reasonName&#39;: &#39;globalInteractionReason&#39;}]},\n    &#39;venue&#39;: {&#39;id&#39;: &#39;4b55a8d4f964a520c5ea27e3&#39;,\n     &#39;name&#39;: &#39;Tepic&#39;,\n     &#39;contact&#39;: {},\n     &#39;location&#39;: {&#39;address&#39;: &#39;C. Pelayo, 4&#39;,\n      &#39;lat&#39;: 40.421905539105566,\n      &#39;lng&#39;: -3.699123067670385,\n      &#39;labeledLatLngs&#39;: [{&#39;label&#39;: &#39;display&#39;,\n        &#39;lat&#39;: 40.421905539105566,\n        &#39;lng&#39;: -3.699123067670385}],\n      &#39;distance&#39;: 156,\n      &#39;cc&#39;: &#39;ES&#39;,\n      &#39;city&#39;: &#39;Madrid&#39;,\n      &#39;state&#39;: &#39;Madrid&#39;,\n      &#39;country&#39;: &#39;España&#39;,\n      &#39;formattedAddress&#39;: [&#39;C. Pelayo, 4&#39;, &#39;Madrid Madrid&#39;, &#39;España&#39;]},\n     &#39;categories&#39;: [{&#39;id&#39;: &#39;4bf58dd8d48988d1c1941735&#39;,\n       &#39;name&#39;: &#39;Mexican Restaurant&#39;,\n       &#39;pluralName&#39;: &#39;Mexican Restaurants&#39;,\n       &#39;shortName&#39;: &#39;Mexican&#39;,\n       &#39;icon&#39;: {&#39;prefix&#39;: &#39;https://ss3.4sqi.net/img/categories_v2/food/mexican_&#39;,\n        &#39;suffix&#39;: &#39;.png&#39;},\n       &#39;primary&#39;: True}],\n     &#39;verified&#39;: False,\n     &#39;stats&#39;: {&#39;tipCount&#39;: 0,\n      &#39;usersCount&#39;: 0,\n      &#39;checkinsCount&#39;: 0,\n      &#39;visitsCount&#39;: 0},\n     &#39;beenHere&#39;: {&#39;count&#39;: 0,\n      &#39;lastCheckinExpiredAt&#39;: 0,\n      &#39;marked&#39;: False,\n      &#39;unconfirmedCount&#39;: 0},\n     &#39;photos&#39;: {&#39;count&#39;: 0, &#39;groups&#39;: []},\n     &#39;hereNow&#39;: {&#39;count&#39;: 0, &#39;summary&#39;: &#39;Nobody here&#39;, &#39;groups&#39;: []}},\n    &#39;referralId&#39;: &#39;e-3-4b55a8d4f964a520c5ea27e3-37&#39;},\n   {&#39;reasons&#39;: {&#39;count&#39;: 0,\n     &#39;items&#39;: [{&#39;summary&#39;: &#39;This spot is popular&#39;,\n       &#39;type&#39;: &#39;general&#39;,\n       &#39;reasonName&#39;: &#39;globalInteractionReason&#39;}]},\n    &#39;venue&#39;: {&#39;id&#39;: &#39;5532b7a9498e944a9f268b2e&#39;,\n     &#39;name&#39;: &#39;Gioia Restaurante&#39;,\n     &#39;contact&#39;: {},\n     &#39;location&#39;: {&#39;address&#39;: &#39;San Bartolomé 23&#39;,\n      &#39;lat&#39;: 40.422075,\n      &#39;lng&#39;: -3.69859,\n      &#39;labeledLatLngs&#39;: [{&#39;label&#39;: &#39;display&#39;,\n        &#39;lat&#39;: 40.422075,\n        &#39;lng&#39;: -3.69859}],\n      &#39;distance&#39;: 109,\n      &#39;cc&#39;: &#39;ES&#39;,\n      &#39;city&#39;: &#39;Madrid&#39;,\n      &#39;state&#39;: &#39;Madrid&#39;,\n      &#39;country&#39;: &#39;España&#39;,\n      &#39;formattedAddress&#39;: [&#39;San Bartolomé 23&#39;, &#39;Madrid Madrid&#39;, &#39;España&#39;]},\n     &#39;categories&#39;: [{&#39;id&#39;: &#39;4bf58dd8d48988d110941735&#39;,\n       &#39;name&#39;: &#39;Italian Restaurant&#39;,\n       &#39;pluralName&#39;: &#39;Italian Restaurants&#39;,\n       &#39;shortName&#39;: &#39;Italian&#39;,\n       &#39;icon&#39;: {&#39;prefix&#39;: &#39;https://ss3.4sqi.net/img/categories_v2/food/italian_&#39;,\n        &#39;suffix&#39;: &#39;.png&#39;},\n       &#39;primary&#39;: True}],\n     &#39;verified&#39;: False,\n     &#39;stats&#39;: {&#39;tipCount&#39;: 0,\n      &#39;usersCount&#39;: 0,\n      &#39;checkinsCount&#39;: 0,\n      &#39;visitsCount&#39;: 0},\n     &#39;beenHere&#39;: {&#39;count&#39;: 0,\n      &#39;lastCheckinExpiredAt&#39;: 0,\n      &#39;marked&#39;: False,\n      &#39;unconfirmedCount&#39;: 0},\n     &#39;photos&#39;: {&#39;count&#39;: 0, &#39;groups&#39;: []},\n     &#39;hereNow&#39;: {&#39;count&#39;: 0, &#39;summary&#39;: &#39;Nobody here&#39;, &#39;groups&#39;: []}},\n    &#39;referralId&#39;: &#39;e-3-5532b7a9498e944a9f268b2e-38&#39;},\n   {&#39;reasons&#39;: {&#39;count&#39;: 0,\n     &#39;items&#39;: [{&#39;summary&#39;: &#39;This spot is popular&#39;,\n       &#39;type&#39;: &#39;general&#39;,\n       &#39;reasonName&#39;: &#39;globalInteractionReason&#39;}]},\n    &#39;venue&#39;: {&#39;id&#39;: &#39;4adcda3af964a520523d21e3&#39;,\n     &#39;name&#39;: &#39;Bazaar&#39;,\n     &#39;contact&#39;: {},\n     &#39;location&#39;: {&#39;address&#39;: &#39;C. Libertad, 21&#39;,\n      &#39;lat&#39;: 40.421289934462294,\n      &#39;lng&#39;: -3.697392702478642,\n      &#39;labeledLatLngs&#39;: [{&#39;label&#39;: &#39;display&#39;,\n        &#39;lat&#39;: 40.421289934462294,\n        &#39;lng&#39;: -3.697392702478642}],\n      &#39;distance&#39;: 159,\n      &#39;postalCode&#39;: &#39;28004&#39;,\n      &#39;cc&#39;: &#39;ES&#39;,\n      &#39;city&#39;: &#39;Madrid&#39;,\n      &#39;state&#39;: &#39;Madrid&#39;,\n      &#39;country&#39;: &#39;España&#39;,\n      &#39;formattedAddress&#39;: [&#39;C. Libertad, 21&#39;,\n       &#39;28004 Madrid Madrid&#39;,\n       &#39;España&#39;]},\n     &#39;categories&#39;: [{&#39;id&#39;: &#39;4bf58dd8d48988d1c0941735&#39;,\n       &#39;name&#39;: &#39;Mediterranean Restaurant&#39;,\n       &#39;pluralName&#39;: &#39;Mediterranean Restaurants&#39;,\n       &#39;shortName&#39;: &#39;Mediterranean&#39;,\n       &#39;icon&#39;: {&#39;prefix&#39;: &#39;https://ss3.4sqi.net/img/categories_v2/food/mediterranean_&#39;,\n        &#39;suffix&#39;: &#39;.png&#39;},\n       &#39;primary&#39;: True}],\n     &#39;verified&#39;: False,\n     &#39;stats&#39;: {&#39;tipCount&#39;: 0,\n      &#39;usersCount&#39;: 0,\n      &#39;checkinsCount&#39;: 0,\n      &#39;visitsCount&#39;: 0},\n     &#39;beenHere&#39;: {&#39;count&#39;: 0,\n      &#39;lastCheckinExpiredAt&#39;: 0,\n      &#39;marked&#39;: False,\n      &#39;unconfirmedCount&#39;: 0},\n     &#39;photos&#39;: {&#39;count&#39;: 0, &#39;groups&#39;: []},\n     &#39;hereNow&#39;: {&#39;count&#39;: 0, &#39;summary&#39;: &#39;Nobody here&#39;, &#39;groups&#39;: []}},\n    &#39;referralId&#39;: &#39;e-3-4adcda3af964a520523d21e3-39&#39;},\n   {&#39;reasons&#39;: {&#39;count&#39;: 0,\n     &#39;items&#39;: [{&#39;summary&#39;: &#39;This spot is popular&#39;,\n       &#39;type&#39;: &#39;general&#39;,\n       &#39;reasonName&#39;: &#39;globalInteractionReason&#39;}]},\n    &#39;venue&#39;: {&#39;id&#39;: &#39;5517152f498eba3fc8b760f4&#39;,\n     &#39;name&#39;: &#39;tuk tuk&#39;,\n     &#39;contact&#39;: {},\n     &#39;location&#39;: {&#39;address&#39;: &#39;C. Barquillo, 24&#39;,\n      &#39;lat&#39;: 40.42255008627129,\n      &#39;lng&#39;: -3.6956102723972575,\n      &#39;labeledLatLngs&#39;: [{&#39;label&#39;: &#39;display&#39;,\n        &#39;lat&#39;: 40.42255008627129,\n        &#39;lng&#39;: -3.6956102723972575}],\n      &#39;distance&#39;: 170,\n      &#39;postalCode&#39;: &#39;28004&#39;,\n      &#39;cc&#39;: &#39;ES&#39;,\n      &#39;city&#39;: &#39;Madrid&#39;,\n      &#39;state&#39;: &#39;Madrid&#39;,\n      &#39;country&#39;: &#39;España&#39;,\n      &#39;formattedAddress&#39;: [&#39;C. Barquillo, 24&#39;,\n       &#39;28004 Madrid Madrid&#39;,\n       &#39;España&#39;]},\n     &#39;categories&#39;: [{&#39;id&#39;: &#39;4bf58dd8d48988d142941735&#39;,\n       &#39;name&#39;: &#39;Asian Restaurant&#39;,\n       &#39;pluralName&#39;: &#39;Asian Restaurants&#39;,\n       &#39;shortName&#39;: &#39;Asian&#39;,\n       &#39;icon&#39;: {&#39;prefix&#39;: &#39;https://ss3.4sqi.net/img/categories_v2/food/asian_&#39;,\n        &#39;suffix&#39;: &#39;.png&#39;},\n       &#39;primary&#39;: True}],\n     &#39;verified&#39;: False,\n     &#39;stats&#39;: {&#39;tipCount&#39;: 0,\n      &#39;usersCount&#39;: 0,\n      &#39;checkinsCount&#39;: 0,\n      &#39;visitsCount&#39;: 0},\n     &#39;beenHere&#39;: {&#39;count&#39;: 0,\n      &#39;lastCheckinExpiredAt&#39;: 0,\n      &#39;marked&#39;: False,\n      &#39;unconfirmedCount&#39;: 0},\n     &#39;photos&#39;: {&#39;count&#39;: 0, &#39;groups&#39;: []},\n     &#39;hereNow&#39;: {&#39;count&#39;: 0, &#39;summary&#39;: &#39;Nobody here&#39;, &#39;groups&#39;: []}},\n    &#39;referralId&#39;: &#39;e-3-5517152f498eba3fc8b760f4-40&#39;},\n   {&#39;reasons&#39;: {&#39;count&#39;: 0,\n     &#39;items&#39;: [{&#39;summary&#39;: &#39;This spot is popular&#39;,\n       &#39;type&#39;: &#39;general&#39;,\n       &#39;reasonName&#39;: &#39;globalInteractionReason&#39;}]},\n    &#39;venue&#39;: {&#39;id&#39;: &#39;4e11bb65aeb74afe60bf6969&#39;,\n     &#39;name&#39;: &#39;B&amp;B Restaurante&#39;,\n     &#39;contact&#39;: {},\n     &#39;location&#39;: {&#39;address&#39;: &#39;C/ Libertad 23&#39;,\n      &#39;lat&#39;: 40.42138395009756,\n      &#39;lng&#39;: -3.697403436783447,\n      &#39;labeledLatLngs&#39;: [{&#39;label&#39;: &#39;display&#39;,\n        &#39;lat&#39;: 40.42138395009756,\n        &#39;lng&#39;: -3.697403436783447}],\n      &#39;distance&#39;: 148,\n      &#39;postalCode&#39;: &#39;28004&#39;,\n      &#39;cc&#39;: &#39;ES&#39;,\n      &#39;city&#39;: &#39;Madrid&#39;,\n      &#39;state&#39;: &#39;Madrid&#39;,\n      &#39;country&#39;: &#39;España&#39;,\n      &#39;formattedAddress&#39;: [&#39;C/ Libertad 23&#39;, &#39;28004 Madrid Madrid&#39;, &#39;España&#39;]},\n     &#39;categories&#39;: [{&#39;id&#39;: &#39;4bf58dd8d48988d16c941735&#39;,\n       &#39;name&#39;: &#39;Burger Joint&#39;,\n       &#39;pluralName&#39;: &#39;Burger Joints&#39;,\n       &#39;shortName&#39;: &#39;Burgers&#39;,\n       &#39;icon&#39;: {&#39;prefix&#39;: &#39;https://ss3.4sqi.net/img/categories_v2/food/burger_&#39;,\n        &#39;suffix&#39;: &#39;.png&#39;},\n       &#39;primary&#39;: True}],\n     &#39;verified&#39;: False,\n     &#39;stats&#39;: {&#39;tipCount&#39;: 0,\n      &#39;usersCount&#39;: 0,\n      &#39;checkinsCount&#39;: 0,\n      &#39;visitsCount&#39;: 0},\n     &#39;beenHere&#39;: {&#39;count&#39;: 0,\n      &#39;lastCheckinExpiredAt&#39;: 0,\n      &#39;marked&#39;: False,\n      &#39;unconfirmedCount&#39;: 0},\n     &#39;photos&#39;: {&#39;count&#39;: 0, &#39;groups&#39;: []},\n     &#39;hereNow&#39;: {&#39;count&#39;: 0, &#39;summary&#39;: &#39;Nobody here&#39;, &#39;groups&#39;: []}},\n    &#39;referralId&#39;: &#39;e-3-4e11bb65aeb74afe60bf6969-41&#39;},\n   {&#39;reasons&#39;: {&#39;count&#39;: 0,\n     &#39;items&#39;: [{&#39;summary&#39;: &#39;This spot is popular&#39;,\n       &#39;type&#39;: &#39;general&#39;,\n       &#39;reasonName&#39;: &#39;globalInteractionReason&#39;}]},\n    &#39;venue&#39;: {&#39;id&#39;: &#39;519b80c2498ec92af5e14080&#39;,\n     &#39;name&#39;: &#39;Cocinadeldesierto&#39;,\n     &#39;contact&#39;: {},\n     &#39;location&#39;: {&#39;lat&#39;: 40.421026142572885,\n      &#39;lng&#39;: -3.697432464744532,\n      &#39;labeledLatLngs&#39;: [{&#39;label&#39;: &#39;display&#39;,\n        &#39;lat&#39;: 40.421026142572885,\n        &#39;lng&#39;: -3.697432464744532}],\n      &#39;distance&#39;: 188,\n      &#39;cc&#39;: &#39;ES&#39;,\n      &#39;country&#39;: &#39;España&#39;,\n      &#39;formattedAddress&#39;: [&#39;España&#39;]},\n     &#39;categories&#39;: [{&#39;id&#39;: &#39;4bf58dd8d48988d1c4941735&#39;,\n       &#39;name&#39;: &#39;Restaurant&#39;,\n       &#39;pluralName&#39;: &#39;Restaurants&#39;,\n       &#39;shortName&#39;: &#39;Restaurant&#39;,\n       &#39;icon&#39;: {&#39;prefix&#39;: &#39;https://ss3.4sqi.net/img/categories_v2/food/default_&#39;,\n        &#39;suffix&#39;: &#39;.png&#39;},\n       &#39;primary&#39;: True}],\n     &#39;verified&#39;: False,\n     &#39;stats&#39;: {&#39;tipCount&#39;: 0,\n      &#39;usersCount&#39;: 0,\n      &#39;checkinsCount&#39;: 0,\n      &#39;visitsCount&#39;: 0},\n     &#39;beenHere&#39;: {&#39;count&#39;: 0,\n      &#39;lastCheckinExpiredAt&#39;: 0,\n      &#39;marked&#39;: False,\n      &#39;unconfirmedCount&#39;: 0},\n     &#39;photos&#39;: {&#39;count&#39;: 0, &#39;groups&#39;: []},\n     &#39;hereNow&#39;: {&#39;count&#39;: 0, &#39;summary&#39;: &#39;Nobody here&#39;, &#39;groups&#39;: []}},\n    &#39;referralId&#39;: &#39;e-3-519b80c2498ec92af5e14080-42&#39;},\n   {&#39;reasons&#39;: {&#39;count&#39;: 0,\n     &#39;items&#39;: [{&#39;summary&#39;: &#39;This spot is popular&#39;,\n       &#39;type&#39;: &#39;general&#39;,\n       &#39;reasonName&#39;: &#39;globalInteractionReason&#39;}]},\n    &#39;venue&#39;: {&#39;id&#39;: &#39;54ff6eb3498e5b0e025a632f&#39;,\n     &#39;name&#39;: &#39;Restaurante Vietnam24&#39;,\n     &#39;contact&#39;: {},\n     &#39;location&#39;: {&#39;address&#39;: &#39;Calle de San Marcos 24&#39;,\n      &#39;lat&#39;: 40.42134100000001,\n      &#39;lng&#39;: -3.698427999999999,\n      &#39;labeledLatLngs&#39;: [{&#39;label&#39;: &#39;display&#39;,\n        &#39;lat&#39;: 40.42134100000001,\n        &#39;lng&#39;: -3.698427999999999}],\n      &#39;distance&#39;: 167,\n      &#39;postalCode&#39;: &#39;28004&#39;,\n      &#39;cc&#39;: &#39;ES&#39;,\n      &#39;city&#39;: &#39;Madrid&#39;,\n      &#39;state&#39;: &#39;Madrid&#39;,\n      &#39;country&#39;: &#39;España&#39;,\n      &#39;formattedAddress&#39;: [&#39;Calle de San Marcos 24&#39;,\n       &#39;28004 Madrid Madrid&#39;,\n       &#39;España&#39;]},\n     &#39;categories&#39;: [{&#39;id&#39;: &#39;4bf58dd8d48988d14a941735&#39;,\n       &#39;name&#39;: &#39;Vietnamese Restaurant&#39;,\n       &#39;pluralName&#39;: &#39;Vietnamese Restaurants&#39;,\n       &#39;shortName&#39;: &#39;Vietnamese&#39;,\n       &#39;icon&#39;: {&#39;prefix&#39;: &#39;https://ss3.4sqi.net/img/categories_v2/food/vietnamese_&#39;,\n        &#39;suffix&#39;: &#39;.png&#39;},\n       &#39;primary&#39;: True}],\n     &#39;verified&#39;: True,\n     &#39;stats&#39;: {&#39;tipCount&#39;: 0,\n      &#39;usersCount&#39;: 0,\n      &#39;checkinsCount&#39;: 0,\n      &#39;visitsCount&#39;: 0},\n     &#39;beenHere&#39;: {&#39;count&#39;: 0,\n      &#39;lastCheckinExpiredAt&#39;: 0,\n      &#39;marked&#39;: False,\n      &#39;unconfirmedCount&#39;: 0},\n     &#39;photos&#39;: {&#39;count&#39;: 0, &#39;groups&#39;: []},\n     &#39;venuePage&#39;: {&#39;id&#39;: &#39;553047231&#39;},\n     &#39;hereNow&#39;: {&#39;count&#39;: 0, &#39;summary&#39;: &#39;Nobody here&#39;, &#39;groups&#39;: []}},\n    &#39;referralId&#39;: &#39;e-3-54ff6eb3498e5b0e025a632f-43&#39;},\n   {&#39;reasons&#39;: {&#39;count&#39;: 0,\n     &#39;items&#39;: [{&#39;summary&#39;: &#39;This spot is popular&#39;,\n       &#39;type&#39;: &#39;general&#39;,\n       &#39;reasonName&#39;: &#39;globalInteractionReason&#39;}]},\n    &#39;venue&#39;: {&#39;id&#39;: &#39;4da623936a23f2e80501b9dc&#39;,\n     &#39;name&#39;: &#39;Taberna El Buo&#39;,\n     &#39;contact&#39;: {},\n     &#39;location&#39;: {&#39;address&#39;: &#39;C. Gravina, 4&#39;,\n      &#39;crossStreet&#39;: &#39;C. Pelayo&#39;,\n      &#39;lat&#39;: 40.423217770388675,\n      &#39;lng&#39;: -3.6981833739403243,\n      &#39;labeledLatLngs&#39;: [{&#39;label&#39;: &#39;display&#39;,\n        &#39;lat&#39;: 40.423217770388675,\n        &#39;lng&#39;: -3.6981833739403243}],\n      &#39;distance&#39;: 74,\n      &#39;postalCode&#39;: &#39;28004&#39;,\n      &#39;cc&#39;: &#39;ES&#39;,\n      &#39;city&#39;: &#39;Madrid&#39;,\n      &#39;state&#39;: &#39;Madrid&#39;,\n      &#39;country&#39;: &#39;España&#39;,\n      &#39;formattedAddress&#39;: [&#39;C. Gravina, 4 (C. Pelayo)&#39;,\n       &#39;28004 Madrid Madrid&#39;,\n       &#39;España&#39;]},\n     &#39;categories&#39;: [{&#39;id&#39;: &#39;4bf58dd8d48988d1db931735&#39;,\n       &#39;name&#39;: &#39;Tapas Restaurant&#39;,\n       &#39;pluralName&#39;: &#39;Tapas Restaurants&#39;,\n       &#39;shortName&#39;: &#39;Tapas&#39;,\n       &#39;icon&#39;: {&#39;prefix&#39;: &#39;https://ss3.4sqi.net/img/categories_v2/food/tapas_&#39;,\n        &#39;suffix&#39;: &#39;.png&#39;},\n       &#39;primary&#39;: True}],\n     &#39;verified&#39;: False,\n     &#39;stats&#39;: {&#39;tipCount&#39;: 0,\n      &#39;usersCount&#39;: 0,\n      &#39;checkinsCount&#39;: 0,\n      &#39;visitsCount&#39;: 0},\n     &#39;beenHere&#39;: {&#39;count&#39;: 0,\n      &#39;lastCheckinExpiredAt&#39;: 0,\n      &#39;marked&#39;: False,\n      &#39;unconfirmedCount&#39;: 0},\n     &#39;photos&#39;: {&#39;count&#39;: 0, &#39;groups&#39;: []},\n     &#39;hereNow&#39;: {&#39;count&#39;: 0, &#39;summary&#39;: &#39;Nobody here&#39;, &#39;groups&#39;: []}},\n    &#39;referralId&#39;: &#39;e-3-4da623936a23f2e80501b9dc-44&#39;},\n   {&#39;reasons&#39;: {&#39;count&#39;: 0,\n     &#39;items&#39;: [{&#39;summary&#39;: &#39;This spot is popular&#39;,\n       &#39;type&#39;: &#39;general&#39;,\n       &#39;reasonName&#39;: &#39;globalInteractionReason&#39;}]},\n    &#39;venue&#39;: {&#39;id&#39;: &#39;4b75e1eff964a520e02b2ee3&#39;,\n     &#39;name&#39;: &#39;Restaurante Arce&#39;,\n     &#39;contact&#39;: {},\n     &#39;location&#39;: {&#39;address&#39;: &#39;C. Augusto Figueroa, 32&#39;,\n      &#39;lat&#39;: 40.42207258933475,\n      &#39;lng&#39;: -3.6967412061319482,\n      &#39;labeledLatLngs&#39;: [{&#39;label&#39;: &#39;display&#39;,\n        &#39;lat&#39;: 40.42207258933475,\n        &#39;lng&#39;: -3.6967412061319482}],\n      &#39;distance&#39;: 102,\n      &#39;postalCode&#39;: &#39;28004&#39;,\n      &#39;cc&#39;: &#39;ES&#39;,\n      &#39;city&#39;: &#39;Madrid&#39;,\n      &#39;state&#39;: &#39;Madrid&#39;,\n      &#39;country&#39;: &#39;España&#39;,\n      &#39;formattedAddress&#39;: [&#39;C. Augusto Figueroa, 32&#39;,\n       &#39;28004 Madrid Madrid&#39;,\n       &#39;España&#39;]},\n     &#39;categories&#39;: [{&#39;id&#39;: &#39;4bf58dd8d48988d150941735&#39;,\n       &#39;name&#39;: &#39;Spanish Restaurant&#39;,\n       &#39;pluralName&#39;: &#39;Spanish Restaurants&#39;,\n       &#39;shortName&#39;: &#39;Spanish&#39;,\n       &#39;icon&#39;: {&#39;prefix&#39;: &#39;https://ss3.4sqi.net/img/categories_v2/food/spanish_&#39;,\n        &#39;suffix&#39;: &#39;.png&#39;},\n       &#39;primary&#39;: True}],\n     &#39;verified&#39;: False,\n     &#39;stats&#39;: {&#39;tipCount&#39;: 0,\n      &#39;usersCount&#39;: 0,\n      &#39;checkinsCount&#39;: 0,\n      &#39;visitsCount&#39;: 0},\n     &#39;beenHere&#39;: {&#39;count&#39;: 0,\n      &#39;lastCheckinExpiredAt&#39;: 0,\n      &#39;marked&#39;: False,\n      &#39;unconfirmedCount&#39;: 0},\n     &#39;photos&#39;: {&#39;count&#39;: 0, &#39;groups&#39;: []},\n     &#39;hereNow&#39;: {&#39;count&#39;: 0, &#39;summary&#39;: &#39;Nobody here&#39;, &#39;groups&#39;: []}},\n    &#39;referralId&#39;: &#39;e-3-4b75e1eff964a520e02b2ee3-45&#39;},\n   {&#39;reasons&#39;: {&#39;count&#39;: 0,\n     &#39;items&#39;: [{&#39;summary&#39;: &#39;This spot is popular&#39;,\n       &#39;type&#39;: &#39;general&#39;,\n       &#39;reasonName&#39;: &#39;globalInteractionReason&#39;}]},\n    &#39;venue&#39;: {&#39;id&#39;: &#39;4b82aafcf964a5206add30e3&#39;,\n     &#39;name&#39;: &#39;Diurno Restaurant &amp; Bar&#39;,\n     &#39;contact&#39;: {},\n     &#39;location&#39;: {&#39;address&#39;: &#39;C. San Marcos, 37&#39;,\n      &#39;crossStreet&#39;: &#39;C. Libertad&#39;,\n      &#39;lat&#39;: 40.421299901405845,\n      &#39;lng&#39;: -3.6973373782873447,\n      &#39;labeledLatLngs&#39;: [{&#39;label&#39;: &#39;display&#39;,\n        &#39;lat&#39;: 40.421299901405845,\n        &#39;lng&#39;: -3.6973373782873447}],\n      &#39;distance&#39;: 158,\n      &#39;postalCode&#39;: &#39;28004&#39;,\n      &#39;cc&#39;: &#39;ES&#39;,\n      &#39;city&#39;: &#39;Madrid&#39;,\n      &#39;state&#39;: &#39;Madrid&#39;,\n      &#39;country&#39;: &#39;España&#39;,\n      &#39;formattedAddress&#39;: [&#39;C. San Marcos, 37 (C. Libertad)&#39;,\n       &#39;28004 Madrid Madrid&#39;,\n       &#39;España&#39;]},\n     &#39;categories&#39;: [{&#39;id&#39;: &#39;4bf58dd8d48988d1c0941735&#39;,\n       &#39;name&#39;: &#39;Mediterranean Restaurant&#39;,\n       &#39;pluralName&#39;: &#39;Mediterranean Restaurants&#39;,\n       &#39;shortName&#39;: &#39;Mediterranean&#39;,\n       &#39;icon&#39;: {&#39;prefix&#39;: &#39;https://ss3.4sqi.net/img/categories_v2/food/mediterranean_&#39;,\n        &#39;suffix&#39;: &#39;.png&#39;},\n       &#39;primary&#39;: True}],\n     &#39;verified&#39;: True,\n     &#39;stats&#39;: {&#39;tipCount&#39;: 0,\n      &#39;usersCount&#39;: 0,\n      &#39;checkinsCount&#39;: 0,\n      &#39;visitsCount&#39;: 0},\n     &#39;beenHere&#39;: {&#39;count&#39;: 0,\n      &#39;lastCheckinExpiredAt&#39;: 0,\n      &#39;marked&#39;: False,\n      &#39;unconfirmedCount&#39;: 0},\n     &#39;photos&#39;: {&#39;count&#39;: 0, &#39;groups&#39;: []},\n     &#39;venuePage&#39;: {&#39;id&#39;: &#39;76245254&#39;},\n     &#39;hereNow&#39;: {&#39;count&#39;: 0, &#39;summary&#39;: &#39;Nobody here&#39;, &#39;groups&#39;: []}},\n    &#39;referralId&#39;: &#39;e-3-4b82aafcf964a5206add30e3-46&#39;},\n   {&#39;reasons&#39;: {&#39;count&#39;: 0,\n     &#39;items&#39;: [{&#39;summary&#39;: &#39;This spot is popular&#39;,\n       &#39;type&#39;: &#39;general&#39;,\n       &#39;reasonName&#39;: &#39;globalInteractionReason&#39;}]},\n    &#39;venue&#39;: {&#39;id&#39;: &#39;538c87ed498e5e2ed88ad97b&#39;,\n     &#39;name&#39;: &#39;TE CATO&#39;,\n     &#39;contact&#39;: {},\n     &#39;location&#39;: {&#39;address&#39;: &#39;Gravina 12&#39;,\n      &#39;lat&#39;: 40.422849,\n      &#39;lng&#39;: -3.697099,\n      &#39;labeledLatLngs&#39;: [{&#39;label&#39;: &#39;display&#39;,\n        &#39;lat&#39;: 40.422849,\n        &#39;lng&#39;: -3.697099}],\n      &#39;distance&#39;: 45,\n      &#39;postalCode&#39;: &#39;28004&#39;,\n      &#39;cc&#39;: &#39;ES&#39;,\n      &#39;city&#39;: &#39;Madrid&#39;,\n      &#39;state&#39;: &#39;Madrid&#39;,\n      &#39;country&#39;: &#39;España&#39;,\n      &#39;formattedAddress&#39;: [&#39;Gravina 12&#39;, &#39;28004 Madrid Madrid&#39;, &#39;España&#39;]},\n     &#39;categories&#39;: [{&#39;id&#39;: &#39;4bf58dd8d48988d16d941735&#39;,\n       &#39;name&#39;: &#39;Café&#39;,\n       &#39;pluralName&#39;: &#39;Cafés&#39;,\n       &#39;shortName&#39;: &#39;Café&#39;,\n       &#39;icon&#39;: {&#39;prefix&#39;: &#39;https://ss3.4sqi.net/img/categories_v2/food/cafe_&#39;,\n        &#39;suffix&#39;: &#39;.png&#39;},\n       &#39;primary&#39;: True}],\n     &#39;verified&#39;: False,\n     &#39;stats&#39;: {&#39;tipCount&#39;: 0,\n      &#39;usersCount&#39;: 0,\n      &#39;checkinsCount&#39;: 0,\n      &#39;visitsCount&#39;: 0},\n     &#39;beenHere&#39;: {&#39;count&#39;: 0,\n      &#39;lastCheckinExpiredAt&#39;: 0,\n      &#39;marked&#39;: False,\n      &#39;unconfirmedCount&#39;: 0},\n     &#39;photos&#39;: {&#39;count&#39;: 0, &#39;groups&#39;: []},\n     &#39;hereNow&#39;: {&#39;count&#39;: 0, &#39;summary&#39;: &#39;Nobody here&#39;, &#39;groups&#39;: []}},\n    &#39;referralId&#39;: &#39;e-3-538c87ed498e5e2ed88ad97b-47&#39;},\n   {&#39;reasons&#39;: {&#39;count&#39;: 0,\n     &#39;items&#39;: [{&#39;summary&#39;: &#39;This spot is popular&#39;,\n       &#39;type&#39;: &#39;general&#39;,\n       &#39;reasonName&#39;: &#39;globalInteractionReason&#39;}]},\n    &#39;venue&#39;: {&#39;id&#39;: &#39;4e61fdbda80951b3184c3896&#39;,\n     &#39;name&#39;: &#39;Bagatella&#39;,\n     &#39;contact&#39;: {},\n     &#39;location&#39;: {&#39;address&#39;: &#39;C. Pelayo, 60&#39;,\n      &#39;lat&#39;: 40.42418217330663,\n      &#39;lng&#39;: -3.6974761592418637,\n      &#39;labeledLatLngs&#39;: [{&#39;label&#39;: &#39;display&#39;,\n        &#39;lat&#39;: 40.42418217330663,\n        &#39;lng&#39;: -3.6974761592418637}],\n      &#39;distance&#39;: 163,\n      &#39;postalCode&#39;: &#39;28004&#39;,\n      &#39;cc&#39;: &#39;ES&#39;,\n      &#39;city&#39;: &#39;Madrid&#39;,\n      &#39;state&#39;: &#39;Madrid&#39;,\n      &#39;country&#39;: &#39;España&#39;,\n      &#39;formattedAddress&#39;: [&#39;C. Pelayo, 60&#39;, &#39;28004 Madrid Madrid&#39;, &#39;España&#39;]},\n     &#39;categories&#39;: [{&#39;id&#39;: &#39;4bf58dd8d48988d150941735&#39;,\n       &#39;name&#39;: &#39;Spanish Restaurant&#39;,\n       &#39;pluralName&#39;: &#39;Spanish Restaurants&#39;,\n       &#39;shortName&#39;: &#39;Spanish&#39;,\n       &#39;icon&#39;: {&#39;prefix&#39;: &#39;https://ss3.4sqi.net/img/categories_v2/food/spanish_&#39;,\n        &#39;suffix&#39;: &#39;.png&#39;},\n       &#39;primary&#39;: True}],\n     &#39;verified&#39;: False,\n     &#39;stats&#39;: {&#39;tipCount&#39;: 0,\n      &#39;usersCount&#39;: 0,\n      &#39;checkinsCount&#39;: 0,\n      &#39;visitsCount&#39;: 0},\n     &#39;beenHere&#39;: {&#39;count&#39;: 0,\n      &#39;lastCheckinExpiredAt&#39;: 0,\n      &#39;marked&#39;: False,\n      &#39;unconfirmedCount&#39;: 0},\n     &#39;photos&#39;: {&#39;count&#39;: 0, &#39;groups&#39;: []},\n     &#39;hereNow&#39;: {&#39;count&#39;: 0, &#39;summary&#39;: &#39;Nobody here&#39;, &#39;groups&#39;: []}},\n    &#39;referralId&#39;: &#39;e-3-4e61fdbda80951b3184c3896-48&#39;},\n   {&#39;reasons&#39;: {&#39;count&#39;: 0,\n     &#39;items&#39;: [{&#39;summary&#39;: &#39;This spot is popular&#39;,\n       &#39;type&#39;: &#39;general&#39;,\n       &#39;reasonName&#39;: &#39;globalInteractionReason&#39;}]},\n    &#39;venue&#39;: {&#39;id&#39;: &#39;4dd796e18877f1150fecd530&#39;,\n     &#39;name&#39;: &#39;Hamburguesa Nostra&#39;,\n     &#39;contact&#39;: {},\n     &#39;location&#39;: {&#39;address&#39;: &#39;Mercado de San Antón&#39;,\n      &#39;lat&#39;: 40.422026687490394,\n      &#39;lng&#39;: -3.697647396217567,\n      &#39;labeledLatLngs&#39;: [{&#39;label&#39;: &#39;display&#39;,\n        &#39;lat&#39;: 40.422026687490394,\n        &#39;lng&#39;: -3.697647396217567}],\n      &#39;distance&#39;: 76,\n      &#39;postalCode&#39;: &#39;28004&#39;,\n      &#39;cc&#39;: &#39;ES&#39;,\n      &#39;city&#39;: &#39;Madrid&#39;,\n      &#39;state&#39;: &#39;Madrid&#39;,\n      &#39;country&#39;: &#39;España&#39;,\n      &#39;formattedAddress&#39;: [&#39;Mercado de San Antón&#39;,\n       &#39;28004 Madrid Madrid&#39;,\n       &#39;España&#39;]},\n     &#39;categories&#39;: [{&#39;id&#39;: &#39;4bf58dd8d48988d16c941735&#39;,\n       &#39;name&#39;: &#39;Burger Joint&#39;,\n       &#39;pluralName&#39;: &#39;Burger Joints&#39;,\n       &#39;shortName&#39;: &#39;Burgers&#39;,\n       &#39;icon&#39;: {&#39;prefix&#39;: &#39;https://ss3.4sqi.net/img/categories_v2/food/burger_&#39;,\n        &#39;suffix&#39;: &#39;.png&#39;},\n       &#39;primary&#39;: True}],\n     &#39;verified&#39;: True,\n     &#39;stats&#39;: {&#39;tipCount&#39;: 0,\n      &#39;usersCount&#39;: 0,\n      &#39;checkinsCount&#39;: 0,\n      &#39;visitsCount&#39;: 0},\n     &#39;beenHere&#39;: {&#39;count&#39;: 0,\n      &#39;lastCheckinExpiredAt&#39;: 0,\n      &#39;marked&#39;: False,\n      &#39;unconfirmedCount&#39;: 0},\n     &#39;photos&#39;: {&#39;count&#39;: 0, &#39;groups&#39;: []},\n     &#39;hereNow&#39;: {&#39;count&#39;: 0, &#39;summary&#39;: &#39;Nobody here&#39;, &#39;groups&#39;: []}},\n    &#39;referralId&#39;: &#39;e-3-4dd796e18877f1150fecd530-49&#39;},\n   {&#39;reasons&#39;: {&#39;count&#39;: 0,\n     &#39;items&#39;: [{&#39;summary&#39;: &#39;This spot is popular&#39;,\n       &#39;type&#39;: &#39;general&#39;,\n       &#39;reasonName&#39;: &#39;globalInteractionReason&#39;}]},\n    &#39;venue&#39;: {&#39;id&#39;: &#39;51d484c3498e003d2f954108&#39;,\n     &#39;name&#39;: &#39;La Trastienda&#39;,\n     &#39;contact&#39;: {},\n     &#39;location&#39;: {&#39;address&#39;: &#39;C. Augusto Figueroa, 24&#39;,\n      &#39;lat&#39;: 40.421973,\n      &#39;lng&#39;: -3.697602,\n      &#39;labeledLatLngs&#39;: [{&#39;label&#39;: &#39;display&#39;,\n        &#39;lat&#39;: 40.421973,\n        &#39;lng&#39;: -3.697602}],\n      &#39;distance&#39;: 82,\n      &#39;cc&#39;: &#39;ES&#39;,\n      &#39;city&#39;: &#39;Madrid&#39;,\n      &#39;state&#39;: &#39;Madrid&#39;,\n      &#39;country&#39;: &#39;España&#39;,\n      &#39;formattedAddress&#39;: [&#39;C. Augusto Figueroa, 24&#39;,\n       &#39;Madrid Madrid&#39;,\n       &#39;España&#39;]},\n     &#39;categories&#39;: [{&#39;id&#39;: &#39;4bf58dd8d48988d1db931735&#39;,\n       &#39;name&#39;: &#39;Tapas Restaurant&#39;,\n       &#39;pluralName&#39;: &#39;Tapas Restaurants&#39;,\n       &#39;shortName&#39;: &#39;Tapas&#39;,\n       &#39;icon&#39;: {&#39;prefix&#39;: &#39;https://ss3.4sqi.net/img/categories_v2/food/tapas_&#39;,\n        &#39;suffix&#39;: &#39;.png&#39;},\n       &#39;primary&#39;: True}],\n     &#39;verified&#39;: False,\n     &#39;stats&#39;: {&#39;tipCount&#39;: 0,\n      &#39;usersCount&#39;: 0,\n      &#39;checkinsCount&#39;: 0,\n      &#39;visitsCount&#39;: 0},\n     &#39;beenHere&#39;: {&#39;count&#39;: 0,\n      &#39;lastCheckinExpiredAt&#39;: 0,\n      &#39;marked&#39;: False,\n      &#39;unconfirmedCount&#39;: 0},\n     &#39;photos&#39;: {&#39;count&#39;: 0, &#39;groups&#39;: []},\n     &#39;hereNow&#39;: {&#39;count&#39;: 0, &#39;summary&#39;: &#39;Nobody here&#39;, &#39;groups&#39;: []}},\n    &#39;referralId&#39;: &#39;e-3-51d484c3498e003d2f954108-50&#39;}]}]"
     },
     "metadata": {},
     "execution_count": 95
    }
   ],
   "source": [
    "data[\"response\"]['groups']"
   ]
  },
  {
   "cell_type": "code",
   "execution_count": 96,
   "metadata": {},
   "outputs": [
    {
     "output_type": "execute_result",
     "data": {
      "text/plain": "41735&#39;,\n      &#39;name&#39;: &#39;Arepa Restaurant&#39;,\n      &#39;pluralName&#39;: &#39;Arepa Restaurants&#39;,\n      &#39;shortName&#39;: &#39;Arepas&#39;,\n      &#39;icon&#39;: {&#39;prefix&#39;: &#39;https://ss3.4sqi.net/img/categories_v2/food/arepas_&#39;,\n       &#39;suffix&#39;: &#39;.png&#39;},\n      &#39;primary&#39;: True}],\n    &#39;verified&#39;: True,\n    &#39;stats&#39;: {&#39;tipCount&#39;: 0,\n     &#39;usersCount&#39;: 0,\n     &#39;checkinsCount&#39;: 0,\n     &#39;visitsCount&#39;: 0},\n    &#39;beenHere&#39;: {&#39;count&#39;: 0,\n     &#39;lastCheckinExpiredAt&#39;: 0,\n     &#39;marked&#39;: False,\n     &#39;unconfirmedCount&#39;: 0},\n    &#39;photos&#39;: {&#39;count&#39;: 0, &#39;groups&#39;: []},\n    &#39;venuePage&#39;: {&#39;id&#39;: &#39;47887543&#39;},\n    &#39;hereNow&#39;: {&#39;count&#39;: 0, &#39;summary&#39;: &#39;Nobody here&#39;, &#39;groups&#39;: []}},\n   &#39;referralId&#39;: &#39;e-3-4fc22c42e4b09ab6886996c2-36&#39;},\n  {&#39;reasons&#39;: {&#39;count&#39;: 0,\n    &#39;items&#39;: [{&#39;summary&#39;: &#39;This spot is popular&#39;,\n      &#39;type&#39;: &#39;general&#39;,\n      &#39;reasonName&#39;: &#39;globalInteractionReason&#39;}]},\n   &#39;venue&#39;: {&#39;id&#39;: &#39;4b55a8d4f964a520c5ea27e3&#39;,\n    &#39;name&#39;: &#39;Tepic&#39;,\n    &#39;contact&#39;: {},\n    &#39;location&#39;: {&#39;address&#39;: &#39;C. Pelayo, 4&#39;,\n     &#39;lat&#39;: 40.421905539105566,\n     &#39;lng&#39;: -3.699123067670385,\n     &#39;labeledLatLngs&#39;: [{&#39;label&#39;: &#39;display&#39;,\n       &#39;lat&#39;: 40.421905539105566,\n       &#39;lng&#39;: -3.699123067670385}],\n     &#39;distance&#39;: 156,\n     &#39;cc&#39;: &#39;ES&#39;,\n     &#39;city&#39;: &#39;Madrid&#39;,\n     &#39;state&#39;: &#39;Madrid&#39;,\n     &#39;country&#39;: &#39;España&#39;,\n     &#39;formattedAddress&#39;: [&#39;C. Pelayo, 4&#39;, &#39;Madrid Madrid&#39;, &#39;España&#39;]},\n    &#39;categories&#39;: [{&#39;id&#39;: &#39;4bf58dd8d48988d1c1941735&#39;,\n      &#39;name&#39;: &#39;Mexican Restaurant&#39;,\n      &#39;pluralName&#39;: &#39;Mexican Restaurants&#39;,\n      &#39;shortName&#39;: &#39;Mexican&#39;,\n      &#39;icon&#39;: {&#39;prefix&#39;: &#39;https://ss3.4sqi.net/img/categories_v2/food/mexican_&#39;,\n       &#39;suffix&#39;: &#39;.png&#39;},\n      &#39;primary&#39;: True}],\n    &#39;verified&#39;: False,\n    &#39;stats&#39;: {&#39;tipCount&#39;: 0,\n     &#39;usersCount&#39;: 0,\n     &#39;checkinsCount&#39;: 0,\n     &#39;visitsCount&#39;: 0},\n    &#39;beenHere&#39;: {&#39;count&#39;: 0,\n     &#39;lastCheckinExpiredAt&#39;: 0,\n     &#39;marked&#39;: False,\n     &#39;unconfirmedCount&#39;: 0},\n    &#39;photos&#39;: {&#39;count&#39;: 0, &#39;groups&#39;: []},\n    &#39;hereNow&#39;: {&#39;count&#39;: 0, &#39;summary&#39;: &#39;Nobody here&#39;, &#39;groups&#39;: []}},\n   &#39;referralId&#39;: &#39;e-3-4b55a8d4f964a520c5ea27e3-37&#39;},\n  {&#39;reasons&#39;: {&#39;count&#39;: 0,\n    &#39;items&#39;: [{&#39;summary&#39;: &#39;This spot is popular&#39;,\n      &#39;type&#39;: &#39;general&#39;,\n      &#39;reasonName&#39;: &#39;globalInteractionReason&#39;}]},\n   &#39;venue&#39;: {&#39;id&#39;: &#39;5532b7a9498e944a9f268b2e&#39;,\n    &#39;name&#39;: &#39;Gioia Restaurante&#39;,\n    &#39;contact&#39;: {},\n    &#39;location&#39;: {&#39;address&#39;: &#39;San Bartolomé 23&#39;,\n     &#39;lat&#39;: 40.422075,\n     &#39;lng&#39;: -3.69859,\n     &#39;labeledLatLngs&#39;: [{&#39;label&#39;: &#39;display&#39;,\n       &#39;lat&#39;: 40.422075,\n       &#39;lng&#39;: -3.69859}],\n     &#39;distance&#39;: 109,\n     &#39;cc&#39;: &#39;ES&#39;,\n     &#39;city&#39;: &#39;Madrid&#39;,\n     &#39;state&#39;: &#39;Madrid&#39;,\n     &#39;country&#39;: &#39;España&#39;,\n     &#39;formattedAddress&#39;: [&#39;San Bartolomé 23&#39;, &#39;Madrid Madrid&#39;, &#39;España&#39;]},\n    &#39;categories&#39;: [{&#39;id&#39;: &#39;4bf58dd8d48988d110941735&#39;,\n      &#39;name&#39;: &#39;Italian Restaurant&#39;,\n      &#39;pluralName&#39;: &#39;Italian Restaurants&#39;,\n      &#39;shortName&#39;: &#39;Italian&#39;,\n      &#39;icon&#39;: {&#39;prefix&#39;: &#39;https://ss3.4sqi.net/img/categories_v2/food/italian_&#39;,\n       &#39;suffix&#39;: &#39;.png&#39;},\n      &#39;primary&#39;: True}],\n    &#39;verified&#39;: False,\n    &#39;stats&#39;: {&#39;tipCount&#39;: 0,\n     &#39;usersCount&#39;: 0,\n     &#39;checkinsCount&#39;: 0,\n     &#39;visitsCount&#39;: 0},\n    &#39;beenHere&#39;: {&#39;count&#39;: 0,\n     &#39;lastCheckinExpiredAt&#39;: 0,\n     &#39;marked&#39;: False,\n     &#39;unconfirmedCount&#39;: 0},\n    &#39;photos&#39;: {&#39;count&#39;: 0, &#39;groups&#39;: []},\n    &#39;hereNow&#39;: {&#39;count&#39;: 0, &#39;summary&#39;: &#39;Nobody here&#39;, &#39;groups&#39;: []}},\n   &#39;referralId&#39;: &#39;e-3-5532b7a9498e944a9f268b2e-38&#39;},\n  {&#39;reasons&#39;: {&#39;count&#39;: 0,\n    &#39;items&#39;: [{&#39;summary&#39;: &#39;This spot is popular&#39;,\n      &#39;type&#39;: &#39;general&#39;,\n      &#39;reasonName&#39;: &#39;globalInteractionReason&#39;}]},\n   &#39;venue&#39;: {&#39;id&#39;: &#39;4adcda3af964a520523d21e3&#39;,\n    &#39;name&#39;: &#39;Bazaar&#39;,\n    &#39;contact&#39;: {},\n    &#39;location&#39;: {&#39;address&#39;: &#39;C. Libertad, 21&#39;,\n     &#39;lat&#39;: 40.421289934462294,\n     &#39;lng&#39;: -3.697392702478642,\n     &#39;labeledLatLngs&#39;: [{&#39;label&#39;: &#39;display&#39;,\n       &#39;lat&#39;: 40.421289934462294,\n       &#39;lng&#39;: -3.697392702478642}],\n     &#39;distance&#39;: 159,\n     &#39;postalCode&#39;: &#39;28004&#39;,\n     &#39;cc&#39;: &#39;ES&#39;,\n     &#39;city&#39;: &#39;Madrid&#39;,\n     &#39;state&#39;: &#39;Madrid&#39;,\n     &#39;country&#39;: &#39;España&#39;,\n     &#39;formattedAddress&#39;: [&#39;C. Libertad, 21&#39;, &#39;28004 Madrid Madrid&#39;, &#39;España&#39;]},\n    &#39;categories&#39;: [{&#39;id&#39;: &#39;4bf58dd8d48988d1c0941735&#39;,\n      &#39;name&#39;: &#39;Mediterranean Restaurant&#39;,\n      &#39;pluralName&#39;: &#39;Mediterranean Restaurants&#39;,\n      &#39;shortName&#39;: &#39;Mediterranean&#39;,\n      &#39;icon&#39;: {&#39;prefix&#39;: &#39;https://ss3.4sqi.net/img/categories_v2/food/mediterranean_&#39;,\n       &#39;suffix&#39;: &#39;.png&#39;},\n      &#39;primary&#39;: True}],\n    &#39;verified&#39;: False,\n    &#39;stats&#39;: {&#39;tipCount&#39;: 0,\n     &#39;usersCount&#39;: 0,\n     &#39;checkinsCount&#39;: 0,\n     &#39;visitsCount&#39;: 0},\n    &#39;beenHere&#39;: {&#39;count&#39;: 0,\n     &#39;lastCheckinExpiredAt&#39;: 0,\n     &#39;marked&#39;: False,\n     &#39;unconfirmedCount&#39;: 0},\n    &#39;photos&#39;: {&#39;count&#39;: 0, &#39;groups&#39;: []},\n    &#39;hereNow&#39;: {&#39;count&#39;: 0, &#39;summary&#39;: &#39;Nobody here&#39;, &#39;groups&#39;: []}},\n   &#39;referralId&#39;: &#39;e-3-4adcda3af964a520523d21e3-39&#39;},\n  {&#39;reasons&#39;: {&#39;count&#39;: 0,\n    &#39;items&#39;: [{&#39;summary&#39;: &#39;This spot is popular&#39;,\n      &#39;type&#39;: &#39;general&#39;,\n      &#39;reasonName&#39;: &#39;globalInteractionReason&#39;}]},\n   &#39;venue&#39;: {&#39;id&#39;: &#39;5517152f498eba3fc8b760f4&#39;,\n    &#39;name&#39;: &#39;tuk tuk&#39;,\n    &#39;contact&#39;: {},\n    &#39;location&#39;: {&#39;address&#39;: &#39;C. Barquillo, 24&#39;,\n     &#39;lat&#39;: 40.42255008627129,\n     &#39;lng&#39;: -3.6956102723972575,\n     &#39;labeledLatLngs&#39;: [{&#39;label&#39;: &#39;display&#39;,\n       &#39;lat&#39;: 40.42255008627129,\n       &#39;lng&#39;: -3.6956102723972575}],\n     &#39;distance&#39;: 170,\n     &#39;postalCode&#39;: &#39;28004&#39;,\n     &#39;cc&#39;: &#39;ES&#39;,\n     &#39;city&#39;: &#39;Madrid&#39;,\n     &#39;state&#39;: &#39;Madrid&#39;,\n     &#39;country&#39;: &#39;España&#39;,\n     &#39;formattedAddress&#39;: [&#39;C. Barquillo, 24&#39;,\n      &#39;28004 Madrid Madrid&#39;,\n      &#39;España&#39;]},\n    &#39;categories&#39;: [{&#39;id&#39;: &#39;4bf58dd8d48988d142941735&#39;,\n      &#39;name&#39;: &#39;Asian Restaurant&#39;,\n      &#39;pluralName&#39;: &#39;Asian Restaurants&#39;,\n      &#39;shortName&#39;: &#39;Asian&#39;,\n      &#39;icon&#39;: {&#39;prefix&#39;: &#39;https://ss3.4sqi.net/img/categories_v2/food/asian_&#39;,\n       &#39;suffix&#39;: &#39;.png&#39;},\n      &#39;primary&#39;: True}],\n    &#39;verified&#39;: False,\n    &#39;stats&#39;: {&#39;tipCount&#39;: 0,\n     &#39;usersCount&#39;: 0,\n     &#39;checkinsCount&#39;: 0,\n     &#39;visitsCount&#39;: 0},\n    &#39;beenHere&#39;: {&#39;count&#39;: 0,\n     &#39;lastCheckinExpiredAt&#39;: 0,\n     &#39;marked&#39;: False,\n     &#39;unconfirmedCount&#39;: 0},\n    &#39;photos&#39;: {&#39;count&#39;: 0, &#39;groups&#39;: []},\n    &#39;hereNow&#39;: {&#39;count&#39;: 0, &#39;summary&#39;: &#39;Nobody here&#39;, &#39;groups&#39;: []}},\n   &#39;referralId&#39;: &#39;e-3-5517152f498eba3fc8b760f4-40&#39;},\n  {&#39;reasons&#39;: {&#39;count&#39;: 0,\n    &#39;items&#39;: [{&#39;summary&#39;: &#39;This spot is popular&#39;,\n      &#39;type&#39;: &#39;general&#39;,\n      &#39;reasonName&#39;: &#39;globalInteractionReason&#39;}]},\n   &#39;venue&#39;: {&#39;id&#39;: &#39;4e11bb65aeb74afe60bf6969&#39;,\n    &#39;name&#39;: &#39;B&amp;B Restaurante&#39;,\n    &#39;contact&#39;: {},\n    &#39;location&#39;: {&#39;address&#39;: &#39;C/ Libertad 23&#39;,\n     &#39;lat&#39;: 40.42138395009756,\n     &#39;lng&#39;: -3.697403436783447,\n     &#39;labeledLatLngs&#39;: [{&#39;label&#39;: &#39;display&#39;,\n       &#39;lat&#39;: 40.42138395009756,\n       &#39;lng&#39;: -3.697403436783447}],\n     &#39;distance&#39;: 148,\n     &#39;postalCode&#39;: &#39;28004&#39;,\n     &#39;cc&#39;: &#39;ES&#39;,\n     &#39;city&#39;: &#39;Madrid&#39;,\n     &#39;state&#39;: &#39;Madrid&#39;,\n     &#39;country&#39;: &#39;España&#39;,\n     &#39;formattedAddress&#39;: [&#39;C/ Libertad 23&#39;, &#39;28004 Madrid Madrid&#39;, &#39;España&#39;]},\n    &#39;categories&#39;: [{&#39;id&#39;: &#39;4bf58dd8d48988d16c941735&#39;,\n      &#39;name&#39;: &#39;Burger Joint&#39;,\n      &#39;pluralName&#39;: &#39;Burger Joints&#39;,\n      &#39;shortName&#39;: &#39;Burgers&#39;,\n      &#39;icon&#39;: {&#39;prefix&#39;: &#39;https://ss3.4sqi.net/img/categories_v2/food/burger_&#39;,\n       &#39;suffix&#39;: &#39;.png&#39;},\n      &#39;primary&#39;: True}],\n    &#39;verified&#39;: False,\n    &#39;stats&#39;: {&#39;tipCount&#39;: 0,\n     &#39;usersCount&#39;: 0,\n     &#39;checkinsCount&#39;: 0,\n     &#39;visitsCount&#39;: 0},\n    &#39;beenHere&#39;: {&#39;count&#39;: 0,\n     &#39;lastCheckinExpiredAt&#39;: 0,\n     &#39;marked&#39;: False,\n     &#39;unconfirmedCount&#39;: 0},\n    &#39;photos&#39;: {&#39;count&#39;: 0, &#39;groups&#39;: []},\n    &#39;hereNow&#39;: {&#39;count&#39;: 0, &#39;summary&#39;: &#39;Nobody here&#39;, &#39;groups&#39;: []}},\n   &#39;referralId&#39;: &#39;e-3-4e11bb65aeb74afe60bf6969-41&#39;},\n  {&#39;reasons&#39;: {&#39;count&#39;: 0,\n    &#39;items&#39;: [{&#39;summary&#39;: &#39;This spot is popular&#39;,\n      &#39;type&#39;: &#39;general&#39;,\n      &#39;reasonName&#39;: &#39;globalInteractionReason&#39;}]},\n   &#39;venue&#39;: {&#39;id&#39;: &#39;519b80c2498ec92af5e14080&#39;,\n    &#39;name&#39;: &#39;Cocinadeldesierto&#39;,\n    &#39;contact&#39;: {},\n    &#39;location&#39;: {&#39;lat&#39;: 40.421026142572885,\n     &#39;lng&#39;: -3.697432464744532,\n     &#39;labeledLatLngs&#39;: [{&#39;label&#39;: &#39;display&#39;,\n       &#39;lat&#39;: 40.421026142572885,\n       &#39;lng&#39;: -3.697432464744532}],\n     &#39;distance&#39;: 188,\n     &#39;cc&#39;: &#39;ES&#39;,\n     &#39;country&#39;: &#39;España&#39;,\n     &#39;formattedAddress&#39;: [&#39;España&#39;]},\n    &#39;categories&#39;: [{&#39;id&#39;: &#39;4bf58dd8d48988d1c4941735&#39;,\n      &#39;name&#39;: &#39;Restaurant&#39;,\n      &#39;pluralName&#39;: &#39;Restaurants&#39;,\n      &#39;shortName&#39;: &#39;Restaurant&#39;,\n      &#39;icon&#39;: {&#39;prefix&#39;: &#39;https://ss3.4sqi.net/img/categories_v2/food/default_&#39;,\n       &#39;suffix&#39;: &#39;.png&#39;},\n      &#39;primary&#39;: True}],\n    &#39;verified&#39;: False,\n    &#39;stats&#39;: {&#39;tipCount&#39;: 0,\n     &#39;usersCount&#39;: 0,\n     &#39;checkinsCount&#39;: 0,\n     &#39;visitsCount&#39;: 0},\n    &#39;beenHere&#39;: {&#39;count&#39;: 0,\n     &#39;lastCheckinExpiredAt&#39;: 0,\n     &#39;marked&#39;: False,\n     &#39;unconfirmedCount&#39;: 0},\n    &#39;photos&#39;: {&#39;count&#39;: 0, &#39;groups&#39;: []},\n    &#39;hereNow&#39;: {&#39;count&#39;: 0, &#39;summary&#39;: &#39;Nobody here&#39;, &#39;groups&#39;: []}},\n   &#39;referralId&#39;: &#39;e-3-519b80c2498ec92af5e14080-42&#39;},\n  {&#39;reasons&#39;: {&#39;count&#39;: 0,\n    &#39;items&#39;: [{&#39;summary&#39;: &#39;This spot is popular&#39;,\n      &#39;type&#39;: &#39;general&#39;,\n      &#39;reasonName&#39;: &#39;globalInteractionReason&#39;}]},\n   &#39;venue&#39;: {&#39;id&#39;: &#39;54ff6eb3498e5b0e025a632f&#39;,\n    &#39;name&#39;: &#39;Restaurante Vietnam24&#39;,\n    &#39;contact&#39;: {},\n    &#39;location&#39;: {&#39;address&#39;: &#39;Calle de San Marcos 24&#39;,\n     &#39;lat&#39;: 40.42134100000001,\n     &#39;lng&#39;: -3.698427999999999,\n     &#39;labeledLatLngs&#39;: [{&#39;label&#39;: &#39;display&#39;,\n       &#39;lat&#39;: 40.42134100000001,\n       &#39;lng&#39;: -3.698427999999999}],\n     &#39;distance&#39;: 167,\n     &#39;postalCode&#39;: &#39;28004&#39;,\n     &#39;cc&#39;: &#39;ES&#39;,\n     &#39;city&#39;: &#39;Madrid&#39;,\n     &#39;state&#39;: &#39;Madrid&#39;,\n     &#39;country&#39;: &#39;España&#39;,\n     &#39;formattedAddress&#39;: [&#39;Calle de San Marcos 24&#39;,\n      &#39;28004 Madrid Madrid&#39;,\n      &#39;España&#39;]},\n    &#39;categories&#39;: [{&#39;id&#39;: &#39;4bf58dd8d48988d14a941735&#39;,\n      &#39;name&#39;: &#39;Vietnamese Restaurant&#39;,\n      &#39;pluralName&#39;: &#39;Vietnamese Restaurants&#39;,\n      &#39;shortName&#39;: &#39;Vietnamese&#39;,\n      &#39;icon&#39;: {&#39;prefix&#39;: &#39;https://ss3.4sqi.net/img/categories_v2/food/vietnamese_&#39;,\n       &#39;suffix&#39;: &#39;.png&#39;},\n      &#39;primary&#39;: True}],\n    &#39;verified&#39;: True,\n    &#39;stats&#39;: {&#39;tipCount&#39;: 0,\n     &#39;usersCount&#39;: 0,\n     &#39;checkinsCount&#39;: 0,\n     &#39;visitsCount&#39;: 0},\n    &#39;beenHere&#39;: {&#39;count&#39;: 0,\n     &#39;lastCheckinExpiredAt&#39;: 0,\n     &#39;marked&#39;: False,\n     &#39;unconfirmedCount&#39;: 0},\n    &#39;photos&#39;: {&#39;count&#39;: 0, &#39;groups&#39;: []},\n    &#39;venuePage&#39;: {&#39;id&#39;: &#39;553047231&#39;},\n    &#39;hereNow&#39;: {&#39;count&#39;: 0, &#39;summary&#39;: &#39;Nobody here&#39;, &#39;groups&#39;: []}},\n   &#39;referralId&#39;: &#39;e-3-54ff6eb3498e5b0e025a632f-43&#39;},\n  {&#39;reasons&#39;: {&#39;count&#39;: 0,\n    &#39;items&#39;: [{&#39;summary&#39;: &#39;This spot is popular&#39;,\n      &#39;type&#39;: &#39;general&#39;,\n      &#39;reasonName&#39;: &#39;globalInteractionReason&#39;}]},\n   &#39;venue&#39;: {&#39;id&#39;: &#39;4da623936a23f2e80501b9dc&#39;,\n    &#39;name&#39;: &#39;Taberna El Buo&#39;,\n    &#39;contact&#39;: {},\n    &#39;location&#39;: {&#39;address&#39;: &#39;C. Gravina, 4&#39;,\n     &#39;crossStreet&#39;: &#39;C. Pelayo&#39;,\n     &#39;lat&#39;: 40.423217770388675,\n     &#39;lng&#39;: -3.6981833739403243,\n     &#39;labeledLatLngs&#39;: [{&#39;label&#39;: &#39;display&#39;,\n       &#39;lat&#39;: 40.423217770388675,\n       &#39;lng&#39;: -3.6981833739403243}],\n     &#39;distance&#39;: 74,\n     &#39;postalCode&#39;: &#39;28004&#39;,\n     &#39;cc&#39;: &#39;ES&#39;,\n     &#39;city&#39;: &#39;Madrid&#39;,\n     &#39;state&#39;: &#39;Madrid&#39;,\n     &#39;country&#39;: &#39;España&#39;,\n     &#39;formattedAddress&#39;: [&#39;C. Gravina, 4 (C. Pelayo)&#39;,\n      &#39;28004 Madrid Madrid&#39;,\n      &#39;España&#39;]},\n    &#39;categories&#39;: [{&#39;id&#39;: &#39;4bf58dd8d48988d1db931735&#39;,\n      &#39;name&#39;: &#39;Tapas Restaurant&#39;,\n      &#39;pluralName&#39;: &#39;Tapas Restaurants&#39;,\n      &#39;shortName&#39;: &#39;Tapas&#39;,\n      &#39;icon&#39;: {&#39;prefix&#39;: &#39;https://ss3.4sqi.net/img/categories_v2/food/tapas_&#39;,\n       &#39;suffix&#39;: &#39;.png&#39;},\n      &#39;primary&#39;: True}],\n    &#39;verified&#39;: False,\n    &#39;stats&#39;: {&#39;tipCount&#39;: 0,\n     &#39;usersCount&#39;: 0,\n     &#39;checkinsCount&#39;: 0,\n     &#39;visitsCount&#39;: 0},\n    &#39;beenHere&#39;: {&#39;count&#39;: 0,\n     &#39;lastCheckinExpiredAt&#39;: 0,\n     &#39;marked&#39;: False,\n     &#39;unconfirmedCount&#39;: 0},\n    &#39;photos&#39;: {&#39;count&#39;: 0, &#39;groups&#39;: []},\n    &#39;hereNow&#39;: {&#39;count&#39;: 0, &#39;summary&#39;: &#39;Nobody here&#39;, &#39;groups&#39;: []}},\n   &#39;referralId&#39;: &#39;e-3-4da623936a23f2e80501b9dc-44&#39;},\n  {&#39;reasons&#39;: {&#39;count&#39;: 0,\n    &#39;items&#39;: [{&#39;summary&#39;: &#39;This spot is popular&#39;,\n      &#39;type&#39;: &#39;general&#39;,\n      &#39;reasonName&#39;: &#39;globalInteractionReason&#39;}]},\n   &#39;venue&#39;: {&#39;id&#39;: &#39;4b75e1eff964a520e02b2ee3&#39;,\n    &#39;name&#39;: &#39;Restaurante Arce&#39;,\n    &#39;contact&#39;: {},\n    &#39;location&#39;: {&#39;address&#39;: &#39;C. Augusto Figueroa, 32&#39;,\n     &#39;lat&#39;: 40.42207258933475,\n     &#39;lng&#39;: -3.6967412061319482,\n     &#39;labeledLatLngs&#39;: [{&#39;label&#39;: &#39;display&#39;,\n       &#39;lat&#39;: 40.42207258933475,\n       &#39;lng&#39;: -3.6967412061319482}],\n     &#39;distance&#39;: 102,\n     &#39;postalCode&#39;: &#39;28004&#39;,\n     &#39;cc&#39;: &#39;ES&#39;,\n     &#39;city&#39;: &#39;Madrid&#39;,\n     &#39;state&#39;: &#39;Madrid&#39;,\n     &#39;country&#39;: &#39;España&#39;,\n     &#39;formattedAddress&#39;: [&#39;C. Augusto Figueroa, 32&#39;,\n      &#39;28004 Madrid Madrid&#39;,\n      &#39;España&#39;]},\n    &#39;categories&#39;: [{&#39;id&#39;: &#39;4bf58dd8d48988d150941735&#39;,\n      &#39;name&#39;: &#39;Spanish Restaurant&#39;,\n      &#39;pluralName&#39;: &#39;Spanish Restaurants&#39;,\n      &#39;shortName&#39;: &#39;Spanish&#39;,\n      &#39;icon&#39;: {&#39;prefix&#39;: &#39;https://ss3.4sqi.net/img/categories_v2/food/spanish_&#39;,\n       &#39;suffix&#39;: &#39;.png&#39;},\n      &#39;primary&#39;: True}],\n    &#39;verified&#39;: False,\n    &#39;stats&#39;: {&#39;tipCount&#39;: 0,\n     &#39;usersCount&#39;: 0,\n     &#39;checkinsCount&#39;: 0,\n     &#39;visitsCount&#39;: 0},\n    &#39;beenHere&#39;: {&#39;count&#39;: 0,\n     &#39;lastCheckinExpiredAt&#39;: 0,\n     &#39;marked&#39;: False,\n     &#39;unconfirmedCount&#39;: 0},\n    &#39;photos&#39;: {&#39;count&#39;: 0, &#39;groups&#39;: []},\n    &#39;hereNow&#39;: {&#39;count&#39;: 0, &#39;summary&#39;: &#39;Nobody here&#39;, &#39;groups&#39;: []}},\n   &#39;referralId&#39;: &#39;e-3-4b75e1eff964a520e02b2ee3-45&#39;},\n  {&#39;reasons&#39;: {&#39;count&#39;: 0,\n    &#39;items&#39;: [{&#39;summary&#39;: &#39;This spot is popular&#39;,\n      &#39;type&#39;: &#39;general&#39;,\n      &#39;reasonName&#39;: &#39;globalInteractionReason&#39;}]},\n   &#39;venue&#39;: {&#39;id&#39;: &#39;4b82aafcf964a5206add30e3&#39;,\n    &#39;name&#39;: &#39;Diurno Restaurant &amp; Bar&#39;,\n    &#39;contact&#39;: {},\n    &#39;location&#39;: {&#39;address&#39;: &#39;C. San Marcos, 37&#39;,\n     &#39;crossStreet&#39;: &#39;C. Libertad&#39;,\n     &#39;lat&#39;: 40.421299901405845,\n     &#39;lng&#39;: -3.6973373782873447,\n     &#39;labeledLatLngs&#39;: [{&#39;label&#39;: &#39;display&#39;,\n       &#39;lat&#39;: 40.421299901405845,\n       &#39;lng&#39;: -3.6973373782873447}],\n     &#39;distance&#39;: 158,\n     &#39;postalCode&#39;: &#39;28004&#39;,\n     &#39;cc&#39;: &#39;ES&#39;,\n     &#39;city&#39;: &#39;Madrid&#39;,\n     &#39;state&#39;: &#39;Madrid&#39;,\n     &#39;country&#39;: &#39;España&#39;,\n     &#39;formattedAddress&#39;: [&#39;C. San Marcos, 37 (C. Libertad)&#39;,\n      &#39;28004 Madrid Madrid&#39;,\n      &#39;España&#39;]},\n    &#39;categories&#39;: [{&#39;id&#39;: &#39;4bf58dd8d48988d1c0941735&#39;,\n      &#39;name&#39;: &#39;Mediterranean Restaurant&#39;,\n      &#39;pluralName&#39;: &#39;Mediterranean Restaurants&#39;,\n      &#39;shortName&#39;: &#39;Mediterranean&#39;,\n      &#39;icon&#39;: {&#39;prefix&#39;: &#39;https://ss3.4sqi.net/img/categories_v2/food/mediterranean_&#39;,\n       &#39;suffix&#39;: &#39;.png&#39;},\n      &#39;primary&#39;: True}],\n    &#39;verified&#39;: True,\n    &#39;stats&#39;: {&#39;tipCount&#39;: 0,\n     &#39;usersCount&#39;: 0,\n     &#39;checkinsCount&#39;: 0,\n     &#39;visitsCount&#39;: 0},\n    &#39;beenHere&#39;: {&#39;count&#39;: 0,\n     &#39;lastCheckinExpiredAt&#39;: 0,\n     &#39;marked&#39;: False,\n     &#39;unconfirmedCount&#39;: 0},\n    &#39;photos&#39;: {&#39;count&#39;: 0, &#39;groups&#39;: []},\n    &#39;venuePage&#39;: {&#39;id&#39;: &#39;76245254&#39;},\n    &#39;hereNow&#39;: {&#39;count&#39;: 0, &#39;summary&#39;: &#39;Nobody here&#39;, &#39;groups&#39;: []}},\n   &#39;referralId&#39;: &#39;e-3-4b82aafcf964a5206add30e3-46&#39;},\n  {&#39;reasons&#39;: {&#39;count&#39;: 0,\n    &#39;items&#39;: [{&#39;summary&#39;: &#39;This spot is popular&#39;,\n      &#39;type&#39;: &#39;general&#39;,\n      &#39;reasonName&#39;: &#39;globalInteractionReason&#39;}]},\n   &#39;venue&#39;: {&#39;id&#39;: &#39;538c87ed498e5e2ed88ad97b&#39;,\n    &#39;name&#39;: &#39;TE CATO&#39;,\n    &#39;contact&#39;: {},\n    &#39;location&#39;: {&#39;address&#39;: &#39;Gravina 12&#39;,\n     &#39;lat&#39;: 40.422849,\n     &#39;lng&#39;: -3.697099,\n     &#39;labeledLatLngs&#39;: [{&#39;label&#39;: &#39;display&#39;,\n       &#39;lat&#39;: 40.422849,\n       &#39;lng&#39;: -3.697099}],\n     &#39;distance&#39;: 45,\n     &#39;postalCode&#39;: &#39;28004&#39;,\n     &#39;cc&#39;: &#39;ES&#39;,\n     &#39;city&#39;: &#39;Madrid&#39;,\n     &#39;state&#39;: &#39;Madrid&#39;,\n     &#39;country&#39;: &#39;España&#39;,\n     &#39;formattedAddress&#39;: [&#39;Gravina 12&#39;, &#39;28004 Madrid Madrid&#39;, &#39;España&#39;]},\n    &#39;categories&#39;: [{&#39;id&#39;: &#39;4bf58dd8d48988d16d941735&#39;,\n      &#39;name&#39;: &#39;Café&#39;,\n      &#39;pluralName&#39;: &#39;Cafés&#39;,\n      &#39;shortName&#39;: &#39;Café&#39;,\n      &#39;icon&#39;: {&#39;prefix&#39;: &#39;https://ss3.4sqi.net/img/categories_v2/food/cafe_&#39;,\n       &#39;suffix&#39;: &#39;.png&#39;},\n      &#39;primary&#39;: True}],\n    &#39;verified&#39;: False,\n    &#39;stats&#39;: {&#39;tipCount&#39;: 0,\n     &#39;usersCount&#39;: 0,\n     &#39;checkinsCount&#39;: 0,\n     &#39;visitsCount&#39;: 0},\n    &#39;beenHere&#39;: {&#39;count&#39;: 0,\n     &#39;lastCheckinExpiredAt&#39;: 0,\n     &#39;marked&#39;: False,\n     &#39;unconfirmedCount&#39;: 0},\n    &#39;photos&#39;: {&#39;count&#39;: 0, &#39;groups&#39;: []},\n    &#39;hereNow&#39;: {&#39;count&#39;: 0, &#39;summary&#39;: &#39;Nobody here&#39;, &#39;groups&#39;: []}},\n   &#39;referralId&#39;: &#39;e-3-538c87ed498e5e2ed88ad97b-47&#39;},\n  {&#39;reasons&#39;: {&#39;count&#39;: 0,\n    &#39;items&#39;: [{&#39;summary&#39;: &#39;This spot is popular&#39;,\n      &#39;type&#39;: &#39;general&#39;,\n      &#39;reasonName&#39;: &#39;globalInteractionReason&#39;}]},\n   &#39;venue&#39;: {&#39;id&#39;: &#39;4e61fdbda80951b3184c3896&#39;,\n    &#39;name&#39;: &#39;Bagatella&#39;,\n    &#39;contact&#39;: {},\n    &#39;location&#39;: {&#39;address&#39;: &#39;C. Pelayo, 60&#39;,\n     &#39;lat&#39;: 40.42418217330663,\n     &#39;lng&#39;: -3.6974761592418637,\n     &#39;labeledLatLngs&#39;: [{&#39;label&#39;: &#39;display&#39;,\n       &#39;lat&#39;: 40.42418217330663,\n       &#39;lng&#39;: -3.6974761592418637}],\n     &#39;distance&#39;: 163,\n     &#39;postalCode&#39;: &#39;28004&#39;,\n     &#39;cc&#39;: &#39;ES&#39;,\n     &#39;city&#39;: &#39;Madrid&#39;,\n     &#39;state&#39;: &#39;Madrid&#39;,\n     &#39;country&#39;: &#39;España&#39;,\n     &#39;formattedAddress&#39;: [&#39;C. Pelayo, 60&#39;, &#39;28004 Madrid Madrid&#39;, &#39;España&#39;]},\n    &#39;categories&#39;: [{&#39;id&#39;: &#39;4bf58dd8d48988d150941735&#39;,\n      &#39;name&#39;: &#39;Spanish Restaurant&#39;,\n      &#39;pluralName&#39;: &#39;Spanish Restaurants&#39;,\n      &#39;shortName&#39;: &#39;Spanish&#39;,\n      &#39;icon&#39;: {&#39;prefix&#39;: &#39;https://ss3.4sqi.net/img/categories_v2/food/spanish_&#39;,\n       &#39;suffix&#39;: &#39;.png&#39;},\n      &#39;primary&#39;: True}],\n    &#39;verified&#39;: False,\n    &#39;stats&#39;: {&#39;tipCount&#39;: 0,\n     &#39;usersCount&#39;: 0,\n     &#39;checkinsCount&#39;: 0,\n     &#39;visitsCount&#39;: 0},\n    &#39;beenHere&#39;: {&#39;count&#39;: 0,\n     &#39;lastCheckinExpiredAt&#39;: 0,\n     &#39;marked&#39;: False,\n     &#39;unconfirmedCount&#39;: 0},\n    &#39;photos&#39;: {&#39;count&#39;: 0, &#39;groups&#39;: []},\n    &#39;hereNow&#39;: {&#39;count&#39;: 0, &#39;summary&#39;: &#39;Nobody here&#39;, &#39;groups&#39;: []}},\n   &#39;referralId&#39;: &#39;e-3-4e61fdbda80951b3184c3896-48&#39;},\n  {&#39;reasons&#39;: {&#39;count&#39;: 0,\n    &#39;items&#39;: [{&#39;summary&#39;: &#39;This spot is popular&#39;,\n      &#39;type&#39;: &#39;general&#39;,\n      &#39;reasonName&#39;: &#39;globalInteractionReason&#39;}]},\n   &#39;venue&#39;: {&#39;id&#39;: &#39;4dd796e18877f1150fecd530&#39;,\n    &#39;name&#39;: &#39;Hamburguesa Nostra&#39;,\n    &#39;contact&#39;: {},\n    &#39;location&#39;: {&#39;address&#39;: &#39;Mercado de San Antón&#39;,\n     &#39;lat&#39;: 40.422026687490394,\n     &#39;lng&#39;: -3.697647396217567,\n     &#39;labeledLatLngs&#39;: [{&#39;label&#39;: &#39;display&#39;,\n       &#39;lat&#39;: 40.422026687490394,\n       &#39;lng&#39;: -3.697647396217567}],\n     &#39;distance&#39;: 76,\n     &#39;postalCode&#39;: &#39;28004&#39;,\n     &#39;cc&#39;: &#39;ES&#39;,\n     &#39;city&#39;: &#39;Madrid&#39;,\n     &#39;state&#39;: &#39;Madrid&#39;,\n     &#39;country&#39;: &#39;España&#39;,\n     &#39;formattedAddress&#39;: [&#39;Mercado de San Antón&#39;,\n      &#39;28004 Madrid Madrid&#39;,\n      &#39;España&#39;]},\n    &#39;categories&#39;: [{&#39;id&#39;: &#39;4bf58dd8d48988d16c941735&#39;,\n      &#39;name&#39;: &#39;Burger Joint&#39;,\n      &#39;pluralName&#39;: &#39;Burger Joints&#39;,\n      &#39;shortName&#39;: &#39;Burgers&#39;,\n      &#39;icon&#39;: {&#39;prefix&#39;: &#39;https://ss3.4sqi.net/img/categories_v2/food/burger_&#39;,\n       &#39;suffix&#39;: &#39;.png&#39;},\n      &#39;primary&#39;: True}],\n    &#39;verified&#39;: True,\n    &#39;stats&#39;: {&#39;tipCount&#39;: 0,\n     &#39;usersCount&#39;: 0,\n     &#39;checkinsCount&#39;: 0,\n     &#39;visitsCount&#39;: 0},\n    &#39;beenHere&#39;: {&#39;count&#39;: 0,\n     &#39;lastCheckinExpiredAt&#39;: 0,\n     &#39;marked&#39;: False,\n     &#39;unconfirmedCount&#39;: 0},\n    &#39;photos&#39;: {&#39;count&#39;: 0, &#39;groups&#39;: []},\n    &#39;hereNow&#39;: {&#39;count&#39;: 0, &#39;summary&#39;: &#39;Nobody here&#39;, &#39;groups&#39;: []}},\n   &#39;referralId&#39;: &#39;e-3-4dd796e18877f1150fecd530-49&#39;},\n  {&#39;reasons&#39;: {&#39;count&#39;: 0,\n    &#39;items&#39;: [{&#39;summary&#39;: &#39;This spot is popular&#39;,\n      &#39;type&#39;: &#39;general&#39;,\n      &#39;reasonName&#39;: &#39;globalInteractionReason&#39;}]},\n   &#39;venue&#39;: {&#39;id&#39;: &#39;51d484c3498e003d2f954108&#39;,\n    &#39;name&#39;: &#39;La Trastienda&#39;,\n    &#39;contact&#39;: {},\n    &#39;location&#39;: {&#39;address&#39;: &#39;C. Augusto Figueroa, 24&#39;,\n     &#39;lat&#39;: 40.421973,\n     &#39;lng&#39;: -3.697602,\n     &#39;labeledLatLngs&#39;: [{&#39;label&#39;: &#39;display&#39;,\n       &#39;lat&#39;: 40.421973,\n       &#39;lng&#39;: -3.697602}],\n     &#39;distance&#39;: 82,\n     &#39;cc&#39;: &#39;ES&#39;,\n     &#39;city&#39;: &#39;Madrid&#39;,\n     &#39;state&#39;: &#39;Madrid&#39;,\n     &#39;country&#39;: &#39;España&#39;,\n     &#39;formattedAddress&#39;: [&#39;C. Augusto Figueroa, 24&#39;,\n      &#39;Madrid Madrid&#39;,\n      &#39;España&#39;]},\n    &#39;categories&#39;: [{&#39;id&#39;: &#39;4bf58dd8d48988d1db931735&#39;,\n      &#39;name&#39;: &#39;Tapas Restaurant&#39;,\n      &#39;pluralName&#39;: &#39;Tapas Restaurants&#39;,\n      &#39;shortName&#39;: &#39;Tapas&#39;,\n      &#39;icon&#39;: {&#39;prefix&#39;: &#39;https://ss3.4sqi.net/img/categories_v2/food/tapas_&#39;,\n       &#39;suffix&#39;: &#39;.png&#39;},\n      &#39;primary&#39;: True}],\n    &#39;verified&#39;: False,\n    &#39;stats&#39;: {&#39;tipCount&#39;: 0,\n     &#39;usersCount&#39;: 0,\n     &#39;checkinsCount&#39;: 0,\n     &#39;visitsCount&#39;: 0},\n    &#39;beenHere&#39;: {&#39;count&#39;: 0,\n     &#39;lastCheckinExpiredAt&#39;: 0,\n     &#39;marked&#39;: False,\n     &#39;unconfirmedCount&#39;: 0},\n    &#39;photos&#39;: {&#39;count&#39;: 0, &#39;groups&#39;: []},\n    &#39;hereNow&#39;: {&#39;count&#39;: 0, &#39;summary&#39;: &#39;Nobody here&#39;, &#39;groups&#39;: []}},\n   &#39;referralId&#39;: &#39;e-3-51d484c3498e003d2f954108-50&#39;}]}"
     },
     "metadata": {},
     "execution_count": 96
    }
   ],
   "source": [
    "data[\"response\"]['groups'][0]"
   ]
  },
  {
   "cell_type": "code",
   "execution_count": 97,
   "metadata": {},
   "outputs": [
    {
     "output_type": "execute_result",
     "data": {
      "text/plain": "dict_keys([&#39;type&#39;, &#39;name&#39;, &#39;items&#39;])"
     },
     "metadata": {},
     "execution_count": 97
    }
   ],
   "source": [
    "data[\"response\"]['groups'][0].keys()"
   ]
  },
  {
   "cell_type": "code",
   "execution_count": 71,
   "metadata": {},
   "outputs": [
    {
     "output_type": "execute_result",
     "data": {
      "text/plain": "ueca&#39;,\n    &#39;lat&#39;: 40.423086857922954,\n    &#39;lng&#39;: -3.697484191788935,\n    &#39;labeledLatLngs&#39;: [{&#39;label&#39;: &#39;display&#39;,\n      &#39;lat&#39;: 40.423086857922954,\n      &#39;lng&#39;: -3.697484191788935}],\n    &#39;distance&#39;: 42,\n    &#39;postalCode&#39;: &#39;28004&#39;,\n    &#39;cc&#39;: &#39;ES&#39;,\n    &#39;city&#39;: &#39;Madrid&#39;,\n    &#39;state&#39;: &#39;Madrid&#39;,\n    &#39;country&#39;: &#39;España&#39;,\n    &#39;formattedAddress&#39;: [&#39;C. San Gregorio, 1 (Pl. de Chueca)&#39;,\n     &#39;28004 Madrid Madrid&#39;,\n     &#39;España&#39;]},\n   &#39;categories&#39;: [{&#39;id&#39;: &#39;4bf58dd8d48988d16a941735&#39;,\n     &#39;name&#39;: &#39;Bakery&#39;,\n     &#39;pluralName&#39;: &#39;Bakeries&#39;,\n     &#39;shortName&#39;: &#39;Bakery&#39;,\n     &#39;icon&#39;: {&#39;prefix&#39;: &#39;https://ss3.4sqi.net/img/categories_v2/food/bakery_&#39;,\n      &#39;suffix&#39;: &#39;.png&#39;},\n     &#39;primary&#39;: True}],\n   &#39;verified&#39;: True,\n   &#39;stats&#39;: {&#39;tipCount&#39;: 0,\n    &#39;usersCount&#39;: 0,\n    &#39;checkinsCount&#39;: 0,\n    &#39;visitsCount&#39;: 0},\n   &#39;beenHere&#39;: {&#39;count&#39;: 0,\n    &#39;lastCheckinExpiredAt&#39;: 0,\n    &#39;marked&#39;: False,\n    &#39;unconfirmedCount&#39;: 0},\n   &#39;photos&#39;: {&#39;count&#39;: 0, &#39;groups&#39;: []},\n   &#39;venuePage&#39;: {&#39;id&#39;: &#39;59554968&#39;},\n   &#39;hereNow&#39;: {&#39;count&#39;: 0, &#39;summary&#39;: &#39;Nobody here&#39;, &#39;groups&#39;: []}},\n  &#39;referralId&#39;: &#39;e-3-4e7f04f44690deb1cd2c35bd-1&#39;},\n {&#39;reasons&#39;: {&#39;count&#39;: 0,\n   &#39;items&#39;: [{&#39;summary&#39;: &#39;This spot is popular&#39;,\n     &#39;type&#39;: &#39;general&#39;,\n     &#39;reasonName&#39;: &#39;globalInteractionReason&#39;}]},\n  &#39;venue&#39;: {&#39;id&#39;: &#39;4adcda35f964a520873b21e3&#39;,\n   &#39;name&#39;: &#39;El Cisne Azul&#39;,\n   &#39;contact&#39;: {},\n   &#39;location&#39;: {&#39;address&#39;: &#39;C. Gravina, 19&#39;,\n    &#39;lat&#39;: 40.4226125570602,\n    &#39;lng&#39;: -3.696732565805115,\n    &#39;labeledLatLngs&#39;: [{&#39;label&#39;: &#39;display&#39;,\n      &#39;lat&#39;: 40.4226125570602,\n      &#39;lng&#39;: -3.696732565805115}],\n    &#39;distance&#39;: 75,\n    &#39;postalCode&#39;: &#39;28004&#39;,\n    &#39;cc&#39;: &#39;ES&#39;,\n    &#39;neighborhood&#39;: &#39;Chueca&#39;,\n    &#39;city&#39;: &#39;Madrid&#39;,\n    &#39;state&#39;: &#39;Madrid&#39;,\n    &#39;country&#39;: &#39;España&#39;,\n    &#39;formattedAddress&#39;: [&#39;C. Gravina, 19&#39;, &#39;28004 Madrid Madrid&#39;, &#39;España&#39;]},\n   &#39;categories&#39;: [{&#39;id&#39;: &#39;4bf58dd8d48988d150941735&#39;,\n     &#39;name&#39;: &#39;Spanish Restaurant&#39;,\n     &#39;pluralName&#39;: &#39;Spanish Restaurants&#39;,\n     &#39;shortName&#39;: &#39;Spanish&#39;,\n     &#39;icon&#39;: {&#39;prefix&#39;: &#39;https://ss3.4sqi.net/img/categories_v2/food/spanish_&#39;,\n      &#39;suffix&#39;: &#39;.png&#39;},\n     &#39;primary&#39;: True}],\n   &#39;verified&#39;: False,\n   &#39;stats&#39;: {&#39;tipCount&#39;: 0,\n    &#39;usersCount&#39;: 0,\n    &#39;checkinsCount&#39;: 0,\n    &#39;visitsCount&#39;: 0},\n   &#39;beenHere&#39;: {&#39;count&#39;: 0,\n    &#39;lastCheckinExpiredAt&#39;: 0,\n    &#39;marked&#39;: False,\n    &#39;unconfirmedCount&#39;: 0},\n   &#39;photos&#39;: {&#39;count&#39;: 0, &#39;groups&#39;: []},\n   &#39;hereNow&#39;: {&#39;count&#39;: 0, &#39;summary&#39;: &#39;Nobody here&#39;, &#39;groups&#39;: []}},\n  &#39;referralId&#39;: &#39;e-3-4adcda35f964a520873b21e3-2&#39;},\n {&#39;reasons&#39;: {&#39;count&#39;: 0,\n   &#39;items&#39;: [{&#39;summary&#39;: &#39;This spot is popular&#39;,\n     &#39;type&#39;: &#39;general&#39;,\n     &#39;reasonName&#39;: &#39;globalInteractionReason&#39;}]},\n  &#39;venue&#39;: {&#39;id&#39;: &#39;5973a95ff0ca95364b30444a&#39;,\n   &#39;name&#39;: &#39;Morgana&#39;,\n   &#39;contact&#39;: {},\n   &#39;location&#39;: {&#39;crossStreet&#39;: &#39;Augusto figueroa 33&#39;,\n    &#39;lat&#39;: 40.422215,\n    &#39;lng&#39;: -3.697813,\n    &#39;labeledLatLngs&#39;: [{&#39;label&#39;: &#39;display&#39;,\n      &#39;lat&#39;: 40.422215,\n      &#39;lng&#39;: -3.697813}],\n    &#39;distance&#39;: 58,\n    &#39;postalCode&#39;: &#39;28004&#39;,\n    &#39;cc&#39;: &#39;ES&#39;,\n    &#39;city&#39;: &#39;Madrid&#39;,\n    &#39;state&#39;: &#39;Madrid&#39;,\n    &#39;country&#39;: &#39;España&#39;,\n    &#39;formattedAddress&#39;: [&#39;Augusto figueroa 33&#39;,\n     &#39;28004 Madrid Madrid&#39;,\n     &#39;España&#39;]},\n   &#39;categories&#39;: [{&#39;id&#39;: &#39;4bf58dd8d48988d1c4941735&#39;,\n     &#39;name&#39;: &#39;Restaurant&#39;,\n     &#39;pluralName&#39;: &#39;Restaurants&#39;,\n     &#39;shortName&#39;: &#39;Restaurant&#39;,\n     &#39;icon&#39;: {&#39;prefix&#39;: &#39;https://ss3.4sqi.net/img/categories_v2/food/default_&#39;,\n      &#39;suffix&#39;: &#39;.png&#39;},\n     &#39;primary&#39;: True}],\n   &#39;verified&#39;: False,\n   &#39;stats&#39;: {&#39;tipCount&#39;: 0,\n    &#39;usersCount&#39;: 0,\n    &#39;checkinsCount&#39;: 0,\n    &#39;visitsCount&#39;: 0},\n   &#39;beenHere&#39;: {&#39;count&#39;: 0,\n    &#39;lastCheckinExpiredAt&#39;: 0,\n    &#39;marked&#39;: False,\n    &#39;unconfirmedCount&#39;: 0},\n   &#39;photos&#39;: {&#39;count&#39;: 0, &#39;groups&#39;: []},\n   &#39;hereNow&#39;: {&#39;count&#39;: 0, &#39;summary&#39;: &#39;Nobody here&#39;, &#39;groups&#39;: []}},\n  &#39;referralId&#39;: &#39;e-3-5973a95ff0ca95364b30444a-3&#39;},\n {&#39;reasons&#39;: {&#39;count&#39;: 0,\n   &#39;items&#39;: [{&#39;summary&#39;: &#39;This spot is popular&#39;,\n     &#39;type&#39;: &#39;general&#39;,\n     &#39;reasonName&#39;: &#39;globalInteractionReason&#39;}]},\n  &#39;venue&#39;: {&#39;id&#39;: &#39;4e0e58c522711665f6143740&#39;,\n   &#39;name&#39;: &#39;La alacena de Victor Montes (mercado de San Anton)&#39;,\n   &#39;contact&#39;: {},\n   &#39;location&#39;: {&#39;address&#39;: &#39;Augusto Figueroa 24&#39;,\n    &#39;lat&#39;: 40.4219552461371,\n    &#39;lng&#39;: -3.6975662393915534,\n    &#39;labeledLatLngs&#39;: [{&#39;label&#39;: &#39;display&#39;,\n      &#39;lat&#39;: 40.4219552461371,\n      &#39;lng&#39;: -3.6975662393915534}],\n    &#39;distance&#39;: 84,\n    &#39;cc&#39;: &#39;ES&#39;,\n    &#39;city&#39;: &#39;Madrid&#39;,\n    &#39;state&#39;: &#39;Madrid&#39;,\n    &#39;country&#39;: &#39;España&#39;,\n    &#39;formattedAddress&#39;: [&#39;Augusto Figueroa 24&#39;, &#39;Madrid Madrid&#39;, &#39;España&#39;]},\n   &#39;categories&#39;: [{&#39;id&#39;: &#39;4bf58dd8d48988d146941735&#39;,\n     &#39;name&#39;: &#39;Deli / Bodega&#39;,\n     &#39;pluralName&#39;: &#39;Delis / Bodegas&#39;,\n     &#39;shortName&#39;: &#39;Deli / Bodega&#39;,\n     &#39;icon&#39;: {&#39;prefix&#39;: &#39;https://ss3.4sqi.net/img/categories_v2/food/deli_&#39;,\n      &#39;suffix&#39;: &#39;.png&#39;},\n     &#39;primary&#39;: True}],\n   &#39;verified&#39;: False,\n   &#39;stats&#39;: {&#39;tipCount&#39;: 0,\n    &#39;usersCount&#39;: 0,\n    &#39;checkinsCount&#39;: 0,\n    &#39;visitsCount&#39;: 0},\n   &#39;beenHere&#39;: {&#39;count&#39;: 0,\n    &#39;lastCheckinExpiredAt&#39;: 0,\n    &#39;marked&#39;: False,\n    &#39;unconfirmedCount&#39;: 0},\n   &#39;photos&#39;: {&#39;count&#39;: 0, &#39;groups&#39;: []},\n   &#39;hereNow&#39;: {&#39;count&#39;: 0, &#39;summary&#39;: &#39;Nobody here&#39;, &#39;groups&#39;: []}},\n  &#39;referralId&#39;: &#39;e-3-4e0e58c522711665f6143740-4&#39;},\n {&#39;reasons&#39;: {&#39;count&#39;: 0,\n   &#39;items&#39;: [{&#39;summary&#39;: &#39;This spot is popular&#39;,\n     &#39;type&#39;: &#39;general&#39;,\n     &#39;reasonName&#39;: &#39;globalInteractionReason&#39;}]},\n  &#39;venue&#39;: {&#39;id&#39;: &#39;53c1b62a498eb5bf28f996bd&#39;,\n   &#39;name&#39;: &#39;Mal de Amores&#39;,\n   &#39;contact&#39;: {},\n   &#39;location&#39;: {&#39;address&#39;: &#39;Valgame Dios, 4&#39;,\n    &#39;lat&#39;: 40.42225718566712,\n    &#39;lng&#39;: -3.6966339163444717,\n    &#39;labeledLatLngs&#39;: [{&#39;label&#39;: &#39;display&#39;,\n      &#39;lat&#39;: 40.42225718566712,\n      &#39;lng&#39;: -3.6966339163444717}],\n    &#39;distance&#39;: 96,\n    &#39;cc&#39;: &#39;ES&#39;,\n    &#39;country&#39;: &#39;España&#39;,\n    &#39;formattedAddress&#39;: [&#39;Valgame Dios, 4&#39;, &#39;España&#39;]},\n   &#39;categories&#39;: [{&#39;id&#39;: &#39;4bf58dd8d48988d1c4941735&#39;,\n     &#39;name&#39;: &#39;Restaurant&#39;,\n     &#39;pluralName&#39;: &#39;Restaurants&#39;,\n     &#39;shortName&#39;: &#39;Restaurant&#39;,\n     &#39;icon&#39;: {&#39;prefix&#39;: &#39;https://ss3.4sqi.net/img/categories_v2/food/default_&#39;,\n      &#39;suffix&#39;: &#39;.png&#39;},\n     &#39;primary&#39;: True}],\n   &#39;verified&#39;: False,\n   &#39;stats&#39;: {&#39;tipCount&#39;: 0,\n    &#39;usersCount&#39;: 0,\n    &#39;checkinsCount&#39;: 0,\n    &#39;visitsCount&#39;: 0},\n   &#39;beenHere&#39;: {&#39;count&#39;: 0,\n    &#39;lastCheckinExpiredAt&#39;: 0,\n    &#39;marked&#39;: False,\n    &#39;unconfirmedCount&#39;: 0},\n   &#39;photos&#39;: {&#39;count&#39;: 0, &#39;groups&#39;: []},\n   &#39;hereNow&#39;: {&#39;count&#39;: 0, &#39;summary&#39;: &#39;Nobody here&#39;, &#39;groups&#39;: []}},\n  &#39;referralId&#39;: &#39;e-3-53c1b62a498eb5bf28f996bd-5&#39;},\n {&#39;reasons&#39;: {&#39;count&#39;: 0,\n   &#39;items&#39;: [{&#39;summary&#39;: &#39;This spot is popular&#39;,\n     &#39;type&#39;: &#39;general&#39;,\n     &#39;reasonName&#39;: &#39;globalInteractionReason&#39;}]},\n  &#39;venue&#39;: {&#39;id&#39;: &#39;4b72b3f5f964a52078842de3&#39;,\n   &#39;name&#39;: &#39;Tienda de Vinos (El Comunista)&#39;,\n   &#39;contact&#39;: {},\n   &#39;location&#39;: {&#39;address&#39;: &#39;C. Augusto Figueroa, 35&#39;,\n    &#39;lat&#39;: 40.42214174422174,\n    &#39;lng&#39;: -3.6974815605101155,\n    &#39;labeledLatLngs&#39;: [{&#39;label&#39;: &#39;display&#39;,\n      &#39;lat&#39;: 40.42214174422174,\n      &#39;lng&#39;: -3.6974815605101155}],\n    &#39;distance&#39;: 64,\n    &#39;postalCode&#39;: &#39;28004&#39;,\n    &#39;cc&#39;: &#39;ES&#39;,\n    &#39;city&#39;: &#39;Madrid&#39;,\n    &#39;state&#39;: &#39;Madrid&#39;,\n    &#39;country&#39;: &#39;España&#39;,\n    &#39;formattedAddress&#39;: [&#39;C. Augusto Figueroa, 35&#39;,\n     &#39;28004 Madrid Madrid&#39;,\n     &#39;España&#39;]},\n   &#39;categories&#39;: [{&#39;id&#39;: &#39;4bf58dd8d48988d150941735&#39;,\n     &#39;name&#39;: &#39;Spanish Restaurant&#39;,\n     &#39;pluralName&#39;: &#39;Spanish Restaurants&#39;,\n     &#39;shortName&#39;: &#39;Spanish&#39;,\n     &#39;icon&#39;: {&#39;prefix&#39;: &#39;https://ss3.4sqi.net/img/categories_v2/food/spanish_&#39;,\n      &#39;suffix&#39;: &#39;.png&#39;},\n     &#39;primary&#39;: True}],\n   &#39;verified&#39;: False,\n   &#39;stats&#39;: {&#39;tipCount&#39;: 0,\n    &#39;usersCount&#39;: 0,\n    &#39;checkinsCount&#39;: 0,\n    &#39;visitsCount&#39;: 0},\n   &#39;beenHere&#39;: {&#39;count&#39;: 0,\n    &#39;lastCheckinExpiredAt&#39;: 0,\n    &#39;marked&#39;: False,\n    &#39;unconfirmedCount&#39;: 0},\n   &#39;photos&#39;: {&#39;count&#39;: 0, &#39;groups&#39;: []},\n   &#39;hereNow&#39;: {&#39;count&#39;: 0, &#39;summary&#39;: &#39;Nobody here&#39;, &#39;groups&#39;: []}},\n  &#39;referralId&#39;: &#39;e-3-4b72b3f5f964a52078842de3-6&#39;},\n {&#39;reasons&#39;: {&#39;count&#39;: 0,\n   &#39;items&#39;: [{&#39;summary&#39;: &#39;This spot is popular&#39;,\n     &#39;type&#39;: &#39;general&#39;,\n     &#39;reasonName&#39;: &#39;globalInteractionReason&#39;}]},\n  &#39;venue&#39;: {&#39;id&#39;: &#39;4b58b3eef964a520836628e3&#39;,\n   &#39;name&#39;: &#39;Baco y Beto&#39;,\n   &#39;contact&#39;: {},\n   &#39;location&#39;: {&#39;address&#39;: &#39;Calle de Pelayo, 24&#39;,\n    &#39;lat&#39;: 40.422752009461526,\n    &#39;lng&#39;: -3.698509156210323,\n    &#39;labeledLatLngs&#39;: [{&#39;label&#39;: &#39;display&#39;,\n      &#39;lat&#39;: 40.422752009461526,\n      &#39;lng&#39;: -3.698509156210323}],\n    &#39;distance&#39;: 76,\n    &#39;postalCode&#39;: &#39;28004&#39;,\n    &#39;cc&#39;: &#39;ES&#39;,\n    &#39;city&#39;: &#39;Madrid&#39;,\n    &#39;state&#39;: &#39;Madrid&#39;,\n    &#39;country&#39;: &#39;España&#39;,\n    &#39;formattedAddress&#39;: [&#39;Calle de Pelayo, 24&#39;,\n     &#39;28004 Madrid Madrid&#39;,\n     &#39;España&#39;]},\n   &#39;categories&#39;: [{&#39;id&#39;: &#39;4bf58dd8d48988d150941735&#39;,\n     &#39;name&#39;: &#39;Spanish Restaurant&#39;,\n     &#39;pluralName&#39;: &#39;Spanish Restaurants&#39;,\n     &#39;shortName&#39;: &#39;Spanish&#39;,\n     &#39;icon&#39;: {&#39;prefix&#39;: &#39;https://ss3.4sqi.net/img/categories_v2/food/spanish_&#39;,\n      &#39;suffix&#39;: &#39;.png&#39;},\n     &#39;primary&#39;: True}],\n   &#39;verified&#39;: False,\n   &#39;stats&#39;: {&#39;tipCount&#39;: 0,\n    &#39;usersCount&#39;: 0,\n    &#39;checkinsCount&#39;: 0,\n    &#39;visitsCount&#39;: 0},\n   &#39;beenHere&#39;: {&#39;count&#39;: 0,\n    &#39;lastCheckinExpiredAt&#39;: 0,\n    &#39;marked&#39;: False,\n    &#39;unconfirmedCount&#39;: 0},\n   &#39;photos&#39;: {&#39;count&#39;: 0, &#39;groups&#39;: []},\n   &#39;hereNow&#39;: {&#39;count&#39;: 0, &#39;summary&#39;: &#39;Nobody here&#39;, &#39;groups&#39;: []}},\n  &#39;referralId&#39;: &#39;e-3-4b58b3eef964a520836628e3-7&#39;},\n {&#39;reasons&#39;: {&#39;count&#39;: 0,\n   &#39;items&#39;: [{&#39;summary&#39;: &#39;This spot is popular&#39;,\n     &#39;type&#39;: &#39;general&#39;,\n     &#39;reasonName&#39;: &#39;globalInteractionReason&#39;}]},\n  &#39;venue&#39;: {&#39;id&#39;: &#39;4c090f92009a0f47230ae7bf&#39;,\n   &#39;name&#39;: &#39;Restaurante Vegaviana&#39;,\n   &#39;contact&#39;: {},\n   &#39;location&#39;: {&#39;address&#39;: &#39;C. Pelayo, 35&#39;,\n    &#39;lat&#39;: 40.42327219098249,\n    &#39;lng&#39;: -3.69815135043315,\n    &#39;labeledLatLngs&#39;: [{&#39;label&#39;: &#39;display&#39;,\n      &#39;lat&#39;: 40.42327219098249,\n      &#39;lng&#39;: -3.69815135043315}],\n    &#39;distance&#39;: 77,\n    &#39;postalCode&#39;: &#39;28004&#39;,\n    &#39;cc&#39;: &#39;ES&#39;,\n    &#39;city&#39;: &#39;Madrid&#39;,\n    &#39;state&#39;: &#39;Madrid&#39;,\n    &#39;country&#39;: &#39;España&#39;,\n    &#39;formattedAddress&#39;: [&#39;C. Pelayo, 35&#39;, &#39;28004 Madrid Madrid&#39;, &#39;España&#39;]},\n   &#39;categories&#39;: [{&#39;id&#39;: &#39;4bf58dd8d48988d1d3941735&#39;,\n     &#39;name&#39;: &#39;Vegetarian / Vegan Restaurant&#39;,\n     &#39;pluralName&#39;: &#39;Vegetarian / Vegan Restaurants&#39;,\n     &#39;shortName&#39;: &#39;Vegetarian / Vegan&#39;,\n     &#39;icon&#39;: {&#39;prefix&#39;: &#39;https://ss3.4sqi.net/img/categories_v2/food/vegetarian_&#39;,\n      &#39;suffix&#39;: &#39;.png&#39;},\n     &#39;primary&#39;: True}],\n   &#39;verified&#39;: False,\n   &#39;stats&#39;: {&#39;tipCount&#39;: 0,\n    &#39;usersCount&#39;: 0,\n    &#39;checkinsCount&#39;: 0,\n    &#39;visitsCount&#39;: 0},\n   &#39;beenHere&#39;: {&#39;count&#39;: 0,\n    &#39;lastCheckinExpiredAt&#39;: 0,\n    &#39;marked&#39;: False,\n    &#39;unconfirmedCount&#39;: 0},\n   &#39;photos&#39;: {&#39;count&#39;: 0, &#39;groups&#39;: []},\n   &#39;hereNow&#39;: {&#39;count&#39;: 0, &#39;summary&#39;: &#39;Nobody here&#39;, &#39;groups&#39;: []}},\n  &#39;referralId&#39;: &#39;e-3-4c090f92009a0f47230ae7bf-8&#39;},\n {&#39;reasons&#39;: {&#39;count&#39;: 0,\n   &#39;items&#39;: [{&#39;summary&#39;: &#39;This spot is popular&#39;,\n     &#39;type&#39;: &#39;general&#39;,\n     &#39;reasonName&#39;: &#39;globalInteractionReason&#39;}]},\n  &#39;venue&#39;: {&#39;id&#39;: &#39;55324cbb498e151e37dd7505&#39;,\n   &#39;name&#39;: &#39;Fit Food&#39;,\n   &#39;contact&#39;: {},\n   &#39;location&#39;: {&#39;address&#39;: &#39;C. Augusto Figueroa, 28&#39;,\n    &#39;crossStreet&#39;: &#39;C. Libertad&#39;,\n    &#39;lat&#39;: 40.42215861775813,\n    &#39;lng&#39;: -3.696966733547483,\n    &#39;labeledLatLngs&#39;: [{&#39;label&#39;: &#39;display&#39;,\n      &#39;lat&#39;: 40.42215861775813,\n      &#39;lng&#39;: -3.696966733547483}],\n    &#39;distance&#39;: 82,\n    &#39;postalCode&#39;: &#39;28004&#39;,\n    &#39;cc&#39;: &#39;ES&#39;,\n    &#39;city&#39;: &#39;Madrid&#39;,\n    &#39;state&#39;: &#39;Madrid&#39;,\n    &#39;country&#39;: &#39;España&#39;,\n    &#39;formattedAddress&#39;: [&#39;C. Augusto Figueroa, 28 (C. Libertad)&#39;,\n     &#39;28004 Madrid Madrid&#39;,\n     &#39;España&#39;]},\n   &#39;categories&#39;: [{&#39;id&#39;: &#39;4bf58dd8d48988d146941735&#39;,\n     &#39;name&#39;: &#39;Deli / Bodega&#39;,\n     &#39;pluralName&#39;: &#39;Delis / Bodegas&#39;,\n     &#39;shortName&#39;: &#39;Deli / Bodega&#39;,\n     &#39;icon&#39;: {&#39;prefix&#39;: &#39;https://ss3.4sqi.net/img/categories_v2/food/deli_&#39;,\n      &#39;suffix&#39;: &#39;.png&#39;},\n     &#39;primary&#39;: True}],\n   &#39;verified&#39;: True,\n   &#39;stats&#39;: {&#39;tipCount&#39;: 0,\n    &#39;usersCount&#39;: 0,\n    &#39;checkinsCount&#39;: 0,\n    &#39;visitsCount&#39;: 0},\n   &#39;beenHere&#39;: {&#39;count&#39;: 0,\n    &#39;lastCheckinExpiredAt&#39;: 0,\n    &#39;marked&#39;: False,\n    &#39;unconfirmedCount&#39;: 0},\n   &#39;photos&#39;: {&#39;count&#39;: 0, &#39;groups&#39;: []},\n   &#39;venuePage&#39;: {&#39;id&#39;: &#39;132316091&#39;},\n   &#39;hereNow&#39;: {&#39;count&#39;: 0, &#39;summary&#39;: &#39;Nobody here&#39;, &#39;groups&#39;: []}},\n  &#39;referralId&#39;: &#39;e-3-55324cbb498e151e37dd7505-9&#39;},\n {&#39;reasons&#39;: {&#39;count&#39;: 0,\n   &#39;items&#39;: [{&#39;summary&#39;: &#39;This spot is popular&#39;,\n     &#39;type&#39;: &#39;general&#39;,\n     &#39;reasonName&#39;: &#39;globalInteractionReason&#39;}]},\n  &#39;venue&#39;: {&#39;id&#39;: &#39;5221ff9d8bbd729e36282560&#39;,\n   &#39;name&#39;: &#39;7 Delicatessen&#39;,\n   &#39;contact&#39;: {},\n   &#39;location&#39;: {&#39;address&#39;: &#39;Mercado de San Antón&#39;,\n    &#39;crossStreet&#39;: &#39;C. Augusto Figueroa, 24&#39;,\n    &#39;lat&#39;: 40.42196450098142,\n    &#39;lng&#39;: -3.697572648525238,\n    &#39;labeledLatLngs&#39;: [{&#39;label&#39;: &#39;display&#39;,\n      &#39;lat&#39;: 40.42196450098142,\n      &#39;lng&#39;: -3.697572648525238}],\n    &#39;distance&#39;: 83,\n    &#39;postalCode&#39;: &#39;28004&#39;,\n    &#39;cc&#39;: &#39;ES&#39;,\n    &#39;city&#39;: &#39;Madrid&#39;,\n    &#39;state&#39;: &#39;Madrid&#39;,\n    &#39;country&#39;: &#39;España&#39;,\n    &#39;formattedAddress&#39;: [&#39;Mercado de San Antón (C. Augusto Figueroa, 24)&#39;,\n     &#39;28004 Madrid Madrid&#39;,\n     &#39;España&#39;]},\n   &#39;categories&#39;: [{&#39;id&#39;: &#39;4bf58dd8d48988d150941735&#39;,\n     &#39;name&#39;: &#39;Spanish Restaurant&#39;,\n     &#39;pluralName&#39;: &#39;Spanish Restaurants&#39;,\n     &#39;shortName&#39;: &#39;Spanish&#39;,\n     &#39;icon&#39;: {&#39;prefix&#39;: &#39;https://ss3.4sqi.net/img/categories_v2/food/spanish_&#39;,\n      &#39;suffix&#39;: &#39;.png&#39;},\n     &#39;primary&#39;: True}],\n   &#39;verified&#39;: True,\n   &#39;stats&#39;: {&#39;tipCount&#39;: 0,\n    &#39;usersCount&#39;: 0,\n    &#39;checkinsCount&#39;: 0,\n    &#39;visitsCount&#39;: 0},\n   &#39;beenHere&#39;: {&#39;count&#39;: 0,\n    &#39;lastCheckinExpiredAt&#39;: 0,\n    &#39;marked&#39;: False,\n    &#39;unconfirmedCount&#39;: 0},\n   &#39;photos&#39;: {&#39;count&#39;: 0, &#39;groups&#39;: []},\n   &#39;hereNow&#39;: {&#39;count&#39;: 0, &#39;summary&#39;: &#39;Nobody here&#39;, &#39;groups&#39;: []}},\n  &#39;referralId&#39;: &#39;e-3-5221ff9d8bbd729e36282560-10&#39;},\n {&#39;reasons&#39;: {&#39;count&#39;: 0,\n   &#39;items&#39;: [{&#39;summary&#39;: &#39;This spot is popular&#39;,\n     &#39;type&#39;: &#39;general&#39;,\n     &#39;reasonName&#39;: &#39;globalInteractionReason&#39;}]},\n  &#39;venue&#39;: {&#39;id&#39;: &#39;5abe40873c858d57567ab8ed&#39;,\n   &#39;name&#39;: &#39;La Buha&#39;,\n   &#39;contact&#39;: {},\n   &#39;location&#39;: {&#39;address&#39;: &#39;Calle Pelayo&#39;,\n    &#39;lat&#39;: 40.423134,\n    &#39;lng&#39;: -3.69815,\n    &#39;labeledLatLngs&#39;: [{&#39;label&#39;: &#39;display&#39;,\n      &#39;lat&#39;: 40.423134,\n      &#39;lng&#39;: -3.69815}],\n    &#39;distance&#39;: 65,\n    &#39;postalCode&#39;: &#39;28004&#39;,\n    &#39;cc&#39;: &#39;ES&#39;,\n    &#39;city&#39;: &#39;Madrid&#39;,\n    &#39;state&#39;: &#39;Madrid&#39;,\n    &#39;country&#39;: &#39;España&#39;,\n    &#39;formattedAddress&#39;: [&#39;Calle Pelayo&#39;, &#39;28004 Madrid Madrid&#39;, &#39;España&#39;]},\n   &#39;categories&#39;: [{&#39;id&#39;: &#39;4bf58dd8d48988d1db931735&#39;,\n     &#39;name&#39;: &#39;Tapas Restaurant&#39;,\n     &#39;pluralName&#39;: &#39;Tapas Restaurants&#39;,\n     &#39;shortName&#39;: &#39;Tapas&#39;,\n     &#39;icon&#39;: {&#39;prefix&#39;: &#39;https://ss3.4sqi.net/img/categories_v2/food/tapas_&#39;,\n      &#39;suffix&#39;: &#39;.png&#39;},\n     &#39;primary&#39;: True}],\n   &#39;verified&#39;: False,\n   &#39;stats&#39;: {&#39;tipCount&#39;: 0,\n    &#39;usersCount&#39;: 0,\n    &#39;checkinsCount&#39;: 0,\n    &#39;visitsCount&#39;: 0},\n   &#39;beenHere&#39;: {&#39;count&#39;: 0,\n    &#39;lastCheckinExpiredAt&#39;: 0,\n    &#39;marked&#39;: False,\n    &#39;unconfirmedCount&#39;: 0},\n   &#39;photos&#39;: {&#39;count&#39;: 0, &#39;groups&#39;: []},\n   &#39;hereNow&#39;: {&#39;count&#39;: 0, &#39;summary&#39;: &#39;Nobody here&#39;, &#39;groups&#39;: []}},\n  &#39;referralId&#39;: &#39;e-3-5abe40873c858d57567ab8ed-11&#39;},\n {&#39;reasons&#39;: {&#39;count&#39;: 0,\n   &#39;items&#39;: [{&#39;summary&#39;: &#39;This spot is popular&#39;,\n     &#39;type&#39;: &#39;general&#39;,\n     &#39;reasonName&#39;: &#39;globalInteractionReason&#39;}]},\n  &#39;venue&#39;: {&#39;id&#39;: &#39;4da623936a23f2e80501b9dc&#39;,\n   &#39;name&#39;: &#39;Taberna El Buo&#39;,\n   &#39;contact&#39;: {},\n   &#39;location&#39;: {&#39;address&#39;: &#39;C. Gravina, 4&#39;,\n    &#39;crossStreet&#39;: &#39;C. Pelayo&#39;,\n    &#39;lat&#39;: 40.423217770388675,\n    &#39;lng&#39;: -3.6981833739403243,\n    &#39;labeledLatLngs&#39;: [{&#39;label&#39;: &#39;display&#39;,\n      &#39;lat&#39;: 40.423217770388675,\n      &#39;lng&#39;: -3.6981833739403243}],\n    &#39;distance&#39;: 74,\n    &#39;postalCode&#39;: &#39;28004&#39;,\n    &#39;cc&#39;: &#39;ES&#39;,\n    &#39;city&#39;: &#39;Madrid&#39;,\n    &#39;state&#39;: &#39;Madrid&#39;,\n    &#39;country&#39;: &#39;España&#39;,\n    &#39;formattedAddress&#39;: [&#39;C. Gravina, 4 (C. Pelayo)&#39;,\n     &#39;28004 Madrid Madrid&#39;,\n     &#39;España&#39;]},\n   &#39;categories&#39;: [{&#39;id&#39;: &#39;4bf58dd8d48988d1db931735&#39;,\n     &#39;name&#39;: &#39;Tapas Restaurant&#39;,\n     &#39;pluralName&#39;: &#39;Tapas Restaurants&#39;,\n     &#39;shortName&#39;: &#39;Tapas&#39;,\n     &#39;icon&#39;: {&#39;prefix&#39;: &#39;https://ss3.4sqi.net/img/categories_v2/food/tapas_&#39;,\n      &#39;suffix&#39;: &#39;.png&#39;},\n     &#39;primary&#39;: True}],\n   &#39;verified&#39;: False,\n   &#39;stats&#39;: {&#39;tipCount&#39;: 0,\n    &#39;usersCount&#39;: 0,\n    &#39;checkinsCount&#39;: 0,\n    &#39;visitsCount&#39;: 0},\n   &#39;beenHere&#39;: {&#39;count&#39;: 0,\n    &#39;lastCheckinExpiredAt&#39;: 0,\n    &#39;marked&#39;: False,\n    &#39;unconfirmedCount&#39;: 0},\n   &#39;photos&#39;: {&#39;count&#39;: 0, &#39;groups&#39;: []},\n   &#39;hereNow&#39;: {&#39;count&#39;: 0, &#39;summary&#39;: &#39;Nobody here&#39;, &#39;groups&#39;: []}},\n  &#39;referralId&#39;: &#39;e-3-4da623936a23f2e80501b9dc-12&#39;},\n {&#39;reasons&#39;: {&#39;count&#39;: 0,\n   &#39;items&#39;: [{&#39;summary&#39;: &#39;This spot is popular&#39;,\n     &#39;type&#39;: &#39;general&#39;,\n     &#39;reasonName&#39;: &#39;globalInteractionReason&#39;}]},\n  &#39;venue&#39;: {&#39;id&#39;: &#39;538c87ed498e5e2ed88ad97b&#39;,\n   &#39;name&#39;: &#39;TE CATO&#39;,\n   &#39;contact&#39;: {},\n   &#39;location&#39;: {&#39;address&#39;: &#39;Gravina 12&#39;,\n    &#39;lat&#39;: 40.422849,\n    &#39;lng&#39;: -3.697099,\n    &#39;labeledLatLngs&#39;: [{&#39;label&#39;: &#39;display&#39;,\n      &#39;lat&#39;: 40.422849,\n      &#39;lng&#39;: -3.697099}],\n    &#39;distance&#39;: 45,\n    &#39;postalCode&#39;: &#39;28004&#39;,\n    &#39;cc&#39;: &#39;ES&#39;,\n    &#39;city&#39;: &#39;Madrid&#39;,\n    &#39;state&#39;: &#39;Madrid&#39;,\n    &#39;country&#39;: &#39;España&#39;,\n    &#39;formattedAddress&#39;: [&#39;Gravina 12&#39;, &#39;28004 Madrid Madrid&#39;, &#39;España&#39;]},\n   &#39;categories&#39;: [{&#39;id&#39;: &#39;4bf58dd8d48988d16d941735&#39;,\n     &#39;name&#39;: &#39;Café&#39;,\n     &#39;pluralName&#39;: &#39;Cafés&#39;,\n     &#39;shortName&#39;: &#39;Café&#39;,\n     &#39;icon&#39;: {&#39;prefix&#39;: &#39;https://ss3.4sqi.net/img/categories_v2/food/cafe_&#39;,\n      &#39;suffix&#39;: &#39;.png&#39;},\n     &#39;primary&#39;: True}],\n   &#39;verified&#39;: False,\n   &#39;stats&#39;: {&#39;tipCount&#39;: 0,\n    &#39;usersCount&#39;: 0,\n    &#39;checkinsCount&#39;: 0,\n    &#39;visitsCount&#39;: 0},\n   &#39;beenHere&#39;: {&#39;count&#39;: 0,\n    &#39;lastCheckinExpiredAt&#39;: 0,\n    &#39;marked&#39;: False,\n    &#39;unconfirmedCount&#39;: 0},\n   &#39;photos&#39;: {&#39;count&#39;: 0, &#39;groups&#39;: []},\n   &#39;hereNow&#39;: {&#39;count&#39;: 0, &#39;summary&#39;: &#39;Nobody here&#39;, &#39;groups&#39;: []}},\n  &#39;referralId&#39;: &#39;e-3-538c87ed498e5e2ed88ad97b-13&#39;},\n {&#39;reasons&#39;: {&#39;count&#39;: 0,\n   &#39;items&#39;: [{&#39;summary&#39;: &#39;This spot is popular&#39;,\n     &#39;type&#39;: &#39;general&#39;,\n     &#39;reasonName&#39;: &#39;globalInteractionReason&#39;}]},\n  &#39;venue&#39;: {&#39;id&#39;: &#39;4dd796e18877f1150fecd530&#39;,\n   &#39;name&#39;: &#39;Hamburguesa Nostra&#39;,\n   &#39;contact&#39;: {},\n   &#39;location&#39;: {&#39;address&#39;: &#39;Mercado de San Antón&#39;,\n    &#39;lat&#39;: 40.422026687490394,\n    &#39;lng&#39;: -3.697647396217567,\n    &#39;labeledLatLngs&#39;: [{&#39;label&#39;: &#39;display&#39;,\n      &#39;lat&#39;: 40.422026687490394,\n      &#39;lng&#39;: -3.697647396217567}],\n    &#39;distance&#39;: 76,\n    &#39;postalCode&#39;: &#39;28004&#39;,\n    &#39;cc&#39;: &#39;ES&#39;,\n    &#39;city&#39;: &#39;Madrid&#39;,\n    &#39;state&#39;: &#39;Madrid&#39;,\n    &#39;country&#39;: &#39;España&#39;,\n    &#39;formattedAddress&#39;: [&#39;Mercado de San Antón&#39;,\n     &#39;28004 Madrid Madrid&#39;,\n     &#39;España&#39;]},\n   &#39;categories&#39;: [{&#39;id&#39;: &#39;4bf58dd8d48988d16c941735&#39;,\n     &#39;name&#39;: &#39;Burger Joint&#39;,\n     &#39;pluralName&#39;: &#39;Burger Joints&#39;,\n     &#39;shortName&#39;: &#39;Burgers&#39;,\n     &#39;icon&#39;: {&#39;prefix&#39;: &#39;https://ss3.4sqi.net/img/categories_v2/food/burger_&#39;,\n      &#39;suffix&#39;: &#39;.png&#39;},\n     &#39;primary&#39;: True}],\n   &#39;verified&#39;: True,\n   &#39;stats&#39;: {&#39;tipCount&#39;: 0,\n    &#39;usersCount&#39;: 0,\n    &#39;checkinsCount&#39;: 0,\n    &#39;visitsCount&#39;: 0},\n   &#39;beenHere&#39;: {&#39;count&#39;: 0,\n    &#39;lastCheckinExpiredAt&#39;: 0,\n    &#39;marked&#39;: False,\n    &#39;unconfirmedCount&#39;: 0},\n   &#39;photos&#39;: {&#39;count&#39;: 0, &#39;groups&#39;: []},\n   &#39;hereNow&#39;: {&#39;count&#39;: 0, &#39;summary&#39;: &#39;Nobody here&#39;, &#39;groups&#39;: []}},\n  &#39;referralId&#39;: &#39;e-3-4dd796e18877f1150fecd530-14&#39;},\n {&#39;reasons&#39;: {&#39;count&#39;: 0,\n   &#39;items&#39;: [{&#39;summary&#39;: &#39;This spot is popular&#39;,\n     &#39;type&#39;: &#39;general&#39;,\n     &#39;reasonName&#39;: &#39;globalInteractionReason&#39;}]},\n  &#39;venue&#39;: {&#39;id&#39;: &#39;51d484c3498e003d2f954108&#39;,\n   &#39;name&#39;: &#39;La Trastienda&#39;,\n   &#39;contact&#39;: {},\n   &#39;location&#39;: {&#39;address&#39;: &#39;C. Augusto Figueroa, 24&#39;,\n    &#39;lat&#39;: 40.421973,\n    &#39;lng&#39;: -3.697602,\n    &#39;labeledLatLngs&#39;: [{&#39;label&#39;: &#39;display&#39;,\n      &#39;lat&#39;: 40.421973,\n      &#39;lng&#39;: -3.697602}],\n    &#39;distance&#39;: 82,\n    &#39;cc&#39;: &#39;ES&#39;,\n    &#39;city&#39;: &#39;Madrid&#39;,\n    &#39;state&#39;: &#39;Madrid&#39;,\n    &#39;country&#39;: &#39;España&#39;,\n    &#39;formattedAddress&#39;: [&#39;C. Augusto Figueroa, 24&#39;,\n     &#39;Madrid Madrid&#39;,\n     &#39;España&#39;]},\n   &#39;categories&#39;: [{&#39;id&#39;: &#39;4bf58dd8d48988d1db931735&#39;,\n     &#39;name&#39;: &#39;Tapas Restaurant&#39;,\n     &#39;pluralName&#39;: &#39;Tapas Restaurants&#39;,\n     &#39;shortName&#39;: &#39;Tapas&#39;,\n     &#39;icon&#39;: {&#39;prefix&#39;: &#39;https://ss3.4sqi.net/img/categories_v2/food/tapas_&#39;,\n      &#39;suffix&#39;: &#39;.png&#39;},\n     &#39;primary&#39;: True}],\n   &#39;verified&#39;: False,\n   &#39;stats&#39;: {&#39;tipCount&#39;: 0,\n    &#39;usersCount&#39;: 0,\n    &#39;checkinsCount&#39;: 0,\n    &#39;visitsCount&#39;: 0},\n   &#39;beenHere&#39;: {&#39;count&#39;: 0,\n    &#39;lastCheckinExpiredAt&#39;: 0,\n    &#39;marked&#39;: False,\n    &#39;unconfirmedCount&#39;: 0},\n   &#39;photos&#39;: {&#39;count&#39;: 0, &#39;groups&#39;: []},\n   &#39;hereNow&#39;: {&#39;count&#39;: 0, &#39;summary&#39;: &#39;Nobody here&#39;, &#39;groups&#39;: []}},\n  &#39;referralId&#39;: &#39;e-3-51d484c3498e003d2f954108-15&#39;}]"
     },
     "metadata": {},
     "execution_count": 71
    }
   ],
   "source": [
    "data[\"response\"]['groups'][0]['items']"
   ]
  },
  {
   "cell_type": "code",
   "execution_count": 98,
   "metadata": {},
   "outputs": [
    {
     "output_type": "execute_result",
     "data": {
      "text/plain": "dict_keys([&#39;reasons&#39;, &#39;venue&#39;, &#39;referralId&#39;])"
     },
     "metadata": {},
     "execution_count": 98
    }
   ],
   "source": [
    "data[\"response\"]['groups'][0]['items'][0].keys()"
   ]
  },
  {
   "cell_type": "code",
   "execution_count": 99,
   "metadata": {},
   "outputs": [
    {
     "output_type": "execute_result",
     "data": {
      "text/plain": "dict_keys([&#39;id&#39;, &#39;name&#39;, &#39;contact&#39;, &#39;location&#39;, &#39;categories&#39;, &#39;verified&#39;, &#39;stats&#39;, &#39;beenHere&#39;, &#39;photos&#39;, &#39;venuePage&#39;, &#39;hereNow&#39;])"
     },
     "metadata": {},
     "execution_count": 99
    }
   ],
   "source": [
    "data[\"response\"]['groups'][0]['items'][0]['venue'].keys()"
   ]
  },
  {
   "cell_type": "code",
   "execution_count": 100,
   "metadata": {},
   "outputs": [
    {
     "output_type": "execute_result",
     "data": {
      "text/plain": "&#39;Kuoco 360&#39;"
     },
     "metadata": {},
     "execution_count": 100
    }
   ],
   "source": [
    "data[\"response\"]['groups'][0]['items'][0]['venue']['name']\n",
    "# Este es el camino para obtener el nombre del restaurante"
   ]
  },
  {
   "cell_type": "code",
   "execution_count": 101,
   "metadata": {},
   "outputs": [
    {
     "output_type": "execute_result",
     "data": {
      "text/plain": "{&#39;address&#39;: &#39;Calle San Bartolmé, 14&#39;,\n &#39;lat&#39;: 40.421841757,\n &#39;lng&#39;: -3.698455902,\n &#39;labeledLatLngs&#39;: [{&#39;label&#39;: &#39;display&#39;,\n   &#39;lat&#39;: 40.421841757,\n   &#39;lng&#39;: -3.698455902}],\n &#39;distance&#39;: 120,\n &#39;postalCode&#39;: &#39;28004&#39;,\n &#39;cc&#39;: &#39;ES&#39;,\n &#39;city&#39;: &#39;Madrid&#39;,\n &#39;state&#39;: &#39;Madrid&#39;,\n &#39;country&#39;: &#39;España&#39;,\n &#39;formattedAddress&#39;: [&#39;Calle San Bartolmé, 14&#39;,\n  &#39;28004 Madrid Madrid&#39;,\n  &#39;España&#39;]}"
     },
     "metadata": {},
     "execution_count": 101
    }
   ],
   "source": [
    "data[\"response\"]['groups'][0]['items'][0]['venue']['location']\n",
    "#De aqui podría obtener la direccion y las coordenadas "
   ]
  },
  {
   "cell_type": "code",
   "execution_count": 76,
   "metadata": {},
   "outputs": [
    {
     "output_type": "execute_result",
     "data": {
      "text/plain": "dict_keys([&#39;address&#39;, &#39;lat&#39;, &#39;lng&#39;, &#39;labeledLatLngs&#39;, &#39;distance&#39;, &#39;cc&#39;, &#39;city&#39;, &#39;state&#39;, &#39;country&#39;, &#39;formattedAddress&#39;])"
     },
     "metadata": {},
     "execution_count": 76
    }
   ],
   "source": [
    "data[\"response\"]['groups'][0]['items'][0]['venue']['location'].keys()"
   ]
  },
  {
   "cell_type": "code",
   "execution_count": 120,
   "metadata": {},
   "outputs": [
    {
     "output_type": "execute_result",
     "data": {
      "text/plain": "&#39;Calle San Bartolmé, 14&#39;"
     },
     "metadata": {},
     "execution_count": 120
    }
   ],
   "source": [
    "data[\"response\"]['groups'][0]['items'][0]['venue']['location']['address']\n",
    "# El camino para obtener la dirección de cada restaurante"
   ]
  },
  {
   "cell_type": "code",
   "execution_count": 103,
   "metadata": {},
   "outputs": [
    {
     "output_type": "execute_result",
     "data": {
      "text/plain": "40.421841757"
     },
     "metadata": {},
     "execution_count": 103
    }
   ],
   "source": [
    "data[\"response\"]['groups'][0]['items'][0]['venue']['location']['lat']\n",
    "# Esta es la latitud"
   ]
  },
  {
   "cell_type": "code",
   "execution_count": 104,
   "metadata": {},
   "outputs": [
    {
     "output_type": "execute_result",
     "data": {
      "text/plain": "-3.698455902"
     },
     "metadata": {},
     "execution_count": 104
    }
   ],
   "source": [
    "data[\"response\"]['groups'][0]['items'][0]['venue']['location']['lng']"
   ]
  },
  {
   "cell_type": "code",
   "execution_count": 105,
   "metadata": {},
   "outputs": [
    {
     "output_type": "execute_result",
     "data": {
      "text/plain": "[&#39;Calle San Bartolmé, 14&#39;, &#39;28004 Madrid Madrid&#39;, &#39;España&#39;]"
     },
     "metadata": {},
     "execution_count": 105
    }
   ],
   "source": [
    "data[\"response\"]['groups'][0]['items'][0]['venue']['location']['formattedAddress']"
   ]
  },
  {
   "cell_type": "code",
   "execution_count": 106,
   "metadata": {
    "tags": []
   },
   "outputs": [
    {
     "output_type": "stream",
     "name": "stdout",
     "text": "Kuoco 360\nBunny&#39;s Deli\ncelicioso\nPizzaiolo\nVides\nPanod\nFood Truck\nCafés Arrivederci\nHot Now\nIzakaya Han\nLa Panaderia de Chueca\nEl Cisne Azul\nSr. Ito\nMorgana\nBosco de Lobos\nLa alacena de Victor Montes (mercado de San Anton)\nMal de Amores\nTienda de Vinos (El Comunista)\nLa Carmencita\nBaco y Beto\nRestaurante Vegaviana\nAloha Poké\nVivares\nRESTAURANTE KRITIKOS\nBoho Bar\nFit Food\nLa Candelita\nSan Wich\n7 Delicatessen\nle cocó\nLa Buha\nDionisos\nRoostiq\nXanacuk\nAl Vacío\nMassa Pizza\nArepa Olé &quot;Chueca&quot;\nTepic\nGioia Restaurante\nBazaar\ntuk tuk\nB&amp;B Restaurante\nCocinadeldesierto\nRestaurante Vietnam24\nTaberna El Buo\nRestaurante Arce\nDiurno Restaurant &amp; Bar\nTE CATO\nBagatella\nHamburguesa Nostra\nLa Trastienda\n"
    }
   ],
   "source": [
    "for rest in data[\"response\"]['groups'][0][\"items\"]:\n",
    "    print(rest[\"venue\"][\"name\"])"
   ]
  },
  {
   "cell_type": "code",
   "execution_count": 111,
   "metadata": {},
   "outputs": [
    {
     "output_type": "execute_result",
     "data": {
      "text/plain": "[&#39;Kuoco 360&#39;,\n &quot;Bunny&#39;s Deli&quot;,\n &#39;celicioso&#39;,\n &#39;Pizzaiolo&#39;,\n &#39;Vides&#39;,\n &#39;Panod&#39;,\n &#39;Food Truck&#39;,\n &#39;Cafés Arrivederci&#39;,\n &#39;Hot Now&#39;,\n &#39;Izakaya Han&#39;,\n &#39;La Panaderia de Chueca&#39;,\n &#39;El Cisne Azul&#39;,\n &#39;Sr. Ito&#39;,\n &#39;Morgana&#39;,\n &#39;Bosco de Lobos&#39;,\n &#39;La alacena de Victor Montes (mercado de San Anton)&#39;,\n &#39;Mal de Amores&#39;,\n &#39;Tienda de Vinos (El Comunista)&#39;,\n &#39;La Carmencita&#39;,\n &#39;Baco y Beto&#39;,\n &#39;Restaurante Vegaviana&#39;,\n &#39;Aloha Poké&#39;,\n &#39;Vivares&#39;,\n &#39;RESTAURANTE KRITIKOS&#39;,\n &#39;Boho Bar&#39;,\n &#39;Fit Food&#39;,\n &#39;La Candelita&#39;,\n &#39;San Wich&#39;,\n &#39;7 Delicatessen&#39;,\n &#39;le cocó&#39;,\n &#39;La Buha&#39;,\n &#39;Dionisos&#39;,\n &#39;Roostiq&#39;,\n &#39;Xanacuk&#39;,\n &#39;Al Vacío&#39;,\n &#39;Massa Pizza&#39;,\n &#39;Arepa Olé &quot;Chueca&quot;&#39;,\n &#39;Tepic&#39;,\n &#39;Gioia Restaurante&#39;,\n &#39;Bazaar&#39;,\n &#39;tuk tuk&#39;,\n &#39;B&amp;B Restaurante&#39;,\n &#39;Cocinadeldesierto&#39;,\n &#39;Restaurante Vietnam24&#39;,\n &#39;Taberna El Buo&#39;,\n &#39;Restaurante Arce&#39;,\n &#39;Diurno Restaurant &amp; Bar&#39;,\n &#39;TE CATO&#39;,\n &#39;Bagatella&#39;,\n &#39;Hamburguesa Nostra&#39;,\n &#39;La Trastienda&#39;]"
     },
     "metadata": {},
     "execution_count": 111
    }
   ],
   "source": [
    "nombre = [elem1[\"venue\"][\"name\"] for elem1 in data[\"response\"]['groups'][0][\"items\"]]\n",
    "nombre"
   ]
  },
  {
   "cell_type": "code",
   "execution_count": 107,
   "metadata": {},
   "outputs": [
    {
     "output_type": "execute_result",
     "data": {
      "text/plain": "[40.421841757,\n 40.423935,\n 40.4221118727551,\n 40.42379534723905,\n 40.42101652377878,\n 40.42196050145854,\n 40.42381557557015,\n 40.42239983850301,\n 40.421317,\n 40.421818886748916,\n 40.423086857922954,\n 40.4226125570602,\n 40.42419418250838,\n 40.422215,\n 40.424150785649374,\n 40.4219552461371,\n 40.42225718566712,\n 40.42214174422174,\n 40.42126199404328,\n 40.422752009461526,\n 40.42327219098249,\n 40.42113511381703,\n 40.422396252036314,\n 40.4236788,\n 40.42119008484262,\n 40.42215861775813,\n 40.422774434672846,\n 40.42345933650479,\n 40.42196450098142,\n 40.42160429601288,\n 40.423134,\n 40.4228785381634,\n 40.422035,\n 40.42288737215488,\n 40.42110545805447,\n 40.422638,\n 40.42178698102328,\n 40.421905539105566,\n 40.422075,\n 40.421289934462294,\n 40.42255008627129,\n 40.42138395009756,\n 40.421026142572885,\n 40.42134100000001,\n 40.423217770388675,\n 40.42207258933475,\n 40.421299901405845,\n 40.422849,\n 40.42418217330663,\n 40.422026687490394,\n 40.421973]"
     },
     "metadata": {},
     "execution_count": 107
    }
   ],
   "source": [
    "latitud = [elem2['venue']['location']['lat'] for elem2 in data[\"response\"]['groups'][0][\"items\"]]\n",
    "latitud"
   ]
  },
  {
   "cell_type": "code",
   "execution_count": 108,
   "metadata": {},
   "outputs": [
    {
     "output_type": "execute_result",
     "data": {
      "text/plain": "[-3.698455902,\n -3.6971583,\n -3.695725917401657,\n -3.698597330722856,\n -3.6973542003338395,\n -3.6954788629561257,\n -3.6960864532494018,\n -3.6984653209661364,\n -3.69803,\n -3.698475072010201,\n -3.697484191788935,\n -3.696732565805115,\n -3.697464102646731,\n -3.697813,\n -3.6990139940797278,\n -3.6975662393915534,\n -3.6966339163444717,\n -3.6974815605101155,\n -3.6972917841088693,\n -3.698509156210323,\n -3.69815135043315,\n -3.6973795495793205,\n -3.6994208517652574,\n -3.6973335000000134,\n -3.696839788805677,\n -3.696966733547483,\n -3.695580591064091,\n -3.6987347226235188,\n -3.697572648525238,\n -3.697959956085206,\n -3.69815,\n -3.699817259142709,\n -3.696219,\n -3.6997711672466655,\n -3.6967437786407955,\n -3.699032,\n -3.6992083295172167,\n -3.699123067670385,\n -3.69859,\n -3.697392702478642,\n -3.6956102723972575,\n -3.697403436783447,\n -3.697432464744532,\n -3.698427999999999,\n -3.6981833739403243,\n -3.6967412061319482,\n -3.6973373782873447,\n -3.697099,\n -3.6974761592418637,\n -3.697647396217567,\n -3.697602]"
     },
     "metadata": {},
     "execution_count": 108
    }
   ],
   "source": [
    "longitud = [elem3['venue']['location']['lng'] for elem3 in data[\"response\"]['groups'][0][\"items\"]]\n",
    "longitud"
   ]
  },
  {
   "cell_type": "code",
   "execution_count": 109,
   "metadata": {
    "tags": []
   },
   "outputs": [
    {
     "output_type": "execute_result",
     "data": {
      "text/plain": "[[&#39;Calle San Bartolmé, 14&#39;, &#39;28004 Madrid Madrid&#39;, &#39;España&#39;],\n [&#39;Calle San Gregorio 17&#39;, &#39;28004 Madrid Madrid&#39;, &#39;España&#39;],\n [&#39;Calle del Barquillo 19&#39;, &#39;28004 Madrid Madrid&#39;, &#39;España&#39;],\n [&#39;C. Hortaleza, 84&#39;, &#39;28004 Madrid Madrid&#39;, &#39;España&#39;],\n [&#39;C. Libertad, 12&#39;, &#39;28004 Madrid Madrid&#39;, &#39;España&#39;],\n [&#39;Calle Prim 1&#39;, &#39;28004 Madrid Madrid&#39;, &#39;España&#39;],\n [&#39;C. San Lucas, 11&#39;, &#39;Madrid Madrid&#39;, &#39;España&#39;],\n [&#39;Calle Augusto Figueroa&#39;, &#39;Madrid Madrid&#39;, &#39;España&#39;],\n [&#39;barbieri 14&#39;, &#39;28004 Madrid Madrid&#39;, &#39;España&#39;],\n [&#39;San Bartolome 10 (Augusto Figueroa)&#39;, &#39;28004 Madrid Madrid&#39;, &#39;España&#39;],\n [&#39;C. San Gregorio, 1 (Pl. de Chueca)&#39;, &#39;28004 Madrid Madrid&#39;, &#39;España&#39;],\n [&#39;C. Gravina, 19&#39;, &#39;28004 Madrid Madrid&#39;, &#39;España&#39;],\n [&#39;Calle Pelayo 60&#39;, &#39;Madrid Madrid&#39;, &#39;España&#39;],\n [&#39;Augusto figueroa 33&#39;, &#39;28004 Madrid Madrid&#39;, &#39;España&#39;],\n [&#39;C. Hortaleza, 63 (C. Farmacia)&#39;, &#39;28004 Madrid Madrid&#39;, &#39;España&#39;],\n [&#39;Augusto Figueroa 24&#39;, &#39;Madrid Madrid&#39;, &#39;España&#39;],\n [&#39;Valgame Dios, 4&#39;, &#39;España&#39;],\n [&#39;C. Augusto Figueroa, 35&#39;, &#39;28004 Madrid Madrid&#39;, &#39;España&#39;],\n [&#39;C. de la Libertad, 16&#39;, &#39;28004 Madrid Madrid&#39;, &#39;España&#39;],\n [&#39;Calle de Pelayo, 24&#39;, &#39;28004 Madrid Madrid&#39;, &#39;España&#39;],\n [&#39;C. Pelayo, 35&#39;, &#39;28004 Madrid Madrid&#39;, &#39;España&#39;],\n [&#39;Calle de la Libertad 17&#39;, &#39;28004 Madrid Madrid&#39;, &#39;España&#39;],\n [&#39;C. Hortaleza, 52 (C. de Pelayo)&#39;, &#39;28004 Madrid Madrid&#39;, &#39;España&#39;],\n [&#39;Calle San Gregorio 11&#39;, &#39;28004 Madrid Madrid&#39;, &#39;España&#39;],\n [&#39;C. Colmenares, 13 (C. San Marcos)&#39;, &#39;28004 Madrid Madrid&#39;, &#39;España&#39;],\n [&#39;C. Augusto Figueroa, 28 (C. Libertad)&#39;, &#39;28004 Madrid Madrid&#39;, &#39;España&#39;],\n [&#39;C. Barquillo, 30&#39;, &#39;28004 Madrid Madrid&#39;, &#39;España&#39;],\n [&#39;C. Hortaleza, 78&#39;, &#39;28004 Madrid Madrid&#39;, &#39;España&#39;],\n [&#39;Mercado de San Antón (C. Augusto Figueroa, 24)&#39;,\n  &#39;28004 Madrid Madrid&#39;,\n  &#39;España&#39;],\n [&#39;C. Barbieri, 15&#39;, &#39;28004 Madrid Madrid&#39;, &#39;España&#39;],\n [&#39;Calle Pelayo&#39;, &#39;28004 Madrid Madrid&#39;, &#39;España&#39;],\n [&#39;Augusto Figueroa 8&#39;, &#39;Madrid Madrid&#39;, &#39;España&#39;],\n [&#39;47 Calle de Augusto Figueroa&#39;, &#39;28004 Madrid Madrid&#39;, &#39;España&#39;],\n [&#39;C. Augusto Figueroa&#39;, &#39;28004 Madrid Madrid&#39;, &#39;España&#39;],\n [&#39;C. Colmenares, 13&#39;, &#39;28014 Madrid Madrid&#39;, &#39;España&#39;],\n [&#39;Augusto Figueroa, 21&#39;, &#39;Madrid Centro Madrid&#39;, &#39;España&#39;],\n [&#39;C. Pelayo, 2&#39;, &#39;28004 Madrid Madrid&#39;, &#39;España&#39;],\n [&#39;C. Pelayo, 4&#39;, &#39;Madrid Madrid&#39;, &#39;España&#39;],\n [&#39;San Bartolomé 23&#39;, &#39;Madrid Madrid&#39;, &#39;España&#39;],\n [&#39;C. Libertad, 21&#39;, &#39;28004 Madrid Madrid&#39;, &#39;España&#39;],\n [&#39;C. Barquillo, 24&#39;, &#39;28004 Madrid Madrid&#39;, &#39;España&#39;],\n [&#39;C/ Libertad 23&#39;, &#39;28004 Madrid Madrid&#39;, &#39;España&#39;],\n [&#39;España&#39;],\n [&#39;Calle de San Marcos 24&#39;, &#39;28004 Madrid Madrid&#39;, &#39;España&#39;],\n [&#39;C. Gravina, 4 (C. Pelayo)&#39;, &#39;28004 Madrid Madrid&#39;, &#39;España&#39;],\n [&#39;C. Augusto Figueroa, 32&#39;, &#39;28004 Madrid Madrid&#39;, &#39;España&#39;],\n [&#39;C. San Marcos, 37 (C. Libertad)&#39;, &#39;28004 Madrid Madrid&#39;, &#39;España&#39;],\n [&#39;Gravina 12&#39;, &#39;28004 Madrid Madrid&#39;, &#39;España&#39;],\n [&#39;C. Pelayo, 60&#39;, &#39;28004 Madrid Madrid&#39;, &#39;España&#39;],\n [&#39;Mercado de San Antón&#39;, &#39;28004 Madrid Madrid&#39;, &#39;España&#39;],\n [&#39;C. Augusto Figueroa, 24&#39;, &#39;Madrid Madrid&#39;, &#39;España&#39;]]"
     },
     "metadata": {},
     "execution_count": 109
    }
   ],
   "source": [
    "direccion = [elem4['venue']['location']['formattedAddress'] for elem4 in data[\"response\"]['groups'][0][\"items\"]]\n",
    "direccion"
   ]
  },
  {
   "cell_type": "code",
   "execution_count": 112,
   "metadata": {},
   "outputs": [],
   "source": [
    "BBDD = {'Restaurant': nombre, 'Address':direccion, 'latitude':latitud, 'lomgitude':longitud}"
   ]
  },
  {
   "cell_type": "code",
   "execution_count": 113,
   "metadata": {},
   "outputs": [
    {
     "output_type": "execute_result",
     "data": {
      "text/plain": "                                           Restaurant  \\\n0                                           Kuoco 360   \n1                                        Bunny&#39;s Deli   \n2                                           celicioso   \n3                                           Pizzaiolo   \n4                                               Vides   \n5                                               Panod   \n6                                          Food Truck   \n7                                   Cafés Arrivederci   \n8                                             Hot Now   \n9                                         Izakaya Han   \n10                             La Panaderia de Chueca   \n11                                      El Cisne Azul   \n12                                            Sr. Ito   \n13                                            Morgana   \n14                                     Bosco de Lobos   \n15  La alacena de Victor Montes (mercado de San An...   \n16                                      Mal de Amores   \n17                     Tienda de Vinos (El Comunista)   \n18                                      La Carmencita   \n19                                        Baco y Beto   \n20                              Restaurante Vegaviana   \n21                                         Aloha Poké   \n22                                            Vivares   \n23                               RESTAURANTE KRITIKOS   \n24                                           Boho Bar   \n25                                           Fit Food   \n26                                       La Candelita   \n27                                           San Wich   \n28                                     7 Delicatessen   \n29                                            le cocó   \n30                                            La Buha   \n31                                           Dionisos   \n32                                            Roostiq   \n33                                            Xanacuk   \n34                                           Al Vacío   \n35                                        Massa Pizza   \n36                                 Arepa Olé &quot;Chueca&quot;   \n37                                              Tepic   \n38                                  Gioia Restaurante   \n39                                             Bazaar   \n40                                            tuk tuk   \n41                                    B&amp;B Restaurante   \n42                                  Cocinadeldesierto   \n43                              Restaurante Vietnam24   \n44                                     Taberna El Buo   \n45                                   Restaurante Arce   \n46                            Diurno Restaurant &amp; Bar   \n47                                            TE CATO   \n48                                          Bagatella   \n49                                 Hamburguesa Nostra   \n50                                      La Trastienda   \n\n                                              Address   latitude  lomgitude  \n0   [Calle San Bartolmé, 14, 28004 Madrid Madrid, ...  40.421842  -3.698456  \n1   [Calle San Gregorio 17, 28004 Madrid Madrid, E...  40.423935  -3.697158  \n2   [Calle del Barquillo 19, 28004 Madrid Madrid, ...  40.422112  -3.695726  \n3     [C. Hortaleza, 84, 28004 Madrid Madrid, España]  40.423795  -3.698597  \n4      [C. Libertad, 12, 28004 Madrid Madrid, España]  40.421017  -3.697354  \n5         [Calle Prim 1, 28004 Madrid Madrid, España]  40.421961  -3.695479  \n6           [C. San Lucas, 11, Madrid Madrid, España]  40.423816  -3.696086  \n7     [Calle Augusto Figueroa, Madrid Madrid, España]  40.422400  -3.698465  \n8          [barbieri 14, 28004 Madrid Madrid, España]  40.421317  -3.698030  \n9   [San Bartolome 10 (Augusto Figueroa), 28004 Ma...  40.421819  -3.698475  \n10  [C. San Gregorio, 1 (Pl. de Chueca), 28004 Mad...  40.423087  -3.697484  \n11      [C. Gravina, 19, 28004 Madrid Madrid, España]  40.422613  -3.696733  \n12           [Calle Pelayo 60, Madrid Madrid, España]  40.424194  -3.697464  \n13  [Augusto figueroa 33, 28004 Madrid Madrid, Esp...  40.422215  -3.697813  \n14  [C. Hortaleza, 63 (C. Farmacia), 28004 Madrid ...  40.424151  -3.699014  \n15       [Augusto Figueroa 24, Madrid Madrid, España]  40.421955  -3.697566  \n16                          [Valgame Dios, 4, España]  40.422257  -3.696634  \n17  [C. Augusto Figueroa, 35, 28004 Madrid Madrid,...  40.422142  -3.697482  \n18  [C. de la Libertad, 16, 28004 Madrid Madrid, E...  40.421262  -3.697292  \n19  [Calle de Pelayo, 24, 28004 Madrid Madrid, Esp...  40.422752  -3.698509  \n20       [C. Pelayo, 35, 28004 Madrid Madrid, España]  40.423272  -3.698151  \n21  [Calle de la Libertad 17, 28004 Madrid Madrid,...  40.421135  -3.697380  \n22  [C. Hortaleza, 52 (C. de Pelayo), 28004 Madrid...  40.422396  -3.699421  \n23  [Calle San Gregorio 11, 28004 Madrid Madrid, E...  40.423679  -3.697334  \n24  [C. Colmenares, 13 (C. San Marcos), 28004 Madr...  40.421190  -3.696840  \n25  [C. Augusto Figueroa, 28 (C. Libertad), 28004 ...  40.422159  -3.696967  \n26    [C. Barquillo, 30, 28004 Madrid Madrid, España]  40.422774  -3.695581  \n27    [C. Hortaleza, 78, 28004 Madrid Madrid, España]  40.423459  -3.698735  \n28  [Mercado de San Antón (C. Augusto Figueroa, 24...  40.421965  -3.697573  \n29     [C. Barbieri, 15, 28004 Madrid Madrid, España]  40.421604  -3.697960  \n30        [Calle Pelayo, 28004 Madrid Madrid, España]  40.423134  -3.698150  \n31        [Augusto Figueroa 8, Madrid Madrid, España]  40.422879  -3.699817  \n32  [47 Calle de Augusto Figueroa, 28004 Madrid Ma...  40.422035  -3.696219  \n33  [C. Augusto Figueroa, 28004 Madrid Madrid, Esp...  40.422887  -3.699771  \n34   [C. Colmenares, 13, 28014 Madrid Madrid, España]  40.421105  -3.696744  \n35  [Augusto Figueroa, 21, Madrid Centro Madrid, E...  40.422638  -3.699032  \n36        [C. Pelayo, 2, 28004 Madrid Madrid, España]  40.421787  -3.699208  \n37              [C. Pelayo, 4, Madrid Madrid, España]  40.421906  -3.699123  \n38          [San Bartolomé 23, Madrid Madrid, España]  40.422075  -3.698590  \n39     [C. Libertad, 21, 28004 Madrid Madrid, España]  40.421290  -3.697393  \n40    [C. Barquillo, 24, 28004 Madrid Madrid, España]  40.422550  -3.695610  \n41      [C/ Libertad 23, 28004 Madrid Madrid, España]  40.421384  -3.697403  \n42                                           [España]  40.421026  -3.697432  \n43  [Calle de San Marcos 24, 28004 Madrid Madrid, ...  40.421341  -3.698428  \n44  [C. Gravina, 4 (C. Pelayo), 28004 Madrid Madri...  40.423218  -3.698183  \n45  [C. Augusto Figueroa, 32, 28004 Madrid Madrid,...  40.422073  -3.696741  \n46  [C. San Marcos, 37 (C. Libertad), 28004 Madrid...  40.421300  -3.697337  \n47          [Gravina 12, 28004 Madrid Madrid, España]  40.422849  -3.697099  \n48       [C. Pelayo, 60, 28004 Madrid Madrid, España]  40.424182  -3.697476  \n49  [Mercado de San Antón, 28004 Madrid Madrid, Es...  40.422027  -3.697647  \n50   [C. Augusto Figueroa, 24, Madrid Madrid, España]  40.421973  -3.697602  ",
      "text/html": "<div>\n<style scoped>\n    .dataframe tbody tr th:only-of-type {\n        vertical-align: middle;\n    }\n\n    .dataframe tbody tr th {\n        vertical-align: top;\n    }\n\n    .dataframe thead th {\n        text-align: right;\n    }\n</style>\n<table border=\"1\" class=\"dataframe\">\n  <thead>\n    <tr style=\"text-align: right;\">\n      <th></th>\n      <th>Restaurant</th>\n      <th>Address</th>\n      <th>latitude</th>\n      <th>lomgitude</th>\n    </tr>\n  </thead>\n  <tbody>\n    <tr>\n      <th>0</th>\n      <td>Kuoco 360</td>\n      <td>[Calle San Bartolmé, 14, 28004 Madrid Madrid, ...</td>\n      <td>40.421842</td>\n      <td>-3.698456</td>\n    </tr>\n    <tr>\n      <th>1</th>\n      <td>Bunny's Deli</td>\n      <td>[Calle San Gregorio 17, 28004 Madrid Madrid, E...</td>\n      <td>40.423935</td>\n      <td>-3.697158</td>\n    </tr>\n    <tr>\n      <th>2</th>\n      <td>celicioso</td>\n      <td>[Calle del Barquillo 19, 28004 Madrid Madrid, ...</td>\n      <td>40.422112</td>\n      <td>-3.695726</td>\n    </tr>\n    <tr>\n      <th>3</th>\n      <td>Pizzaiolo</td>\n      <td>[C. Hortaleza, 84, 28004 Madrid Madrid, España]</td>\n      <td>40.423795</td>\n      <td>-3.698597</td>\n    </tr>\n    <tr>\n      <th>4</th>\n      <td>Vides</td>\n      <td>[C. Libertad, 12, 28004 Madrid Madrid, España]</td>\n      <td>40.421017</td>\n      <td>-3.697354</td>\n    </tr>\n    <tr>\n      <th>5</th>\n      <td>Panod</td>\n      <td>[Calle Prim 1, 28004 Madrid Madrid, España]</td>\n      <td>40.421961</td>\n      <td>-3.695479</td>\n    </tr>\n    <tr>\n      <th>6</th>\n      <td>Food Truck</td>\n      <td>[C. San Lucas, 11, Madrid Madrid, España]</td>\n      <td>40.423816</td>\n      <td>-3.696086</td>\n    </tr>\n    <tr>\n      <th>7</th>\n      <td>Cafés Arrivederci</td>\n      <td>[Calle Augusto Figueroa, Madrid Madrid, España]</td>\n      <td>40.422400</td>\n      <td>-3.698465</td>\n    </tr>\n    <tr>\n      <th>8</th>\n      <td>Hot Now</td>\n      <td>[barbieri 14, 28004 Madrid Madrid, España]</td>\n      <td>40.421317</td>\n      <td>-3.698030</td>\n    </tr>\n    <tr>\n      <th>9</th>\n      <td>Izakaya Han</td>\n      <td>[San Bartolome 10 (Augusto Figueroa), 28004 Ma...</td>\n      <td>40.421819</td>\n      <td>-3.698475</td>\n    </tr>\n    <tr>\n      <th>10</th>\n      <td>La Panaderia de Chueca</td>\n      <td>[C. San Gregorio, 1 (Pl. de Chueca), 28004 Mad...</td>\n      <td>40.423087</td>\n      <td>-3.697484</td>\n    </tr>\n    <tr>\n      <th>11</th>\n      <td>El Cisne Azul</td>\n      <td>[C. Gravina, 19, 28004 Madrid Madrid, España]</td>\n      <td>40.422613</td>\n      <td>-3.696733</td>\n    </tr>\n    <tr>\n      <th>12</th>\n      <td>Sr. Ito</td>\n      <td>[Calle Pelayo 60, Madrid Madrid, España]</td>\n      <td>40.424194</td>\n      <td>-3.697464</td>\n    </tr>\n    <tr>\n      <th>13</th>\n      <td>Morgana</td>\n      <td>[Augusto figueroa 33, 28004 Madrid Madrid, Esp...</td>\n      <td>40.422215</td>\n      <td>-3.697813</td>\n    </tr>\n    <tr>\n      <th>14</th>\n      <td>Bosco de Lobos</td>\n      <td>[C. Hortaleza, 63 (C. Farmacia), 28004 Madrid ...</td>\n      <td>40.424151</td>\n      <td>-3.699014</td>\n    </tr>\n    <tr>\n      <th>15</th>\n      <td>La alacena de Victor Montes (mercado de San An...</td>\n      <td>[Augusto Figueroa 24, Madrid Madrid, España]</td>\n      <td>40.421955</td>\n      <td>-3.697566</td>\n    </tr>\n    <tr>\n      <th>16</th>\n      <td>Mal de Amores</td>\n      <td>[Valgame Dios, 4, España]</td>\n      <td>40.422257</td>\n      <td>-3.696634</td>\n    </tr>\n    <tr>\n      <th>17</th>\n      <td>Tienda de Vinos (El Comunista)</td>\n      <td>[C. Augusto Figueroa, 35, 28004 Madrid Madrid,...</td>\n      <td>40.422142</td>\n      <td>-3.697482</td>\n    </tr>\n    <tr>\n      <th>18</th>\n      <td>La Carmencita</td>\n      <td>[C. de la Libertad, 16, 28004 Madrid Madrid, E...</td>\n      <td>40.421262</td>\n      <td>-3.697292</td>\n    </tr>\n    <tr>\n      <th>19</th>\n      <td>Baco y Beto</td>\n      <td>[Calle de Pelayo, 24, 28004 Madrid Madrid, Esp...</td>\n      <td>40.422752</td>\n      <td>-3.698509</td>\n    </tr>\n    <tr>\n      <th>20</th>\n      <td>Restaurante Vegaviana</td>\n      <td>[C. Pelayo, 35, 28004 Madrid Madrid, España]</td>\n      <td>40.423272</td>\n      <td>-3.698151</td>\n    </tr>\n    <tr>\n      <th>21</th>\n      <td>Aloha Poké</td>\n      <td>[Calle de la Libertad 17, 28004 Madrid Madrid,...</td>\n      <td>40.421135</td>\n      <td>-3.697380</td>\n    </tr>\n    <tr>\n      <th>22</th>\n      <td>Vivares</td>\n      <td>[C. Hortaleza, 52 (C. de Pelayo), 28004 Madrid...</td>\n      <td>40.422396</td>\n      <td>-3.699421</td>\n    </tr>\n    <tr>\n      <th>23</th>\n      <td>RESTAURANTE KRITIKOS</td>\n      <td>[Calle San Gregorio 11, 28004 Madrid Madrid, E...</td>\n      <td>40.423679</td>\n      <td>-3.697334</td>\n    </tr>\n    <tr>\n      <th>24</th>\n      <td>Boho Bar</td>\n      <td>[C. Colmenares, 13 (C. San Marcos), 28004 Madr...</td>\n      <td>40.421190</td>\n      <td>-3.696840</td>\n    </tr>\n    <tr>\n      <th>25</th>\n      <td>Fit Food</td>\n      <td>[C. Augusto Figueroa, 28 (C. Libertad), 28004 ...</td>\n      <td>40.422159</td>\n      <td>-3.696967</td>\n    </tr>\n    <tr>\n      <th>26</th>\n      <td>La Candelita</td>\n      <td>[C. Barquillo, 30, 28004 Madrid Madrid, España]</td>\n      <td>40.422774</td>\n      <td>-3.695581</td>\n    </tr>\n    <tr>\n      <th>27</th>\n      <td>San Wich</td>\n      <td>[C. Hortaleza, 78, 28004 Madrid Madrid, España]</td>\n      <td>40.423459</td>\n      <td>-3.698735</td>\n    </tr>\n    <tr>\n      <th>28</th>\n      <td>7 Delicatessen</td>\n      <td>[Mercado de San Antón (C. Augusto Figueroa, 24...</td>\n      <td>40.421965</td>\n      <td>-3.697573</td>\n    </tr>\n    <tr>\n      <th>29</th>\n      <td>le cocó</td>\n      <td>[C. Barbieri, 15, 28004 Madrid Madrid, España]</td>\n      <td>40.421604</td>\n      <td>-3.697960</td>\n    </tr>\n    <tr>\n      <th>30</th>\n      <td>La Buha</td>\n      <td>[Calle Pelayo, 28004 Madrid Madrid, España]</td>\n      <td>40.423134</td>\n      <td>-3.698150</td>\n    </tr>\n    <tr>\n      <th>31</th>\n      <td>Dionisos</td>\n      <td>[Augusto Figueroa 8, Madrid Madrid, España]</td>\n      <td>40.422879</td>\n      <td>-3.699817</td>\n    </tr>\n    <tr>\n      <th>32</th>\n      <td>Roostiq</td>\n      <td>[47 Calle de Augusto Figueroa, 28004 Madrid Ma...</td>\n      <td>40.422035</td>\n      <td>-3.696219</td>\n    </tr>\n    <tr>\n      <th>33</th>\n      <td>Xanacuk</td>\n      <td>[C. Augusto Figueroa, 28004 Madrid Madrid, Esp...</td>\n      <td>40.422887</td>\n      <td>-3.699771</td>\n    </tr>\n    <tr>\n      <th>34</th>\n      <td>Al Vacío</td>\n      <td>[C. Colmenares, 13, 28014 Madrid Madrid, España]</td>\n      <td>40.421105</td>\n      <td>-3.696744</td>\n    </tr>\n    <tr>\n      <th>35</th>\n      <td>Massa Pizza</td>\n      <td>[Augusto Figueroa, 21, Madrid Centro Madrid, E...</td>\n      <td>40.422638</td>\n      <td>-3.699032</td>\n    </tr>\n    <tr>\n      <th>36</th>\n      <td>Arepa Olé \"Chueca\"</td>\n      <td>[C. Pelayo, 2, 28004 Madrid Madrid, España]</td>\n      <td>40.421787</td>\n      <td>-3.699208</td>\n    </tr>\n    <tr>\n      <th>37</th>\n      <td>Tepic</td>\n      <td>[C. Pelayo, 4, Madrid Madrid, España]</td>\n      <td>40.421906</td>\n      <td>-3.699123</td>\n    </tr>\n    <tr>\n      <th>38</th>\n      <td>Gioia Restaurante</td>\n      <td>[San Bartolomé 23, Madrid Madrid, España]</td>\n      <td>40.422075</td>\n      <td>-3.698590</td>\n    </tr>\n    <tr>\n      <th>39</th>\n      <td>Bazaar</td>\n      <td>[C. Libertad, 21, 28004 Madrid Madrid, España]</td>\n      <td>40.421290</td>\n      <td>-3.697393</td>\n    </tr>\n    <tr>\n      <th>40</th>\n      <td>tuk tuk</td>\n      <td>[C. Barquillo, 24, 28004 Madrid Madrid, España]</td>\n      <td>40.422550</td>\n      <td>-3.695610</td>\n    </tr>\n    <tr>\n      <th>41</th>\n      <td>B&amp;B Restaurante</td>\n      <td>[C/ Libertad 23, 28004 Madrid Madrid, España]</td>\n      <td>40.421384</td>\n      <td>-3.697403</td>\n    </tr>\n    <tr>\n      <th>42</th>\n      <td>Cocinadeldesierto</td>\n      <td>[España]</td>\n      <td>40.421026</td>\n      <td>-3.697432</td>\n    </tr>\n    <tr>\n      <th>43</th>\n      <td>Restaurante Vietnam24</td>\n      <td>[Calle de San Marcos 24, 28004 Madrid Madrid, ...</td>\n      <td>40.421341</td>\n      <td>-3.698428</td>\n    </tr>\n    <tr>\n      <th>44</th>\n      <td>Taberna El Buo</td>\n      <td>[C. Gravina, 4 (C. Pelayo), 28004 Madrid Madri...</td>\n      <td>40.423218</td>\n      <td>-3.698183</td>\n    </tr>\n    <tr>\n      <th>45</th>\n      <td>Restaurante Arce</td>\n      <td>[C. Augusto Figueroa, 32, 28004 Madrid Madrid,...</td>\n      <td>40.422073</td>\n      <td>-3.696741</td>\n    </tr>\n    <tr>\n      <th>46</th>\n      <td>Diurno Restaurant &amp; Bar</td>\n      <td>[C. San Marcos, 37 (C. Libertad), 28004 Madrid...</td>\n      <td>40.421300</td>\n      <td>-3.697337</td>\n    </tr>\n    <tr>\n      <th>47</th>\n      <td>TE CATO</td>\n      <td>[Gravina 12, 28004 Madrid Madrid, España]</td>\n      <td>40.422849</td>\n      <td>-3.697099</td>\n    </tr>\n    <tr>\n      <th>48</th>\n      <td>Bagatella</td>\n      <td>[C. Pelayo, 60, 28004 Madrid Madrid, España]</td>\n      <td>40.424182</td>\n      <td>-3.697476</td>\n    </tr>\n    <tr>\n      <th>49</th>\n      <td>Hamburguesa Nostra</td>\n      <td>[Mercado de San Antón, 28004 Madrid Madrid, Es...</td>\n      <td>40.422027</td>\n      <td>-3.697647</td>\n    </tr>\n    <tr>\n      <th>50</th>\n      <td>La Trastienda</td>\n      <td>[C. Augusto Figueroa, 24, Madrid Madrid, España]</td>\n      <td>40.421973</td>\n      <td>-3.697602</td>\n    </tr>\n  </tbody>\n</table>\n</div>"
     },
     "metadata": {},
     "execution_count": 113
    }
   ],
   "source": [
    "df = pd.DataFrame(BBDD)\n",
    "df"
   ]
  },
  {
   "cell_type": "code",
   "execution_count": 130,
   "metadata": {
    "tags": []
   },
   "outputs": [
    {
     "output_type": "execute_result",
     "data": {
      "text/plain": "        latitude  lomgitude\ncount  51.000000  51.000000\nmean   40.422352  -3.697662\nstd     0.000905   0.001052\nmin    40.421017  -3.699817\n25%    40.421803  -3.698461\n50%    40.422142  -3.697484\n75%    40.422883  -3.697129\nmax    40.424194  -3.695479",
      "text/html": "<div>\n<style scoped>\n    .dataframe tbody tr th:only-of-type {\n        vertical-align: middle;\n    }\n\n    .dataframe tbody tr th {\n        vertical-align: top;\n    }\n\n    .dataframe thead th {\n        text-align: right;\n    }\n</style>\n<table border=\"1\" class=\"dataframe\">\n  <thead>\n    <tr style=\"text-align: right;\">\n      <th></th>\n      <th>latitude</th>\n      <th>lomgitude</th>\n    </tr>\n  </thead>\n  <tbody>\n    <tr>\n      <th>count</th>\n      <td>51.000000</td>\n      <td>51.000000</td>\n    </tr>\n    <tr>\n      <th>mean</th>\n      <td>40.422352</td>\n      <td>-3.697662</td>\n    </tr>\n    <tr>\n      <th>std</th>\n      <td>0.000905</td>\n      <td>0.001052</td>\n    </tr>\n    <tr>\n      <th>min</th>\n      <td>40.421017</td>\n      <td>-3.699817</td>\n    </tr>\n    <tr>\n      <th>25%</th>\n      <td>40.421803</td>\n      <td>-3.698461</td>\n    </tr>\n    <tr>\n      <th>50%</th>\n      <td>40.422142</td>\n      <td>-3.697484</td>\n    </tr>\n    <tr>\n      <th>75%</th>\n      <td>40.422883</td>\n      <td>-3.697129</td>\n    </tr>\n    <tr>\n      <th>max</th>\n      <td>40.424194</td>\n      <td>-3.695479</td>\n    </tr>\n  </tbody>\n</table>\n</div>"
     },
     "metadata": {},
     "execution_count": 130
    }
   ],
   "source": [
    "df.describe()"
   ]
  },
  {
   "cell_type": "code",
   "execution_count": null,
   "metadata": {},
   "outputs": [],
   "source": [
    "df.to_json(,orient='split')"
   ]
  },
  {
   "cell_type": "code",
   "execution_count": 135,
   "metadata": {},
   "outputs": [
    {
     "output_type": "error",
     "ename": "AttributeError",
     "evalue": "&#39;dict&#39; object has no attribute &#39;json&#39;",
     "traceback": [
      "\u001b[1;31m---------------------------------------------------------------------------\u001b[0m",
      "\u001b[1;31mAttributeError\u001b[0m                            Traceback (most recent call last)",
      "\u001b[1;32m&lt;ipython-input-135-c3abfd0aae9d&gt;\u001b[0m in \u001b[0;36m&lt;module&gt;\u001b[1;34m\u001b[0m\n\u001b[1;32m----&gt; 1\u001b[1;33m \u001b[0mdf\u001b[0m\u001b[1;33m.\u001b[0m\u001b[0mto_json\u001b[0m\u001b[1;33m(\u001b[0m\u001b[0mBBDD\u001b[0m\u001b[1;33m.\u001b[0m\u001b[0mjson\u001b[0m\u001b[1;33m,\u001b[0m \u001b[0morient\u001b[0m\u001b[1;33m=\u001b[0m\u001b[1;34m&quot;columns&quot;\u001b[0m\u001b[1;33m)\u001b[0m\u001b[1;33m\u001b[0m\u001b[1;33m\u001b[0m\u001b[0m\n\u001b[0m",
      "\u001b[1;31mAttributeError\u001b[0m: &#39;dict&#39; object has no attribute &#39;json&#39;"
     ]
    }
   ],
   "source": [
    "df.to_json(BBDD.json, orient=\"columns\")"
   ]
  },
  {
   "cell_type": "code",
   "execution_count": null,
   "metadata": {},
   "outputs": [],
   "source": []
  }
 ]
}