{
 "metadata": {
  "language_info": {
   "codemirror_mode": {
    "name": "ipython",
    "version": 3
   },
   "file_extension": ".py",
   "mimetype": "text/x-python",
   "name": "python",
   "nbconvert_exporter": "python",
   "pygments_lexer": "ipython3",
   "version": "3.8.3-final"
  },
  "orig_nbformat": 2,
  "kernelspec": {
   "name": "Python 3.8.3 64-bit",
   "display_name": "Python 3.8.3 64-bit",
   "metadata": {
    "interpreter": {
     "hash": "1baa965d5efe3ac65b79dfc60c0d706280b1da80fedb7760faf2759126c4f253"
    }
   }
  }
 },
 "nbformat": 4,
 "nbformat_minor": 2,
 "cells": [
  {
   "cell_type": "code",
   "execution_count": null,
   "metadata": {},
   "outputs": [],
   "source": [
    "\"\"\"\n",
    "Este archivo es para manipular los datos que se ha bajado Alba de los menus de los restaurantes y posteriormente pasarselos a Marta.\n",
    "Se utilizan los datos del archivo csv api_chueca4\n",
    "\"\"\""
   ]
  },
  {
   "cell_type": "code",
   "execution_count": 1,
   "metadata": {},
   "outputs": [],
   "source": [
    "import json\n",
    "import requests\n",
    "import pandas as pd\n",
    "import random \n",
    "import numpy as np \n",
    "from pandas.io.json import json_normalize\n",
    "from sklearn.preprocessing import LabelEncoder"
   ]
  },
  {
   "cell_type": "code",
   "execution_count": 2,
   "metadata": {},
   "outputs": [],
   "source": [
    "menu_1 = pd.read_csv('api_chueca4.csv', index_col=0)"
   ]
  },
  {
   "cell_type": "code",
   "execution_count": 3,
   "metadata": {},
   "outputs": [
    {
     "output_type": "execute_result",
     "data": {
      "text/plain": [
       "      restaurante   seccion  \\\n",
       "0  7 Delicatessen  Entrante   \n",
       "1  7 Delicatessen  Entrante   \n",
       "2  7 Delicatessen  Entrante   \n",
       "\n",
       "                                              platos precios  \\\n",
       "0  Ensalada de queso de cabra con naranja agria a...     8,5   \n",
       "1        Tortilla de patata con cebolla caramelizada       8   \n",
       "2            Ensalada de foie y cebolla caramelizada     8,5   \n",
       "\n",
       "                                        platos_lower seccion_lower Categorias  \n",
       "0  ensalada de queso de cabra con naranja agria a...      entrante   Ensalada  \n",
       "1        tortilla de patata con cebolla caramelizada      entrante  Entrantes  \n",
       "2            ensalada de foie y cebolla caramelizada      entrante   Ensalada  "
      ],
      "text/html": "<div>\n<style scoped>\n    .dataframe tbody tr th:only-of-type {\n        vertical-align: middle;\n    }\n\n    .dataframe tbody tr th {\n        vertical-align: top;\n    }\n\n    .dataframe thead th {\n        text-align: right;\n    }\n</style>\n<table border=\"1\" class=\"dataframe\">\n  <thead>\n    <tr style=\"text-align: right;\">\n      <th></th>\n      <th>restaurante</th>\n      <th>seccion</th>\n      <th>platos</th>\n      <th>precios</th>\n      <th>platos_lower</th>\n      <th>seccion_lower</th>\n      <th>Categorias</th>\n    </tr>\n  </thead>\n  <tbody>\n    <tr>\n      <th>0</th>\n      <td>7 Delicatessen</td>\n      <td>Entrante</td>\n      <td>Ensalada de queso de cabra con naranja agria a...</td>\n      <td>8,5</td>\n      <td>ensalada de queso de cabra con naranja agria a...</td>\n      <td>entrante</td>\n      <td>Ensalada</td>\n    </tr>\n    <tr>\n      <th>1</th>\n      <td>7 Delicatessen</td>\n      <td>Entrante</td>\n      <td>Tortilla de patata con cebolla caramelizada</td>\n      <td>8</td>\n      <td>tortilla de patata con cebolla caramelizada</td>\n      <td>entrante</td>\n      <td>Entrantes</td>\n    </tr>\n    <tr>\n      <th>2</th>\n      <td>7 Delicatessen</td>\n      <td>Entrante</td>\n      <td>Ensalada de foie y cebolla caramelizada</td>\n      <td>8,5</td>\n      <td>ensalada de foie y cebolla caramelizada</td>\n      <td>entrante</td>\n      <td>Ensalada</td>\n    </tr>\n  </tbody>\n</table>\n</div>"
     },
     "metadata": {},
     "execution_count": 3
    }
   ],
   "source": [
    "menu_1.head(3)"
   ]
  },
  {
   "cell_type": "code",
   "execution_count": 5,
   "metadata": {},
   "outputs": [
    {
     "output_type": "execute_result",
     "data": {
      "text/plain": [
       "None            296\n",
       "Postres         130\n",
       "Entrantes       126\n",
       "Pescado          72\n",
       "Carne            36\n",
       "Ensalada         32\n",
       "Hamburguesa      28\n",
       "Marisco          23\n",
       "Pasta            22\n",
       "Arroces          16\n",
       "Pollo            14\n",
       "Pizza             7\n",
       "De la huerta      3\n",
       "Name: Categorias, dtype: int64"
      ]
     },
     "metadata": {},
     "execution_count": 5
    }
   ],
   "source": [
    "menu_1.Categorias.value_counts()"
   ]
  },
  {
   "cell_type": "code",
   "execution_count": 4,
   "metadata": {},
   "outputs": [
    {
     "output_type": "execute_result",
     "data": {
      "text/plain": [
       "      restaurante   seccion  \\\n",
       "0  7 Delicatessen  Entrante   \n",
       "1  7 Delicatessen  Entrante   \n",
       "2  7 Delicatessen  Entrante   \n",
       "3  7 Delicatessen     Plato   \n",
       "4  7 Delicatessen     Plato   \n",
       "5  7 Delicatessen     Plato   \n",
       "\n",
       "                                              platos precios  \\\n",
       "0  Ensalada de queso de cabra con naranja agria a...     8,5   \n",
       "1        Tortilla de patata con cebolla caramelizada       8   \n",
       "2            Ensalada de foie y cebolla caramelizada     8,5   \n",
       "3                                     Pollo yakitori       8   \n",
       "4                  Pizza de gambón y chile confitado     8,5   \n",
       "5                                 Rissoto de boletus       9   \n",
       "\n",
       "                                        platos_lower seccion_lower Categorias  \n",
       "0  ensalada de queso de cabra con naranja agria a...      entrante   Ensalada  \n",
       "1        tortilla de patata con cebolla caramelizada      entrante  Entrantes  \n",
       "2            ensalada de foie y cebolla caramelizada      entrante   Ensalada  \n",
       "3                                     pollo yakitori         plato      Pollo  \n",
       "4                  pizza de gambón y chile confitado         plato      Pizza  \n",
       "5                                 rissoto de boletus         plato       None  "
      ],
      "text/html": "<div>\n<style scoped>\n    .dataframe tbody tr th:only-of-type {\n        vertical-align: middle;\n    }\n\n    .dataframe tbody tr th {\n        vertical-align: top;\n    }\n\n    .dataframe thead th {\n        text-align: right;\n    }\n</style>\n<table border=\"1\" class=\"dataframe\">\n  <thead>\n    <tr style=\"text-align: right;\">\n      <th></th>\n      <th>restaurante</th>\n      <th>seccion</th>\n      <th>platos</th>\n      <th>precios</th>\n      <th>platos_lower</th>\n      <th>seccion_lower</th>\n      <th>Categorias</th>\n    </tr>\n  </thead>\n  <tbody>\n    <tr>\n      <th>0</th>\n      <td>7 Delicatessen</td>\n      <td>Entrante</td>\n      <td>Ensalada de queso de cabra con naranja agria a...</td>\n      <td>8,5</td>\n      <td>ensalada de queso de cabra con naranja agria a...</td>\n      <td>entrante</td>\n      <td>Ensalada</td>\n    </tr>\n    <tr>\n      <th>1</th>\n      <td>7 Delicatessen</td>\n      <td>Entrante</td>\n      <td>Tortilla de patata con cebolla caramelizada</td>\n      <td>8</td>\n      <td>tortilla de patata con cebolla caramelizada</td>\n      <td>entrante</td>\n      <td>Entrantes</td>\n    </tr>\n    <tr>\n      <th>2</th>\n      <td>7 Delicatessen</td>\n      <td>Entrante</td>\n      <td>Ensalada de foie y cebolla caramelizada</td>\n      <td>8,5</td>\n      <td>ensalada de foie y cebolla caramelizada</td>\n      <td>entrante</td>\n      <td>Ensalada</td>\n    </tr>\n    <tr>\n      <th>3</th>\n      <td>7 Delicatessen</td>\n      <td>Plato</td>\n      <td>Pollo yakitori</td>\n      <td>8</td>\n      <td>pollo yakitori</td>\n      <td>plato</td>\n      <td>Pollo</td>\n    </tr>\n    <tr>\n      <th>4</th>\n      <td>7 Delicatessen</td>\n      <td>Plato</td>\n      <td>Pizza de gambón y chile confitado</td>\n      <td>8,5</td>\n      <td>pizza de gambón y chile confitado</td>\n      <td>plato</td>\n      <td>Pizza</td>\n    </tr>\n    <tr>\n      <th>5</th>\n      <td>7 Delicatessen</td>\n      <td>Plato</td>\n      <td>Rissoto de boletus</td>\n      <td>9</td>\n      <td>rissoto de boletus</td>\n      <td>plato</td>\n      <td>None</td>\n    </tr>\n  </tbody>\n</table>\n</div>"
     },
     "metadata": {},
     "execution_count": 4
    }
   ],
   "source": [
    "# Cambio el indice por uno nuevo y que sea de valores únicos y consecutivos.\n",
    "menu_1.reset_index(drop=True, inplace=True)\n",
    "menu_1.head(6)"
   ]
  },
  {
   "cell_type": "code",
   "execution_count": 7,
   "metadata": {},
   "outputs": [
    {
     "output_type": "execute_result",
     "data": {
      "text/plain": [
       "Tacos para los que no comen carne    2\n",
       "Para seguir comiendo...              2\n",
       "Sopas                                2\n",
       "POSTRES CASEROS                      2\n",
       "Golosos de la trastienda             1\n",
       "Servicio                             1\n",
       "*Reserva de 1 hora y media*          1\n",
       "Mesas                                1\n",
       "Especiallidad maldeamores            1\n",
       "Aperitivo                            1\n",
       "Name: seccion, dtype: int64"
      ]
     },
     "metadata": {},
     "execution_count": 7
    }
   ],
   "source": [
    "menu_1.seccion.value_counts().tail(10)"
   ]
  },
  {
   "cell_type": "code",
   "execution_count": 5,
   "metadata": {},
   "outputs": [],
   "source": [
    "# Doy categoria a estos  platos que no habian sido categorizados \n",
    "\n",
    "menu_1['Categorias'][menu_1.index == 5] = \"Arroces\"\n",
    "menu_1['Categorias'][menu_1.index == 51] = \"De la huerta\"\n",
    "menu_1['Categorias'][menu_1.index == 91] = \"De la huerta\"\n",
    "menu_1['Categorias'][menu_1.index == 66] = \"Pescado\"\n",
    "menu_1['Categorias'][menu_1.index ==201] = \"Carne\"\n",
    "menu_1['Categorias'][menu_1.index ==308] = \"Pescado\"\n",
    "menu_1['Categorias'][menu_1.index ==318] = \"Pescado\"\n",
    "menu_1['Categorias'][menu_1.index ==319] = \"Pescado\"\n",
    "menu_1['Categorias'][menu_1.index ==320] = \"Pescado\"\n",
    "menu_1['Categorias'][menu_1.index ==322] = \"Pescado\"\n",
    "menu_1['Categorias'][menu_1.index ==323] = \"Pescado\"\n",
    "menu_1['Categorias'][menu_1.index ==324] = \"Pescado\"\n",
    "menu_1['Categorias'][menu_1.index ==429] = \"Carne\"\n",
    "menu_1['Categorias'][menu_1.index ==396] = \"Marisco\"\n",
    "menu_1['Categorias'][menu_1.index ==393] = \"Pescado\"\n",
    "menu_1['Categorias'][menu_1.index ==403] = \"Pescado\"\n",
    "menu_1['Categorias'][menu_1.index ==404] = \"Pescado\"\n",
    "menu_1['Categorias'][menu_1.index == 744] = \"De la huerta\"\n",
    "menu_1['Categorias'][menu_1.index == 745] = \"De la huerta\"\n",
    "menu_1['Categorias'][menu_1.index ==667] = \"Marisco\"\n",
    "menu_1['Categorias'][menu_1.index ==670] = \"Marisco\"\n",
    "menu_1['Categorias'][menu_1.index ==665] = \"Pescado\"\n",
    "menu_1['Categorias'][menu_1.index ==666] = \"Pescado\"\n",
    "menu_1['Categorias'][menu_1.index == 668] = \"De la huerta\"\n",
    "menu_1['Categorias'][menu_1.index ==708] = \"Carne\"\n",
    "menu_1['Categorias'][menu_1.index ==711] = \"Carne\"\n",
    "menu_1['Categorias'][menu_1.index ==714] = \"Carne\""
   ]
  },
  {
   "cell_type": "code",
   "execution_count": 6,
   "metadata": {},
   "outputs": [],
   "source": [
    "# Mediante mascaras elimino del df lo que no me interese\n",
    "mask1 = (menu_1['seccion'] == 'seccion_bebidas')\n",
    "mask2 = (menu_1['seccion']== 'Aperitivo')\n",
    "mask3 = (menu_1['seccion']== '*Reserva de 1 hora y media*')\n",
    "mask4 = (menu_1['seccion']== 'Servicio')\n",
    "#mask5 = (menu_chueca['seccion']== 'Golosos de la trastienda')\n",
    "mask6 = (menu_1['seccion']== 'Mesas')\n",
    "#mask7 = (menu_chueca['seccion']== 'POSTRES CASEROS')\n",
    "#mask8 = (menu_chueca['seccion']== 'Tacos para los que no comen carne')\n",
    "mask9 = (menu_1['restaurante']== 'TE CATO') # Sin precios\n",
    "mask10 = (menu_1['restaurante']== 'Vides') # Sin precios\n",
    "mask11 = (menu_1['Categorias']== 'None')\n"
   ]
  },
  {
   "cell_type": "code",
   "execution_count": 7,
   "metadata": {},
   "outputs": [],
   "source": [
    "menu = menu_1[~((mask1) | (mask2) | (mask3) | (mask4) |(mask6) |(mask9) | (mask10) | (mask11)) ] "
   ]
  },
  {
   "cell_type": "code",
   "execution_count": 8,
   "metadata": {},
   "outputs": [
    {
     "output_type": "execute_result",
     "data": {
      "text/plain": [
       "      restaurante   seccion  \\\n",
       "0  7 Delicatessen  Entrante   \n",
       "1  7 Delicatessen  Entrante   \n",
       "\n",
       "                                              platos precios  \\\n",
       "0  Ensalada de queso de cabra con naranja agria a...     8,5   \n",
       "1        Tortilla de patata con cebolla caramelizada       8   \n",
       "\n",
       "                                        platos_lower seccion_lower Categorias  \n",
       "0  ensalada de queso de cabra con naranja agria a...      entrante   Ensalada  \n",
       "1        tortilla de patata con cebolla caramelizada      entrante  Entrantes  "
      ],
      "text/html": "<div>\n<style scoped>\n    .dataframe tbody tr th:only-of-type {\n        vertical-align: middle;\n    }\n\n    .dataframe tbody tr th {\n        vertical-align: top;\n    }\n\n    .dataframe thead th {\n        text-align: right;\n    }\n</style>\n<table border=\"1\" class=\"dataframe\">\n  <thead>\n    <tr style=\"text-align: right;\">\n      <th></th>\n      <th>restaurante</th>\n      <th>seccion</th>\n      <th>platos</th>\n      <th>precios</th>\n      <th>platos_lower</th>\n      <th>seccion_lower</th>\n      <th>Categorias</th>\n    </tr>\n  </thead>\n  <tbody>\n    <tr>\n      <th>0</th>\n      <td>7 Delicatessen</td>\n      <td>Entrante</td>\n      <td>Ensalada de queso de cabra con naranja agria a...</td>\n      <td>8,5</td>\n      <td>ensalada de queso de cabra con naranja agria a...</td>\n      <td>entrante</td>\n      <td>Ensalada</td>\n    </tr>\n    <tr>\n      <th>1</th>\n      <td>7 Delicatessen</td>\n      <td>Entrante</td>\n      <td>Tortilla de patata con cebolla caramelizada</td>\n      <td>8</td>\n      <td>tortilla de patata con cebolla caramelizada</td>\n      <td>entrante</td>\n      <td>Entrantes</td>\n    </tr>\n  </tbody>\n</table>\n</div>"
     },
     "metadata": {},
     "execution_count": 8
    }
   ],
   "source": [
    "menu.head (2)"
   ]
  },
  {
   "cell_type": "code",
   "execution_count": 9,
   "metadata": {},
   "outputs": [],
   "source": [
    "# Cambio el indice para que sean valores consecutivos tras eliminar algunos de los registros.\n",
    "menu.reset_index(drop=True, inplace=True)"
   ]
  },
  {
   "cell_type": "code",
   "execution_count": 10,
   "metadata": {},
   "outputs": [
    {
     "output_type": "execute_result",
     "data": {
      "text/plain": [
       "    restaurante seccion                                             platos  \\\n",
       "511     tuk tuk   Plato  Ternera al curry con verduras, anacardos, arro...   \n",
       "512     tuk tuk   Plato  Teriyaki de salmón servido con arroz de jazmín...   \n",
       "513     tuk tuk  Postre  Plátano asado, envuelto en azúcar de caña, fru...   \n",
       "514     tuk tuk  Postre    Fruta de temporada servida con sorbete de menta   \n",
       "515     tuk tuk  Postre  Carpaccio de piña aderezado con menta y sorbet...   \n",
       "\n",
       "    precios                                       platos_lower seccion_lower  \\\n",
       "511      18  ternera al curry con verduras, anacardos, arro...         plato   \n",
       "512      18  teriyaki de salmón servido con arroz de jazmín...         plato   \n",
       "513     6,5  plátano asado, envuelto en azúcar de caña, fru...        postre   \n",
       "514     6,5    fruta de temporada servida con sorbete de menta        postre   \n",
       "515     6,5  carpaccio de piña aderezado con menta y sorbet...        postre   \n",
       "\n",
       "    Categorias  restaurantsID  \n",
       "511      Carne             25  \n",
       "512    Pescado             25  \n",
       "513    Postres             25  \n",
       "514    Postres             25  \n",
       "515    Postres             25  "
      ],
      "text/html": "<div>\n<style scoped>\n    .dataframe tbody tr th:only-of-type {\n        vertical-align: middle;\n    }\n\n    .dataframe tbody tr th {\n        vertical-align: top;\n    }\n\n    .dataframe thead th {\n        text-align: right;\n    }\n</style>\n<table border=\"1\" class=\"dataframe\">\n  <thead>\n    <tr style=\"text-align: right;\">\n      <th></th>\n      <th>restaurante</th>\n      <th>seccion</th>\n      <th>platos</th>\n      <th>precios</th>\n      <th>platos_lower</th>\n      <th>seccion_lower</th>\n      <th>Categorias</th>\n      <th>restaurantsID</th>\n    </tr>\n  </thead>\n  <tbody>\n    <tr>\n      <th>511</th>\n      <td>tuk tuk</td>\n      <td>Plato</td>\n      <td>Ternera al curry con verduras, anacardos, arro...</td>\n      <td>18</td>\n      <td>ternera al curry con verduras, anacardos, arro...</td>\n      <td>plato</td>\n      <td>Carne</td>\n      <td>25</td>\n    </tr>\n    <tr>\n      <th>512</th>\n      <td>tuk tuk</td>\n      <td>Plato</td>\n      <td>Teriyaki de salmón servido con arroz de jazmín...</td>\n      <td>18</td>\n      <td>teriyaki de salmón servido con arroz de jazmín...</td>\n      <td>plato</td>\n      <td>Pescado</td>\n      <td>25</td>\n    </tr>\n    <tr>\n      <th>513</th>\n      <td>tuk tuk</td>\n      <td>Postre</td>\n      <td>Plátano asado, envuelto en azúcar de caña, fru...</td>\n      <td>6,5</td>\n      <td>plátano asado, envuelto en azúcar de caña, fru...</td>\n      <td>postre</td>\n      <td>Postres</td>\n      <td>25</td>\n    </tr>\n    <tr>\n      <th>514</th>\n      <td>tuk tuk</td>\n      <td>Postre</td>\n      <td>Fruta de temporada servida con sorbete de menta</td>\n      <td>6,5</td>\n      <td>fruta de temporada servida con sorbete de menta</td>\n      <td>postre</td>\n      <td>Postres</td>\n      <td>25</td>\n    </tr>\n    <tr>\n      <th>515</th>\n      <td>tuk tuk</td>\n      <td>Postre</td>\n      <td>Carpaccio de piña aderezado con menta y sorbet...</td>\n      <td>6,5</td>\n      <td>carpaccio de piña aderezado con menta y sorbet...</td>\n      <td>postre</td>\n      <td>Postres</td>\n      <td>25</td>\n    </tr>\n  </tbody>\n</table>\n</div>"
     },
     "metadata": {},
     "execution_count": 10
    }
   ],
   "source": [
    "# Añado nueva columna llamada restaurantsID con los nombres de los restaurantes y posteriormente la Codifico mediante LabelEncoder.\n",
    "menu['restaurantsID'] = menu['restaurante']\n",
    "\n",
    "le = LabelEncoder()\n",
    "menu[\"restaurantsID\"] = le.fit_transform(menu[\"restaurantsID\"])\n",
    "menu.tail()"
   ]
  },
  {
   "cell_type": "code",
   "execution_count": 11,
   "metadata": {},
   "outputs": [],
   "source": [
    "# Genero las puntuaciones de los platos.\n",
    "import numpy as np\n",
    "test = np.random.uniform(3, 4.8, size=516)\n",
    "test = np.around(test,1)\n",
    "test = list(test)\n",
    "#test"
   ]
  },
  {
   "cell_type": "code",
   "execution_count": 12,
   "metadata": {},
   "outputs": [],
   "source": [
    "menu['ranking'] = test"
   ]
  },
  {
   "cell_type": "code",
   "execution_count": 13,
   "metadata": {},
   "outputs": [],
   "source": [
    "# Reemplazo la coma por el punto y lo convierto a float\n",
    "def euros_a_numero(euros):\n",
    "    try:\n",
    "        return float(euros.replace(\" €\", \"\").replace(\",\",\".\"))\n",
    "    except:\n",
    "        return None;\n"
   ]
  },
  {
   "cell_type": "code",
   "execution_count": 14,
   "metadata": {},
   "outputs": [
    {
     "output_type": "execute_result",
     "data": {
      "text/plain": [
       "      restaurante   seccion  \\\n",
       "0  7 Delicatessen  Entrante   \n",
       "1  7 Delicatessen  Entrante   \n",
       "2  7 Delicatessen  Entrante   \n",
       "3  7 Delicatessen     Plato   \n",
       "4  7 Delicatessen     Plato   \n",
       "\n",
       "                                              platos  precios  \\\n",
       "0  Ensalada de queso de cabra con naranja agria a...      8.5   \n",
       "1        Tortilla de patata con cebolla caramelizada      8.0   \n",
       "2            Ensalada de foie y cebolla caramelizada      8.5   \n",
       "3                                     Pollo yakitori      8.0   \n",
       "4                  Pizza de gambón y chile confitado      8.5   \n",
       "\n",
       "                                        platos_lower seccion_lower Categorias  \\\n",
       "0  ensalada de queso de cabra con naranja agria a...      entrante   Ensalada   \n",
       "1        tortilla de patata con cebolla caramelizada      entrante  Entrantes   \n",
       "2            ensalada de foie y cebolla caramelizada      entrante   Ensalada   \n",
       "3                                     pollo yakitori         plato      Pollo   \n",
       "4                  pizza de gambón y chile confitado         plato      Pizza   \n",
       "\n",
       "   restaurantsID  ranking  \n",
       "0              0      4.1  \n",
       "1              0      3.7  \n",
       "2              0      4.5  \n",
       "3              0      3.8  \n",
       "4              0      3.1  "
      ],
      "text/html": "<div>\n<style scoped>\n    .dataframe tbody tr th:only-of-type {\n        vertical-align: middle;\n    }\n\n    .dataframe tbody tr th {\n        vertical-align: top;\n    }\n\n    .dataframe thead th {\n        text-align: right;\n    }\n</style>\n<table border=\"1\" class=\"dataframe\">\n  <thead>\n    <tr style=\"text-align: right;\">\n      <th></th>\n      <th>restaurante</th>\n      <th>seccion</th>\n      <th>platos</th>\n      <th>precios</th>\n      <th>platos_lower</th>\n      <th>seccion_lower</th>\n      <th>Categorias</th>\n      <th>restaurantsID</th>\n      <th>ranking</th>\n    </tr>\n  </thead>\n  <tbody>\n    <tr>\n      <th>0</th>\n      <td>7 Delicatessen</td>\n      <td>Entrante</td>\n      <td>Ensalada de queso de cabra con naranja agria a...</td>\n      <td>8.5</td>\n      <td>ensalada de queso de cabra con naranja agria a...</td>\n      <td>entrante</td>\n      <td>Ensalada</td>\n      <td>0</td>\n      <td>4.1</td>\n    </tr>\n    <tr>\n      <th>1</th>\n      <td>7 Delicatessen</td>\n      <td>Entrante</td>\n      <td>Tortilla de patata con cebolla caramelizada</td>\n      <td>8.0</td>\n      <td>tortilla de patata con cebolla caramelizada</td>\n      <td>entrante</td>\n      <td>Entrantes</td>\n      <td>0</td>\n      <td>3.7</td>\n    </tr>\n    <tr>\n      <th>2</th>\n      <td>7 Delicatessen</td>\n      <td>Entrante</td>\n      <td>Ensalada de foie y cebolla caramelizada</td>\n      <td>8.5</td>\n      <td>ensalada de foie y cebolla caramelizada</td>\n      <td>entrante</td>\n      <td>Ensalada</td>\n      <td>0</td>\n      <td>4.5</td>\n    </tr>\n    <tr>\n      <th>3</th>\n      <td>7 Delicatessen</td>\n      <td>Plato</td>\n      <td>Pollo yakitori</td>\n      <td>8.0</td>\n      <td>pollo yakitori</td>\n      <td>plato</td>\n      <td>Pollo</td>\n      <td>0</td>\n      <td>3.8</td>\n    </tr>\n    <tr>\n      <th>4</th>\n      <td>7 Delicatessen</td>\n      <td>Plato</td>\n      <td>Pizza de gambón y chile confitado</td>\n      <td>8.5</td>\n      <td>pizza de gambón y chile confitado</td>\n      <td>plato</td>\n      <td>Pizza</td>\n      <td>0</td>\n      <td>3.1</td>\n    </tr>\n  </tbody>\n</table>\n</div>"
     },
     "metadata": {},
     "execution_count": 14
    }
   ],
   "source": [
    "menu[\"precios\"] = menu[\"precios\"].apply(euros_a_numero)\n",
    "menu.head()"
   ]
  },
  {
   "cell_type": "code",
   "execution_count": 50,
   "metadata": {},
   "outputs": [],
   "source": [
    "# Creo nueva columna para rangeprice y la categorizo en tres niveles\n",
    "menu[\"rangeprice\"] = menu[\"precios\"]\n",
    "menu.rangeprice= menu.rangeprice.apply(lambda x: '1' if x < 9.0 else '2' if( x >= 7.0 and x <= 15 )else '3')"
   ]
  },
  {
   "cell_type": "code",
   "execution_count": 51,
   "metadata": {},
   "outputs": [],
   "source": [
    "# Reorganizo el df quedandome solo con las columnas que son útiles.\n",
    "\n",
    "menu_4 = menu[['Categorias','platos','precios', 'rangeprice','ranking','restaurantsID']]"
   ]
  },
  {
   "cell_type": "code",
   "execution_count": 52,
   "metadata": {},
   "outputs": [],
   "source": [
    "menu_4.rename(columns={'Categorias': 'style', 'platos': 'name', 'precios': 'price'}, inplace=True)"
   ]
  },
  {
   "cell_type": "code",
   "execution_count": 53,
   "metadata": {},
   "outputs": [
    {
     "output_type": "execute_result",
     "data": {
      "text/plain": [
       "       style                                               name  price  \\\n",
       "0   Ensalada  Ensalada de queso de cabra con naranja agria a...    8.5   \n",
       "1  Entrantes        Tortilla de patata con cebolla caramelizada    8.0   \n",
       "2   Ensalada            Ensalada de foie y cebolla caramelizada    8.5   \n",
       "3      Pollo                                     Pollo yakitori    8.0   \n",
       "4      Pizza                  Pizza de gambón y chile confitado    8.5   \n",
       "\n",
       "  rangeprice  ranking  restaurantsID  \n",
       "0          1      4.1              0  \n",
       "1          1      3.7              0  \n",
       "2          1      4.5              0  \n",
       "3          1      3.8              0  \n",
       "4          1      3.1              0  "
      ],
      "text/html": "<div>\n<style scoped>\n    .dataframe tbody tr th:only-of-type {\n        vertical-align: middle;\n    }\n\n    .dataframe tbody tr th {\n        vertical-align: top;\n    }\n\n    .dataframe thead th {\n        text-align: right;\n    }\n</style>\n<table border=\"1\" class=\"dataframe\">\n  <thead>\n    <tr style=\"text-align: right;\">\n      <th></th>\n      <th>style</th>\n      <th>name</th>\n      <th>price</th>\n      <th>rangeprice</th>\n      <th>ranking</th>\n      <th>restaurantsID</th>\n    </tr>\n  </thead>\n  <tbody>\n    <tr>\n      <th>0</th>\n      <td>Ensalada</td>\n      <td>Ensalada de queso de cabra con naranja agria a...</td>\n      <td>8.5</td>\n      <td>1</td>\n      <td>4.1</td>\n      <td>0</td>\n    </tr>\n    <tr>\n      <th>1</th>\n      <td>Entrantes</td>\n      <td>Tortilla de patata con cebolla caramelizada</td>\n      <td>8.0</td>\n      <td>1</td>\n      <td>3.7</td>\n      <td>0</td>\n    </tr>\n    <tr>\n      <th>2</th>\n      <td>Ensalada</td>\n      <td>Ensalada de foie y cebolla caramelizada</td>\n      <td>8.5</td>\n      <td>1</td>\n      <td>4.5</td>\n      <td>0</td>\n    </tr>\n    <tr>\n      <th>3</th>\n      <td>Pollo</td>\n      <td>Pollo yakitori</td>\n      <td>8.0</td>\n      <td>1</td>\n      <td>3.8</td>\n      <td>0</td>\n    </tr>\n    <tr>\n      <th>4</th>\n      <td>Pizza</td>\n      <td>Pizza de gambón y chile confitado</td>\n      <td>8.5</td>\n      <td>1</td>\n      <td>3.1</td>\n      <td>0</td>\n    </tr>\n  </tbody>\n</table>\n</div>"
     },
     "metadata": {},
     "execution_count": 53
    }
   ],
   "source": [
    "menu_4.head()"
   ]
  },
  {
   "cell_type": "code",
   "execution_count": 54,
   "metadata": {},
   "outputs": [
    {
     "output_type": "execute_result",
     "data": {
      "text/plain": [
       "1    214\n",
       "2    188\n",
       "3    114\n",
       "Name: rangeprice, dtype: int64"
      ]
     },
     "metadata": {},
     "execution_count": 54
    }
   ],
   "source": [
    "menu_4.rangeprice.value_counts()"
   ]
  },
  {
   "cell_type": "code",
   "execution_count": 55,
   "metadata": {},
   "outputs": [],
   "source": [
    "# Convierto el df a json y lo guardo\n",
    "json_menu =menu_4.to_json(orient='records')\n",
    "parsed = json.loads(json_menu)\n",
    "with open('json_menu.json', 'w+') as outfile:\n",
    "    json.dump(parsed, outfile, indent=4)"
   ]
  },
  {
   "cell_type": "code",
   "execution_count": null,
   "metadata": {},
   "outputs": [],
   "source": []
  },
  {
   "cell_type": "code",
   "execution_count": null,
   "metadata": {},
   "outputs": [],
   "source": []
  },
  {
   "cell_type": "markdown",
   "metadata": {},
   "source": [
    "## Ahora el df para la localización de los restaurantes"
   ]
  },
  {
   "cell_type": "code",
   "execution_count": 58,
   "metadata": {},
   "outputs": [
    {
     "output_type": "execute_result",
     "data": {
      "text/plain": [
       "     Restaurant                           Style  \\\n",
       "0     Kuoco 360                     Restaurants   \n",
       "1  Bunny's Deli  Vegetarian / Vegan Restaurants   \n",
       "2     Pizzaiolo             Italian Restaurants   \n",
       "3         Vides                      Gastropubs   \n",
       "4    Food Truck            American Restaurants   \n",
       "\n",
       "                                             Address   latitude  lomgitude  \n",
       "0  [Calle San Bartolmé, 14, 28004 Madrid Madrid, ...  40.421842  -3.698456  \n",
       "1  [Calle San Gregorio 17, 28004 Madrid Madrid, E...  40.423935  -3.697158  \n",
       "2    [C. Hortaleza, 84, 28004 Madrid Madrid, España]  40.423795  -3.698597  \n",
       "3     [C. Libertad, 12, 28004 Madrid Madrid, España]  40.421017  -3.697354  \n",
       "4          [C. San Lucas, 11, Madrid Madrid, España]  40.423816  -3.696086  "
      ],
      "text/html": "<div>\n<style scoped>\n    .dataframe tbody tr th:only-of-type {\n        vertical-align: middle;\n    }\n\n    .dataframe tbody tr th {\n        vertical-align: top;\n    }\n\n    .dataframe thead th {\n        text-align: right;\n    }\n</style>\n<table border=\"1\" class=\"dataframe\">\n  <thead>\n    <tr style=\"text-align: right;\">\n      <th></th>\n      <th>Restaurant</th>\n      <th>Style</th>\n      <th>Address</th>\n      <th>latitude</th>\n      <th>lomgitude</th>\n    </tr>\n  </thead>\n  <tbody>\n    <tr>\n      <th>0</th>\n      <td>Kuoco 360</td>\n      <td>Restaurants</td>\n      <td>[Calle San Bartolmé, 14, 28004 Madrid Madrid, ...</td>\n      <td>40.421842</td>\n      <td>-3.698456</td>\n    </tr>\n    <tr>\n      <th>1</th>\n      <td>Bunny's Deli</td>\n      <td>Vegetarian / Vegan Restaurants</td>\n      <td>[Calle San Gregorio 17, 28004 Madrid Madrid, E...</td>\n      <td>40.423935</td>\n      <td>-3.697158</td>\n    </tr>\n    <tr>\n      <th>2</th>\n      <td>Pizzaiolo</td>\n      <td>Italian Restaurants</td>\n      <td>[C. Hortaleza, 84, 28004 Madrid Madrid, España]</td>\n      <td>40.423795</td>\n      <td>-3.698597</td>\n    </tr>\n    <tr>\n      <th>3</th>\n      <td>Vides</td>\n      <td>Gastropubs</td>\n      <td>[C. Libertad, 12, 28004 Madrid Madrid, España]</td>\n      <td>40.421017</td>\n      <td>-3.697354</td>\n    </tr>\n    <tr>\n      <th>4</th>\n      <td>Food Truck</td>\n      <td>American Restaurants</td>\n      <td>[C. San Lucas, 11, Madrid Madrid, España]</td>\n      <td>40.423816</td>\n      <td>-3.696086</td>\n    </tr>\n  </tbody>\n</table>\n</div>"
     },
     "metadata": {},
     "execution_count": 58
    }
   ],
   "source": [
    "restaurants = pd.read_json(\"rest_Chueca.json\")\n",
    "restaurants.head()"
   ]
  },
  {
   "cell_type": "code",
   "execution_count": 59,
   "metadata": {},
   "outputs": [
    {
     "output_type": "execute_result",
     "data": {
      "text/plain": [
       "26"
      ]
     },
     "metadata": {},
     "execution_count": 59
    }
   ],
   "source": [
    "lista_restaurants = list(menu.restaurante.unique())\n",
    "len(lista_restaurants)"
   ]
  },
  {
   "cell_type": "code",
   "execution_count": 56,
   "metadata": {},
   "outputs": [
    {
     "output_type": "execute_result",
     "data": {
      "text/plain": [
       "['7 Delicatessen',\n",
       " 'Aloha Poké',\n",
       " 'Bagatella',\n",
       " 'Bazaar',\n",
       " 'Boho Bar',\n",
       " 'Bosco de Lobos',\n",
       " 'Dionisos',\n",
       " 'Food Truck',\n",
       " 'Gioia Restaurante',\n",
       " 'Hamburguesa Nostra',\n",
       " 'Hot Now',\n",
       " 'Izakaya Han',\n",
       " 'Kuoco 360',\n",
       " 'La Carmencita',\n",
       " 'La Trastienda',\n",
       " 'le cocó',\n",
       " 'Mal de Amores',\n",
       " 'Morgana',\n",
       " 'Restaurante Arce',\n",
       " 'RESTAURANTE KRITIKOS',\n",
       " 'Roostiq',\n",
       " 'San Wich',\n",
       " 'Sr. Ito',\n",
       " 'Taberna El Buo',\n",
       " 'Tepic',\n",
       " 'tuk tuk']"
      ]
     },
     "metadata": {},
     "execution_count": 56
    }
   ],
   "source": [
    "lista_restaurants"
   ]
  },
  {
   "cell_type": "code",
   "execution_count": 60,
   "metadata": {},
   "outputs": [
    {
     "output_type": "execute_result",
     "data": {
      "text/plain": [
       "    Restaurant                 Style  \\\n",
       "0    Kuoco 360           Restaurants   \n",
       "4   Food Truck  American Restaurants   \n",
       "5      Hot Now          Pizza Places   \n",
       "6  Izakaya Han  Japanese Restaurants   \n",
       "8      Sr. Ito     Sushi Restaurants   \n",
       "\n",
       "                                             Address   latitude  lomgitude  \n",
       "0  [Calle San Bartolmé, 14, 28004 Madrid Madrid, ...  40.421842  -3.698456  \n",
       "4          [C. San Lucas, 11, Madrid Madrid, España]  40.423816  -3.696086  \n",
       "5         [barbieri 14, 28004 Madrid Madrid, España]  40.421317  -3.698030  \n",
       "6  [San Bartolome 10 (Augusto Figueroa), 28004 Ma...  40.421819  -3.698475  \n",
       "8           [Calle Pelayo 60, Madrid Madrid, España]  40.424194  -3.697464  "
      ],
      "text/html": "<div>\n<style scoped>\n    .dataframe tbody tr th:only-of-type {\n        vertical-align: middle;\n    }\n\n    .dataframe tbody tr th {\n        vertical-align: top;\n    }\n\n    .dataframe thead th {\n        text-align: right;\n    }\n</style>\n<table border=\"1\" class=\"dataframe\">\n  <thead>\n    <tr style=\"text-align: right;\">\n      <th></th>\n      <th>Restaurant</th>\n      <th>Style</th>\n      <th>Address</th>\n      <th>latitude</th>\n      <th>lomgitude</th>\n    </tr>\n  </thead>\n  <tbody>\n    <tr>\n      <th>0</th>\n      <td>Kuoco 360</td>\n      <td>Restaurants</td>\n      <td>[Calle San Bartolmé, 14, 28004 Madrid Madrid, ...</td>\n      <td>40.421842</td>\n      <td>-3.698456</td>\n    </tr>\n    <tr>\n      <th>4</th>\n      <td>Food Truck</td>\n      <td>American Restaurants</td>\n      <td>[C. San Lucas, 11, Madrid Madrid, España]</td>\n      <td>40.423816</td>\n      <td>-3.696086</td>\n    </tr>\n    <tr>\n      <th>5</th>\n      <td>Hot Now</td>\n      <td>Pizza Places</td>\n      <td>[barbieri 14, 28004 Madrid Madrid, España]</td>\n      <td>40.421317</td>\n      <td>-3.698030</td>\n    </tr>\n    <tr>\n      <th>6</th>\n      <td>Izakaya Han</td>\n      <td>Japanese Restaurants</td>\n      <td>[San Bartolome 10 (Augusto Figueroa), 28004 Ma...</td>\n      <td>40.421819</td>\n      <td>-3.698475</td>\n    </tr>\n    <tr>\n      <th>8</th>\n      <td>Sr. Ito</td>\n      <td>Sushi Restaurants</td>\n      <td>[Calle Pelayo 60, Madrid Madrid, España]</td>\n      <td>40.424194</td>\n      <td>-3.697464</td>\n    </tr>\n  </tbody>\n</table>\n</div>"
     },
     "metadata": {},
     "execution_count": 60
    }
   ],
   "source": [
    "rest_json =restaurants[restaurants['Restaurant'].isin(lista_restaurants)]\n",
    "rest_json.head()"
   ]
  },
  {
   "cell_type": "code",
   "execution_count": 61,
   "metadata": {},
   "outputs": [],
   "source": [
    "rest_json[\"restaurantsID\"] = le.fit_transform(rest_json[\"Restaurant\"]) # Codifico restaurantes para obtener el ID\n",
    "rest_json.sort_values(by='restaurantsID', inplace=True) # Ordeno df en orden ascendente en funcion del restauransID\n",
    "rest_json.reset_index(drop=True, inplace=True) # Sustituyo indice para que aparezcan valores contiguos y crecientes\n",
    "rest_json['telephone'] =  random.sample(range(91153000, 91175026), 26)  # Añado telefonos\n",
    "#rest_json.drop(['Style'], axis='columns', inplace=True)\n",
    "rest_json.rename(columns={'Restaurant': 'restaurants', 'Address': 'address'}, inplace=True)"
   ]
  },
  {
   "cell_type": "code",
   "execution_count": 62,
   "metadata": {},
   "outputs": [
    {
     "output_type": "execute_result",
     "data": {
      "text/plain": [
       "      restaurants                      Style  \\\n",
       "0  7 Delicatessen        Spanish Restaurants   \n",
       "1      Aloha Poké       Hawaiian Restaurants   \n",
       "2       Bagatella        Spanish Restaurants   \n",
       "3          Bazaar  Mediterranean Restaurants   \n",
       "4        Boho Bar                Restaurants   \n",
       "\n",
       "                                             address   latitude  lomgitude  \\\n",
       "0  [Mercado de San Antón (C. Augusto Figueroa, 24...  40.421965  -3.697573   \n",
       "1  [Calle de la Libertad 17, 28004 Madrid Madrid,...  40.421135  -3.697380   \n",
       "2       [C. Pelayo, 60, 28004 Madrid Madrid, España]  40.424182  -3.697476   \n",
       "3     [C. Libertad, 21, 28004 Madrid Madrid, España]  40.421290  -3.697393   \n",
       "4  [C. Colmenares, 13 (C. San Marcos), 28004 Madr...  40.421190  -3.696840   \n",
       "\n",
       "   restaurantsID  telephone  \n",
       "0              0   91164508  \n",
       "1              1   91172363  \n",
       "2              2   91163882  \n",
       "3              3   91159509  \n",
       "4              4   91155204  "
      ],
      "text/html": "<div>\n<style scoped>\n    .dataframe tbody tr th:only-of-type {\n        vertical-align: middle;\n    }\n\n    .dataframe tbody tr th {\n        vertical-align: top;\n    }\n\n    .dataframe thead th {\n        text-align: right;\n    }\n</style>\n<table border=\"1\" class=\"dataframe\">\n  <thead>\n    <tr style=\"text-align: right;\">\n      <th></th>\n      <th>restaurants</th>\n      <th>Style</th>\n      <th>address</th>\n      <th>latitude</th>\n      <th>lomgitude</th>\n      <th>restaurantsID</th>\n      <th>telephone</th>\n    </tr>\n  </thead>\n  <tbody>\n    <tr>\n      <th>0</th>\n      <td>7 Delicatessen</td>\n      <td>Spanish Restaurants</td>\n      <td>[Mercado de San Antón (C. Augusto Figueroa, 24...</td>\n      <td>40.421965</td>\n      <td>-3.697573</td>\n      <td>0</td>\n      <td>91164508</td>\n    </tr>\n    <tr>\n      <th>1</th>\n      <td>Aloha Poké</td>\n      <td>Hawaiian Restaurants</td>\n      <td>[Calle de la Libertad 17, 28004 Madrid Madrid,...</td>\n      <td>40.421135</td>\n      <td>-3.697380</td>\n      <td>1</td>\n      <td>91172363</td>\n    </tr>\n    <tr>\n      <th>2</th>\n      <td>Bagatella</td>\n      <td>Spanish Restaurants</td>\n      <td>[C. Pelayo, 60, 28004 Madrid Madrid, España]</td>\n      <td>40.424182</td>\n      <td>-3.697476</td>\n      <td>2</td>\n      <td>91163882</td>\n    </tr>\n    <tr>\n      <th>3</th>\n      <td>Bazaar</td>\n      <td>Mediterranean Restaurants</td>\n      <td>[C. Libertad, 21, 28004 Madrid Madrid, España]</td>\n      <td>40.421290</td>\n      <td>-3.697393</td>\n      <td>3</td>\n      <td>91159509</td>\n    </tr>\n    <tr>\n      <th>4</th>\n      <td>Boho Bar</td>\n      <td>Restaurants</td>\n      <td>[C. Colmenares, 13 (C. San Marcos), 28004 Madr...</td>\n      <td>40.421190</td>\n      <td>-3.696840</td>\n      <td>4</td>\n      <td>91155204</td>\n    </tr>\n  </tbody>\n</table>\n</div>"
     },
     "metadata": {},
     "execution_count": 62
    }
   ],
   "source": [
    "rest_json.head()"
   ]
  },
  {
   "cell_type": "code",
   "execution_count": 63,
   "metadata": {},
   "outputs": [],
   "source": [
    "# Renombro columnas\n",
    "rest_json.rename(columns={'Restaurant': 'restaurants', 'Address': 'address', 'lomgitude': 'longitude'}, inplace=True) "
   ]
  },
  {
   "cell_type": "code",
   "execution_count": 64,
   "metadata": {},
   "outputs": [
    {
     "output_type": "execute_result",
     "data": {
      "text/plain": [
       "   restaurantsID     restaurants  \\\n",
       "0              0  7 Delicatessen   \n",
       "1              1      Aloha Poké   \n",
       "2              2       Bagatella   \n",
       "3              3          Bazaar   \n",
       "4              4        Boho Bar   \n",
       "\n",
       "                                             address   latitude  longitude  \\\n",
       "0  [Mercado de San Antón (C. Augusto Figueroa, 24...  40.421965  -3.697573   \n",
       "1  [Calle de la Libertad 17, 28004 Madrid Madrid,...  40.421135  -3.697380   \n",
       "2       [C. Pelayo, 60, 28004 Madrid Madrid, España]  40.424182  -3.697476   \n",
       "3     [C. Libertad, 21, 28004 Madrid Madrid, España]  40.421290  -3.697393   \n",
       "4  [C. Colmenares, 13 (C. San Marcos), 28004 Madr...  40.421190  -3.696840   \n",
       "\n",
       "   telephone  \n",
       "0   91164508  \n",
       "1   91172363  \n",
       "2   91163882  \n",
       "3   91159509  \n",
       "4   91155204  "
      ],
      "text/html": "<div>\n<style scoped>\n    .dataframe tbody tr th:only-of-type {\n        vertical-align: middle;\n    }\n\n    .dataframe tbody tr th {\n        vertical-align: top;\n    }\n\n    .dataframe thead th {\n        text-align: right;\n    }\n</style>\n<table border=\"1\" class=\"dataframe\">\n  <thead>\n    <tr style=\"text-align: right;\">\n      <th></th>\n      <th>restaurantsID</th>\n      <th>restaurants</th>\n      <th>address</th>\n      <th>latitude</th>\n      <th>longitude</th>\n      <th>telephone</th>\n    </tr>\n  </thead>\n  <tbody>\n    <tr>\n      <th>0</th>\n      <td>0</td>\n      <td>7 Delicatessen</td>\n      <td>[Mercado de San Antón (C. Augusto Figueroa, 24...</td>\n      <td>40.421965</td>\n      <td>-3.697573</td>\n      <td>91164508</td>\n    </tr>\n    <tr>\n      <th>1</th>\n      <td>1</td>\n      <td>Aloha Poké</td>\n      <td>[Calle de la Libertad 17, 28004 Madrid Madrid,...</td>\n      <td>40.421135</td>\n      <td>-3.697380</td>\n      <td>91172363</td>\n    </tr>\n    <tr>\n      <th>2</th>\n      <td>2</td>\n      <td>Bagatella</td>\n      <td>[C. Pelayo, 60, 28004 Madrid Madrid, España]</td>\n      <td>40.424182</td>\n      <td>-3.697476</td>\n      <td>91163882</td>\n    </tr>\n    <tr>\n      <th>3</th>\n      <td>3</td>\n      <td>Bazaar</td>\n      <td>[C. Libertad, 21, 28004 Madrid Madrid, España]</td>\n      <td>40.421290</td>\n      <td>-3.697393</td>\n      <td>91159509</td>\n    </tr>\n    <tr>\n      <th>4</th>\n      <td>4</td>\n      <td>Boho Bar</td>\n      <td>[C. Colmenares, 13 (C. San Marcos), 28004 Madr...</td>\n      <td>40.421190</td>\n      <td>-3.696840</td>\n      <td>91155204</td>\n    </tr>\n  </tbody>\n</table>\n</div>"
     },
     "metadata": {},
     "execution_count": 64
    }
   ],
   "source": [
    "rest_json_final = rest_json[['restaurantsID','restaurants','address','latitude','longitude', 'telephone']]\n",
    "\n",
    "rest_json_final.head()"
   ]
  },
  {
   "cell_type": "code",
   "execution_count": 65,
   "metadata": {},
   "outputs": [],
   "source": [
    "# Convierto el df a json y lo guardo\n",
    "json_rest =rest_json_final.to_json(orient='records')\n",
    "parsed = json.loads(json_rest)\n",
    "with open('json_rest.json', 'w+') as outfile:\n",
    "    json.dump(parsed, outfile, indent=4)"
   ]
  },
  {
   "cell_type": "code",
   "execution_count": 49,
   "metadata": {},
   "outputs": [
    {
     "output_type": "execute_result",
     "data": {
      "text/plain": [
       "  key1 key2   A   B\n",
       "0   K0   K0  A0  B0\n",
       "1   K0   K1  A1  B1\n",
       "2   K1   K0  A2  B2\n",
       "3   K2   K1  A3  B3"
      ],
      "text/html": "<div>\n<style scoped>\n    .dataframe tbody tr th:only-of-type {\n        vertical-align: middle;\n    }\n\n    .dataframe tbody tr th {\n        vertical-align: top;\n    }\n\n    .dataframe thead th {\n        text-align: right;\n    }\n</style>\n<table border=\"1\" class=\"dataframe\">\n  <thead>\n    <tr style=\"text-align: right;\">\n      <th></th>\n      <th>key1</th>\n      <th>key2</th>\n      <th>A</th>\n      <th>B</th>\n    </tr>\n  </thead>\n  <tbody>\n    <tr>\n      <th>0</th>\n      <td>K0</td>\n      <td>K0</td>\n      <td>A0</td>\n      <td>B0</td>\n    </tr>\n    <tr>\n      <th>1</th>\n      <td>K0</td>\n      <td>K1</td>\n      <td>A1</td>\n      <td>B1</td>\n    </tr>\n    <tr>\n      <th>2</th>\n      <td>K1</td>\n      <td>K0</td>\n      <td>A2</td>\n      <td>B2</td>\n    </tr>\n    <tr>\n      <th>3</th>\n      <td>K2</td>\n      <td>K1</td>\n      <td>A3</td>\n      <td>B3</td>\n    </tr>\n  </tbody>\n</table>\n</div>"
     },
     "metadata": {},
     "execution_count": 49
    }
   ],
   "source": [
    "left = pd.DataFrame({'key1': ['K0', 'K0', 'K1', 'K2'],\n",
    "                     'key2': ['K0', 'K1', 'K0', 'K1'],\n",
    "                       'A': ['A0', 'A1', 'A2', 'A3'],\n",
    "                        'B': ['B0', 'B1', 'B2', 'B3']})\n",
    "\n",
    "right = pd.DataFrame({'key1': ['K0', 'K1', 'K1', 'K2'],\n",
    "                          'key2': ['K0', 'K0', 'K0', 'K0'],\n",
    "                          'C': ['C0', 'C1', 'C2', 'C3'],\n",
    "                          'D': ['D0', 'D1', 'D2', 'D3']})\n",
    "\n",
    "left"
   ]
  },
  {
   "cell_type": "code",
   "execution_count": 50,
   "metadata": {},
   "outputs": [
    {
     "output_type": "execute_result",
     "data": {
      "text/plain": [
       "  key1 key2   C   D\n",
       "0   K0   K0  C0  D0\n",
       "1   K1   K0  C1  D1\n",
       "2   K1   K0  C2  D2\n",
       "3   K2   K0  C3  D3"
      ],
      "text/html": "<div>\n<style scoped>\n    .dataframe tbody tr th:only-of-type {\n        vertical-align: middle;\n    }\n\n    .dataframe tbody tr th {\n        vertical-align: top;\n    }\n\n    .dataframe thead th {\n        text-align: right;\n    }\n</style>\n<table border=\"1\" class=\"dataframe\">\n  <thead>\n    <tr style=\"text-align: right;\">\n      <th></th>\n      <th>key1</th>\n      <th>key2</th>\n      <th>C</th>\n      <th>D</th>\n    </tr>\n  </thead>\n  <tbody>\n    <tr>\n      <th>0</th>\n      <td>K0</td>\n      <td>K0</td>\n      <td>C0</td>\n      <td>D0</td>\n    </tr>\n    <tr>\n      <th>1</th>\n      <td>K1</td>\n      <td>K0</td>\n      <td>C1</td>\n      <td>D1</td>\n    </tr>\n    <tr>\n      <th>2</th>\n      <td>K1</td>\n      <td>K0</td>\n      <td>C2</td>\n      <td>D2</td>\n    </tr>\n    <tr>\n      <th>3</th>\n      <td>K2</td>\n      <td>K0</td>\n      <td>C3</td>\n      <td>D3</td>\n    </tr>\n  </tbody>\n</table>\n</div>"
     },
     "metadata": {},
     "execution_count": 50
    }
   ],
   "source": [
    "right"
   ]
  },
  {
   "cell_type": "code",
   "execution_count": 51,
   "metadata": {},
   "outputs": [
    {
     "output_type": "execute_result",
     "data": {
      "text/plain": [
       "  key1 key2   A   B   C   D\n",
       "0   K0   K0  A0  B0  C0  D0\n",
       "1   K1   K0  A2  B2  C1  D1\n",
       "2   K1   K0  A2  B2  C2  D2"
      ],
      "text/html": "<div>\n<style scoped>\n    .dataframe tbody tr th:only-of-type {\n        vertical-align: middle;\n    }\n\n    .dataframe tbody tr th {\n        vertical-align: top;\n    }\n\n    .dataframe thead th {\n        text-align: right;\n    }\n</style>\n<table border=\"1\" class=\"dataframe\">\n  <thead>\n    <tr style=\"text-align: right;\">\n      <th></th>\n      <th>key1</th>\n      <th>key2</th>\n      <th>A</th>\n      <th>B</th>\n      <th>C</th>\n      <th>D</th>\n    </tr>\n  </thead>\n  <tbody>\n    <tr>\n      <th>0</th>\n      <td>K0</td>\n      <td>K0</td>\n      <td>A0</td>\n      <td>B0</td>\n      <td>C0</td>\n      <td>D0</td>\n    </tr>\n    <tr>\n      <th>1</th>\n      <td>K1</td>\n      <td>K0</td>\n      <td>A2</td>\n      <td>B2</td>\n      <td>C1</td>\n      <td>D1</td>\n    </tr>\n    <tr>\n      <th>2</th>\n      <td>K1</td>\n      <td>K0</td>\n      <td>A2</td>\n      <td>B2</td>\n      <td>C2</td>\n      <td>D2</td>\n    </tr>\n  </tbody>\n</table>\n</div>"
     },
     "metadata": {},
     "execution_count": 51
    }
   ],
   "source": [
    "result = pd.merge(left, right, on=['key1', 'key2'])\n",
    "result"
   ]
  },
  {
   "cell_type": "markdown",
   "metadata": {},
   "source": [
    "## Uno los dos dataframe en uno"
   ]
  },
  {
   "cell_type": "code",
   "execution_count": 67,
   "metadata": {},
   "outputs": [
    {
     "output_type": "execute_result",
     "data": {
      "text/plain": [
       "     restaurantsID     restaurants  \\\n",
       "0                0  7 Delicatessen   \n",
       "1                0  7 Delicatessen   \n",
       "2                0  7 Delicatessen   \n",
       "3                0  7 Delicatessen   \n",
       "4                0  7 Delicatessen   \n",
       "..             ...             ...   \n",
       "511             25         tuk tuk   \n",
       "512             25         tuk tuk   \n",
       "513             25         tuk tuk   \n",
       "514             25         tuk tuk   \n",
       "515             25         tuk tuk   \n",
       "\n",
       "                                               address   latitude  longitude  \\\n",
       "0    [Mercado de San Antón (C. Augusto Figueroa, 24...  40.421965  -3.697573   \n",
       "1    [Mercado de San Antón (C. Augusto Figueroa, 24...  40.421965  -3.697573   \n",
       "2    [Mercado de San Antón (C. Augusto Figueroa, 24...  40.421965  -3.697573   \n",
       "3    [Mercado de San Antón (C. Augusto Figueroa, 24...  40.421965  -3.697573   \n",
       "4    [Mercado de San Antón (C. Augusto Figueroa, 24...  40.421965  -3.697573   \n",
       "..                                                 ...        ...        ...   \n",
       "511    [C. Barquillo, 24, 28004 Madrid Madrid, España]  40.422550  -3.695610   \n",
       "512    [C. Barquillo, 24, 28004 Madrid Madrid, España]  40.422550  -3.695610   \n",
       "513    [C. Barquillo, 24, 28004 Madrid Madrid, España]  40.422550  -3.695610   \n",
       "514    [C. Barquillo, 24, 28004 Madrid Madrid, España]  40.422550  -3.695610   \n",
       "515    [C. Barquillo, 24, 28004 Madrid Madrid, España]  40.422550  -3.695610   \n",
       "\n",
       "     telephone      style                                               name  \\\n",
       "0     91164508   Ensalada  Ensalada de queso de cabra con naranja agria a...   \n",
       "1     91164508  Entrantes        Tortilla de patata con cebolla caramelizada   \n",
       "2     91164508   Ensalada            Ensalada de foie y cebolla caramelizada   \n",
       "3     91164508      Pollo                                     Pollo yakitori   \n",
       "4     91164508      Pizza                  Pizza de gambón y chile confitado   \n",
       "..         ...        ...                                                ...   \n",
       "511   91165307      Carne  Ternera al curry con verduras, anacardos, arro...   \n",
       "512   91165307    Pescado  Teriyaki de salmón servido con arroz de jazmín...   \n",
       "513   91165307    Postres  Plátano asado, envuelto en azúcar de caña, fru...   \n",
       "514   91165307    Postres    Fruta de temporada servida con sorbete de menta   \n",
       "515   91165307    Postres  Carpaccio de piña aderezado con menta y sorbet...   \n",
       "\n",
       "     price rangeprice  ranking  \n",
       "0      8.5          1      4.1  \n",
       "1      8.0          1      3.7  \n",
       "2      8.5          1      4.5  \n",
       "3      8.0          1      3.8  \n",
       "4      8.5          1      3.1  \n",
       "..     ...        ...      ...  \n",
       "511   18.0          3      4.3  \n",
       "512   18.0          3      3.9  \n",
       "513    6.5          1      3.3  \n",
       "514    6.5          1      3.6  \n",
       "515    6.5          1      4.5  \n",
       "\n",
       "[516 rows x 11 columns]"
      ],
      "text/html": "<div>\n<style scoped>\n    .dataframe tbody tr th:only-of-type {\n        vertical-align: middle;\n    }\n\n    .dataframe tbody tr th {\n        vertical-align: top;\n    }\n\n    .dataframe thead th {\n        text-align: right;\n    }\n</style>\n<table border=\"1\" class=\"dataframe\">\n  <thead>\n    <tr style=\"text-align: right;\">\n      <th></th>\n      <th>restaurantsID</th>\n      <th>restaurants</th>\n      <th>address</th>\n      <th>latitude</th>\n      <th>longitude</th>\n      <th>telephone</th>\n      <th>style</th>\n      <th>name</th>\n      <th>price</th>\n      <th>rangeprice</th>\n      <th>ranking</th>\n    </tr>\n  </thead>\n  <tbody>\n    <tr>\n      <th>0</th>\n      <td>0</td>\n      <td>7 Delicatessen</td>\n      <td>[Mercado de San Antón (C. Augusto Figueroa, 24...</td>\n      <td>40.421965</td>\n      <td>-3.697573</td>\n      <td>91164508</td>\n      <td>Ensalada</td>\n      <td>Ensalada de queso de cabra con naranja agria a...</td>\n      <td>8.5</td>\n      <td>1</td>\n      <td>4.1</td>\n    </tr>\n    <tr>\n      <th>1</th>\n      <td>0</td>\n      <td>7 Delicatessen</td>\n      <td>[Mercado de San Antón (C. Augusto Figueroa, 24...</td>\n      <td>40.421965</td>\n      <td>-3.697573</td>\n      <td>91164508</td>\n      <td>Entrantes</td>\n      <td>Tortilla de patata con cebolla caramelizada</td>\n      <td>8.0</td>\n      <td>1</td>\n      <td>3.7</td>\n    </tr>\n    <tr>\n      <th>2</th>\n      <td>0</td>\n      <td>7 Delicatessen</td>\n      <td>[Mercado de San Antón (C. Augusto Figueroa, 24...</td>\n      <td>40.421965</td>\n      <td>-3.697573</td>\n      <td>91164508</td>\n      <td>Ensalada</td>\n      <td>Ensalada de foie y cebolla caramelizada</td>\n      <td>8.5</td>\n      <td>1</td>\n      <td>4.5</td>\n    </tr>\n    <tr>\n      <th>3</th>\n      <td>0</td>\n      <td>7 Delicatessen</td>\n      <td>[Mercado de San Antón (C. Augusto Figueroa, 24...</td>\n      <td>40.421965</td>\n      <td>-3.697573</td>\n      <td>91164508</td>\n      <td>Pollo</td>\n      <td>Pollo yakitori</td>\n      <td>8.0</td>\n      <td>1</td>\n      <td>3.8</td>\n    </tr>\n    <tr>\n      <th>4</th>\n      <td>0</td>\n      <td>7 Delicatessen</td>\n      <td>[Mercado de San Antón (C. Augusto Figueroa, 24...</td>\n      <td>40.421965</td>\n      <td>-3.697573</td>\n      <td>91164508</td>\n      <td>Pizza</td>\n      <td>Pizza de gambón y chile confitado</td>\n      <td>8.5</td>\n      <td>1</td>\n      <td>3.1</td>\n    </tr>\n    <tr>\n      <th>...</th>\n      <td>...</td>\n      <td>...</td>\n      <td>...</td>\n      <td>...</td>\n      <td>...</td>\n      <td>...</td>\n      <td>...</td>\n      <td>...</td>\n      <td>...</td>\n      <td>...</td>\n      <td>...</td>\n    </tr>\n    <tr>\n      <th>511</th>\n      <td>25</td>\n      <td>tuk tuk</td>\n      <td>[C. Barquillo, 24, 28004 Madrid Madrid, España]</td>\n      <td>40.422550</td>\n      <td>-3.695610</td>\n      <td>91165307</td>\n      <td>Carne</td>\n      <td>Ternera al curry con verduras, anacardos, arro...</td>\n      <td>18.0</td>\n      <td>3</td>\n      <td>4.3</td>\n    </tr>\n    <tr>\n      <th>512</th>\n      <td>25</td>\n      <td>tuk tuk</td>\n      <td>[C. Barquillo, 24, 28004 Madrid Madrid, España]</td>\n      <td>40.422550</td>\n      <td>-3.695610</td>\n      <td>91165307</td>\n      <td>Pescado</td>\n      <td>Teriyaki de salmón servido con arroz de jazmín...</td>\n      <td>18.0</td>\n      <td>3</td>\n      <td>3.9</td>\n    </tr>\n    <tr>\n      <th>513</th>\n      <td>25</td>\n      <td>tuk tuk</td>\n      <td>[C. Barquillo, 24, 28004 Madrid Madrid, España]</td>\n      <td>40.422550</td>\n      <td>-3.695610</td>\n      <td>91165307</td>\n      <td>Postres</td>\n      <td>Plátano asado, envuelto en azúcar de caña, fru...</td>\n      <td>6.5</td>\n      <td>1</td>\n      <td>3.3</td>\n    </tr>\n    <tr>\n      <th>514</th>\n      <td>25</td>\n      <td>tuk tuk</td>\n      <td>[C. Barquillo, 24, 28004 Madrid Madrid, España]</td>\n      <td>40.422550</td>\n      <td>-3.695610</td>\n      <td>91165307</td>\n      <td>Postres</td>\n      <td>Fruta de temporada servida con sorbete de menta</td>\n      <td>6.5</td>\n      <td>1</td>\n      <td>3.6</td>\n    </tr>\n    <tr>\n      <th>515</th>\n      <td>25</td>\n      <td>tuk tuk</td>\n      <td>[C. Barquillo, 24, 28004 Madrid Madrid, España]</td>\n      <td>40.422550</td>\n      <td>-3.695610</td>\n      <td>91165307</td>\n      <td>Postres</td>\n      <td>Carpaccio de piña aderezado con menta y sorbet...</td>\n      <td>6.5</td>\n      <td>1</td>\n      <td>4.5</td>\n    </tr>\n  </tbody>\n</table>\n<p>516 rows × 11 columns</p>\n</div>"
     },
     "metadata": {},
     "execution_count": 67
    }
   ],
   "source": [
    "# Pruebo con merge inner cogiendo la zona comun de los dos df\n",
    "merged_8 = pd.merge(left=rest_json_final, right=menu_4, left_on='restaurantsID', right_on='restaurantsID')\n",
    "merged_8"
   ]
  },
  {
   "cell_type": "code",
   "execution_count": 68,
   "metadata": {},
   "outputs": [
    {
     "output_type": "execute_result",
     "data": {
      "text/plain": [
       "         style                                               name  price  \\\n",
       "0     Ensalada  Ensalada de queso de cabra con naranja agria a...    8.5   \n",
       "1    Entrantes        Tortilla de patata con cebolla caramelizada    8.0   \n",
       "2     Ensalada            Ensalada de foie y cebolla caramelizada    8.5   \n",
       "3        Pollo                                     Pollo yakitori    8.0   \n",
       "4        Pizza                  Pizza de gambón y chile confitado    8.5   \n",
       "..         ...                                                ...    ...   \n",
       "511      Carne  Ternera al curry con verduras, anacardos, arro...   18.0   \n",
       "512    Pescado  Teriyaki de salmón servido con arroz de jazmín...   18.0   \n",
       "513    Postres  Plátano asado, envuelto en azúcar de caña, fru...    6.5   \n",
       "514    Postres    Fruta de temporada servida con sorbete de menta    6.5   \n",
       "515    Postres  Carpaccio de piña aderezado con menta y sorbet...    6.5   \n",
       "\n",
       "    rangeprice  ranking     restaurants  restaurantsID  \\\n",
       "0            1      4.1  7 Delicatessen              0   \n",
       "1            1      3.7  7 Delicatessen              0   \n",
       "2            1      4.5  7 Delicatessen              0   \n",
       "3            1      3.8  7 Delicatessen              0   \n",
       "4            1      3.1  7 Delicatessen              0   \n",
       "..         ...      ...             ...            ...   \n",
       "511          3      4.3         tuk tuk             25   \n",
       "512          3      3.9         tuk tuk             25   \n",
       "513          1      3.3         tuk tuk             25   \n",
       "514          1      3.6         tuk tuk             25   \n",
       "515          1      4.5         tuk tuk             25   \n",
       "\n",
       "                                               address   latitude  longitude  \\\n",
       "0    [Mercado de San Antón (C. Augusto Figueroa, 24...  40.421965  -3.697573   \n",
       "1    [Mercado de San Antón (C. Augusto Figueroa, 24...  40.421965  -3.697573   \n",
       "2    [Mercado de San Antón (C. Augusto Figueroa, 24...  40.421965  -3.697573   \n",
       "3    [Mercado de San Antón (C. Augusto Figueroa, 24...  40.421965  -3.697573   \n",
       "4    [Mercado de San Antón (C. Augusto Figueroa, 24...  40.421965  -3.697573   \n",
       "..                                                 ...        ...        ...   \n",
       "511    [C. Barquillo, 24, 28004 Madrid Madrid, España]  40.422550  -3.695610   \n",
       "512    [C. Barquillo, 24, 28004 Madrid Madrid, España]  40.422550  -3.695610   \n",
       "513    [C. Barquillo, 24, 28004 Madrid Madrid, España]  40.422550  -3.695610   \n",
       "514    [C. Barquillo, 24, 28004 Madrid Madrid, España]  40.422550  -3.695610   \n",
       "515    [C. Barquillo, 24, 28004 Madrid Madrid, España]  40.422550  -3.695610   \n",
       "\n",
       "     telephone  \n",
       "0     91164508  \n",
       "1     91164508  \n",
       "2     91164508  \n",
       "3     91164508  \n",
       "4     91164508  \n",
       "..         ...  \n",
       "511   91165307  \n",
       "512   91165307  \n",
       "513   91165307  \n",
       "514   91165307  \n",
       "515   91165307  \n",
       "\n",
       "[516 rows x 11 columns]"
      ],
      "text/html": "<div>\n<style scoped>\n    .dataframe tbody tr th:only-of-type {\n        vertical-align: middle;\n    }\n\n    .dataframe tbody tr th {\n        vertical-align: top;\n    }\n\n    .dataframe thead th {\n        text-align: right;\n    }\n</style>\n<table border=\"1\" class=\"dataframe\">\n  <thead>\n    <tr style=\"text-align: right;\">\n      <th></th>\n      <th>style</th>\n      <th>name</th>\n      <th>price</th>\n      <th>rangeprice</th>\n      <th>ranking</th>\n      <th>restaurants</th>\n      <th>restaurantsID</th>\n      <th>address</th>\n      <th>latitude</th>\n      <th>longitude</th>\n      <th>telephone</th>\n    </tr>\n  </thead>\n  <tbody>\n    <tr>\n      <th>0</th>\n      <td>Ensalada</td>\n      <td>Ensalada de queso de cabra con naranja agria a...</td>\n      <td>8.5</td>\n      <td>1</td>\n      <td>4.1</td>\n      <td>7 Delicatessen</td>\n      <td>0</td>\n      <td>[Mercado de San Antón (C. Augusto Figueroa, 24...</td>\n      <td>40.421965</td>\n      <td>-3.697573</td>\n      <td>91164508</td>\n    </tr>\n    <tr>\n      <th>1</th>\n      <td>Entrantes</td>\n      <td>Tortilla de patata con cebolla caramelizada</td>\n      <td>8.0</td>\n      <td>1</td>\n      <td>3.7</td>\n      <td>7 Delicatessen</td>\n      <td>0</td>\n      <td>[Mercado de San Antón (C. Augusto Figueroa, 24...</td>\n      <td>40.421965</td>\n      <td>-3.697573</td>\n      <td>91164508</td>\n    </tr>\n    <tr>\n      <th>2</th>\n      <td>Ensalada</td>\n      <td>Ensalada de foie y cebolla caramelizada</td>\n      <td>8.5</td>\n      <td>1</td>\n      <td>4.5</td>\n      <td>7 Delicatessen</td>\n      <td>0</td>\n      <td>[Mercado de San Antón (C. Augusto Figueroa, 24...</td>\n      <td>40.421965</td>\n      <td>-3.697573</td>\n      <td>91164508</td>\n    </tr>\n    <tr>\n      <th>3</th>\n      <td>Pollo</td>\n      <td>Pollo yakitori</td>\n      <td>8.0</td>\n      <td>1</td>\n      <td>3.8</td>\n      <td>7 Delicatessen</td>\n      <td>0</td>\n      <td>[Mercado de San Antón (C. Augusto Figueroa, 24...</td>\n      <td>40.421965</td>\n      <td>-3.697573</td>\n      <td>91164508</td>\n    </tr>\n    <tr>\n      <th>4</th>\n      <td>Pizza</td>\n      <td>Pizza de gambón y chile confitado</td>\n      <td>8.5</td>\n      <td>1</td>\n      <td>3.1</td>\n      <td>7 Delicatessen</td>\n      <td>0</td>\n      <td>[Mercado de San Antón (C. Augusto Figueroa, 24...</td>\n      <td>40.421965</td>\n      <td>-3.697573</td>\n      <td>91164508</td>\n    </tr>\n    <tr>\n      <th>...</th>\n      <td>...</td>\n      <td>...</td>\n      <td>...</td>\n      <td>...</td>\n      <td>...</td>\n      <td>...</td>\n      <td>...</td>\n      <td>...</td>\n      <td>...</td>\n      <td>...</td>\n      <td>...</td>\n    </tr>\n    <tr>\n      <th>511</th>\n      <td>Carne</td>\n      <td>Ternera al curry con verduras, anacardos, arro...</td>\n      <td>18.0</td>\n      <td>3</td>\n      <td>4.3</td>\n      <td>tuk tuk</td>\n      <td>25</td>\n      <td>[C. Barquillo, 24, 28004 Madrid Madrid, España]</td>\n      <td>40.422550</td>\n      <td>-3.695610</td>\n      <td>91165307</td>\n    </tr>\n    <tr>\n      <th>512</th>\n      <td>Pescado</td>\n      <td>Teriyaki de salmón servido con arroz de jazmín...</td>\n      <td>18.0</td>\n      <td>3</td>\n      <td>3.9</td>\n      <td>tuk tuk</td>\n      <td>25</td>\n      <td>[C. Barquillo, 24, 28004 Madrid Madrid, España]</td>\n      <td>40.422550</td>\n      <td>-3.695610</td>\n      <td>91165307</td>\n    </tr>\n    <tr>\n      <th>513</th>\n      <td>Postres</td>\n      <td>Plátano asado, envuelto en azúcar de caña, fru...</td>\n      <td>6.5</td>\n      <td>1</td>\n      <td>3.3</td>\n      <td>tuk tuk</td>\n      <td>25</td>\n      <td>[C. Barquillo, 24, 28004 Madrid Madrid, España]</td>\n      <td>40.422550</td>\n      <td>-3.695610</td>\n      <td>91165307</td>\n    </tr>\n    <tr>\n      <th>514</th>\n      <td>Postres</td>\n      <td>Fruta de temporada servida con sorbete de menta</td>\n      <td>6.5</td>\n      <td>1</td>\n      <td>3.6</td>\n      <td>tuk tuk</td>\n      <td>25</td>\n      <td>[C. Barquillo, 24, 28004 Madrid Madrid, España]</td>\n      <td>40.422550</td>\n      <td>-3.695610</td>\n      <td>91165307</td>\n    </tr>\n    <tr>\n      <th>515</th>\n      <td>Postres</td>\n      <td>Carpaccio de piña aderezado con menta y sorbet...</td>\n      <td>6.5</td>\n      <td>1</td>\n      <td>4.5</td>\n      <td>tuk tuk</td>\n      <td>25</td>\n      <td>[C. Barquillo, 24, 28004 Madrid Madrid, España]</td>\n      <td>40.422550</td>\n      <td>-3.695610</td>\n      <td>91165307</td>\n    </tr>\n  </tbody>\n</table>\n<p>516 rows × 11 columns</p>\n</div>"
     },
     "metadata": {},
     "execution_count": 68
    }
   ],
   "source": [
    "# Modifico la psosición de las columnas\n",
    "merged_8 = merged_8[['style','name','price','rangeprice','ranking', 'restaurants','restaurantsID','address','latitude','longitude', 'telephone']]\n",
    "merged_8"
   ]
  },
  {
   "cell_type": "code",
   "execution_count": 69,
   "metadata": {},
   "outputs": [],
   "source": [
    "# Convierto el df a json y lo guardo\n",
    "json_unido = merged_8.to_json(orient='records')\n",
    "parsed = json.loads(json_unido)\n",
    "with open('json_unido.json', 'w+') as outfile:\n",
    "    json.dump(parsed, outfile, indent=4)"
   ]
  },
  {
   "cell_type": "code",
   "execution_count": null,
   "metadata": {},
   "outputs": [],
   "source": []
  }
 ]
}